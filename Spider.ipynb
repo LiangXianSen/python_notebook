{
 "cells": [
  {
   "cell_type": "code",
   "execution_count": 80,
   "metadata": {},
   "outputs": [
    {
     "data": {
      "text/plain": [
       "<Response [200]>"
      ]
     },
     "execution_count": 80,
     "metadata": {},
     "output_type": "execute_result"
    },
    {
     "name": "stdout",
     "output_type": "stream",
     "text": [
      "{'n_c': '1', 'r_cap_id': '\"ZmNhODk4N2VhNjMxNDQxYWJlNmQ4OTE4MmEzODcxNmM=|1505099959|7cfec8c6f40090b128c5b45c90772112fbdf230b\"', '_xsrf': 'e449d9040378f566e0cc5b8b77381b08', 'l_n_c': '1', 'cap_id': '\"ZWUzNzE4ZTBhYjU4NDlhZWE2ZDc0NWFmZTFiMWE4MmE=|1505099959|6a5858a758f44ed14ade4ad39daa7f42e9aa052a\"', 'l_cap_id': '\"NjM0OTNkZWFhNjBkNDAxNDliMzhmNzY1NzBjNTA4NTk=|1505099959|d4f8090c9c7dde25a118f992f58c9cb989b67e39\"', 'aliyungf_tc': 'AQAAAAMPtgZsRQIAfY/Pb4QIUWgzKaed', 'q_c1': '4905188f17ee4e3e8f844dfaa7571256|1505099959000|1505099959000'}\n"
     ]
    }
   ],
   "source": [
    "import requests\n",
    "from http import cookiejar \n",
    "from bs4 import BeautifulSoup as bs\n",
    "\n",
    "INDEX_URL = 'http://www.zhihu.com'\n",
    "\n",
    "LOGIN_URL = INDEX_URL + '/login/email'\n",
    "\n",
    "USERPROFILE_URL = INDEX_URL + '/setting/profile'\n",
    "\n",
    "\n",
    "payload = {\"email\": \"787710500@qq.com\",\n",
    "        \"password\": \"woyaojueqi\"}\n",
    "\n",
    "headers = {\n",
    "    \"User-Agent\": \"Mozilla/5.0 (Macintosh; Intel Mac OS X 10_12_5) AppleWebKit/537.36 (KHTML, like Gecko) Chrome/60.0.3112.113 Safari/537.36\",\n",
    "    \"Accept\": \"text/html,application/xhtml+xml,application/xml;q=0.9,image/webp,image/apng,*/*;q=0.8\",\n",
    "    \"Host\": \"www.zhihu.com\"\n",
    "}\n",
    "\n",
    "session = requests.Session()\n",
    "session.headers = headers\n",
    "xsrf = bs(first_request.get(INDEX_URL).text, \"html.parser\").find(attrs={\"name\": \"_xsrf\"})['value']\n",
    "payload['_xsrf'] = xsrf\n",
    "\n",
    "session.post(LOGIN_URL, headers=headers, data=payload)\n",
    "print(session.cookies.get_dict())\n",
    "# result = session.get(INDEX_URL)\n",
    "# print(result.text)"
   ]
  },
  {
   "cell_type": "code",
   "execution_count": 93,
   "metadata": {},
   "outputs": [
    {
     "data": {
      "text/plain": [
       "<Response [200]>"
      ]
     },
     "execution_count": 93,
     "metadata": {},
     "output_type": "execute_result"
    }
   ],
   "source": [
    "import requests\n",
    "from bs4 import BeautifulSoup as bs\n",
    "\n",
    "INDEX_URL = 'https://ec.ef.com.cn/school/mypage/ec'\n",
    "\n",
    "LOGIN_URL = 'https://ec.ef.com.cn/online/login.aspx'\n",
    "\n",
    "USERPROFILE_URL = INDEX_URL + '/setting/profile'\n",
    "\n",
    "\n",
    "payload = {\"username\": \"llianc62\",\n",
    "        \"password\": \"lianglian23\"}\n",
    "\n",
    "headers = {\n",
    "    \"User-Agent\": \"Mozilla/5.0 (Macintosh; Intel Mac OS X 10_12_5) AppleWebKit/537.36 (KHTML, like Gecko) Chrome/60.0.3112.113 Safari/537.36\",\n",
    "    \"Accept\": \"text/html,application/xhtml+xml,application/xml;q=0.9,image/webp,image/apng,*/*;q=0.8\",\n",
    "    \"Host\": \"ec.ef.com.cn\"\n",
    "}\n",
    "\n",
    "session = requests.Session()\n",
    "session.headers = headers\n",
    "# xsrf = bs(session.get(INDEX_URL).text, \"html.parser\").find(attrs={\"name\": \"_xsrf\"})['value']\n",
    "# payload['_xsrf'] = xsrf\n",
    "\n",
    "session.post(LOGIN_URL, headers=headers, data=payload)\n",
    "result = session.get(INDEX_URL)"
   ]
  },
  {
   "cell_type": "code",
   "execution_count": 94,
   "metadata": {
    "collapsed": true
   },
   "outputs": [],
   "source": [
    "cookies = session.cookies.get_dict()"
   ]
  },
  {
   "cell_type": "code",
   "execution_count": 110,
   "metadata": {},
   "outputs": [
    {
     "name": "stdout",
     "output_type": "stream",
     "text": [
      "dict_keys(['et_s', 'divisionCode', 'ctr', 'et_u', 'CMus', 'etctxtsess', 'et_ctxtsoc', 'et_ds', 'EFID', 'VMsi', 'IsSGC', 'srperc', 'lng', 'et_sid'])\n"
     ]
    }
   ],
   "source": [
    "print(cookies.keys())"
   ]
  },
  {
   "cell_type": "code",
   "execution_count": 97,
   "metadata": {
    "collapsed": true
   },
   "outputs": [],
   "source": [
    "from selenium import webdriver"
   ]
  },
  {
   "cell_type": "code",
   "execution_count": 128,
   "metadata": {
    "collapsed": true
   },
   "outputs": [],
   "source": [
    "browser = webdriver.Chrome(executable_path='/Users/lianliang/Desktop/python_spider/chromedriver')"
   ]
  },
  {
   "cell_type": "code",
   "execution_count": 130,
   "metadata": {
    "collapsed": true
   },
   "outputs": [],
   "source": [
    "browser.get(LOGIN_URL)\n",
    "user_input = browser.find_element_by_id('txtEmailOrUsername')\n",
    "password_input = browser.find_element_by_id('txtPasswrod')\n",
    "user_input.clear()\n",
    "password_input.clear()\n",
    "user_input.send_keys('llianc62')\n",
    "password_input.send_keys('lianglian23')\n",
    "submit =  browser.find_element_by_link_text('提交')\n",
    "submit.click()"
   ]
  },
  {
   "cell_type": "code",
   "execution_count": 151,
   "metadata": {
    "collapsed": true
   },
   "outputs": [],
   "source": [
    "browser.find_elements_by_link_text('每日课程')[0].click()"
   ]
  },
  {
   "cell_type": "code",
   "execution_count": 155,
   "metadata": {},
   "outputs": [
    {
     "data": {
      "text/plain": [
       "[]"
      ]
     },
     "execution_count": 155,
     "metadata": {},
     "output_type": "execute_result"
    }
   ],
   "source": [
    "browser.find_elements_by_link_text('Elementary')"
   ]
  },
  {
   "cell_type": "code",
   "execution_count": 191,
   "metadata": {
    "collapsed": true
   },
   "outputs": [],
   "source": [
    "import requests\n",
    "from bs4 import BeautifulSoup as bs\n",
    "lesson_start = 265\n",
    "DAILY_LESSON_URL = 'http://ec.ef.com.cn/community/dailylesson/lesson.aspx?lesson_id={lesson_num}'\n",
    "lesson_num = lesson_start\n",
    "result = requests.get(DAILY_LESSON_URL.format(lesson_num=lesson_num))\n",
    "html = bs(result.text, \"html.parser\")"
   ]
  },
  {
   "cell_type": "code",
   "execution_count": 203,
   "metadata": {},
   "outputs": [
    {
     "name": "stdout",
     "output_type": "stream",
     "text": [
      "dict_keys(['CulturesDic', 'SubscriptionId', 'CourseName', 'CourseId', 'LevelCode', 'LevelName', 'Lesson'])\n"
     ]
    }
   ],
   "source": [
    "lesson_json = requests.get(\"http://ec.ef.com.cn/community/dailylesson/lessonhandler.ashx?operate=getlessonbyid&lesson_id=465&transculturecode=zh-CN&v=35-1\").json()\n",
    "print(lesson_json.keys())"
   ]
  },
  {
   "cell_type": "code",
   "execution_count": 12,
   "metadata": {},
   "outputs": [
    {
     "name": "stdout",
     "output_type": "stream",
     "text": [
      "{'Flashcards': [{'IsWord': False, 'Translation': '自从商店开业以来，我没有休息过一天。', 'Value': \"I haven't had a day off since I opened the shop.\", 'IsWordIKnow': None, 'ContentId': 174724, 'Audio': 'fae1fbdd-00ef-48ab-ab13-1ede629e43c5.mp3'}, {'IsWord': True, 'Translation': '自从', 'Value': 'since', 'IsWordIKnow': None, 'ContentId': 173188, 'Audio': 'since_en.mp3'}, {'IsWord': True, 'Translation': '有动力的', 'Value': 'motivated', 'IsWordIKnow': None, 'ContentId': 173700, 'Audio': 'motivated_en.mp3'}, {'IsWord': True, 'Translation': '老板', 'Value': 'boss', 'IsWordIKnow': None, 'ContentId': 174212, 'Audio': 'boss_en.mp3'}], 'Slides': [{'Lesson_id': 465, 'DisplayOrder': 1, 'SlideTypeCode': '2', 'Slide_id': 1194, 'LocalizedSlides': {'en': {'MediaSource': '/juno/school/videos/5.3 scene 1.mp4', 'LocalizedSlide_id': 446, 'Dialogue': {'Sentences': [{'IsKeySentence': False, 'Sentence': {'Text': \"I'm so tired.\", 'ContentSourceCode': 'Blurb', 'SentenceAudioSrc': '572fc203-d614-4d4e-a18a-c40edf983455.mp3', 'Sentence_id': 139151, 'SentenceAudio_id': 15738}, 'LocalizedSlide_id': 446, 'Character': {'Gender': 2, 'Character_id': 7148, 'Name': 'NINA'}, 'Trans': {'zh-CN': {'SentenceAudio_id': 0, 'Sentence_id': 0, 'ContentSourceCode': 'Blurb', 'SentenceAudioSrc': None, 'Text': '我很累。', 'CultureCode': 'zh-CN'}}, 'StartTimeInSecond': 1, 'IsTranslated': True, 'DisplayOrder': 1}, {'IsKeySentence': True, 'Sentence': {'Text': \"I haven't had a day off since I opened the shop.\", 'ContentSourceCode': 'Blurb', 'SentenceAudioSrc': 'fae1fbdd-00ef-48ab-ab13-1ede629e43c5.mp3', 'Sentence_id': 174724, 'SentenceAudio_id': 15739}, 'LocalizedSlide_id': 446, 'Character': {'Gender': 1, 'Character_id': 15036, 'Name': 'NINA'}, 'Trans': {'zh-CN': {'SentenceAudio_id': 0, 'Sentence_id': 0, 'ContentSourceCode': 'Blurb', 'SentenceAudioSrc': None, 'Text': '自从商店开业以来，我没有休息过一天。', 'CultureCode': 'zh-CN'}}, 'StartTimeInSecond': 3, 'IsTranslated': True, 'DisplayOrder': 2}, {'IsKeySentence': False, 'Sentence': {'Text': 'I need a sales assistant.', 'ContentSourceCode': 'Blurb', 'SentenceAudioSrc': '9138081c-d7de-43e8-9eb3-7f9f2e0acaef.mp3', 'Sentence_id': 139153, 'SentenceAudio_id': 15740}, 'LocalizedSlide_id': 446, 'Character': {'Gender': 1, 'Character_id': 15036, 'Name': 'NINA'}, 'Trans': {'zh-CN': {'SentenceAudio_id': 0, 'Sentence_id': 0, 'ContentSourceCode': 'Blurb', 'SentenceAudioSrc': None, 'Text': '我需要一个销售助理。', 'CultureCode': 'zh-CN'}}, 'StartTimeInSecond': 11, 'IsTranslated': True, 'DisplayOrder': 3}, {'IsKeySentence': False, 'Sentence': {'Text': \"I know what I'm looking for.\", 'ContentSourceCode': 'Blurb', 'SentenceAudioSrc': '7370a56f-a97f-433d-b7de-a12b9a212826.mp3', 'Sentence_id': 139154, 'SentenceAudio_id': 15741}, 'LocalizedSlide_id': 446, 'Character': {'Gender': 1, 'Character_id': 15036, 'Name': 'NINA'}, 'Trans': {'zh-CN': {'SentenceAudio_id': 0, 'Sentence_id': 0, 'ContentSourceCode': 'Blurb', 'SentenceAudioSrc': None, 'Text': '我知道我想要的是什么。', 'CultureCode': 'zh-CN'}}, 'StartTimeInSecond': 16, 'IsTranslated': True, 'DisplayOrder': 4}, {'IsKeySentence': False, 'Sentence': {'Text': 'Someone with sales experience.', 'ContentSourceCode': 'Blurb', 'SentenceAudioSrc': '39d461cc-8d8b-4674-a4d2-5ca63fc51609.mp3', 'Sentence_id': 139155, 'SentenceAudio_id': 15742}, 'LocalizedSlide_id': 446, 'Character': {'Gender': 1, 'Character_id': 15036, 'Name': 'NINA'}, 'Trans': {'zh-CN': {'SentenceAudio_id': 0, 'Sentence_id': 0, 'ContentSourceCode': 'Blurb', 'SentenceAudioSrc': None, 'Text': '有销售经验的人。', 'CultureCode': 'zh-CN'}}, 'StartTimeInSecond': 18, 'IsTranslated': True, 'DisplayOrder': 5}, {'IsKeySentence': False, 'Sentence': {'Text': \"Someone who's interested in fashion and design.\", 'ContentSourceCode': 'Blurb', 'SentenceAudioSrc': '33012383-6768-4f37-b642-ea0e07440da9.mp3', 'Sentence_id': 139156, 'SentenceAudio_id': 15743}, 'LocalizedSlide_id': 446, 'Character': {'Gender': 1, 'Character_id': 15036, 'Name': 'NINA'}, 'Trans': {'zh-CN': {'SentenceAudio_id': 0, 'Sentence_id': 0, 'ContentSourceCode': 'Blurb', 'SentenceAudioSrc': None, 'Text': '对时尚和设计感兴趣的人。', 'CultureCode': 'zh-CN'}}, 'StartTimeInSecond': 20, 'IsTranslated': True, 'DisplayOrder': 6}, {'IsKeySentence': False, 'Sentence': {'Text': \"They've got to be good with people and oh yeah, hard-working, motivated, with clear career goals.\", 'ContentSourceCode': 'Blurb', 'SentenceAudioSrc': '19d1d84b-21cb-4097-9b75-256290271956.mp3', 'Sentence_id': 139157, 'SentenceAudio_id': 15744}, 'LocalizedSlide_id': 446, 'Character': {'Gender': 1, 'Character_id': 15036, 'Name': 'NINA'}, 'Trans': {'zh-CN': {'SentenceAudio_id': 0, 'Sentence_id': 0, 'ContentSourceCode': 'Blurb', 'SentenceAudioSrc': None, 'Text': '他们必须懂得与人相处，工作努力，积极，有明确的事业目标。', 'CultureCode': 'zh-CN'}}, 'StartTimeInSecond': 24, 'IsTranslated': True, 'DisplayOrder': 7}, {'IsKeySentence': False, 'Sentence': {'Text': 'Maybe a bit too high expectations.', 'ContentSourceCode': 'Blurb', 'SentenceAudioSrc': 'f9389b14-eb88-4300-8a61-5bddd0e11743.mp3', 'Sentence_id': 139158, 'SentenceAudio_id': 15745}, 'LocalizedSlide_id': 446, 'Character': {'Gender': 1, 'Character_id': 15036, 'Name': 'NINA'}, 'Trans': {'zh-CN': {'SentenceAudio_id': 0, 'Sentence_id': 0, 'ContentSourceCode': 'Blurb', 'SentenceAudioSrc': None, 'Text': '可能期望有点过高了。', 'CultureCode': 'zh-CN'}}, 'StartTimeInSecond': 32, 'IsTranslated': True, 'DisplayOrder': 8}, {'IsKeySentence': False, 'Sentence': {'Text': 'Hi.', 'ContentSourceCode': 'Blurb', 'SentenceAudioSrc': '7ce263f6-e9fc-4c4d-b44c-8ef81e9ace37.mp3', 'Sentence_id': 139159, 'SentenceAudio_id': 15746}, 'LocalizedSlide_id': 446, 'Character': {'Gender': 2, 'Character_id': 7156, 'Name': 'JOE'}, 'Trans': {'zh-CN': {'SentenceAudio_id': 0, 'Sentence_id': 0, 'ContentSourceCode': 'Blurb', 'SentenceAudioSrc': None, 'Text': '嗨。', 'CultureCode': 'zh-CN'}}, 'StartTimeInSecond': 45, 'IsTranslated': True, 'DisplayOrder': 9}, {'IsKeySentence': False, 'Sentence': {'Text': 'Hi, Joe, thanks for coming.', 'ContentSourceCode': 'Blurb', 'SentenceAudioSrc': '9bfae49e-3a90-48b7-bde7-193e44e73444.mp3', 'Sentence_id': 139160, 'SentenceAudio_id': 15747}, 'LocalizedSlide_id': 446, 'Character': {'Gender': 1, 'Character_id': 15036, 'Name': 'NINA'}, 'Trans': {'zh-CN': {'SentenceAudio_id': 0, 'Sentence_id': 0, 'ContentSourceCode': 'Blurb', 'SentenceAudioSrc': None, 'Text': '嗨，Joe，感谢你能来。', 'CultureCode': 'zh-CN'}}, 'StartTimeInSecond': 46, 'IsTranslated': True, 'DisplayOrder': 10}, {'IsKeySentence': False, 'Sentence': {'Text': 'Thank you.', 'ContentSourceCode': 'Blurb', 'SentenceAudioSrc': 'ca1433c1-8510-496a-aecc-3fa09fc8a45d.mp3', 'Sentence_id': 139161, 'SentenceAudio_id': 15748}, 'LocalizedSlide_id': 446, 'Character': {'Gender': 2, 'Character_id': 7156, 'Name': 'JOE'}, 'Trans': {'zh-CN': {'SentenceAudio_id': 0, 'Sentence_id': 0, 'ContentSourceCode': 'Blurb', 'SentenceAudioSrc': None, 'Text': '谢谢。', 'CultureCode': 'zh-CN'}}, 'StartTimeInSecond': 48, 'IsTranslated': True, 'DisplayOrder': 11}, {'IsKeySentence': False, 'Sentence': {'Text': 'Please have a seat.', 'ContentSourceCode': 'Blurb', 'SentenceAudioSrc': '93e699b0-735c-42e7-8d8c-a2d05976ea0b.mp3', 'Sentence_id': 139162, 'SentenceAudio_id': 15749}, 'LocalizedSlide_id': 446, 'Character': {'Gender': 1, 'Character_id': 15036, 'Name': 'NINA'}, 'Trans': {'zh-CN': {'SentenceAudio_id': 0, 'Sentence_id': 0, 'ContentSourceCode': 'Blurb', 'SentenceAudioSrc': None, 'Text': '请坐。', 'CultureCode': 'zh-CN'}}, 'StartTimeInSecond': 48, 'IsTranslated': True, 'DisplayOrder': 12}, {'IsKeySentence': False, 'Sentence': {'Text': 'Right, so, let me just find your CV.', 'ContentSourceCode': 'Blurb', 'SentenceAudioSrc': '559c954f-b481-4a44-b567-9ffeaee82944.mp3', 'Sentence_id': 139163, 'SentenceAudio_id': 15750}, 'LocalizedSlide_id': 446, 'Character': {'Gender': 1, 'Character_id': 15036, 'Name': 'NINA'}, 'Trans': {'zh-CN': {'SentenceAudio_id': 0, 'Sentence_id': 0, 'ContentSourceCode': 'Blurb', 'SentenceAudioSrc': None, 'Text': '好的，那么，让我找下你的简历。', 'CultureCode': 'zh-CN'}}, 'StartTimeInSecond': 50, 'IsTranslated': True, 'DisplayOrder': 13}, {'IsKeySentence': False, 'Sentence': {'Text': 'Here it is.', 'ContentSourceCode': 'Blurb', 'SentenceAudioSrc': '001bb8b5-b8f4-4210-a3e4-ef184da785b1.mp3', 'Sentence_id': 139164, 'SentenceAudio_id': 15751}, 'LocalizedSlide_id': 446, 'Character': {'Gender': 1, 'Character_id': 15036, 'Name': 'NINA'}, 'Trans': {'zh-CN': {'SentenceAudio_id': 0, 'Sentence_id': 0, 'ContentSourceCode': 'Blurb', 'SentenceAudioSrc': None, 'Text': '在这里。', 'CultureCode': 'zh-CN'}}, 'StartTimeInSecond': 54, 'IsTranslated': True, 'DisplayOrder': 14}, {'IsKeySentence': False, 'Sentence': {'Text': 'So, maybe you could start by telling me a little bit about yourself.', 'ContentSourceCode': 'Blurb', 'SentenceAudioSrc': 'dbffb724-f9b7-4a31-913e-93f5aaced8d7.mp3', 'Sentence_id': 139165, 'SentenceAudio_id': 15752}, 'LocalizedSlide_id': 446, 'Character': {'Gender': 1, 'Character_id': 15036, 'Name': 'NINA'}, 'Trans': {'zh-CN': {'SentenceAudio_id': 0, 'Sentence_id': 0, 'ContentSourceCode': 'Blurb', 'SentenceAudioSrc': None, 'Text': '那么，你可以先自我介绍一下。', 'CultureCode': 'zh-CN'}}, 'StartTimeInSecond': 62, 'IsTranslated': True, 'DisplayOrder': 15}, {'IsKeySentence': False, 'Sentence': {'Text': \"Well I just finished my A levels but I won't be going to Uni until next year.\", 'ContentSourceCode': 'Blurb', 'SentenceAudioSrc': '36313668-a9a1-43b3-ae72-2511e2358029.mp3', 'Sentence_id': 139166, 'SentenceAudio_id': 15753}, 'LocalizedSlide_id': 446, 'Character': {'Gender': 2, 'Character_id': 7156, 'Name': 'JOE'}, 'Trans': {'zh-CN': {'SentenceAudio_id': 0, 'Sentence_id': 0, 'ContentSourceCode': 'Blurb', 'SentenceAudioSrc': None, 'Text': '我刚完成了A levels考试,但是我打算明年再上大学。', 'CultureCode': 'zh-CN'}}, 'StartTimeInSecond': 68, 'IsTranslated': True, 'DisplayOrder': 16}, {'IsKeySentence': False, 'Sentence': {'Text': 'I can see here that you have some sales experience.', 'ContentSourceCode': 'Blurb', 'SentenceAudioSrc': '3c2186f0-6da2-4503-94f8-f46c4c424ffc.mp3', 'Sentence_id': 139167, 'SentenceAudio_id': 15754}, 'LocalizedSlide_id': 446, 'Character': {'Gender': 1, 'Character_id': 15036, 'Name': 'NINA'}, 'Trans': {'zh-CN': {'SentenceAudio_id': 0, 'Sentence_id': 0, 'ContentSourceCode': 'Blurb', 'SentenceAudioSrc': None, 'Text': '我可以看到你有一些销售经验。', 'CultureCode': 'zh-CN'}}, 'StartTimeInSecond': 76, 'IsTranslated': True, 'DisplayOrder': 17}, {'IsKeySentence': False, 'Sentence': {'Text': 'Sports shop.', 'ContentSourceCode': 'Blurb', 'SentenceAudioSrc': '46147018-e5f8-46ee-9f47-aceaa5ddf2c9.mp3', 'Sentence_id': 139168, 'SentenceAudio_id': 15755}, 'LocalizedSlide_id': 446, 'Character': {'Gender': 2, 'Character_id': 7156, 'Name': 'JOE'}, 'Trans': {'zh-CN': {'SentenceAudio_id': 0, 'Sentence_id': 0, 'ContentSourceCode': 'Blurb', 'SentenceAudioSrc': None, 'Text': '运动用品店。', 'CultureCode': 'zh-CN'}}, 'StartTimeInSecond': 80, 'IsTranslated': True, 'DisplayOrder': 18}, {'IsKeySentence': False, 'Sentence': {'Text': \"It says that you've only been there for four months.\", 'ContentSourceCode': 'Blurb', 'SentenceAudioSrc': '6e4b186e-5425-4374-92ce-74425e330a47.mp3', 'Sentence_id': 139169, 'SentenceAudio_id': 15756}, 'LocalizedSlide_id': 446, 'Character': {'Gender': 1, 'Character_id': 15036, 'Name': 'NINA'}, 'Trans': {'zh-CN': {'SentenceAudio_id': 0, 'Sentence_id': 0, 'ContentSourceCode': 'Blurb', 'SentenceAudioSrc': None, 'Text': '简历上面说你在那只做了4个月。', 'CultureCode': 'zh-CN'}}, 'StartTimeInSecond': 83, 'IsTranslated': True, 'DisplayOrder': 19}, {'IsKeySentence': False, 'Sentence': {'Text': 'So, why do you want to leave?', 'ContentSourceCode': 'Blurb', 'SentenceAudioSrc': 'fa019434-0232-4cd8-b0a4-5c53e210c6b0.mp3', 'Sentence_id': 139170, 'SentenceAudio_id': 15757}, 'LocalizedSlide_id': 446, 'Character': {'Gender': 1, 'Character_id': 15036, 'Name': 'NINA'}, 'Trans': {'zh-CN': {'SentenceAudio_id': 0, 'Sentence_id': 0, 'ContentSourceCode': 'Blurb', 'SentenceAudioSrc': None, 'Text': '那么，你为什么想离开？', 'CultureCode': 'zh-CN'}}, 'StartTimeInSecond': 87, 'IsTranslated': True, 'DisplayOrder': 20}, {'IsKeySentence': False, 'Sentence': {'Text': \"Well, it's my boss really.\", 'ContentSourceCode': 'Blurb', 'SentenceAudioSrc': '2f2aeefe-4d3f-45ab-8c7d-fa70287c3342.mp3', 'Sentence_id': 139171, 'SentenceAudio_id': 15758}, 'LocalizedSlide_id': 446, 'Character': {'Gender': 2, 'Character_id': 7156, 'Name': 'JOE'}, 'Trans': {'zh-CN': {'SentenceAudio_id': 0, 'Sentence_id': 0, 'ContentSourceCode': 'Blurb', 'SentenceAudioSrc': None, 'Text': '其实是我老板的关系。', 'CultureCode': 'zh-CN'}}, 'StartTimeInSecond': 90, 'IsTranslated': True, 'DisplayOrder': 21}, {'IsKeySentence': False, 'Sentence': {'Text': 'Oh, what do you mean?', 'ContentSourceCode': 'Blurb', 'SentenceAudioSrc': '3018d94c-73ab-48cf-a72e-e7c149793f96.mp3', 'Sentence_id': 139172, 'SentenceAudio_id': 15759}, 'LocalizedSlide_id': 446, 'Character': {'Gender': 1, 'Character_id': 15036, 'Name': 'NINA'}, 'Trans': {'zh-CN': {'SentenceAudio_id': 0, 'Sentence_id': 0, 'ContentSourceCode': 'Blurb', 'SentenceAudioSrc': None, 'Text': '哦，你什么意思？', 'CultureCode': 'zh-CN'}}, 'StartTimeInSecond': 93, 'IsTranslated': True, 'DisplayOrder': 22}, {'IsKeySentence': False, 'Sentence': {'Text': \"Well, he's a difficult man.\", 'ContentSourceCode': 'Blurb', 'SentenceAudioSrc': '41606360-f95a-4cb3-866a-79e9b41620f3.mp3', 'Sentence_id': 139173, 'SentenceAudio_id': 15760}, 'LocalizedSlide_id': 446, 'Character': {'Gender': 2, 'Character_id': 7156, 'Name': 'JOE'}, 'Trans': {'zh-CN': {'SentenceAudio_id': 0, 'Sentence_id': 0, 'ContentSourceCode': 'Blurb', 'SentenceAudioSrc': None, 'Text': '好吧，他是个不易相处的人。', 'CultureCode': 'zh-CN'}}, 'StartTimeInSecond': 98, 'IsTranslated': True, 'DisplayOrder': 23}], 'LocalizedSlide_id': 446}, 'TeachingCultureCode': 'en', 'MediaM3u8Source': '/juno/school/videos/5.3 scene 1/640x360_600.m3u8', 'MediaType': 'video'}}}], 'Vocabulary': {'since_en': {'WordPicture': 'since.gif|33|16', 'Word_id': 173188, 'DefaultWord': 'since', 'WordAudioFile': 'since_en.mp3', 'WordSource': 2, 'IsForGlossary': True, 'Translations': {'zh-CN': {'CultureCode': 'zh-CN', 'Translations': ['自从'], 'FirstTranslation': '自从'}}}, 'boss_en': {'WordPicture': 'boss.gif|30|16', 'Word_id': 174212, 'DefaultWord': 'boss', 'WordAudioFile': 'boss_en.mp3', 'WordSource': 2, 'IsForGlossary': True, 'Translations': {'zh-CN': {'CultureCode': 'zh-CN', 'Translations': ['老板'], 'FirstTranslation': '老板'}}}, 'motivated_en': {'WordPicture': 'motivated.gif|66|16', 'Word_id': 173700, 'DefaultWord': 'motivated', 'WordAudioFile': 'motivated_en.mp3', 'WordSource': 2, 'IsForGlossary': True, 'Translations': {'zh-CN': {'CultureCode': 'zh-CN', 'Translations': ['有动力的'], 'FirstTranslation': '有动力的'}}}}}\n"
     ]
    }
   ],
   "source": [
    "import requests\n",
    "lesson_json = requests.get(\"http://ec.ef.com.cn/community/dailylesson/lessonhandler.ashx?operate=preloaddata&teachculturecode=en&lesson_id=465&transculturecode=zh-CN&ss=EE&v=35-1\").json()\n",
    "print(lesson_json)"
   ]
  },
  {
   "cell_type": "code",
   "execution_count": 29,
   "metadata": {
    "collapsed": true
   },
   "outputs": [],
   "source": [
    "from http import cookiejar"
   ]
  },
  {
   "cell_type": "code",
   "execution_count": 36,
   "metadata": {},
   "outputs": [
    {
     "name": "stdout",
     "output_type": "stream",
     "text": [
      "Help on class Session in module requests.sessions:\n",
      "\n",
      "class Session(SessionRedirectMixin)\n",
      " |  A Requests session.\n",
      " |  \n",
      " |  Provides cookie persistence, connection-pooling, and configuration.\n",
      " |  \n",
      " |  Basic Usage::\n",
      " |  \n",
      " |    >>> import requests\n",
      " |    >>> s = requests.Session()\n",
      " |    >>> s.get('http://httpbin.org/get')\n",
      " |    <Response [200]>\n",
      " |  \n",
      " |  Or as a context manager::\n",
      " |  \n",
      " |    >>> with requests.Session() as s:\n",
      " |    >>>     s.get('http://httpbin.org/get')\n",
      " |    <Response [200]>\n",
      " |  \n",
      " |  Method resolution order:\n",
      " |      Session\n",
      " |      SessionRedirectMixin\n",
      " |      builtins.object\n",
      " |  \n",
      " |  Methods defined here:\n",
      " |  \n",
      " |  __enter__(self)\n",
      " |  \n",
      " |  __exit__(self, *args)\n",
      " |  \n",
      " |  __getstate__(self)\n",
      " |  \n",
      " |  __init__(self)\n",
      " |      Initialize self.  See help(type(self)) for accurate signature.\n",
      " |  \n",
      " |  __setstate__(self, state)\n",
      " |  \n",
      " |  close(self)\n",
      " |      Closes all adapters and as such the session\n",
      " |  \n",
      " |  delete(self, url, **kwargs)\n",
      " |      Sends a DELETE request. Returns :class:`Response` object.\n",
      " |      \n",
      " |      :param url: URL for the new :class:`Request` object.\n",
      " |      :param \\*\\*kwargs: Optional arguments that ``request`` takes.\n",
      " |  \n",
      " |  get(self, url, **kwargs)\n",
      " |      Sends a GET request. Returns :class:`Response` object.\n",
      " |      \n",
      " |      :param url: URL for the new :class:`Request` object.\n",
      " |      :param \\*\\*kwargs: Optional arguments that ``request`` takes.\n",
      " |  \n",
      " |  get_adapter(self, url)\n",
      " |      Returns the appropriate connection adapter for the given URL.\n",
      " |  \n",
      " |  head(self, url, **kwargs)\n",
      " |      Sends a HEAD request. Returns :class:`Response` object.\n",
      " |      \n",
      " |      :param url: URL for the new :class:`Request` object.\n",
      " |      :param \\*\\*kwargs: Optional arguments that ``request`` takes.\n",
      " |  \n",
      " |  merge_environment_settings(self, url, proxies, stream, verify, cert)\n",
      " |      Check the environment and merge it with some settings.\n",
      " |  \n",
      " |  mount(self, prefix, adapter)\n",
      " |      Registers a connection adapter to a prefix.\n",
      " |      \n",
      " |      Adapters are sorted in descending order by key length.\n",
      " |  \n",
      " |  options(self, url, **kwargs)\n",
      " |      Sends a OPTIONS request. Returns :class:`Response` object.\n",
      " |      \n",
      " |      :param url: URL for the new :class:`Request` object.\n",
      " |      :param \\*\\*kwargs: Optional arguments that ``request`` takes.\n",
      " |  \n",
      " |  patch(self, url, data=None, **kwargs)\n",
      " |      Sends a PATCH request. Returns :class:`Response` object.\n",
      " |      \n",
      " |      :param url: URL for the new :class:`Request` object.\n",
      " |      :param data: (optional) Dictionary, bytes, or file-like object to send in the body of the :class:`Request`.\n",
      " |      :param \\*\\*kwargs: Optional arguments that ``request`` takes.\n",
      " |  \n",
      " |  post(self, url, data=None, json=None, **kwargs)\n",
      " |      Sends a POST request. Returns :class:`Response` object.\n",
      " |      \n",
      " |      :param url: URL for the new :class:`Request` object.\n",
      " |      :param data: (optional) Dictionary, bytes, or file-like object to send in the body of the :class:`Request`.\n",
      " |      :param json: (optional) json to send in the body of the :class:`Request`.\n",
      " |      :param \\*\\*kwargs: Optional arguments that ``request`` takes.\n",
      " |  \n",
      " |  prepare_request(self, request)\n",
      " |      Constructs a :class:`PreparedRequest <PreparedRequest>` for\n",
      " |      transmission and returns it. The :class:`PreparedRequest` has settings\n",
      " |      merged from the :class:`Request <Request>` instance and those of the\n",
      " |      :class:`Session`.\n",
      " |      \n",
      " |      :param request: :class:`Request` instance to prepare with this\n",
      " |          session's settings.\n",
      " |  \n",
      " |  put(self, url, data=None, **kwargs)\n",
      " |      Sends a PUT request. Returns :class:`Response` object.\n",
      " |      \n",
      " |      :param url: URL for the new :class:`Request` object.\n",
      " |      :param data: (optional) Dictionary, bytes, or file-like object to send in the body of the :class:`Request`.\n",
      " |      :param \\*\\*kwargs: Optional arguments that ``request`` takes.\n",
      " |  \n",
      " |  request(self, method, url, params=None, data=None, headers=None, cookies=None, files=None, auth=None, timeout=None, allow_redirects=True, proxies=None, hooks=None, stream=None, verify=None, cert=None, json=None)\n",
      " |      Constructs a :class:`Request <Request>`, prepares it and sends it.\n",
      " |      Returns :class:`Response <Response>` object.\n",
      " |      \n",
      " |      :param method: method for the new :class:`Request` object.\n",
      " |      :param url: URL for the new :class:`Request` object.\n",
      " |      :param params: (optional) Dictionary or bytes to be sent in the query\n",
      " |          string for the :class:`Request`.\n",
      " |      :param data: (optional) Dictionary, bytes, or file-like object to send\n",
      " |          in the body of the :class:`Request`.\n",
      " |      :param json: (optional) json to send in the body of the\n",
      " |          :class:`Request`.\n",
      " |      :param headers: (optional) Dictionary of HTTP Headers to send with the\n",
      " |          :class:`Request`.\n",
      " |      :param cookies: (optional) Dict or CookieJar object to send with the\n",
      " |          :class:`Request`.\n",
      " |      :param files: (optional) Dictionary of ``'filename': file-like-objects``\n",
      " |          for multipart encoding upload.\n",
      " |      :param auth: (optional) Auth tuple or callable to enable\n",
      " |          Basic/Digest/Custom HTTP Auth.\n",
      " |      :param timeout: (optional) How long to wait for the server to send\n",
      " |          data before giving up, as a float, or a :ref:`(connect timeout,\n",
      " |          read timeout) <timeouts>` tuple.\n",
      " |      :type timeout: float or tuple\n",
      " |      :param allow_redirects: (optional) Set to True by default.\n",
      " |      :type allow_redirects: bool\n",
      " |      :param proxies: (optional) Dictionary mapping protocol or protocol and\n",
      " |          hostname to the URL of the proxy.\n",
      " |      :param stream: (optional) whether to immediately download the response\n",
      " |          content. Defaults to ``False``.\n",
      " |      :param verify: (optional) whether the SSL cert will be verified.\n",
      " |          A CA_BUNDLE path can also be provided. Defaults to ``True``.\n",
      " |      :param cert: (optional) if String, path to ssl client cert file (.pem).\n",
      " |          If Tuple, ('cert', 'key') pair.\n",
      " |      :rtype: requests.Response\n",
      " |  \n",
      " |  send(self, request, **kwargs)\n",
      " |      Send a given PreparedRequest.\n",
      " |  \n",
      " |  ----------------------------------------------------------------------\n",
      " |  Data and other attributes defined here:\n",
      " |  \n",
      " |  __attrs__ = ['headers', 'cookies', 'auth', 'proxies', 'hooks', 'params...\n",
      " |  \n",
      " |  ----------------------------------------------------------------------\n",
      " |  Methods inherited from SessionRedirectMixin:\n",
      " |  \n",
      " |  rebuild_auth(self, prepared_request, response)\n",
      " |      When being redirected we may want to strip authentication from the\n",
      " |      request to avoid leaking credentials. This method intelligently removes\n",
      " |      and reapplies authentication where possible to avoid credential loss.\n",
      " |  \n",
      " |  rebuild_method(self, prepared_request, response)\n",
      " |      When being redirected we may want to change the method of the request\n",
      " |      based on certain specs or browser behavior.\n",
      " |  \n",
      " |  rebuild_proxies(self, prepared_request, proxies)\n",
      " |      This method re-evaluates the proxy configuration by considering the\n",
      " |      environment variables. If we are redirected to a URL covered by\n",
      " |      NO_PROXY, we strip the proxy configuration. Otherwise, we set missing\n",
      " |      proxy keys for this URL (in case they were stripped by a previous\n",
      " |      redirect).\n",
      " |      \n",
      " |      This method also replaces the Proxy-Authorization header where\n",
      " |      necessary.\n",
      " |  \n",
      " |  resolve_redirects(self, resp, req, stream=False, timeout=None, verify=True, cert=None, proxies=None, **adapter_kwargs)\n",
      " |      Receives a Response. Returns a generator of Responses.\n",
      " |  \n",
      " |  ----------------------------------------------------------------------\n",
      " |  Data descriptors inherited from SessionRedirectMixin:\n",
      " |  \n",
      " |  __dict__\n",
      " |      dictionary for instance variables (if defined)\n",
      " |  \n",
      " |  __weakref__\n",
      " |      list of weak references to the object (if defined)\n",
      "\n"
     ]
    }
   ],
   "source": [
    "help(requests.Session)"
   ]
  },
  {
   "cell_type": "code",
   "execution_count": 13,
   "metadata": {
    "collapsed": true
   },
   "outputs": [],
   "source": [
    "import pymongo"
   ]
  },
  {
   "cell_type": "code",
   "execution_count": 14,
   "metadata": {
    "collapsed": true
   },
   "outputs": [],
   "source": [
    "# 获取MongoDB Client\n",
    "db_clien = pymongo.MongoClient()"
   ]
  },
  {
   "cell_type": "code",
   "execution_count": 15,
   "metadata": {
    "collapsed": true
   },
   "outputs": [],
   "source": [
    "# 访问数据库，拿到数据库对象\n",
    "db = db_clien['EF']"
   ]
  },
  {
   "cell_type": "code",
   "execution_count": 82,
   "metadata": {
    "collapsed": true
   },
   "outputs": [],
   "source": [
    "all_daily_lesson = db.daily_lesson_title.find({}).sort('Lesson.Lesson_id', pymongo.ASCENDING)"
   ]
  },
  {
   "cell_type": "code",
   "execution_count": 83,
   "metadata": {
    "scrolled": true
   },
   "outputs": [
    {
     "data": {
      "text/plain": [
       "{'CourseId': 70,\n",
       " 'CourseName': '',\n",
       " 'CulturesDic': {'ar': 'Arabic',\n",
       "  'de': 'German',\n",
       "  'es': 'Spanish',\n",
       "  'es-CL': 'Spanish (Chile)',\n",
       "  'es-MX': 'Spanish (Mexico)',\n",
       "  'fr': 'French',\n",
       "  'id-ID': 'Indonesian',\n",
       "  'it': 'Italian',\n",
       "  'ja-JP': 'Japanese (Japan)',\n",
       "  'ko-KR': 'Korean (Korea)',\n",
       "  'pt-BR': 'Portuguese (Brazil)',\n",
       "  'pt-PT': 'Portuguese (Portugal)',\n",
       "  'ru': 'Russian',\n",
       "  'th': 'Thai',\n",
       "  'zh-CN': 'Chinese (Simplified, PRC)',\n",
       "  'zh-HK': 'Chinese (Traditional, HK)',\n",
       "  'zh-TW': 'Chinese (Traditional, Taiwan)'},\n",
       " 'Lesson': {'ActivityStatus': {'Number': '4', 'Show': 'yes'},\n",
       "  'Chapter_id': 38,\n",
       "  'Completed': False,\n",
       "  'LessonDescr': '',\n",
       "  'LessonEnglishName': '',\n",
       "  'LessonGoal': None,\n",
       "  'LessonMediaSrc': '',\n",
       "  'LessonName': '',\n",
       "  'LessonNameWithPerfix': '课程 -12 - ',\n",
       "  'Lesson_id': 156,\n",
       "  'Locked': False},\n",
       " 'LevelCode': '2',\n",
       " 'LevelName': 'Elementary',\n",
       " 'SubscriptionId': -1,\n",
       " '_id': ObjectId('59c084b07063f50432a0eeee')}"
      ]
     },
     "execution_count": 83,
     "metadata": {},
     "output_type": "execute_result"
    }
   ],
   "source": [
    "num = 1\n",
    "while all_daily_lesson:\n",
    "    all_daily_lesson.next()\n",
    "    if num == 1:\n",
    "        break"
   ]
  },
  {
   "cell_type": "code",
   "execution_count": 68,
   "metadata": {
    "scrolled": true
   },
   "outputs": [
    {
     "name": "stdout",
     "output_type": "stream",
     "text": [
      "{'CourseId': 81, 'Lesson': {'ActivityStatus': {'Number': '4', 'Show': 'yes'}, 'LessonNameWithPerfix': \"课程 1 - My name's Michelle.\", 'LessonGoal': None, 'Lesson_id': 265, 'LessonDescr': '这节课结束后，您将能用英语问候别人。', 'Chapter_id': 45, 'LessonEnglishName': 'Hi!', 'Completed': False, 'Locked': False, 'LessonName': '你好！', 'LessonMediaSrc': '/_imgs/community/dailylesson/lessons/lesson265.jpg'}, 'CulturesDic': {'es-CL': 'Spanish (Chile)', 'es-MX': 'Spanish (Mexico)', 'zh-TW': 'Chinese (Traditional, Taiwan)', 'es': 'Spanish', 'de': 'German', 'pt-PT': 'Portuguese (Portugal)', 'ru': 'Russian', 'ko-KR': 'Korean (Korea)', 'ar': 'Arabic', 'it': 'Italian', 'zh-CN': 'Chinese (Simplified, PRC)', 'pt-BR': 'Portuguese (Brazil)', 'th': 'Thai', 'id-ID': 'Indonesian', 'fr': 'French', 'zh-HK': 'Chinese (Traditional, HK)', 'ja-JP': 'Japanese (Japan)'}, 'LevelName': 'Beginner', '_id': ObjectId('59c084647063f50432a0eeed'), 'SubscriptionId': -1, 'CourseName': '1级 － 入门级', 'LevelCode': '1'}\n"
     ]
    }
   ],
   "source": [
    "print(all_daily_lesson.next())"
   ]
  },
  {
   "cell_type": "code",
   "execution_count": 66,
   "metadata": {},
   "outputs": [
    {
     "name": "stdout",
     "output_type": "stream",
     "text": [
      "{'IsKeySentence': False, 'Sentence': {'Text': 'Hi!', 'ContentSourceCode': 'Blurb', 'SentenceAudio_id': 12933, 'Sentence_id': 135940, 'SentenceAudioSrc': ''}, 'LocalizedSlide_id': 246, 'Character': {'Character_id': 14983, 'Name': 'MICHELLE', 'Gender': 1}, 'Trans': {'zh-CN': {'SentenceAudio_id': 0, 'Sentence_id': 0, 'ContentSourceCode': 'Blurb', 'SentenceAudioSrc': None, 'Text': '嗨！', 'CultureCode': 'zh-CN'}}, 'StartTimeInSecond': 1, 'IsTranslated': True, 'DisplayOrder': 1}\n",
      "{'IsKeySentence': True, 'Sentence': {'Text': \"My name's Michelle.\", 'ContentSourceCode': 'Blurb', 'SentenceAudio_id': 12929, 'Sentence_id': 135941, 'SentenceAudioSrc': ''}, 'LocalizedSlide_id': 246, 'Character': {'Character_id': 14983, 'Name': 'MICHELLE', 'Gender': 1}, 'Trans': {'zh-CN': {'SentenceAudio_id': 0, 'Sentence_id': 0, 'ContentSourceCode': 'Blurb', 'SentenceAudioSrc': None, 'Text': '我叫Michelle。', 'CultureCode': 'zh-CN'}}, 'StartTimeInSecond': 2, 'IsTranslated': True, 'DisplayOrder': 2}\n"
     ]
    }
   ],
   "source": [
    "daily_lesson = db.daily_lesson.find({\"Slides.Lesson_id\": 265}).sort('Slides.LocalizedSlides.en.Dialogue.Sentences.DisplayOrder', pymongo.ASCENDING)\n",
    "print(daily_lesson.next()['Slides'][0]['LocalizedSlides']['en']['Dialogue']['Sentences'][0])\n",
    "print(daily_lesson.next()['Slides'][0]['LocalizedSlides']['en']['Dialogue']['Sentences'][1])"
   ]
  },
  {
   "cell_type": "code",
   "execution_count": 10,
   "metadata": {},
   "outputs": [
    {
     "name": "stdout",
     "output_type": "stream",
     "text": [
      "8级 － 中级\n",
      "课程 12 - You should train to be a chef.\n",
      "本课结束后，您将能够解释朋友的梦。\n",
      "http://cnc1.ef-cdn.com/_imgs/community/dailylesson/lessons/lesson500.jpg\n",
      "http://cnc1.ef-cdn.com/juno/school/videos/6.3 scene 4.mp4\n",
      "PETER\n",
      "Hey, I can't believe it!\n",
      "嘿，我简直不敢相信！\n",
      "PETER\n",
      "You really can cook!\n",
      "你真的会烹饪！\n",
      "PETER\n",
      "I think you're right.\n",
      "你说得对。\n",
      "PETER\n",
      "You should train to be a chef.\n",
      "你应该被培养成厨师。\n",
      "PETER\n",
      "You should apply to Catering College and become qualified.\n",
      "你应该申请餐饮学院，取得资质。\n",
      "PETER\n",
      "In five years time you can open up your own chain of restaurants!\n",
      "5年内你就能开设属于你自己的连锁餐厅啦！\n",
      "PETER\n",
      "Or you could cook for the rich and famous, you know, be the personal chef of a movie star!\n",
      "或者你可以为有钱人或名人烹饪食物，做电影明星的私人厨师！\n",
      "PETER\n",
      "Or something.\n",
      "或者其他什么。\n",
      "LEO\n",
      "One step at a time, eh?\n",
      "人应该一步一个脚印，对吗？\n",
      "PETER\n",
      "But, why not?\n",
      "但是，为什么不应该这样呢？\n",
      "PETER\n",
      "You have to have a dream.\n",
      "你必须有理想。\n",
      "LEO\n",
      "Oh, I have lots of dreams.\n",
      "是的，我有很多的梦想。\n",
      "PETER\n",
      "Yeah, but you have to make a plan until they come true.\n",
      "是的，但是你必须要在它们实现之前制定一个计划。\n",
      "PETER\n",
      "Hi!\n",
      "你好！\n",
      "KATE\n",
      "Hey there, Pete.\n",
      "Peter,你好。\n"
     ]
    }
   ],
   "source": [
    "import os\n",
    "\n",
    "import pymongo\n",
    "# 获取MongoDB Client\n",
    "db_clien = pymongo.MongoClient()\n",
    "# 访问数据库，拿到数据库对象\n",
    "db = db_clien['EF']\n",
    "\n",
    "lesson_content = db.daily_lesson.find({\"Slides.Lesson_id\": 500}).sort('Slides.LocalizedSlides.en.Dialogue.Sentences.DisplayOrder', pymongo.DESCENDING)\n",
    "lesson_title = db.daily_lesson_title.find({\"Lesson.Lesson_id\": 500})\n",
    "\n",
    "if lesson_content and lesson_title:\n",
    "    lesson_content_json = lesson_content.next()\n",
    "    lesson_title_json = lesson_title.next()\n",
    "\n",
    "course_name = lesson_title_json['CourseName']\n",
    "lesson_level = lesson_title_json['LevelName']\n",
    "lesson_name = lesson_title_json['Lesson']['LessonNameWithPerfix']\n",
    "lesson_describing = lesson_title_json['Lesson']['LessonDescr']\n",
    "lesson_image = 'http://cnc1.ef-cdn.com' + lesson_title_json['Lesson']['LessonMediaSrc']\n",
    "lesson_video = 'http://cnc1.ef-cdn.com' + lesson_content_json['Slides'][0]['LocalizedSlides']['en']['MediaSource']\n",
    "\n",
    "print(course_name)\n",
    "print(lesson_name)\n",
    "print(lesson_describing)\n",
    "print(lesson_image)\n",
    "print(lesson_video)\n",
    "\n",
    "for sentence in lesson_content_json['Slides'][0]['LocalizedSlides']['en']['Dialogue']['Sentences']:\n",
    "    guy_name = sentence['Character']['Name']\n",
    "    English_sentence = sentence['Sentence']['Text']\n",
    "    Chinese_sentence = sentence['Trans']['zh-CN']['Text']\n",
    "    print(guy_name)\n",
    "    print(English_sentence)\n",
    "    print(Chinese_sentence)"
   ]
  },
  {
   "cell_type": "code",
   "execution_count": 235,
   "metadata": {},
   "outputs": [
    {
     "data": {
      "text/plain": [
       "<pymongo.results.InsertOneResult at 0x10b5b8f08>"
      ]
     },
     "execution_count": 235,
     "metadata": {},
     "output_type": "execute_result"
    },
    {
     "data": {
      "text/plain": [
       "<pymongo.results.InsertOneResult at 0x1094c0908>"
      ]
     },
     "execution_count": 235,
     "metadata": {},
     "output_type": "execute_result"
    },
    {
     "data": {
      "text/plain": [
       "<pymongo.results.InsertOneResult at 0x10b60ca88>"
      ]
     },
     "execution_count": 235,
     "metadata": {},
     "output_type": "execute_result"
    },
    {
     "data": {
      "text/plain": [
       "<pymongo.results.InsertOneResult at 0x10b5c2348>"
      ]
     },
     "execution_count": 235,
     "metadata": {},
     "output_type": "execute_result"
    },
    {
     "name": "stdout",
     "output_type": "stream",
     "text": [
      "无效URL：http://ec.ef.com.cn/community/dailylesson/lessonhandler.ashx?operate=preloaddata&teachculturecode=en&lesson_id=4&transculturecode=zh-CN&ss=EE&v=35-1\n",
      "无效URL：http://ec.ef.com.cn/community/dailylesson/lessonhandler.ashx?operate=preloaddata&teachculturecode=en&lesson_id=5&transculturecode=zh-CN&ss=EE&v=35-1\n",
      "无效URL：http://ec.ef.com.cn/community/dailylesson/lessonhandler.ashx?operate=preloaddata&teachculturecode=en&lesson_id=6&transculturecode=zh-CN&ss=EE&v=35-1\n",
      "无效URL：http://ec.ef.com.cn/community/dailylesson/lessonhandler.ashx?operate=preloaddata&teachculturecode=en&lesson_id=7&transculturecode=zh-CN&ss=EE&v=35-1\n",
      "无效URL：http://ec.ef.com.cn/community/dailylesson/lessonhandler.ashx?operate=preloaddata&teachculturecode=en&lesson_id=8&transculturecode=zh-CN&ss=EE&v=35-1\n",
      "无效URL：http://ec.ef.com.cn/community/dailylesson/lessonhandler.ashx?operate=preloaddata&teachculturecode=en&lesson_id=9&transculturecode=zh-CN&ss=EE&v=35-1\n",
      "无效URL：http://ec.ef.com.cn/community/dailylesson/lessonhandler.ashx?operate=preloaddata&teachculturecode=en&lesson_id=10&transculturecode=zh-CN&ss=EE&v=35-1\n",
      "无效URL：http://ec.ef.com.cn/community/dailylesson/lessonhandler.ashx?operate=preloaddata&teachculturecode=en&lesson_id=11&transculturecode=zh-CN&ss=EE&v=35-1\n",
      "无效URL：http://ec.ef.com.cn/community/dailylesson/lessonhandler.ashx?operate=preloaddata&teachculturecode=en&lesson_id=12&transculturecode=zh-CN&ss=EE&v=35-1\n",
      "无效URL：http://ec.ef.com.cn/community/dailylesson/lessonhandler.ashx?operate=preloaddata&teachculturecode=en&lesson_id=13&transculturecode=zh-CN&ss=EE&v=35-1\n",
      "无效URL：http://ec.ef.com.cn/community/dailylesson/lessonhandler.ashx?operate=preloaddata&teachculturecode=en&lesson_id=14&transculturecode=zh-CN&ss=EE&v=35-1\n",
      "无效URL：http://ec.ef.com.cn/community/dailylesson/lessonhandler.ashx?operate=preloaddata&teachculturecode=en&lesson_id=15&transculturecode=zh-CN&ss=EE&v=35-1\n",
      "无效URL：http://ec.ef.com.cn/community/dailylesson/lessonhandler.ashx?operate=preloaddata&teachculturecode=en&lesson_id=16&transculturecode=zh-CN&ss=EE&v=35-1\n",
      "无效URL：http://ec.ef.com.cn/community/dailylesson/lessonhandler.ashx?operate=preloaddata&teachculturecode=en&lesson_id=17&transculturecode=zh-CN&ss=EE&v=35-1\n",
      "无效URL：http://ec.ef.com.cn/community/dailylesson/lessonhandler.ashx?operate=preloaddata&teachculturecode=en&lesson_id=18&transculturecode=zh-CN&ss=EE&v=35-1\n",
      "无效URL：http://ec.ef.com.cn/community/dailylesson/lessonhandler.ashx?operate=preloaddata&teachculturecode=en&lesson_id=19&transculturecode=zh-CN&ss=EE&v=35-1\n",
      "无效URL：http://ec.ef.com.cn/community/dailylesson/lessonhandler.ashx?operate=preloaddata&teachculturecode=en&lesson_id=20&transculturecode=zh-CN&ss=EE&v=35-1\n",
      "无效URL：http://ec.ef.com.cn/community/dailylesson/lessonhandler.ashx?operate=preloaddata&teachculturecode=en&lesson_id=21&transculturecode=zh-CN&ss=EE&v=35-1\n",
      "无效URL：http://ec.ef.com.cn/community/dailylesson/lessonhandler.ashx?operate=preloaddata&teachculturecode=en&lesson_id=22&transculturecode=zh-CN&ss=EE&v=35-1\n",
      "无效URL：http://ec.ef.com.cn/community/dailylesson/lessonhandler.ashx?operate=preloaddata&teachculturecode=en&lesson_id=23&transculturecode=zh-CN&ss=EE&v=35-1\n"
     ]
    },
    {
     "data": {
      "text/plain": [
       "<pymongo.results.InsertOneResult at 0x10932b908>"
      ]
     },
     "execution_count": 235,
     "metadata": {},
     "output_type": "execute_result"
    },
    {
     "name": "stdout",
     "output_type": "stream",
     "text": [
      "无效URL：http://ec.ef.com.cn/community/dailylesson/lessonhandler.ashx?operate=preloaddata&teachculturecode=en&lesson_id=25&transculturecode=zh-CN&ss=EE&v=35-1\n",
      "无效URL：http://ec.ef.com.cn/community/dailylesson/lessonhandler.ashx?operate=preloaddata&teachculturecode=en&lesson_id=26&transculturecode=zh-CN&ss=EE&v=35-1\n"
     ]
    },
    {
     "data": {
      "text/plain": [
       "<pymongo.results.InsertOneResult at 0x10b61f848>"
      ]
     },
     "execution_count": 235,
     "metadata": {},
     "output_type": "execute_result"
    },
    {
     "name": "stdout",
     "output_type": "stream",
     "text": [
      "无效URL：http://ec.ef.com.cn/community/dailylesson/lessonhandler.ashx?operate=preloaddata&teachculturecode=en&lesson_id=28&transculturecode=zh-CN&ss=EE&v=35-1\n",
      "无效URL：http://ec.ef.com.cn/community/dailylesson/lessonhandler.ashx?operate=preloaddata&teachculturecode=en&lesson_id=29&transculturecode=zh-CN&ss=EE&v=35-1\n",
      "无效URL：http://ec.ef.com.cn/community/dailylesson/lessonhandler.ashx?operate=preloaddata&teachculturecode=en&lesson_id=30&transculturecode=zh-CN&ss=EE&v=35-1\n",
      "无效URL：http://ec.ef.com.cn/community/dailylesson/lessonhandler.ashx?operate=preloaddata&teachculturecode=en&lesson_id=31&transculturecode=zh-CN&ss=EE&v=35-1\n",
      "无效URL：http://ec.ef.com.cn/community/dailylesson/lessonhandler.ashx?operate=preloaddata&teachculturecode=en&lesson_id=32&transculturecode=zh-CN&ss=EE&v=35-1\n",
      "无效URL：http://ec.ef.com.cn/community/dailylesson/lessonhandler.ashx?operate=preloaddata&teachculturecode=en&lesson_id=33&transculturecode=zh-CN&ss=EE&v=35-1\n",
      "无效URL：http://ec.ef.com.cn/community/dailylesson/lessonhandler.ashx?operate=preloaddata&teachculturecode=en&lesson_id=34&transculturecode=zh-CN&ss=EE&v=35-1\n",
      "无效URL：http://ec.ef.com.cn/community/dailylesson/lessonhandler.ashx?operate=preloaddata&teachculturecode=en&lesson_id=35&transculturecode=zh-CN&ss=EE&v=35-1\n",
      "无效URL：http://ec.ef.com.cn/community/dailylesson/lessonhandler.ashx?operate=preloaddata&teachculturecode=en&lesson_id=36&transculturecode=zh-CN&ss=EE&v=35-1\n",
      "无效URL：http://ec.ef.com.cn/community/dailylesson/lessonhandler.ashx?operate=preloaddata&teachculturecode=en&lesson_id=37&transculturecode=zh-CN&ss=EE&v=35-1\n",
      "无效URL：http://ec.ef.com.cn/community/dailylesson/lessonhandler.ashx?operate=preloaddata&teachculturecode=en&lesson_id=38&transculturecode=zh-CN&ss=EE&v=35-1\n",
      "无效URL：http://ec.ef.com.cn/community/dailylesson/lessonhandler.ashx?operate=preloaddata&teachculturecode=en&lesson_id=39&transculturecode=zh-CN&ss=EE&v=35-1\n",
      "无效URL：http://ec.ef.com.cn/community/dailylesson/lessonhandler.ashx?operate=preloaddata&teachculturecode=en&lesson_id=40&transculturecode=zh-CN&ss=EE&v=35-1\n"
     ]
    },
    {
     "data": {
      "text/plain": [
       "<pymongo.results.InsertOneResult at 0x10b476988>"
      ]
     },
     "execution_count": 235,
     "metadata": {},
     "output_type": "execute_result"
    },
    {
     "data": {
      "text/plain": [
       "<pymongo.results.InsertOneResult at 0x10b2a3ec8>"
      ]
     },
     "execution_count": 235,
     "metadata": {},
     "output_type": "execute_result"
    },
    {
     "data": {
      "text/plain": [
       "<pymongo.results.InsertOneResult at 0x10b2a9108>"
      ]
     },
     "execution_count": 235,
     "metadata": {},
     "output_type": "execute_result"
    },
    {
     "name": "stdout",
     "output_type": "stream",
     "text": [
      "无效URL：http://ec.ef.com.cn/community/dailylesson/lessonhandler.ashx?operate=preloaddata&teachculturecode=en&lesson_id=44&transculturecode=zh-CN&ss=EE&v=35-1\n",
      "无效URL：http://ec.ef.com.cn/community/dailylesson/lessonhandler.ashx?operate=preloaddata&teachculturecode=en&lesson_id=45&transculturecode=zh-CN&ss=EE&v=35-1\n"
     ]
    },
    {
     "data": {
      "text/plain": [
       "<pymongo.results.InsertOneResult at 0x10b4e5848>"
      ]
     },
     "execution_count": 235,
     "metadata": {},
     "output_type": "execute_result"
    },
    {
     "name": "stdout",
     "output_type": "stream",
     "text": [
      "无效URL：http://ec.ef.com.cn/community/dailylesson/lessonhandler.ashx?operate=preloaddata&teachculturecode=en&lesson_id=47&transculturecode=zh-CN&ss=EE&v=35-1\n",
      "无效URL：http://ec.ef.com.cn/community/dailylesson/lessonhandler.ashx?operate=preloaddata&teachculturecode=en&lesson_id=48&transculturecode=zh-CN&ss=EE&v=35-1\n",
      "无效URL：http://ec.ef.com.cn/community/dailylesson/lessonhandler.ashx?operate=preloaddata&teachculturecode=en&lesson_id=49&transculturecode=zh-CN&ss=EE&v=35-1\n",
      "无效URL：http://ec.ef.com.cn/community/dailylesson/lessonhandler.ashx?operate=preloaddata&teachculturecode=en&lesson_id=50&transculturecode=zh-CN&ss=EE&v=35-1\n",
      "无效URL：http://ec.ef.com.cn/community/dailylesson/lessonhandler.ashx?operate=preloaddata&teachculturecode=en&lesson_id=51&transculturecode=zh-CN&ss=EE&v=35-1\n",
      "无效URL：http://ec.ef.com.cn/community/dailylesson/lessonhandler.ashx?operate=preloaddata&teachculturecode=en&lesson_id=52&transculturecode=zh-CN&ss=EE&v=35-1\n",
      "无效URL：http://ec.ef.com.cn/community/dailylesson/lessonhandler.ashx?operate=preloaddata&teachculturecode=en&lesson_id=53&transculturecode=zh-CN&ss=EE&v=35-1\n",
      "无效URL：http://ec.ef.com.cn/community/dailylesson/lessonhandler.ashx?operate=preloaddata&teachculturecode=en&lesson_id=54&transculturecode=zh-CN&ss=EE&v=35-1\n",
      "无效URL：http://ec.ef.com.cn/community/dailylesson/lessonhandler.ashx?operate=preloaddata&teachculturecode=en&lesson_id=55&transculturecode=zh-CN&ss=EE&v=35-1\n",
      "无效URL：http://ec.ef.com.cn/community/dailylesson/lessonhandler.ashx?operate=preloaddata&teachculturecode=en&lesson_id=56&transculturecode=zh-CN&ss=EE&v=35-1\n",
      "无效URL：http://ec.ef.com.cn/community/dailylesson/lessonhandler.ashx?operate=preloaddata&teachculturecode=en&lesson_id=57&transculturecode=zh-CN&ss=EE&v=35-1\n",
      "无效URL：http://ec.ef.com.cn/community/dailylesson/lessonhandler.ashx?operate=preloaddata&teachculturecode=en&lesson_id=58&transculturecode=zh-CN&ss=EE&v=35-1\n",
      "无效URL：http://ec.ef.com.cn/community/dailylesson/lessonhandler.ashx?operate=preloaddata&teachculturecode=en&lesson_id=59&transculturecode=zh-CN&ss=EE&v=35-1\n",
      "无效URL：http://ec.ef.com.cn/community/dailylesson/lessonhandler.ashx?operate=preloaddata&teachculturecode=en&lesson_id=60&transculturecode=zh-CN&ss=EE&v=35-1\n",
      "无效URL：http://ec.ef.com.cn/community/dailylesson/lessonhandler.ashx?operate=preloaddata&teachculturecode=en&lesson_id=61&transculturecode=zh-CN&ss=EE&v=35-1\n",
      "无效URL：http://ec.ef.com.cn/community/dailylesson/lessonhandler.ashx?operate=preloaddata&teachculturecode=en&lesson_id=62&transculturecode=zh-CN&ss=EE&v=35-1\n",
      "无效URL：http://ec.ef.com.cn/community/dailylesson/lessonhandler.ashx?operate=preloaddata&teachculturecode=en&lesson_id=63&transculturecode=zh-CN&ss=EE&v=35-1\n",
      "无效URL：http://ec.ef.com.cn/community/dailylesson/lessonhandler.ashx?operate=preloaddata&teachculturecode=en&lesson_id=64&transculturecode=zh-CN&ss=EE&v=35-1\n",
      "无效URL：http://ec.ef.com.cn/community/dailylesson/lessonhandler.ashx?operate=preloaddata&teachculturecode=en&lesson_id=65&transculturecode=zh-CN&ss=EE&v=35-1\n",
      "无效URL：http://ec.ef.com.cn/community/dailylesson/lessonhandler.ashx?operate=preloaddata&teachculturecode=en&lesson_id=66&transculturecode=zh-CN&ss=EE&v=35-1\n",
      "无效URL：http://ec.ef.com.cn/community/dailylesson/lessonhandler.ashx?operate=preloaddata&teachculturecode=en&lesson_id=67&transculturecode=zh-CN&ss=EE&v=35-1\n",
      "无效URL：http://ec.ef.com.cn/community/dailylesson/lessonhandler.ashx?operate=preloaddata&teachculturecode=en&lesson_id=68&transculturecode=zh-CN&ss=EE&v=35-1\n",
      "无效URL：http://ec.ef.com.cn/community/dailylesson/lessonhandler.ashx?operate=preloaddata&teachculturecode=en&lesson_id=69&transculturecode=zh-CN&ss=EE&v=35-1\n",
      "无效URL：http://ec.ef.com.cn/community/dailylesson/lessonhandler.ashx?operate=preloaddata&teachculturecode=en&lesson_id=70&transculturecode=zh-CN&ss=EE&v=35-1\n",
      "无效URL：http://ec.ef.com.cn/community/dailylesson/lessonhandler.ashx?operate=preloaddata&teachculturecode=en&lesson_id=71&transculturecode=zh-CN&ss=EE&v=35-1\n",
      "无效URL：http://ec.ef.com.cn/community/dailylesson/lessonhandler.ashx?operate=preloaddata&teachculturecode=en&lesson_id=72&transculturecode=zh-CN&ss=EE&v=35-1\n",
      "无效URL：http://ec.ef.com.cn/community/dailylesson/lessonhandler.ashx?operate=preloaddata&teachculturecode=en&lesson_id=73&transculturecode=zh-CN&ss=EE&v=35-1\n",
      "无效URL：http://ec.ef.com.cn/community/dailylesson/lessonhandler.ashx?operate=preloaddata&teachculturecode=en&lesson_id=74&transculturecode=zh-CN&ss=EE&v=35-1\n",
      "无效URL：http://ec.ef.com.cn/community/dailylesson/lessonhandler.ashx?operate=preloaddata&teachculturecode=en&lesson_id=75&transculturecode=zh-CN&ss=EE&v=35-1\n",
      "无效URL：http://ec.ef.com.cn/community/dailylesson/lessonhandler.ashx?operate=preloaddata&teachculturecode=en&lesson_id=76&transculturecode=zh-CN&ss=EE&v=35-1\n"
     ]
    },
    {
     "data": {
      "text/plain": [
       "<pymongo.results.InsertOneResult at 0x10b2f2c08>"
      ]
     },
     "execution_count": 235,
     "metadata": {},
     "output_type": "execute_result"
    },
    {
     "data": {
      "text/plain": [
       "<pymongo.results.InsertOneResult at 0x10b2e24c8>"
      ]
     },
     "execution_count": 235,
     "metadata": {},
     "output_type": "execute_result"
    },
    {
     "data": {
      "text/plain": [
       "<pymongo.results.InsertOneResult at 0x10b2dfa08>"
      ]
     },
     "execution_count": 235,
     "metadata": {},
     "output_type": "execute_result"
    },
    {
     "name": "stdout",
     "output_type": "stream",
     "text": [
      "无效URL：http://ec.ef.com.cn/community/dailylesson/lessonhandler.ashx?operate=preloaddata&teachculturecode=en&lesson_id=80&transculturecode=zh-CN&ss=EE&v=35-1\n",
      "无效URL：http://ec.ef.com.cn/community/dailylesson/lessonhandler.ashx?operate=preloaddata&teachculturecode=en&lesson_id=81&transculturecode=zh-CN&ss=EE&v=35-1\n",
      "无效URL：http://ec.ef.com.cn/community/dailylesson/lessonhandler.ashx?operate=preloaddata&teachculturecode=en&lesson_id=82&transculturecode=zh-CN&ss=EE&v=35-1\n",
      "无效URL：http://ec.ef.com.cn/community/dailylesson/lessonhandler.ashx?operate=preloaddata&teachculturecode=en&lesson_id=83&transculturecode=zh-CN&ss=EE&v=35-1\n",
      "无效URL：http://ec.ef.com.cn/community/dailylesson/lessonhandler.ashx?operate=preloaddata&teachculturecode=en&lesson_id=84&transculturecode=zh-CN&ss=EE&v=35-1\n",
      "无效URL：http://ec.ef.com.cn/community/dailylesson/lessonhandler.ashx?operate=preloaddata&teachculturecode=en&lesson_id=85&transculturecode=zh-CN&ss=EE&v=35-1\n",
      "无效URL：http://ec.ef.com.cn/community/dailylesson/lessonhandler.ashx?operate=preloaddata&teachculturecode=en&lesson_id=86&transculturecode=zh-CN&ss=EE&v=35-1\n",
      "无效URL：http://ec.ef.com.cn/community/dailylesson/lessonhandler.ashx?operate=preloaddata&teachculturecode=en&lesson_id=87&transculturecode=zh-CN&ss=EE&v=35-1\n",
      "无效URL：http://ec.ef.com.cn/community/dailylesson/lessonhandler.ashx?operate=preloaddata&teachculturecode=en&lesson_id=88&transculturecode=zh-CN&ss=EE&v=35-1\n",
      "无效URL：http://ec.ef.com.cn/community/dailylesson/lessonhandler.ashx?operate=preloaddata&teachculturecode=en&lesson_id=89&transculturecode=zh-CN&ss=EE&v=35-1\n",
      "无效URL：http://ec.ef.com.cn/community/dailylesson/lessonhandler.ashx?operate=preloaddata&teachculturecode=en&lesson_id=90&transculturecode=zh-CN&ss=EE&v=35-1\n",
      "无效URL：http://ec.ef.com.cn/community/dailylesson/lessonhandler.ashx?operate=preloaddata&teachculturecode=en&lesson_id=91&transculturecode=zh-CN&ss=EE&v=35-1\n"
     ]
    },
    {
     "data": {
      "text/plain": [
       "<pymongo.results.InsertOneResult at 0x10b2a8848>"
      ]
     },
     "execution_count": 235,
     "metadata": {},
     "output_type": "execute_result"
    },
    {
     "data": {
      "text/plain": [
       "<pymongo.results.InsertOneResult at 0x10b2ede48>"
      ]
     },
     "execution_count": 235,
     "metadata": {},
     "output_type": "execute_result"
    },
    {
     "data": {
      "text/plain": [
       "<pymongo.results.InsertOneResult at 0x10b5a7308>"
      ]
     },
     "execution_count": 235,
     "metadata": {},
     "output_type": "execute_result"
    },
    {
     "name": "stdout",
     "output_type": "stream",
     "text": [
      "无效URL：http://ec.ef.com.cn/community/dailylesson/lessonhandler.ashx?operate=preloaddata&teachculturecode=en&lesson_id=95&transculturecode=zh-CN&ss=EE&v=35-1\n"
     ]
    },
    {
     "data": {
      "text/plain": [
       "<pymongo.results.InsertOneResult at 0x10b5b6b08>"
      ]
     },
     "execution_count": 235,
     "metadata": {},
     "output_type": "execute_result"
    },
    {
     "data": {
      "text/plain": [
       "<pymongo.results.InsertOneResult at 0x10b29fb48>"
      ]
     },
     "execution_count": 235,
     "metadata": {},
     "output_type": "execute_result"
    },
    {
     "data": {
      "text/plain": [
       "<pymongo.results.InsertOneResult at 0x10b5adbc8>"
      ]
     },
     "execution_count": 235,
     "metadata": {},
     "output_type": "execute_result"
    },
    {
     "name": "stdout",
     "output_type": "stream",
     "text": [
      "无效URL：http://ec.ef.com.cn/community/dailylesson/lessonhandler.ashx?operate=preloaddata&teachculturecode=en&lesson_id=99&transculturecode=zh-CN&ss=EE&v=35-1\n"
     ]
    },
    {
     "data": {
      "text/plain": [
       "<pymongo.results.InsertOneResult at 0x10b2cec08>"
      ]
     },
     "execution_count": 235,
     "metadata": {},
     "output_type": "execute_result"
    },
    {
     "data": {
      "text/plain": [
       "<pymongo.results.InsertOneResult at 0x10b60cc88>"
      ]
     },
     "execution_count": 235,
     "metadata": {},
     "output_type": "execute_result"
    },
    {
     "data": {
      "text/plain": [
       "<pymongo.results.InsertOneResult at 0x10b2d3e88>"
      ]
     },
     "execution_count": 235,
     "metadata": {},
     "output_type": "execute_result"
    },
    {
     "name": "stdout",
     "output_type": "stream",
     "text": [
      "无效URL：http://ec.ef.com.cn/community/dailylesson/lessonhandler.ashx?operate=preloaddata&teachculturecode=en&lesson_id=103&transculturecode=zh-CN&ss=EE&v=35-1\n",
      "无效URL：http://ec.ef.com.cn/community/dailylesson/lessonhandler.ashx?operate=preloaddata&teachculturecode=en&lesson_id=104&transculturecode=zh-CN&ss=EE&v=35-1\n",
      "无效URL：http://ec.ef.com.cn/community/dailylesson/lessonhandler.ashx?operate=preloaddata&teachculturecode=en&lesson_id=105&transculturecode=zh-CN&ss=EE&v=35-1\n",
      "无效URL：http://ec.ef.com.cn/community/dailylesson/lessonhandler.ashx?operate=preloaddata&teachculturecode=en&lesson_id=106&transculturecode=zh-CN&ss=EE&v=35-1\n",
      "无效URL：http://ec.ef.com.cn/community/dailylesson/lessonhandler.ashx?operate=preloaddata&teachculturecode=en&lesson_id=107&transculturecode=zh-CN&ss=EE&v=35-1\n",
      "无效URL：http://ec.ef.com.cn/community/dailylesson/lessonhandler.ashx?operate=preloaddata&teachculturecode=en&lesson_id=108&transculturecode=zh-CN&ss=EE&v=35-1\n",
      "无效URL：http://ec.ef.com.cn/community/dailylesson/lessonhandler.ashx?operate=preloaddata&teachculturecode=en&lesson_id=109&transculturecode=zh-CN&ss=EE&v=35-1\n",
      "无效URL：http://ec.ef.com.cn/community/dailylesson/lessonhandler.ashx?operate=preloaddata&teachculturecode=en&lesson_id=110&transculturecode=zh-CN&ss=EE&v=35-1\n",
      "无效URL：http://ec.ef.com.cn/community/dailylesson/lessonhandler.ashx?operate=preloaddata&teachculturecode=en&lesson_id=111&transculturecode=zh-CN&ss=EE&v=35-1\n",
      "无效URL：http://ec.ef.com.cn/community/dailylesson/lessonhandler.ashx?operate=preloaddata&teachculturecode=en&lesson_id=112&transculturecode=zh-CN&ss=EE&v=35-1\n",
      "无效URL：http://ec.ef.com.cn/community/dailylesson/lessonhandler.ashx?operate=preloaddata&teachculturecode=en&lesson_id=113&transculturecode=zh-CN&ss=EE&v=35-1\n",
      "无效URL：http://ec.ef.com.cn/community/dailylesson/lessonhandler.ashx?operate=preloaddata&teachculturecode=en&lesson_id=114&transculturecode=zh-CN&ss=EE&v=35-1\n",
      "无效URL：http://ec.ef.com.cn/community/dailylesson/lessonhandler.ashx?operate=preloaddata&teachculturecode=en&lesson_id=115&transculturecode=zh-CN&ss=EE&v=35-1\n",
      "无效URL：http://ec.ef.com.cn/community/dailylesson/lessonhandler.ashx?operate=preloaddata&teachculturecode=en&lesson_id=116&transculturecode=zh-CN&ss=EE&v=35-1\n",
      "无效URL：http://ec.ef.com.cn/community/dailylesson/lessonhandler.ashx?operate=preloaddata&teachculturecode=en&lesson_id=117&transculturecode=zh-CN&ss=EE&v=35-1\n",
      "无效URL：http://ec.ef.com.cn/community/dailylesson/lessonhandler.ashx?operate=preloaddata&teachculturecode=en&lesson_id=118&transculturecode=zh-CN&ss=EE&v=35-1\n",
      "无效URL：http://ec.ef.com.cn/community/dailylesson/lessonhandler.ashx?operate=preloaddata&teachculturecode=en&lesson_id=119&transculturecode=zh-CN&ss=EE&v=35-1\n",
      "无效URL：http://ec.ef.com.cn/community/dailylesson/lessonhandler.ashx?operate=preloaddata&teachculturecode=en&lesson_id=120&transculturecode=zh-CN&ss=EE&v=35-1\n",
      "无效URL：http://ec.ef.com.cn/community/dailylesson/lessonhandler.ashx?operate=preloaddata&teachculturecode=en&lesson_id=121&transculturecode=zh-CN&ss=EE&v=35-1\n",
      "无效URL：http://ec.ef.com.cn/community/dailylesson/lessonhandler.ashx?operate=preloaddata&teachculturecode=en&lesson_id=122&transculturecode=zh-CN&ss=EE&v=35-1\n",
      "无效URL：http://ec.ef.com.cn/community/dailylesson/lessonhandler.ashx?operate=preloaddata&teachculturecode=en&lesson_id=123&transculturecode=zh-CN&ss=EE&v=35-1\n",
      "无效URL：http://ec.ef.com.cn/community/dailylesson/lessonhandler.ashx?operate=preloaddata&teachculturecode=en&lesson_id=124&transculturecode=zh-CN&ss=EE&v=35-1\n"
     ]
    },
    {
     "data": {
      "text/plain": [
       "<pymongo.results.InsertOneResult at 0x10b61f308>"
      ]
     },
     "execution_count": 235,
     "metadata": {},
     "output_type": "execute_result"
    },
    {
     "data": {
      "text/plain": [
       "<pymongo.results.InsertOneResult at 0x10b2cec08>"
      ]
     },
     "execution_count": 235,
     "metadata": {},
     "output_type": "execute_result"
    },
    {
     "name": "stdout",
     "output_type": "stream",
     "text": [
      "无效URL：http://ec.ef.com.cn/community/dailylesson/lessonhandler.ashx?operate=preloaddata&teachculturecode=en&lesson_id=127&transculturecode=zh-CN&ss=EE&v=35-1\n"
     ]
    },
    {
     "data": {
      "text/plain": [
       "<pymongo.results.InsertOneResult at 0x10b2dd088>"
      ]
     },
     "execution_count": 235,
     "metadata": {},
     "output_type": "execute_result"
    },
    {
     "name": "stdout",
     "output_type": "stream",
     "text": [
      "无效URL：http://ec.ef.com.cn/community/dailylesson/lessonhandler.ashx?operate=preloaddata&teachculturecode=en&lesson_id=129&transculturecode=zh-CN&ss=EE&v=35-1\n",
      "无效URL：http://ec.ef.com.cn/community/dailylesson/lessonhandler.ashx?operate=preloaddata&teachculturecode=en&lesson_id=130&transculturecode=zh-CN&ss=EE&v=35-1\n",
      "无效URL：http://ec.ef.com.cn/community/dailylesson/lessonhandler.ashx?operate=preloaddata&teachculturecode=en&lesson_id=131&transculturecode=zh-CN&ss=EE&v=35-1\n",
      "无效URL：http://ec.ef.com.cn/community/dailylesson/lessonhandler.ashx?operate=preloaddata&teachculturecode=en&lesson_id=132&transculturecode=zh-CN&ss=EE&v=35-1\n",
      "无效URL：http://ec.ef.com.cn/community/dailylesson/lessonhandler.ashx?operate=preloaddata&teachculturecode=en&lesson_id=133&transculturecode=zh-CN&ss=EE&v=35-1\n",
      "无效URL：http://ec.ef.com.cn/community/dailylesson/lessonhandler.ashx?operate=preloaddata&teachculturecode=en&lesson_id=134&transculturecode=zh-CN&ss=EE&v=35-1\n",
      "无效URL：http://ec.ef.com.cn/community/dailylesson/lessonhandler.ashx?operate=preloaddata&teachculturecode=en&lesson_id=135&transculturecode=zh-CN&ss=EE&v=35-1\n",
      "无效URL：http://ec.ef.com.cn/community/dailylesson/lessonhandler.ashx?operate=preloaddata&teachculturecode=en&lesson_id=136&transculturecode=zh-CN&ss=EE&v=35-1\n",
      "无效URL：http://ec.ef.com.cn/community/dailylesson/lessonhandler.ashx?operate=preloaddata&teachculturecode=en&lesson_id=137&transculturecode=zh-CN&ss=EE&v=35-1\n",
      "无效URL：http://ec.ef.com.cn/community/dailylesson/lessonhandler.ashx?operate=preloaddata&teachculturecode=en&lesson_id=138&transculturecode=zh-CN&ss=EE&v=35-1\n",
      "无效URL：http://ec.ef.com.cn/community/dailylesson/lessonhandler.ashx?operate=preloaddata&teachculturecode=en&lesson_id=139&transculturecode=zh-CN&ss=EE&v=35-1\n",
      "无效URL：http://ec.ef.com.cn/community/dailylesson/lessonhandler.ashx?operate=preloaddata&teachculturecode=en&lesson_id=140&transculturecode=zh-CN&ss=EE&v=35-1\n",
      "无效URL：http://ec.ef.com.cn/community/dailylesson/lessonhandler.ashx?operate=preloaddata&teachculturecode=en&lesson_id=141&transculturecode=zh-CN&ss=EE&v=35-1\n",
      "无效URL：http://ec.ef.com.cn/community/dailylesson/lessonhandler.ashx?operate=preloaddata&teachculturecode=en&lesson_id=142&transculturecode=zh-CN&ss=EE&v=35-1\n",
      "无效URL：http://ec.ef.com.cn/community/dailylesson/lessonhandler.ashx?operate=preloaddata&teachculturecode=en&lesson_id=143&transculturecode=zh-CN&ss=EE&v=35-1\n",
      "无效URL：http://ec.ef.com.cn/community/dailylesson/lessonhandler.ashx?operate=preloaddata&teachculturecode=en&lesson_id=144&transculturecode=zh-CN&ss=EE&v=35-1\n",
      "无效URL：http://ec.ef.com.cn/community/dailylesson/lessonhandler.ashx?operate=preloaddata&teachculturecode=en&lesson_id=145&transculturecode=zh-CN&ss=EE&v=35-1\n",
      "无效URL：http://ec.ef.com.cn/community/dailylesson/lessonhandler.ashx?operate=preloaddata&teachculturecode=en&lesson_id=146&transculturecode=zh-CN&ss=EE&v=35-1\n",
      "无效URL：http://ec.ef.com.cn/community/dailylesson/lessonhandler.ashx?operate=preloaddata&teachculturecode=en&lesson_id=147&transculturecode=zh-CN&ss=EE&v=35-1\n",
      "无效URL：http://ec.ef.com.cn/community/dailylesson/lessonhandler.ashx?operate=preloaddata&teachculturecode=en&lesson_id=148&transculturecode=zh-CN&ss=EE&v=35-1\n",
      "无效URL：http://ec.ef.com.cn/community/dailylesson/lessonhandler.ashx?operate=preloaddata&teachculturecode=en&lesson_id=149&transculturecode=zh-CN&ss=EE&v=35-1\n",
      "无效URL：http://ec.ef.com.cn/community/dailylesson/lessonhandler.ashx?operate=preloaddata&teachculturecode=en&lesson_id=150&transculturecode=zh-CN&ss=EE&v=35-1\n",
      "无效URL：http://ec.ef.com.cn/community/dailylesson/lessonhandler.ashx?operate=preloaddata&teachculturecode=en&lesson_id=151&transculturecode=zh-CN&ss=EE&v=35-1\n",
      "无效URL：http://ec.ef.com.cn/community/dailylesson/lessonhandler.ashx?operate=preloaddata&teachculturecode=en&lesson_id=152&transculturecode=zh-CN&ss=EE&v=35-1\n",
      "无效URL：http://ec.ef.com.cn/community/dailylesson/lessonhandler.ashx?operate=preloaddata&teachculturecode=en&lesson_id=153&transculturecode=zh-CN&ss=EE&v=35-1\n",
      "无效URL：http://ec.ef.com.cn/community/dailylesson/lessonhandler.ashx?operate=preloaddata&teachculturecode=en&lesson_id=154&transculturecode=zh-CN&ss=EE&v=35-1\n"
     ]
    },
    {
     "data": {
      "text/plain": [
       "<pymongo.results.InsertOneResult at 0x10b5f4108>"
      ]
     },
     "execution_count": 235,
     "metadata": {},
     "output_type": "execute_result"
    },
    {
     "data": {
      "text/plain": [
       "<pymongo.results.InsertOneResult at 0x10b5bd5c8>"
      ]
     },
     "execution_count": 235,
     "metadata": {},
     "output_type": "execute_result"
    },
    {
     "name": "stdout",
     "output_type": "stream",
     "text": [
      "无效URL：http://ec.ef.com.cn/community/dailylesson/lessonhandler.ashx?operate=preloaddata&teachculturecode=en&lesson_id=157&transculturecode=zh-CN&ss=EE&v=35-1\n"
     ]
    },
    {
     "data": {
      "text/plain": [
       "<pymongo.results.InsertOneResult at 0x10b5c2dc8>"
      ]
     },
     "execution_count": 235,
     "metadata": {},
     "output_type": "execute_result"
    },
    {
     "data": {
      "text/plain": [
       "<pymongo.results.InsertOneResult at 0x10b2c9488>"
      ]
     },
     "execution_count": 235,
     "metadata": {},
     "output_type": "execute_result"
    },
    {
     "data": {
      "text/plain": [
       "<pymongo.results.InsertOneResult at 0x10b5db9c8>"
      ]
     },
     "execution_count": 235,
     "metadata": {},
     "output_type": "execute_result"
    },
    {
     "data": {
      "text/plain": [
       "<pymongo.results.InsertOneResult at 0x10b2ec488>"
      ]
     },
     "execution_count": 235,
     "metadata": {},
     "output_type": "execute_result"
    },
    {
     "data": {
      "text/plain": [
       "<pymongo.results.InsertOneResult at 0x10b5bda08>"
      ]
     },
     "execution_count": 235,
     "metadata": {},
     "output_type": "execute_result"
    },
    {
     "name": "stdout",
     "output_type": "stream",
     "text": [
      "无效URL：http://ec.ef.com.cn/community/dailylesson/lessonhandler.ashx?operate=preloaddata&teachculturecode=en&lesson_id=163&transculturecode=zh-CN&ss=EE&v=35-1\n"
     ]
    },
    {
     "data": {
      "text/plain": [
       "<pymongo.results.InsertOneResult at 0x10b2ec048>"
      ]
     },
     "execution_count": 235,
     "metadata": {},
     "output_type": "execute_result"
    },
    {
     "name": "stdout",
     "output_type": "stream",
     "text": [
      "无效URL：http://ec.ef.com.cn/community/dailylesson/lessonhandler.ashx?operate=preloaddata&teachculturecode=en&lesson_id=165&transculturecode=zh-CN&ss=EE&v=35-1\n",
      "无效URL：http://ec.ef.com.cn/community/dailylesson/lessonhandler.ashx?operate=preloaddata&teachculturecode=en&lesson_id=166&transculturecode=zh-CN&ss=EE&v=35-1\n",
      "无效URL：http://ec.ef.com.cn/community/dailylesson/lessonhandler.ashx?operate=preloaddata&teachculturecode=en&lesson_id=167&transculturecode=zh-CN&ss=EE&v=35-1\n",
      "无效URL：http://ec.ef.com.cn/community/dailylesson/lessonhandler.ashx?operate=preloaddata&teachculturecode=en&lesson_id=168&transculturecode=zh-CN&ss=EE&v=35-1\n",
      "无效URL：http://ec.ef.com.cn/community/dailylesson/lessonhandler.ashx?operate=preloaddata&teachculturecode=en&lesson_id=169&transculturecode=zh-CN&ss=EE&v=35-1\n",
      "无效URL：http://ec.ef.com.cn/community/dailylesson/lessonhandler.ashx?operate=preloaddata&teachculturecode=en&lesson_id=170&transculturecode=zh-CN&ss=EE&v=35-1\n",
      "无效URL：http://ec.ef.com.cn/community/dailylesson/lessonhandler.ashx?operate=preloaddata&teachculturecode=en&lesson_id=171&transculturecode=zh-CN&ss=EE&v=35-1\n",
      "无效URL：http://ec.ef.com.cn/community/dailylesson/lessonhandler.ashx?operate=preloaddata&teachculturecode=en&lesson_id=172&transculturecode=zh-CN&ss=EE&v=35-1\n",
      "无效URL：http://ec.ef.com.cn/community/dailylesson/lessonhandler.ashx?operate=preloaddata&teachculturecode=en&lesson_id=173&transculturecode=zh-CN&ss=EE&v=35-1\n",
      "无效URL：http://ec.ef.com.cn/community/dailylesson/lessonhandler.ashx?operate=preloaddata&teachculturecode=en&lesson_id=174&transculturecode=zh-CN&ss=EE&v=35-1\n",
      "无效URL：http://ec.ef.com.cn/community/dailylesson/lessonhandler.ashx?operate=preloaddata&teachculturecode=en&lesson_id=175&transculturecode=zh-CN&ss=EE&v=35-1\n",
      "无效URL：http://ec.ef.com.cn/community/dailylesson/lessonhandler.ashx?operate=preloaddata&teachculturecode=en&lesson_id=176&transculturecode=zh-CN&ss=EE&v=35-1\n",
      "无效URL：http://ec.ef.com.cn/community/dailylesson/lessonhandler.ashx?operate=preloaddata&teachculturecode=en&lesson_id=177&transculturecode=zh-CN&ss=EE&v=35-1\n",
      "无效URL：http://ec.ef.com.cn/community/dailylesson/lessonhandler.ashx?operate=preloaddata&teachculturecode=en&lesson_id=178&transculturecode=zh-CN&ss=EE&v=35-1\n",
      "无效URL：http://ec.ef.com.cn/community/dailylesson/lessonhandler.ashx?operate=preloaddata&teachculturecode=en&lesson_id=179&transculturecode=zh-CN&ss=EE&v=35-1\n",
      "无效URL：http://ec.ef.com.cn/community/dailylesson/lessonhandler.ashx?operate=preloaddata&teachculturecode=en&lesson_id=180&transculturecode=zh-CN&ss=EE&v=35-1\n",
      "无效URL：http://ec.ef.com.cn/community/dailylesson/lessonhandler.ashx?operate=preloaddata&teachculturecode=en&lesson_id=181&transculturecode=zh-CN&ss=EE&v=35-1\n",
      "无效URL：http://ec.ef.com.cn/community/dailylesson/lessonhandler.ashx?operate=preloaddata&teachculturecode=en&lesson_id=182&transculturecode=zh-CN&ss=EE&v=35-1\n",
      "无效URL：http://ec.ef.com.cn/community/dailylesson/lessonhandler.ashx?operate=preloaddata&teachculturecode=en&lesson_id=183&transculturecode=zh-CN&ss=EE&v=35-1\n",
      "无效URL：http://ec.ef.com.cn/community/dailylesson/lessonhandler.ashx?operate=preloaddata&teachculturecode=en&lesson_id=184&transculturecode=zh-CN&ss=EE&v=35-1\n",
      "无效URL：http://ec.ef.com.cn/community/dailylesson/lessonhandler.ashx?operate=preloaddata&teachculturecode=en&lesson_id=185&transculturecode=zh-CN&ss=EE&v=35-1\n",
      "无效URL：http://ec.ef.com.cn/community/dailylesson/lessonhandler.ashx?operate=preloaddata&teachculturecode=en&lesson_id=186&transculturecode=zh-CN&ss=EE&v=35-1\n",
      "无效URL：http://ec.ef.com.cn/community/dailylesson/lessonhandler.ashx?operate=preloaddata&teachculturecode=en&lesson_id=187&transculturecode=zh-CN&ss=EE&v=35-1\n",
      "无效URL：http://ec.ef.com.cn/community/dailylesson/lessonhandler.ashx?operate=preloaddata&teachculturecode=en&lesson_id=188&transculturecode=zh-CN&ss=EE&v=35-1\n",
      "无效URL：http://ec.ef.com.cn/community/dailylesson/lessonhandler.ashx?operate=preloaddata&teachculturecode=en&lesson_id=189&transculturecode=zh-CN&ss=EE&v=35-1\n",
      "无效URL：http://ec.ef.com.cn/community/dailylesson/lessonhandler.ashx?operate=preloaddata&teachculturecode=en&lesson_id=190&transculturecode=zh-CN&ss=EE&v=35-1\n",
      "无效URL：http://ec.ef.com.cn/community/dailylesson/lessonhandler.ashx?operate=preloaddata&teachculturecode=en&lesson_id=191&transculturecode=zh-CN&ss=EE&v=35-1\n",
      "无效URL：http://ec.ef.com.cn/community/dailylesson/lessonhandler.ashx?operate=preloaddata&teachculturecode=en&lesson_id=192&transculturecode=zh-CN&ss=EE&v=35-1\n",
      "无效URL：http://ec.ef.com.cn/community/dailylesson/lessonhandler.ashx?operate=preloaddata&teachculturecode=en&lesson_id=193&transculturecode=zh-CN&ss=EE&v=35-1\n",
      "无效URL：http://ec.ef.com.cn/community/dailylesson/lessonhandler.ashx?operate=preloaddata&teachculturecode=en&lesson_id=194&transculturecode=zh-CN&ss=EE&v=35-1\n",
      "无效URL：http://ec.ef.com.cn/community/dailylesson/lessonhandler.ashx?operate=preloaddata&teachculturecode=en&lesson_id=195&transculturecode=zh-CN&ss=EE&v=35-1\n",
      "无效URL：http://ec.ef.com.cn/community/dailylesson/lessonhandler.ashx?operate=preloaddata&teachculturecode=en&lesson_id=196&transculturecode=zh-CN&ss=EE&v=35-1\n",
      "无效URL：http://ec.ef.com.cn/community/dailylesson/lessonhandler.ashx?operate=preloaddata&teachculturecode=en&lesson_id=197&transculturecode=zh-CN&ss=EE&v=35-1\n",
      "无效URL：http://ec.ef.com.cn/community/dailylesson/lessonhandler.ashx?operate=preloaddata&teachculturecode=en&lesson_id=198&transculturecode=zh-CN&ss=EE&v=35-1\n",
      "无效URL：http://ec.ef.com.cn/community/dailylesson/lessonhandler.ashx?operate=preloaddata&teachculturecode=en&lesson_id=199&transculturecode=zh-CN&ss=EE&v=35-1\n",
      "无效URL：http://ec.ef.com.cn/community/dailylesson/lessonhandler.ashx?operate=preloaddata&teachculturecode=en&lesson_id=200&transculturecode=zh-CN&ss=EE&v=35-1\n",
      "无效URL：http://ec.ef.com.cn/community/dailylesson/lessonhandler.ashx?operate=preloaddata&teachculturecode=en&lesson_id=201&transculturecode=zh-CN&ss=EE&v=35-1\n",
      "无效URL：http://ec.ef.com.cn/community/dailylesson/lessonhandler.ashx?operate=preloaddata&teachculturecode=en&lesson_id=202&transculturecode=zh-CN&ss=EE&v=35-1\n",
      "无效URL：http://ec.ef.com.cn/community/dailylesson/lessonhandler.ashx?operate=preloaddata&teachculturecode=en&lesson_id=203&transculturecode=zh-CN&ss=EE&v=35-1\n",
      "无效URL：http://ec.ef.com.cn/community/dailylesson/lessonhandler.ashx?operate=preloaddata&teachculturecode=en&lesson_id=204&transculturecode=zh-CN&ss=EE&v=35-1\n",
      "无效URL：http://ec.ef.com.cn/community/dailylesson/lessonhandler.ashx?operate=preloaddata&teachculturecode=en&lesson_id=205&transculturecode=zh-CN&ss=EE&v=35-1\n",
      "无效URL：http://ec.ef.com.cn/community/dailylesson/lessonhandler.ashx?operate=preloaddata&teachculturecode=en&lesson_id=206&transculturecode=zh-CN&ss=EE&v=35-1\n",
      "无效URL：http://ec.ef.com.cn/community/dailylesson/lessonhandler.ashx?operate=preloaddata&teachculturecode=en&lesson_id=207&transculturecode=zh-CN&ss=EE&v=35-1\n",
      "无效URL：http://ec.ef.com.cn/community/dailylesson/lessonhandler.ashx?operate=preloaddata&teachculturecode=en&lesson_id=208&transculturecode=zh-CN&ss=EE&v=35-1\n"
     ]
    },
    {
     "data": {
      "text/plain": [
       "<pymongo.results.InsertOneResult at 0x10b5b2808>"
      ]
     },
     "execution_count": 235,
     "metadata": {},
     "output_type": "execute_result"
    },
    {
     "name": "stdout",
     "output_type": "stream",
     "text": [
      "无效URL：http://ec.ef.com.cn/community/dailylesson/lessonhandler.ashx?operate=preloaddata&teachculturecode=en&lesson_id=210&transculturecode=zh-CN&ss=EE&v=35-1\n",
      "无效URL：http://ec.ef.com.cn/community/dailylesson/lessonhandler.ashx?operate=preloaddata&teachculturecode=en&lesson_id=211&transculturecode=zh-CN&ss=EE&v=35-1\n",
      "无效URL：http://ec.ef.com.cn/community/dailylesson/lessonhandler.ashx?operate=preloaddata&teachculturecode=en&lesson_id=212&transculturecode=zh-CN&ss=EE&v=35-1\n",
      "无效URL：http://ec.ef.com.cn/community/dailylesson/lessonhandler.ashx?operate=preloaddata&teachculturecode=en&lesson_id=213&transculturecode=zh-CN&ss=EE&v=35-1\n",
      "无效URL：http://ec.ef.com.cn/community/dailylesson/lessonhandler.ashx?operate=preloaddata&teachculturecode=en&lesson_id=214&transculturecode=zh-CN&ss=EE&v=35-1\n",
      "无效URL：http://ec.ef.com.cn/community/dailylesson/lessonhandler.ashx?operate=preloaddata&teachculturecode=en&lesson_id=215&transculturecode=zh-CN&ss=EE&v=35-1\n",
      "无效URL：http://ec.ef.com.cn/community/dailylesson/lessonhandler.ashx?operate=preloaddata&teachculturecode=en&lesson_id=216&transculturecode=zh-CN&ss=EE&v=35-1\n",
      "无效URL：http://ec.ef.com.cn/community/dailylesson/lessonhandler.ashx?operate=preloaddata&teachculturecode=en&lesson_id=217&transculturecode=zh-CN&ss=EE&v=35-1\n",
      "无效URL：http://ec.ef.com.cn/community/dailylesson/lessonhandler.ashx?operate=preloaddata&teachculturecode=en&lesson_id=218&transculturecode=zh-CN&ss=EE&v=35-1\n",
      "无效URL：http://ec.ef.com.cn/community/dailylesson/lessonhandler.ashx?operate=preloaddata&teachculturecode=en&lesson_id=219&transculturecode=zh-CN&ss=EE&v=35-1\n",
      "无效URL：http://ec.ef.com.cn/community/dailylesson/lessonhandler.ashx?operate=preloaddata&teachculturecode=en&lesson_id=220&transculturecode=zh-CN&ss=EE&v=35-1\n",
      "无效URL：http://ec.ef.com.cn/community/dailylesson/lessonhandler.ashx?operate=preloaddata&teachculturecode=en&lesson_id=221&transculturecode=zh-CN&ss=EE&v=35-1\n",
      "无效URL：http://ec.ef.com.cn/community/dailylesson/lessonhandler.ashx?operate=preloaddata&teachculturecode=en&lesson_id=222&transculturecode=zh-CN&ss=EE&v=35-1\n",
      "无效URL：http://ec.ef.com.cn/community/dailylesson/lessonhandler.ashx?operate=preloaddata&teachculturecode=en&lesson_id=223&transculturecode=zh-CN&ss=EE&v=35-1\n",
      "无效URL：http://ec.ef.com.cn/community/dailylesson/lessonhandler.ashx?operate=preloaddata&teachculturecode=en&lesson_id=224&transculturecode=zh-CN&ss=EE&v=35-1\n"
     ]
    },
    {
     "data": {
      "text/plain": [
       "<pymongo.results.InsertOneResult at 0x10b2dd408>"
      ]
     },
     "execution_count": 235,
     "metadata": {},
     "output_type": "execute_result"
    },
    {
     "name": "stdout",
     "output_type": "stream",
     "text": [
      "无效URL：http://ec.ef.com.cn/community/dailylesson/lessonhandler.ashx?operate=preloaddata&teachculturecode=en&lesson_id=226&transculturecode=zh-CN&ss=EE&v=35-1\n",
      "无效URL：http://ec.ef.com.cn/community/dailylesson/lessonhandler.ashx?operate=preloaddata&teachculturecode=en&lesson_id=227&transculturecode=zh-CN&ss=EE&v=35-1\n",
      "无效URL：http://ec.ef.com.cn/community/dailylesson/lessonhandler.ashx?operate=preloaddata&teachculturecode=en&lesson_id=228&transculturecode=zh-CN&ss=EE&v=35-1\n",
      "无效URL：http://ec.ef.com.cn/community/dailylesson/lessonhandler.ashx?operate=preloaddata&teachculturecode=en&lesson_id=229&transculturecode=zh-CN&ss=EE&v=35-1\n",
      "无效URL：http://ec.ef.com.cn/community/dailylesson/lessonhandler.ashx?operate=preloaddata&teachculturecode=en&lesson_id=230&transculturecode=zh-CN&ss=EE&v=35-1\n",
      "无效URL：http://ec.ef.com.cn/community/dailylesson/lessonhandler.ashx?operate=preloaddata&teachculturecode=en&lesson_id=231&transculturecode=zh-CN&ss=EE&v=35-1\n",
      "无效URL：http://ec.ef.com.cn/community/dailylesson/lessonhandler.ashx?operate=preloaddata&teachculturecode=en&lesson_id=232&transculturecode=zh-CN&ss=EE&v=35-1\n",
      "无效URL：http://ec.ef.com.cn/community/dailylesson/lessonhandler.ashx?operate=preloaddata&teachculturecode=en&lesson_id=233&transculturecode=zh-CN&ss=EE&v=35-1\n",
      "无效URL：http://ec.ef.com.cn/community/dailylesson/lessonhandler.ashx?operate=preloaddata&teachculturecode=en&lesson_id=234&transculturecode=zh-CN&ss=EE&v=35-1\n",
      "无效URL：http://ec.ef.com.cn/community/dailylesson/lessonhandler.ashx?operate=preloaddata&teachculturecode=en&lesson_id=235&transculturecode=zh-CN&ss=EE&v=35-1\n",
      "无效URL：http://ec.ef.com.cn/community/dailylesson/lessonhandler.ashx?operate=preloaddata&teachculturecode=en&lesson_id=236&transculturecode=zh-CN&ss=EE&v=35-1\n",
      "无效URL：http://ec.ef.com.cn/community/dailylesson/lessonhandler.ashx?operate=preloaddata&teachculturecode=en&lesson_id=237&transculturecode=zh-CN&ss=EE&v=35-1\n",
      "无效URL：http://ec.ef.com.cn/community/dailylesson/lessonhandler.ashx?operate=preloaddata&teachculturecode=en&lesson_id=238&transculturecode=zh-CN&ss=EE&v=35-1\n",
      "无效URL：http://ec.ef.com.cn/community/dailylesson/lessonhandler.ashx?operate=preloaddata&teachculturecode=en&lesson_id=239&transculturecode=zh-CN&ss=EE&v=35-1\n",
      "无效URL：http://ec.ef.com.cn/community/dailylesson/lessonhandler.ashx?operate=preloaddata&teachculturecode=en&lesson_id=240&transculturecode=zh-CN&ss=EE&v=35-1\n",
      "无效URL：http://ec.ef.com.cn/community/dailylesson/lessonhandler.ashx?operate=preloaddata&teachculturecode=en&lesson_id=241&transculturecode=zh-CN&ss=EE&v=35-1\n",
      "无效URL：http://ec.ef.com.cn/community/dailylesson/lessonhandler.ashx?operate=preloaddata&teachculturecode=en&lesson_id=242&transculturecode=zh-CN&ss=EE&v=35-1\n",
      "无效URL：http://ec.ef.com.cn/community/dailylesson/lessonhandler.ashx?operate=preloaddata&teachculturecode=en&lesson_id=243&transculturecode=zh-CN&ss=EE&v=35-1\n",
      "无效URL：http://ec.ef.com.cn/community/dailylesson/lessonhandler.ashx?operate=preloaddata&teachculturecode=en&lesson_id=244&transculturecode=zh-CN&ss=EE&v=35-1\n",
      "无效URL：http://ec.ef.com.cn/community/dailylesson/lessonhandler.ashx?operate=preloaddata&teachculturecode=en&lesson_id=245&transculturecode=zh-CN&ss=EE&v=35-1\n",
      "无效URL：http://ec.ef.com.cn/community/dailylesson/lessonhandler.ashx?operate=preloaddata&teachculturecode=en&lesson_id=246&transculturecode=zh-CN&ss=EE&v=35-1\n",
      "无效URL：http://ec.ef.com.cn/community/dailylesson/lessonhandler.ashx?operate=preloaddata&teachculturecode=en&lesson_id=247&transculturecode=zh-CN&ss=EE&v=35-1\n",
      "无效URL：http://ec.ef.com.cn/community/dailylesson/lessonhandler.ashx?operate=preloaddata&teachculturecode=en&lesson_id=248&transculturecode=zh-CN&ss=EE&v=35-1\n",
      "无效URL：http://ec.ef.com.cn/community/dailylesson/lessonhandler.ashx?operate=preloaddata&teachculturecode=en&lesson_id=249&transculturecode=zh-CN&ss=EE&v=35-1\n",
      "无效URL：http://ec.ef.com.cn/community/dailylesson/lessonhandler.ashx?operate=preloaddata&teachculturecode=en&lesson_id=250&transculturecode=zh-CN&ss=EE&v=35-1\n",
      "无效URL：http://ec.ef.com.cn/community/dailylesson/lessonhandler.ashx?operate=preloaddata&teachculturecode=en&lesson_id=251&transculturecode=zh-CN&ss=EE&v=35-1\n",
      "无效URL：http://ec.ef.com.cn/community/dailylesson/lessonhandler.ashx?operate=preloaddata&teachculturecode=en&lesson_id=252&transculturecode=zh-CN&ss=EE&v=35-1\n",
      "无效URL：http://ec.ef.com.cn/community/dailylesson/lessonhandler.ashx?operate=preloaddata&teachculturecode=en&lesson_id=253&transculturecode=zh-CN&ss=EE&v=35-1\n",
      "无效URL：http://ec.ef.com.cn/community/dailylesson/lessonhandler.ashx?operate=preloaddata&teachculturecode=en&lesson_id=254&transculturecode=zh-CN&ss=EE&v=35-1\n",
      "无效URL：http://ec.ef.com.cn/community/dailylesson/lessonhandler.ashx?operate=preloaddata&teachculturecode=en&lesson_id=255&transculturecode=zh-CN&ss=EE&v=35-1\n",
      "无效URL：http://ec.ef.com.cn/community/dailylesson/lessonhandler.ashx?operate=preloaddata&teachculturecode=en&lesson_id=256&transculturecode=zh-CN&ss=EE&v=35-1\n",
      "无效URL：http://ec.ef.com.cn/community/dailylesson/lessonhandler.ashx?operate=preloaddata&teachculturecode=en&lesson_id=257&transculturecode=zh-CN&ss=EE&v=35-1\n",
      "无效URL：http://ec.ef.com.cn/community/dailylesson/lessonhandler.ashx?operate=preloaddata&teachculturecode=en&lesson_id=258&transculturecode=zh-CN&ss=EE&v=35-1\n",
      "无效URL：http://ec.ef.com.cn/community/dailylesson/lessonhandler.ashx?operate=preloaddata&teachculturecode=en&lesson_id=259&transculturecode=zh-CN&ss=EE&v=35-1\n",
      "无效URL：http://ec.ef.com.cn/community/dailylesson/lessonhandler.ashx?operate=preloaddata&teachculturecode=en&lesson_id=260&transculturecode=zh-CN&ss=EE&v=35-1\n",
      "无效URL：http://ec.ef.com.cn/community/dailylesson/lessonhandler.ashx?operate=preloaddata&teachculturecode=en&lesson_id=261&transculturecode=zh-CN&ss=EE&v=35-1\n",
      "无效URL：http://ec.ef.com.cn/community/dailylesson/lessonhandler.ashx?operate=preloaddata&teachculturecode=en&lesson_id=262&transculturecode=zh-CN&ss=EE&v=35-1\n",
      "无效URL：http://ec.ef.com.cn/community/dailylesson/lessonhandler.ashx?operate=preloaddata&teachculturecode=en&lesson_id=263&transculturecode=zh-CN&ss=EE&v=35-1\n",
      "无效URL：http://ec.ef.com.cn/community/dailylesson/lessonhandler.ashx?operate=preloaddata&teachculturecode=en&lesson_id=264&transculturecode=zh-CN&ss=EE&v=35-1\n"
     ]
    },
    {
     "data": {
      "text/plain": [
       "<pymongo.results.InsertOneResult at 0x10b5c3848>"
      ]
     },
     "execution_count": 235,
     "metadata": {},
     "output_type": "execute_result"
    },
    {
     "data": {
      "text/plain": [
       "<pymongo.results.InsertOneResult at 0x10b2a0548>"
      ]
     },
     "execution_count": 235,
     "metadata": {},
     "output_type": "execute_result"
    },
    {
     "data": {
      "text/plain": [
       "<pymongo.results.InsertOneResult at 0x10b5cf608>"
      ]
     },
     "execution_count": 235,
     "metadata": {},
     "output_type": "execute_result"
    },
    {
     "data": {
      "text/plain": [
       "<pymongo.results.InsertOneResult at 0x10b5b6b08>"
      ]
     },
     "execution_count": 235,
     "metadata": {},
     "output_type": "execute_result"
    },
    {
     "data": {
      "text/plain": [
       "<pymongo.results.InsertOneResult at 0x10b2bfe08>"
      ]
     },
     "execution_count": 235,
     "metadata": {},
     "output_type": "execute_result"
    },
    {
     "data": {
      "text/plain": [
       "<pymongo.results.InsertOneResult at 0x10b2c5908>"
      ]
     },
     "execution_count": 235,
     "metadata": {},
     "output_type": "execute_result"
    },
    {
     "data": {
      "text/plain": [
       "<pymongo.results.InsertOneResult at 0x1093d1748>"
      ]
     },
     "execution_count": 235,
     "metadata": {},
     "output_type": "execute_result"
    },
    {
     "data": {
      "text/plain": [
       "<pymongo.results.InsertOneResult at 0x10b5b0dc8>"
      ]
     },
     "execution_count": 235,
     "metadata": {},
     "output_type": "execute_result"
    },
    {
     "data": {
      "text/plain": [
       "<pymongo.results.InsertOneResult at 0x10b5c3808>"
      ]
     },
     "execution_count": 235,
     "metadata": {},
     "output_type": "execute_result"
    },
    {
     "data": {
      "text/plain": [
       "<pymongo.results.InsertOneResult at 0x10b5de748>"
      ]
     },
     "execution_count": 235,
     "metadata": {},
     "output_type": "execute_result"
    },
    {
     "data": {
      "text/plain": [
       "<pymongo.results.InsertOneResult at 0x10b5f14c8>"
      ]
     },
     "execution_count": 235,
     "metadata": {},
     "output_type": "execute_result"
    },
    {
     "data": {
      "text/plain": [
       "<pymongo.results.InsertOneResult at 0x10b2e1708>"
      ]
     },
     "execution_count": 235,
     "metadata": {},
     "output_type": "execute_result"
    },
    {
     "data": {
      "text/plain": [
       "<pymongo.results.InsertOneResult at 0x10b2c10c8>"
      ]
     },
     "execution_count": 235,
     "metadata": {},
     "output_type": "execute_result"
    },
    {
     "data": {
      "text/plain": [
       "<pymongo.results.InsertOneResult at 0x10b5fb488>"
      ]
     },
     "execution_count": 235,
     "metadata": {},
     "output_type": "execute_result"
    },
    {
     "data": {
      "text/plain": [
       "<pymongo.results.InsertOneResult at 0x10b5c4ec8>"
      ]
     },
     "execution_count": 235,
     "metadata": {},
     "output_type": "execute_result"
    },
    {
     "data": {
      "text/plain": [
       "<pymongo.results.InsertOneResult at 0x10b5cf708>"
      ]
     },
     "execution_count": 235,
     "metadata": {},
     "output_type": "execute_result"
    },
    {
     "data": {
      "text/plain": [
       "<pymongo.results.InsertOneResult at 0x10b5c3e48>"
      ]
     },
     "execution_count": 235,
     "metadata": {},
     "output_type": "execute_result"
    },
    {
     "data": {
      "text/plain": [
       "<pymongo.results.InsertOneResult at 0x10b5aac48>"
      ]
     },
     "execution_count": 235,
     "metadata": {},
     "output_type": "execute_result"
    },
    {
     "data": {
      "text/plain": [
       "<pymongo.results.InsertOneResult at 0x10b2c5908>"
      ]
     },
     "execution_count": 235,
     "metadata": {},
     "output_type": "execute_result"
    },
    {
     "data": {
      "text/plain": [
       "<pymongo.results.InsertOneResult at 0x10b5f48c8>"
      ]
     },
     "execution_count": 235,
     "metadata": {},
     "output_type": "execute_result"
    },
    {
     "data": {
      "text/plain": [
       "<pymongo.results.InsertOneResult at 0x10b60cf88>"
      ]
     },
     "execution_count": 235,
     "metadata": {},
     "output_type": "execute_result"
    },
    {
     "data": {
      "text/plain": [
       "<pymongo.results.InsertOneResult at 0x10b5f3888>"
      ]
     },
     "execution_count": 235,
     "metadata": {},
     "output_type": "execute_result"
    },
    {
     "data": {
      "text/plain": [
       "<pymongo.results.InsertOneResult at 0x10b2c8a48>"
      ]
     },
     "execution_count": 235,
     "metadata": {},
     "output_type": "execute_result"
    },
    {
     "data": {
      "text/plain": [
       "<pymongo.results.InsertOneResult at 0x10b5b0348>"
      ]
     },
     "execution_count": 235,
     "metadata": {},
     "output_type": "execute_result"
    },
    {
     "data": {
      "text/plain": [
       "<pymongo.results.InsertOneResult at 0x10b5aac48>"
      ]
     },
     "execution_count": 235,
     "metadata": {},
     "output_type": "execute_result"
    },
    {
     "data": {
      "text/plain": [
       "<pymongo.results.InsertOneResult at 0x10b5cf088>"
      ]
     },
     "execution_count": 235,
     "metadata": {},
     "output_type": "execute_result"
    },
    {
     "data": {
      "text/plain": [
       "<pymongo.results.InsertOneResult at 0x10b2edf48>"
      ]
     },
     "execution_count": 235,
     "metadata": {},
     "output_type": "execute_result"
    },
    {
     "data": {
      "text/plain": [
       "<pymongo.results.InsertOneResult at 0x10b62d088>"
      ]
     },
     "execution_count": 235,
     "metadata": {},
     "output_type": "execute_result"
    },
    {
     "data": {
      "text/plain": [
       "<pymongo.results.InsertOneResult at 0x10b2a8188>"
      ]
     },
     "execution_count": 235,
     "metadata": {},
     "output_type": "execute_result"
    },
    {
     "data": {
      "text/plain": [
       "<pymongo.results.InsertOneResult at 0x10b2ddd48>"
      ]
     },
     "execution_count": 235,
     "metadata": {},
     "output_type": "execute_result"
    },
    {
     "data": {
      "text/plain": [
       "<pymongo.results.InsertOneResult at 0x10b2b1cc8>"
      ]
     },
     "execution_count": 235,
     "metadata": {},
     "output_type": "execute_result"
    },
    {
     "data": {
      "text/plain": [
       "<pymongo.results.InsertOneResult at 0x10b5cf9c8>"
      ]
     },
     "execution_count": 235,
     "metadata": {},
     "output_type": "execute_result"
    },
    {
     "data": {
      "text/plain": [
       "<pymongo.results.InsertOneResult at 0x10b5abdc8>"
      ]
     },
     "execution_count": 235,
     "metadata": {},
     "output_type": "execute_result"
    },
    {
     "data": {
      "text/plain": [
       "<pymongo.results.InsertOneResult at 0x10b5f3308>"
      ]
     },
     "execution_count": 235,
     "metadata": {},
     "output_type": "execute_result"
    },
    {
     "data": {
      "text/plain": [
       "<pymongo.results.InsertOneResult at 0x10aff6808>"
      ]
     },
     "execution_count": 235,
     "metadata": {},
     "output_type": "execute_result"
    },
    {
     "data": {
      "text/plain": [
       "<pymongo.results.InsertOneResult at 0x10b633e88>"
      ]
     },
     "execution_count": 235,
     "metadata": {},
     "output_type": "execute_result"
    },
    {
     "data": {
      "text/plain": [
       "<pymongo.results.InsertOneResult at 0x10b5aa648>"
      ]
     },
     "execution_count": 235,
     "metadata": {},
     "output_type": "execute_result"
    },
    {
     "data": {
      "text/plain": [
       "<pymongo.results.InsertOneResult at 0x10b2e24c8>"
      ]
     },
     "execution_count": 235,
     "metadata": {},
     "output_type": "execute_result"
    },
    {
     "data": {
      "text/plain": [
       "<pymongo.results.InsertOneResult at 0x10b5b2f08>"
      ]
     },
     "execution_count": 235,
     "metadata": {},
     "output_type": "execute_result"
    },
    {
     "data": {
      "text/plain": [
       "<pymongo.results.InsertOneResult at 0x10b5de208>"
      ]
     },
     "execution_count": 235,
     "metadata": {},
     "output_type": "execute_result"
    },
    {
     "data": {
      "text/plain": [
       "<pymongo.results.InsertOneResult at 0x10b5e0ac8>"
      ]
     },
     "execution_count": 235,
     "metadata": {},
     "output_type": "execute_result"
    },
    {
     "data": {
      "text/plain": [
       "<pymongo.results.InsertOneResult at 0x10b5c7d48>"
      ]
     },
     "execution_count": 235,
     "metadata": {},
     "output_type": "execute_result"
    },
    {
     "data": {
      "text/plain": [
       "<pymongo.results.InsertOneResult at 0x10b2b1ec8>"
      ]
     },
     "execution_count": 235,
     "metadata": {},
     "output_type": "execute_result"
    },
    {
     "data": {
      "text/plain": [
       "<pymongo.results.InsertOneResult at 0x10b5dae88>"
      ]
     },
     "execution_count": 235,
     "metadata": {},
     "output_type": "execute_result"
    },
    {
     "data": {
      "text/plain": [
       "<pymongo.results.InsertOneResult at 0x10b5c2a48>"
      ]
     },
     "execution_count": 235,
     "metadata": {},
     "output_type": "execute_result"
    },
    {
     "data": {
      "text/plain": [
       "<pymongo.results.InsertOneResult at 0x1078f3248>"
      ]
     },
     "execution_count": 235,
     "metadata": {},
     "output_type": "execute_result"
    },
    {
     "data": {
      "text/plain": [
       "<pymongo.results.InsertOneResult at 0x10b2e2708>"
      ]
     },
     "execution_count": 235,
     "metadata": {},
     "output_type": "execute_result"
    },
    {
     "data": {
      "text/plain": [
       "<pymongo.results.InsertOneResult at 0x10b5baac8>"
      ]
     },
     "execution_count": 235,
     "metadata": {},
     "output_type": "execute_result"
    },
    {
     "data": {
      "text/plain": [
       "<pymongo.results.InsertOneResult at 0x10b5b8a48>"
      ]
     },
     "execution_count": 235,
     "metadata": {},
     "output_type": "execute_result"
    },
    {
     "data": {
      "text/plain": [
       "<pymongo.results.InsertOneResult at 0x10b2a23c8>"
      ]
     },
     "execution_count": 235,
     "metadata": {},
     "output_type": "execute_result"
    },
    {
     "data": {
      "text/plain": [
       "<pymongo.results.InsertOneResult at 0x10b5ab8c8>"
      ]
     },
     "execution_count": 235,
     "metadata": {},
     "output_type": "execute_result"
    },
    {
     "data": {
      "text/plain": [
       "<pymongo.results.InsertOneResult at 0x10b2b01c8>"
      ]
     },
     "execution_count": 235,
     "metadata": {},
     "output_type": "execute_result"
    },
    {
     "data": {
      "text/plain": [
       "<pymongo.results.InsertOneResult at 0x1093d1748>"
      ]
     },
     "execution_count": 235,
     "metadata": {},
     "output_type": "execute_result"
    },
    {
     "data": {
      "text/plain": [
       "<pymongo.results.InsertOneResult at 0x10b299fc8>"
      ]
     },
     "execution_count": 235,
     "metadata": {},
     "output_type": "execute_result"
    },
    {
     "data": {
      "text/plain": [
       "<pymongo.results.InsertOneResult at 0x10b2dd408>"
      ]
     },
     "execution_count": 235,
     "metadata": {},
     "output_type": "execute_result"
    },
    {
     "data": {
      "text/plain": [
       "<pymongo.results.InsertOneResult at 0x10b5f1408>"
      ]
     },
     "execution_count": 235,
     "metadata": {},
     "output_type": "execute_result"
    },
    {
     "data": {
      "text/plain": [
       "<pymongo.results.InsertOneResult at 0x10b2a20c8>"
      ]
     },
     "execution_count": 235,
     "metadata": {},
     "output_type": "execute_result"
    },
    {
     "data": {
      "text/plain": [
       "<pymongo.results.InsertOneResult at 0x10b5db5c8>"
      ]
     },
     "execution_count": 235,
     "metadata": {},
     "output_type": "execute_result"
    },
    {
     "data": {
      "text/plain": [
       "<pymongo.results.InsertOneResult at 0x10b5c2a48>"
      ]
     },
     "execution_count": 235,
     "metadata": {},
     "output_type": "execute_result"
    },
    {
     "data": {
      "text/plain": [
       "<pymongo.results.InsertOneResult at 0x10b5e0c88>"
      ]
     },
     "execution_count": 235,
     "metadata": {},
     "output_type": "execute_result"
    },
    {
     "data": {
      "text/plain": [
       "<pymongo.results.InsertOneResult at 0x10b5b8748>"
      ]
     },
     "execution_count": 235,
     "metadata": {},
     "output_type": "execute_result"
    },
    {
     "data": {
      "text/plain": [
       "<pymongo.results.InsertOneResult at 0x10b2e1cc8>"
      ]
     },
     "execution_count": 235,
     "metadata": {},
     "output_type": "execute_result"
    },
    {
     "data": {
      "text/plain": [
       "<pymongo.results.InsertOneResult at 0x10b5f4a08>"
      ]
     },
     "execution_count": 235,
     "metadata": {},
     "output_type": "execute_result"
    },
    {
     "data": {
      "text/plain": [
       "<pymongo.results.InsertOneResult at 0x10b5eb808>"
      ]
     },
     "execution_count": 235,
     "metadata": {},
     "output_type": "execute_result"
    },
    {
     "data": {
      "text/plain": [
       "<pymongo.results.InsertOneResult at 0x10b2a20c8>"
      ]
     },
     "execution_count": 235,
     "metadata": {},
     "output_type": "execute_result"
    },
    {
     "data": {
      "text/plain": [
       "<pymongo.results.InsertOneResult at 0x10b2b30c8>"
      ]
     },
     "execution_count": 235,
     "metadata": {},
     "output_type": "execute_result"
    },
    {
     "data": {
      "text/plain": [
       "<pymongo.results.InsertOneResult at 0x10b2f2c08>"
      ]
     },
     "execution_count": 235,
     "metadata": {},
     "output_type": "execute_result"
    },
    {
     "data": {
      "text/plain": [
       "<pymongo.results.InsertOneResult at 0x10b5da0c8>"
      ]
     },
     "execution_count": 235,
     "metadata": {},
     "output_type": "execute_result"
    },
    {
     "data": {
      "text/plain": [
       "<pymongo.results.InsertOneResult at 0x10b2e1cc8>"
      ]
     },
     "execution_count": 235,
     "metadata": {},
     "output_type": "execute_result"
    },
    {
     "data": {
      "text/plain": [
       "<pymongo.results.InsertOneResult at 0x1094c0908>"
      ]
     },
     "execution_count": 235,
     "metadata": {},
     "output_type": "execute_result"
    },
    {
     "data": {
      "text/plain": [
       "<pymongo.results.InsertOneResult at 0x10b5c6208>"
      ]
     },
     "execution_count": 235,
     "metadata": {},
     "output_type": "execute_result"
    },
    {
     "data": {
      "text/plain": [
       "<pymongo.results.InsertOneResult at 0x10b5b6a88>"
      ]
     },
     "execution_count": 235,
     "metadata": {},
     "output_type": "execute_result"
    },
    {
     "data": {
      "text/plain": [
       "<pymongo.results.InsertOneResult at 0x10b299fc8>"
      ]
     },
     "execution_count": 235,
     "metadata": {},
     "output_type": "execute_result"
    },
    {
     "data": {
      "text/plain": [
       "<pymongo.results.InsertOneResult at 0x10b5c3e48>"
      ]
     },
     "execution_count": 235,
     "metadata": {},
     "output_type": "execute_result"
    },
    {
     "data": {
      "text/plain": [
       "<pymongo.results.InsertOneResult at 0x10b2f0188>"
      ]
     },
     "execution_count": 235,
     "metadata": {},
     "output_type": "execute_result"
    },
    {
     "data": {
      "text/plain": [
       "<pymongo.results.InsertOneResult at 0x10b5b0ac8>"
      ]
     },
     "execution_count": 235,
     "metadata": {},
     "output_type": "execute_result"
    },
    {
     "data": {
      "text/plain": [
       "<pymongo.results.InsertOneResult at 0x10b5b6a88>"
      ]
     },
     "execution_count": 235,
     "metadata": {},
     "output_type": "execute_result"
    },
    {
     "data": {
      "text/plain": [
       "<pymongo.results.InsertOneResult at 0x10b2a9108>"
      ]
     },
     "execution_count": 235,
     "metadata": {},
     "output_type": "execute_result"
    },
    {
     "data": {
      "text/plain": [
       "<pymongo.results.InsertOneResult at 0x10932b908>"
      ]
     },
     "execution_count": 235,
     "metadata": {},
     "output_type": "execute_result"
    },
    {
     "data": {
      "text/plain": [
       "<pymongo.results.InsertOneResult at 0x10b2c5908>"
      ]
     },
     "execution_count": 235,
     "metadata": {},
     "output_type": "execute_result"
    },
    {
     "data": {
      "text/plain": [
       "<pymongo.results.InsertOneResult at 0x10b2b01c8>"
      ]
     },
     "execution_count": 235,
     "metadata": {},
     "output_type": "execute_result"
    },
    {
     "data": {
      "text/plain": [
       "<pymongo.results.InsertOneResult at 0x10b5b4ac8>"
      ]
     },
     "execution_count": 235,
     "metadata": {},
     "output_type": "execute_result"
    },
    {
     "data": {
      "text/plain": [
       "<pymongo.results.InsertOneResult at 0x10b5adb88>"
      ]
     },
     "execution_count": 235,
     "metadata": {},
     "output_type": "execute_result"
    },
    {
     "data": {
      "text/plain": [
       "<pymongo.results.InsertOneResult at 0x10b5abdc8>"
      ]
     },
     "execution_count": 235,
     "metadata": {},
     "output_type": "execute_result"
    },
    {
     "data": {
      "text/plain": [
       "<pymongo.results.InsertOneResult at 0x10b5c7408>"
      ]
     },
     "execution_count": 235,
     "metadata": {},
     "output_type": "execute_result"
    },
    {
     "data": {
      "text/plain": [
       "<pymongo.results.InsertOneResult at 0x10b5bd988>"
      ]
     },
     "execution_count": 235,
     "metadata": {},
     "output_type": "execute_result"
    },
    {
     "data": {
      "text/plain": [
       "<pymongo.results.InsertOneResult at 0x10aff6808>"
      ]
     },
     "execution_count": 235,
     "metadata": {},
     "output_type": "execute_result"
    },
    {
     "data": {
      "text/plain": [
       "<pymongo.results.InsertOneResult at 0x10b5fb488>"
      ]
     },
     "execution_count": 235,
     "metadata": {},
     "output_type": "execute_result"
    },
    {
     "data": {
      "text/plain": [
       "<pymongo.results.InsertOneResult at 0x10b2ec488>"
      ]
     },
     "execution_count": 235,
     "metadata": {},
     "output_type": "execute_result"
    },
    {
     "data": {
      "text/plain": [
       "<pymongo.results.InsertOneResult at 0x10b5b0dc8>"
      ]
     },
     "execution_count": 235,
     "metadata": {},
     "output_type": "execute_result"
    },
    {
     "data": {
      "text/plain": [
       "<pymongo.results.InsertOneResult at 0x10b5aacc8>"
      ]
     },
     "execution_count": 235,
     "metadata": {},
     "output_type": "execute_result"
    },
    {
     "data": {
      "text/plain": [
       "<pymongo.results.InsertOneResult at 0x10b5a7688>"
      ]
     },
     "execution_count": 235,
     "metadata": {},
     "output_type": "execute_result"
    },
    {
     "data": {
      "text/plain": [
       "<pymongo.results.InsertOneResult at 0x10b0f4648>"
      ]
     },
     "execution_count": 235,
     "metadata": {},
     "output_type": "execute_result"
    },
    {
     "data": {
      "text/plain": [
       "<pymongo.results.InsertOneResult at 0x10b5f3508>"
      ]
     },
     "execution_count": 235,
     "metadata": {},
     "output_type": "execute_result"
    },
    {
     "data": {
      "text/plain": [
       "<pymongo.results.InsertOneResult at 0x10b2c10c8>"
      ]
     },
     "execution_count": 235,
     "metadata": {},
     "output_type": "execute_result"
    },
    {
     "data": {
      "text/plain": [
       "<pymongo.results.InsertOneResult at 0x10b2b1ec8>"
      ]
     },
     "execution_count": 235,
     "metadata": {},
     "output_type": "execute_result"
    },
    {
     "data": {
      "text/plain": [
       "<pymongo.results.InsertOneResult at 0x10b2e26c8>"
      ]
     },
     "execution_count": 235,
     "metadata": {},
     "output_type": "execute_result"
    },
    {
     "data": {
      "text/plain": [
       "<pymongo.results.InsertOneResult at 0x10b5f1288>"
      ]
     },
     "execution_count": 235,
     "metadata": {},
     "output_type": "execute_result"
    },
    {
     "data": {
      "text/plain": [
       "<pymongo.results.InsertOneResult at 0x10b633d08>"
      ]
     },
     "execution_count": 235,
     "metadata": {},
     "output_type": "execute_result"
    },
    {
     "data": {
      "text/plain": [
       "<pymongo.results.InsertOneResult at 0x10b5b0dc8>"
      ]
     },
     "execution_count": 235,
     "metadata": {},
     "output_type": "execute_result"
    },
    {
     "data": {
      "text/plain": [
       "<pymongo.results.InsertOneResult at 0x10b5b8e08>"
      ]
     },
     "execution_count": 235,
     "metadata": {},
     "output_type": "execute_result"
    },
    {
     "data": {
      "text/plain": [
       "<pymongo.results.InsertOneResult at 0x10b2ebe88>"
      ]
     },
     "execution_count": 235,
     "metadata": {},
     "output_type": "execute_result"
    },
    {
     "data": {
      "text/plain": [
       "<pymongo.results.InsertOneResult at 0x10b5d8b08>"
      ]
     },
     "execution_count": 235,
     "metadata": {},
     "output_type": "execute_result"
    },
    {
     "data": {
      "text/plain": [
       "<pymongo.results.InsertOneResult at 0x10b2f0048>"
      ]
     },
     "execution_count": 235,
     "metadata": {},
     "output_type": "execute_result"
    },
    {
     "data": {
      "text/plain": [
       "<pymongo.results.InsertOneResult at 0x10b5b6e88>"
      ]
     },
     "execution_count": 235,
     "metadata": {},
     "output_type": "execute_result"
    },
    {
     "data": {
      "text/plain": [
       "<pymongo.results.InsertOneResult at 0x10b2c5e48>"
      ]
     },
     "execution_count": 235,
     "metadata": {},
     "output_type": "execute_result"
    },
    {
     "data": {
      "text/plain": [
       "<pymongo.results.InsertOneResult at 0x10b2c8fc8>"
      ]
     },
     "execution_count": 235,
     "metadata": {},
     "output_type": "execute_result"
    },
    {
     "data": {
      "text/plain": [
       "<pymongo.results.InsertOneResult at 0x10b0f4648>"
      ]
     },
     "execution_count": 235,
     "metadata": {},
     "output_type": "execute_result"
    },
    {
     "data": {
      "text/plain": [
       "<pymongo.results.InsertOneResult at 0x10b5cf948>"
      ]
     },
     "execution_count": 235,
     "metadata": {},
     "output_type": "execute_result"
    },
    {
     "data": {
      "text/plain": [
       "<pymongo.results.InsertOneResult at 0x10b5c3388>"
      ]
     },
     "execution_count": 235,
     "metadata": {},
     "output_type": "execute_result"
    },
    {
     "data": {
      "text/plain": [
       "<pymongo.results.InsertOneResult at 0x10b2e36c8>"
      ]
     },
     "execution_count": 235,
     "metadata": {},
     "output_type": "execute_result"
    },
    {
     "data": {
      "text/plain": [
       "<pymongo.results.InsertOneResult at 0x10aff6808>"
      ]
     },
     "execution_count": 235,
     "metadata": {},
     "output_type": "execute_result"
    },
    {
     "data": {
      "text/plain": [
       "<pymongo.results.InsertOneResult at 0x10b2f2988>"
      ]
     },
     "execution_count": 235,
     "metadata": {},
     "output_type": "execute_result"
    },
    {
     "data": {
      "text/plain": [
       "<pymongo.results.InsertOneResult at 0x10b2d3e88>"
      ]
     },
     "execution_count": 235,
     "metadata": {},
     "output_type": "execute_result"
    },
    {
     "data": {
      "text/plain": [
       "<pymongo.results.InsertOneResult at 0x10b62d0c8>"
      ]
     },
     "execution_count": 235,
     "metadata": {},
     "output_type": "execute_result"
    },
    {
     "data": {
      "text/plain": [
       "<pymongo.results.InsertOneResult at 0x10b2a20c8>"
      ]
     },
     "execution_count": 235,
     "metadata": {},
     "output_type": "execute_result"
    },
    {
     "data": {
      "text/plain": [
       "<pymongo.results.InsertOneResult at 0x10b2e1408>"
      ]
     },
     "execution_count": 235,
     "metadata": {},
     "output_type": "execute_result"
    },
    {
     "data": {
      "text/plain": [
       "<pymongo.results.InsertOneResult at 0x10b29fb48>"
      ]
     },
     "execution_count": 235,
     "metadata": {},
     "output_type": "execute_result"
    },
    {
     "data": {
      "text/plain": [
       "<pymongo.results.InsertOneResult at 0x10b2a34c8>"
      ]
     },
     "execution_count": 235,
     "metadata": {},
     "output_type": "execute_result"
    },
    {
     "data": {
      "text/plain": [
       "<pymongo.results.InsertOneResult at 0x10b2c5908>"
      ]
     },
     "execution_count": 235,
     "metadata": {},
     "output_type": "execute_result"
    },
    {
     "data": {
      "text/plain": [
       "<pymongo.results.InsertOneResult at 0x10b5fb488>"
      ]
     },
     "execution_count": 235,
     "metadata": {},
     "output_type": "execute_result"
    },
    {
     "data": {
      "text/plain": [
       "<pymongo.results.InsertOneResult at 0x10b2edb48>"
      ]
     },
     "execution_count": 235,
     "metadata": {},
     "output_type": "execute_result"
    },
    {
     "data": {
      "text/plain": [
       "<pymongo.results.InsertOneResult at 0x10b2a0548>"
      ]
     },
     "execution_count": 235,
     "metadata": {},
     "output_type": "execute_result"
    },
    {
     "data": {
      "text/plain": [
       "<pymongo.results.InsertOneResult at 0x10b299288>"
      ]
     },
     "execution_count": 235,
     "metadata": {},
     "output_type": "execute_result"
    },
    {
     "data": {
      "text/plain": [
       "<pymongo.results.InsertOneResult at 0x10b5c2e48>"
      ]
     },
     "execution_count": 235,
     "metadata": {},
     "output_type": "execute_result"
    },
    {
     "data": {
      "text/plain": [
       "<pymongo.results.InsertOneResult at 0x10aff6808>"
      ]
     },
     "execution_count": 235,
     "metadata": {},
     "output_type": "execute_result"
    },
    {
     "data": {
      "text/plain": [
       "<pymongo.results.InsertOneResult at 0x10b5e0a88>"
      ]
     },
     "execution_count": 235,
     "metadata": {},
     "output_type": "execute_result"
    },
    {
     "data": {
      "text/plain": [
       "<pymongo.results.InsertOneResult at 0x10b2dd088>"
      ]
     },
     "execution_count": 235,
     "metadata": {},
     "output_type": "execute_result"
    },
    {
     "data": {
      "text/plain": [
       "<pymongo.results.InsertOneResult at 0x10b2f2d88>"
      ]
     },
     "execution_count": 235,
     "metadata": {},
     "output_type": "execute_result"
    },
    {
     "data": {
      "text/plain": [
       "<pymongo.results.InsertOneResult at 0x10b5c4188>"
      ]
     },
     "execution_count": 235,
     "metadata": {},
     "output_type": "execute_result"
    },
    {
     "data": {
      "text/plain": [
       "<pymongo.results.InsertOneResult at 0x10b5f4908>"
      ]
     },
     "execution_count": 235,
     "metadata": {},
     "output_type": "execute_result"
    },
    {
     "data": {
      "text/plain": [
       "<pymongo.results.InsertOneResult at 0x10b5add48>"
      ]
     },
     "execution_count": 235,
     "metadata": {},
     "output_type": "execute_result"
    },
    {
     "data": {
      "text/plain": [
       "<pymongo.results.InsertOneResult at 0x10b63cc48>"
      ]
     },
     "execution_count": 235,
     "metadata": {},
     "output_type": "execute_result"
    },
    {
     "data": {
      "text/plain": [
       "<pymongo.results.InsertOneResult at 0x10b5de5c8>"
      ]
     },
     "execution_count": 235,
     "metadata": {},
     "output_type": "execute_result"
    },
    {
     "data": {
      "text/plain": [
       "<pymongo.results.InsertOneResult at 0x10b5e0a88>"
      ]
     },
     "execution_count": 235,
     "metadata": {},
     "output_type": "execute_result"
    },
    {
     "data": {
      "text/plain": [
       "<pymongo.results.InsertOneResult at 0x10b63da48>"
      ]
     },
     "execution_count": 235,
     "metadata": {},
     "output_type": "execute_result"
    },
    {
     "data": {
      "text/plain": [
       "<pymongo.results.InsertOneResult at 0x10b5c94c8>"
      ]
     },
     "execution_count": 235,
     "metadata": {},
     "output_type": "execute_result"
    },
    {
     "data": {
      "text/plain": [
       "<pymongo.results.InsertOneResult at 0x10b63f108>"
      ]
     },
     "execution_count": 235,
     "metadata": {},
     "output_type": "execute_result"
    },
    {
     "data": {
      "text/plain": [
       "<pymongo.results.InsertOneResult at 0x10b2edc48>"
      ]
     },
     "execution_count": 235,
     "metadata": {},
     "output_type": "execute_result"
    },
    {
     "data": {
      "text/plain": [
       "<pymongo.results.InsertOneResult at 0x10b645288>"
      ]
     },
     "execution_count": 235,
     "metadata": {},
     "output_type": "execute_result"
    },
    {
     "data": {
      "text/plain": [
       "<pymongo.results.InsertOneResult at 0x10b4e5848>"
      ]
     },
     "execution_count": 235,
     "metadata": {},
     "output_type": "execute_result"
    },
    {
     "data": {
      "text/plain": [
       "<pymongo.results.InsertOneResult at 0x10b621e48>"
      ]
     },
     "execution_count": 235,
     "metadata": {},
     "output_type": "execute_result"
    },
    {
     "data": {
      "text/plain": [
       "<pymongo.results.InsertOneResult at 0x10b2c10c8>"
      ]
     },
     "execution_count": 235,
     "metadata": {},
     "output_type": "execute_result"
    },
    {
     "data": {
      "text/plain": [
       "<pymongo.results.InsertOneResult at 0x10b2e36c8>"
      ]
     },
     "execution_count": 235,
     "metadata": {},
     "output_type": "execute_result"
    },
    {
     "data": {
      "text/plain": [
       "<pymongo.results.InsertOneResult at 0x10b5fb488>"
      ]
     },
     "execution_count": 235,
     "metadata": {},
     "output_type": "execute_result"
    },
    {
     "data": {
      "text/plain": [
       "<pymongo.results.InsertOneResult at 0x10b2b1448>"
      ]
     },
     "execution_count": 235,
     "metadata": {},
     "output_type": "execute_result"
    },
    {
     "data": {
      "text/plain": [
       "<pymongo.results.InsertOneResult at 0x10b5ab848>"
      ]
     },
     "execution_count": 235,
     "metadata": {},
     "output_type": "execute_result"
    },
    {
     "data": {
      "text/plain": [
       "<pymongo.results.InsertOneResult at 0x10932b908>"
      ]
     },
     "execution_count": 235,
     "metadata": {},
     "output_type": "execute_result"
    },
    {
     "data": {
      "text/plain": [
       "<pymongo.results.InsertOneResult at 0x10b5f13c8>"
      ]
     },
     "execution_count": 235,
     "metadata": {},
     "output_type": "execute_result"
    },
    {
     "data": {
      "text/plain": [
       "<pymongo.results.InsertOneResult at 0x10b2ec048>"
      ]
     },
     "execution_count": 235,
     "metadata": {},
     "output_type": "execute_result"
    },
    {
     "data": {
      "text/plain": [
       "<pymongo.results.InsertOneResult at 0x10b5c6d48>"
      ]
     },
     "execution_count": 235,
     "metadata": {},
     "output_type": "execute_result"
    },
    {
     "data": {
      "text/plain": [
       "<pymongo.results.InsertOneResult at 0x10b2b1fc8>"
      ]
     },
     "execution_count": 235,
     "metadata": {},
     "output_type": "execute_result"
    },
    {
     "data": {
      "text/plain": [
       "<pymongo.results.InsertOneResult at 0x10b61fc88>"
      ]
     },
     "execution_count": 235,
     "metadata": {},
     "output_type": "execute_result"
    },
    {
     "data": {
      "text/plain": [
       "<pymongo.results.InsertOneResult at 0x10b5c6cc8>"
      ]
     },
     "execution_count": 235,
     "metadata": {},
     "output_type": "execute_result"
    },
    {
     "data": {
      "text/plain": [
       "<pymongo.results.InsertOneResult at 0x10b2b30c8>"
      ]
     },
     "execution_count": 235,
     "metadata": {},
     "output_type": "execute_result"
    },
    {
     "data": {
      "text/plain": [
       "<pymongo.results.InsertOneResult at 0x10b2ec048>"
      ]
     },
     "execution_count": 235,
     "metadata": {},
     "output_type": "execute_result"
    },
    {
     "data": {
      "text/plain": [
       "<pymongo.results.InsertOneResult at 0x10b2df808>"
      ]
     },
     "execution_count": 235,
     "metadata": {},
     "output_type": "execute_result"
    },
    {
     "data": {
      "text/plain": [
       "<pymongo.results.InsertOneResult at 0x10b2f2d88>"
      ]
     },
     "execution_count": 235,
     "metadata": {},
     "output_type": "execute_result"
    },
    {
     "data": {
      "text/plain": [
       "<pymongo.results.InsertOneResult at 0x10b2f2988>"
      ]
     },
     "execution_count": 235,
     "metadata": {},
     "output_type": "execute_result"
    },
    {
     "data": {
      "text/plain": [
       "<pymongo.results.InsertOneResult at 0x10b5ab648>"
      ]
     },
     "execution_count": 235,
     "metadata": {},
     "output_type": "execute_result"
    },
    {
     "data": {
      "text/plain": [
       "<pymongo.results.InsertOneResult at 0x10b5c7b88>"
      ]
     },
     "execution_count": 235,
     "metadata": {},
     "output_type": "execute_result"
    },
    {
     "data": {
      "text/plain": [
       "<pymongo.results.InsertOneResult at 0x10b2c5e48>"
      ]
     },
     "execution_count": 235,
     "metadata": {},
     "output_type": "execute_result"
    },
    {
     "data": {
      "text/plain": [
       "<pymongo.results.InsertOneResult at 0x10b5ba348>"
      ]
     },
     "execution_count": 235,
     "metadata": {},
     "output_type": "execute_result"
    },
    {
     "data": {
      "text/plain": [
       "<pymongo.results.InsertOneResult at 0x10b2dd408>"
      ]
     },
     "execution_count": 235,
     "metadata": {},
     "output_type": "execute_result"
    },
    {
     "data": {
      "text/plain": [
       "<pymongo.results.InsertOneResult at 0x10b5f1488>"
      ]
     },
     "execution_count": 235,
     "metadata": {},
     "output_type": "execute_result"
    },
    {
     "data": {
      "text/plain": [
       "<pymongo.results.InsertOneResult at 0x10b2b30c8>"
      ]
     },
     "execution_count": 235,
     "metadata": {},
     "output_type": "execute_result"
    },
    {
     "data": {
      "text/plain": [
       "<pymongo.results.InsertOneResult at 0x10b5db748>"
      ]
     },
     "execution_count": 235,
     "metadata": {},
     "output_type": "execute_result"
    },
    {
     "data": {
      "text/plain": [
       "<pymongo.results.InsertOneResult at 0x10b2ec048>"
      ]
     },
     "execution_count": 235,
     "metadata": {},
     "output_type": "execute_result"
    },
    {
     "data": {
      "text/plain": [
       "<pymongo.results.InsertOneResult at 0x10b29cf48>"
      ]
     },
     "execution_count": 235,
     "metadata": {},
     "output_type": "execute_result"
    },
    {
     "data": {
      "text/plain": [
       "<pymongo.results.InsertOneResult at 0x10b299f48>"
      ]
     },
     "execution_count": 235,
     "metadata": {},
     "output_type": "execute_result"
    },
    {
     "data": {
      "text/plain": [
       "<pymongo.results.InsertOneResult at 0x10b2e36c8>"
      ]
     },
     "execution_count": 235,
     "metadata": {},
     "output_type": "execute_result"
    },
    {
     "data": {
      "text/plain": [
       "<pymongo.results.InsertOneResult at 0x1093d1748>"
      ]
     },
     "execution_count": 235,
     "metadata": {},
     "output_type": "execute_result"
    },
    {
     "data": {
      "text/plain": [
       "<pymongo.results.InsertOneResult at 0x10b5c7408>"
      ]
     },
     "execution_count": 235,
     "metadata": {},
     "output_type": "execute_result"
    },
    {
     "data": {
      "text/plain": [
       "<pymongo.results.InsertOneResult at 0x10b2a0548>"
      ]
     },
     "execution_count": 235,
     "metadata": {},
     "output_type": "execute_result"
    },
    {
     "data": {
      "text/plain": [
       "<pymongo.results.InsertOneResult at 0x10b2a34c8>"
      ]
     },
     "execution_count": 235,
     "metadata": {},
     "output_type": "execute_result"
    },
    {
     "data": {
      "text/plain": [
       "<pymongo.results.InsertOneResult at 0x10b2c5e48>"
      ]
     },
     "execution_count": 235,
     "metadata": {},
     "output_type": "execute_result"
    },
    {
     "data": {
      "text/plain": [
       "<pymongo.results.InsertOneResult at 0x10b5a7f88>"
      ]
     },
     "execution_count": 235,
     "metadata": {},
     "output_type": "execute_result"
    },
    {
     "data": {
      "text/plain": [
       "<pymongo.results.InsertOneResult at 0x1093d1988>"
      ]
     },
     "execution_count": 235,
     "metadata": {},
     "output_type": "execute_result"
    },
    {
     "data": {
      "text/plain": [
       "<pymongo.results.InsertOneResult at 0x10b2a23c8>"
      ]
     },
     "execution_count": 235,
     "metadata": {},
     "output_type": "execute_result"
    },
    {
     "data": {
      "text/plain": [
       "<pymongo.results.InsertOneResult at 0x10b5aac48>"
      ]
     },
     "execution_count": 235,
     "metadata": {},
     "output_type": "execute_result"
    },
    {
     "data": {
      "text/plain": [
       "<pymongo.results.InsertOneResult at 0x10b5a7288>"
      ]
     },
     "execution_count": 235,
     "metadata": {},
     "output_type": "execute_result"
    },
    {
     "data": {
      "text/plain": [
       "<pymongo.results.InsertOneResult at 0x10b5c6e48>"
      ]
     },
     "execution_count": 235,
     "metadata": {},
     "output_type": "execute_result"
    },
    {
     "data": {
      "text/plain": [
       "<pymongo.results.InsertOneResult at 0x10b5b6488>"
      ]
     },
     "execution_count": 235,
     "metadata": {},
     "output_type": "execute_result"
    },
    {
     "data": {
      "text/plain": [
       "<pymongo.results.InsertOneResult at 0x10b2edf48>"
      ]
     },
     "execution_count": 235,
     "metadata": {},
     "output_type": "execute_result"
    },
    {
     "data": {
      "text/plain": [
       "<pymongo.results.InsertOneResult at 0x10b5ad048>"
      ]
     },
     "execution_count": 235,
     "metadata": {},
     "output_type": "execute_result"
    },
    {
     "data": {
      "text/plain": [
       "<pymongo.results.InsertOneResult at 0x10b5b8e08>"
      ]
     },
     "execution_count": 235,
     "metadata": {},
     "output_type": "execute_result"
    },
    {
     "data": {
      "text/plain": [
       "<pymongo.results.InsertOneResult at 0x10b5f1048>"
      ]
     },
     "execution_count": 235,
     "metadata": {},
     "output_type": "execute_result"
    },
    {
     "data": {
      "text/plain": [
       "<pymongo.results.InsertOneResult at 0x10b2dd408>"
      ]
     },
     "execution_count": 235,
     "metadata": {},
     "output_type": "execute_result"
    },
    {
     "data": {
      "text/plain": [
       "<pymongo.results.InsertOneResult at 0x1093d1988>"
      ]
     },
     "execution_count": 235,
     "metadata": {},
     "output_type": "execute_result"
    },
    {
     "data": {
      "text/plain": [
       "<pymongo.results.InsertOneResult at 0x10b299288>"
      ]
     },
     "execution_count": 235,
     "metadata": {},
     "output_type": "execute_result"
    },
    {
     "data": {
      "text/plain": [
       "<pymongo.results.InsertOneResult at 0x10b60cc48>"
      ]
     },
     "execution_count": 235,
     "metadata": {},
     "output_type": "execute_result"
    },
    {
     "data": {
      "text/plain": [
       "<pymongo.results.InsertOneResult at 0x10b2c8a48>"
      ]
     },
     "execution_count": 235,
     "metadata": {},
     "output_type": "execute_result"
    },
    {
     "data": {
      "text/plain": [
       "<pymongo.results.InsertOneResult at 0x10b2c9748>"
      ]
     },
     "execution_count": 235,
     "metadata": {},
     "output_type": "execute_result"
    },
    {
     "data": {
      "text/plain": [
       "<pymongo.results.InsertOneResult at 0x10b5f4e88>"
      ]
     },
     "execution_count": 235,
     "metadata": {},
     "output_type": "execute_result"
    },
    {
     "data": {
      "text/plain": [
       "<pymongo.results.InsertOneResult at 0x10b5c6108>"
      ]
     },
     "execution_count": 235,
     "metadata": {},
     "output_type": "execute_result"
    },
    {
     "data": {
      "text/plain": [
       "<pymongo.results.InsertOneResult at 0x10b5f4548>"
      ]
     },
     "execution_count": 235,
     "metadata": {},
     "output_type": "execute_result"
    },
    {
     "data": {
      "text/plain": [
       "<pymongo.results.InsertOneResult at 0x10b5b84c8>"
      ]
     },
     "execution_count": 235,
     "metadata": {},
     "output_type": "execute_result"
    },
    {
     "data": {
      "text/plain": [
       "<pymongo.results.InsertOneResult at 0x10b5b2a08>"
      ]
     },
     "execution_count": 235,
     "metadata": {},
     "output_type": "execute_result"
    },
    {
     "data": {
      "text/plain": [
       "<pymongo.results.InsertOneResult at 0x10b5d38c8>"
      ]
     },
     "execution_count": 235,
     "metadata": {},
     "output_type": "execute_result"
    },
    {
     "data": {
      "text/plain": [
       "<pymongo.results.InsertOneResult at 0x10b61f988>"
      ]
     },
     "execution_count": 235,
     "metadata": {},
     "output_type": "execute_result"
    },
    {
     "data": {
      "text/plain": [
       "<pymongo.results.InsertOneResult at 0x10b633908>"
      ]
     },
     "execution_count": 235,
     "metadata": {},
     "output_type": "execute_result"
    },
    {
     "data": {
      "text/plain": [
       "<pymongo.results.InsertOneResult at 0x10b2b1ec8>"
      ]
     },
     "execution_count": 235,
     "metadata": {},
     "output_type": "execute_result"
    },
    {
     "data": {
      "text/plain": [
       "<pymongo.results.InsertOneResult at 0x10b5eb188>"
      ]
     },
     "execution_count": 235,
     "metadata": {},
     "output_type": "execute_result"
    },
    {
     "data": {
      "text/plain": [
       "<pymongo.results.InsertOneResult at 0x10b2dd088>"
      ]
     },
     "execution_count": 235,
     "metadata": {},
     "output_type": "execute_result"
    },
    {
     "data": {
      "text/plain": [
       "<pymongo.results.InsertOneResult at 0x10b2e36c8>"
      ]
     },
     "execution_count": 235,
     "metadata": {},
     "output_type": "execute_result"
    },
    {
     "data": {
      "text/plain": [
       "<pymongo.results.InsertOneResult at 0x10b2b01c8>"
      ]
     },
     "execution_count": 235,
     "metadata": {},
     "output_type": "execute_result"
    },
    {
     "data": {
      "text/plain": [
       "<pymongo.results.InsertOneResult at 0x10b5c26c8>"
      ]
     },
     "execution_count": 235,
     "metadata": {},
     "output_type": "execute_result"
    },
    {
     "data": {
      "text/plain": [
       "<pymongo.results.InsertOneResult at 0x10b5b4348>"
      ]
     },
     "execution_count": 235,
     "metadata": {},
     "output_type": "execute_result"
    },
    {
     "data": {
      "text/plain": [
       "<pymongo.results.InsertOneResult at 0x10b2e2708>"
      ]
     },
     "execution_count": 235,
     "metadata": {},
     "output_type": "execute_result"
    },
    {
     "data": {
      "text/plain": [
       "<pymongo.results.InsertOneResult at 0x10b5c4748>"
      ]
     },
     "execution_count": 235,
     "metadata": {},
     "output_type": "execute_result"
    },
    {
     "data": {
      "text/plain": [
       "<pymongo.results.InsertOneResult at 0x10b4e5848>"
      ]
     },
     "execution_count": 235,
     "metadata": {},
     "output_type": "execute_result"
    },
    {
     "data": {
      "text/plain": [
       "<pymongo.results.InsertOneResult at 0x10b5ad948>"
      ]
     },
     "execution_count": 235,
     "metadata": {},
     "output_type": "execute_result"
    },
    {
     "data": {
      "text/plain": [
       "<pymongo.results.InsertOneResult at 0x10b5eb808>"
      ]
     },
     "execution_count": 235,
     "metadata": {},
     "output_type": "execute_result"
    },
    {
     "data": {
      "text/plain": [
       "<pymongo.results.InsertOneResult at 0x10b2df508>"
      ]
     },
     "execution_count": 235,
     "metadata": {},
     "output_type": "execute_result"
    },
    {
     "data": {
      "text/plain": [
       "<pymongo.results.InsertOneResult at 0x10b5c2c48>"
      ]
     },
     "execution_count": 235,
     "metadata": {},
     "output_type": "execute_result"
    },
    {
     "data": {
      "text/plain": [
       "<pymongo.results.InsertOneResult at 0x10b5c3e48>"
      ]
     },
     "execution_count": 235,
     "metadata": {},
     "output_type": "execute_result"
    },
    {
     "data": {
      "text/plain": [
       "<pymongo.results.InsertOneResult at 0x10b5da088>"
      ]
     },
     "execution_count": 235,
     "metadata": {},
     "output_type": "execute_result"
    },
    {
     "data": {
      "text/plain": [
       "<pymongo.results.InsertOneResult at 0x10b2e2708>"
      ]
     },
     "execution_count": 235,
     "metadata": {},
     "output_type": "execute_result"
    },
    {
     "data": {
      "text/plain": [
       "<pymongo.results.InsertOneResult at 0x1078f3248>"
      ]
     },
     "execution_count": 235,
     "metadata": {},
     "output_type": "execute_result"
    },
    {
     "data": {
      "text/plain": [
       "<pymongo.results.InsertOneResult at 0x10b5b6408>"
      ]
     },
     "execution_count": 235,
     "metadata": {},
     "output_type": "execute_result"
    },
    {
     "data": {
      "text/plain": [
       "<pymongo.results.InsertOneResult at 0x10b2a8148>"
      ]
     },
     "execution_count": 235,
     "metadata": {},
     "output_type": "execute_result"
    },
    {
     "data": {
      "text/plain": [
       "<pymongo.results.InsertOneResult at 0x10b2a8848>"
      ]
     },
     "execution_count": 235,
     "metadata": {},
     "output_type": "execute_result"
    },
    {
     "data": {
      "text/plain": [
       "<pymongo.results.InsertOneResult at 0x10aff6808>"
      ]
     },
     "execution_count": 235,
     "metadata": {},
     "output_type": "execute_result"
    },
    {
     "data": {
      "text/plain": [
       "<pymongo.results.InsertOneResult at 0x10b5b2f08>"
      ]
     },
     "execution_count": 235,
     "metadata": {},
     "output_type": "execute_result"
    },
    {
     "data": {
      "text/plain": [
       "<pymongo.results.InsertOneResult at 0x10b5b6488>"
      ]
     },
     "execution_count": 235,
     "metadata": {},
     "output_type": "execute_result"
    },
    {
     "data": {
      "text/plain": [
       "<pymongo.results.InsertOneResult at 0x10b5a7608>"
      ]
     },
     "execution_count": 235,
     "metadata": {},
     "output_type": "execute_result"
    },
    {
     "data": {
      "text/plain": [
       "<pymongo.results.InsertOneResult at 0x10b5aa3c8>"
      ]
     },
     "execution_count": 235,
     "metadata": {},
     "output_type": "execute_result"
    },
    {
     "data": {
      "text/plain": [
       "<pymongo.results.InsertOneResult at 0x10b5f4ac8>"
      ]
     },
     "execution_count": 235,
     "metadata": {},
     "output_type": "execute_result"
    },
    {
     "data": {
      "text/plain": [
       "<pymongo.results.InsertOneResult at 0x10b5a7f88>"
      ]
     },
     "execution_count": 235,
     "metadata": {},
     "output_type": "execute_result"
    },
    {
     "data": {
      "text/plain": [
       "<pymongo.results.InsertOneResult at 0x10b2e36c8>"
      ]
     },
     "execution_count": 235,
     "metadata": {},
     "output_type": "execute_result"
    },
    {
     "data": {
      "text/plain": [
       "<pymongo.results.InsertOneResult at 0x10b2edc48>"
      ]
     },
     "execution_count": 235,
     "metadata": {},
     "output_type": "execute_result"
    },
    {
     "data": {
      "text/plain": [
       "<pymongo.results.InsertOneResult at 0x10b2dd088>"
      ]
     },
     "execution_count": 235,
     "metadata": {},
     "output_type": "execute_result"
    },
    {
     "data": {
      "text/plain": [
       "<pymongo.results.InsertOneResult at 0x10b63dac8>"
      ]
     },
     "execution_count": 235,
     "metadata": {},
     "output_type": "execute_result"
    },
    {
     "data": {
      "text/plain": [
       "<pymongo.results.InsertOneResult at 0x10b5b0ac8>"
      ]
     },
     "execution_count": 235,
     "metadata": {},
     "output_type": "execute_result"
    },
    {
     "data": {
      "text/plain": [
       "<pymongo.results.InsertOneResult at 0x10b2ebe88>"
      ]
     },
     "execution_count": 235,
     "metadata": {},
     "output_type": "execute_result"
    },
    {
     "data": {
      "text/plain": [
       "<pymongo.results.InsertOneResult at 0x10932b908>"
      ]
     },
     "execution_count": 235,
     "metadata": {},
     "output_type": "execute_result"
    },
    {
     "data": {
      "text/plain": [
       "<pymongo.results.InsertOneResult at 0x10b5b8a48>"
      ]
     },
     "execution_count": 235,
     "metadata": {},
     "output_type": "execute_result"
    },
    {
     "data": {
      "text/plain": [
       "<pymongo.results.InsertOneResult at 0x10b5ad1c8>"
      ]
     },
     "execution_count": 235,
     "metadata": {},
     "output_type": "execute_result"
    },
    {
     "data": {
      "text/plain": [
       "<pymongo.results.InsertOneResult at 0x10b5ebe08>"
      ]
     },
     "execution_count": 235,
     "metadata": {},
     "output_type": "execute_result"
    },
    {
     "data": {
      "text/plain": [
       "<pymongo.results.InsertOneResult at 0x10b2a20c8>"
      ]
     },
     "execution_count": 235,
     "metadata": {},
     "output_type": "execute_result"
    },
    {
     "data": {
      "text/plain": [
       "<pymongo.results.InsertOneResult at 0x10b5c6c88>"
      ]
     },
     "execution_count": 235,
     "metadata": {},
     "output_type": "execute_result"
    },
    {
     "data": {
      "text/plain": [
       "<pymongo.results.InsertOneResult at 0x10b2eb848>"
      ]
     },
     "execution_count": 235,
     "metadata": {},
     "output_type": "execute_result"
    },
    {
     "data": {
      "text/plain": [
       "<pymongo.results.InsertOneResult at 0x10b5cf8c8>"
      ]
     },
     "execution_count": 235,
     "metadata": {},
     "output_type": "execute_result"
    },
    {
     "data": {
      "text/plain": [
       "<pymongo.results.InsertOneResult at 0x10b5aa948>"
      ]
     },
     "execution_count": 235,
     "metadata": {},
     "output_type": "execute_result"
    },
    {
     "data": {
      "text/plain": [
       "<pymongo.results.InsertOneResult at 0x10b5d9648>"
      ]
     },
     "execution_count": 235,
     "metadata": {},
     "output_type": "execute_result"
    },
    {
     "data": {
      "text/plain": [
       "<pymongo.results.InsertOneResult at 0x10b5da508>"
      ]
     },
     "execution_count": 235,
     "metadata": {},
     "output_type": "execute_result"
    },
    {
     "data": {
      "text/plain": [
       "<pymongo.results.InsertOneResult at 0x10b2dd088>"
      ]
     },
     "execution_count": 235,
     "metadata": {},
     "output_type": "execute_result"
    },
    {
     "data": {
      "text/plain": [
       "<pymongo.results.InsertOneResult at 0x10b60ce48>"
      ]
     },
     "execution_count": 235,
     "metadata": {},
     "output_type": "execute_result"
    },
    {
     "data": {
      "text/plain": [
       "<pymongo.results.InsertOneResult at 0x10b60cf88>"
      ]
     },
     "execution_count": 235,
     "metadata": {},
     "output_type": "execute_result"
    },
    {
     "data": {
      "text/plain": [
       "<pymongo.results.InsertOneResult at 0x10b5a7f88>"
      ]
     },
     "execution_count": 235,
     "metadata": {},
     "output_type": "execute_result"
    },
    {
     "data": {
      "text/plain": [
       "<pymongo.results.InsertOneResult at 0x10b5dae88>"
      ]
     },
     "execution_count": 235,
     "metadata": {},
     "output_type": "execute_result"
    },
    {
     "data": {
      "text/plain": [
       "<pymongo.results.InsertOneResult at 0x10b63f648>"
      ]
     },
     "execution_count": 235,
     "metadata": {},
     "output_type": "execute_result"
    },
    {
     "data": {
      "text/plain": [
       "<pymongo.results.InsertOneResult at 0x10b5dba88>"
      ]
     },
     "execution_count": 235,
     "metadata": {},
     "output_type": "execute_result"
    },
    {
     "data": {
      "text/plain": [
       "<pymongo.results.InsertOneResult at 0x10b5f1548>"
      ]
     },
     "execution_count": 235,
     "metadata": {},
     "output_type": "execute_result"
    },
    {
     "data": {
      "text/plain": [
       "<pymongo.results.InsertOneResult at 0x10b2ebe88>"
      ]
     },
     "execution_count": 235,
     "metadata": {},
     "output_type": "execute_result"
    },
    {
     "data": {
      "text/plain": [
       "<pymongo.results.InsertOneResult at 0x10b5d3748>"
      ]
     },
     "execution_count": 235,
     "metadata": {},
     "output_type": "execute_result"
    },
    {
     "data": {
      "text/plain": [
       "<pymongo.results.InsertOneResult at 0x10b5ad548>"
      ]
     },
     "execution_count": 235,
     "metadata": {},
     "output_type": "execute_result"
    },
    {
     "data": {
      "text/plain": [
       "<pymongo.results.InsertOneResult at 0x10b5f4548>"
      ]
     },
     "execution_count": 235,
     "metadata": {},
     "output_type": "execute_result"
    },
    {
     "data": {
      "text/plain": [
       "<pymongo.results.InsertOneResult at 0x1093d1748>"
      ]
     },
     "execution_count": 235,
     "metadata": {},
     "output_type": "execute_result"
    },
    {
     "data": {
      "text/plain": [
       "<pymongo.results.InsertOneResult at 0x10b2a0408>"
      ]
     },
     "execution_count": 235,
     "metadata": {},
     "output_type": "execute_result"
    },
    {
     "data": {
      "text/plain": [
       "<pymongo.results.InsertOneResult at 0x10b5bd988>"
      ]
     },
     "execution_count": 235,
     "metadata": {},
     "output_type": "execute_result"
    },
    {
     "data": {
      "text/plain": [
       "<pymongo.results.InsertOneResult at 0x10b5f3508>"
      ]
     },
     "execution_count": 235,
     "metadata": {},
     "output_type": "execute_result"
    },
    {
     "data": {
      "text/plain": [
       "<pymongo.results.InsertOneResult at 0x10b2a34c8>"
      ]
     },
     "execution_count": 235,
     "metadata": {},
     "output_type": "execute_result"
    },
    {
     "data": {
      "text/plain": [
       "<pymongo.results.InsertOneResult at 0x10b5b6488>"
      ]
     },
     "execution_count": 235,
     "metadata": {},
     "output_type": "execute_result"
    },
    {
     "data": {
      "text/plain": [
       "<pymongo.results.InsertOneResult at 0x10b5a7b88>"
      ]
     },
     "execution_count": 235,
     "metadata": {},
     "output_type": "execute_result"
    },
    {
     "data": {
      "text/plain": [
       "<pymongo.results.InsertOneResult at 0x10b5c4cc8>"
      ]
     },
     "execution_count": 235,
     "metadata": {},
     "output_type": "execute_result"
    },
    {
     "data": {
      "text/plain": [
       "<pymongo.results.InsertOneResult at 0x10b5b8f88>"
      ]
     },
     "execution_count": 235,
     "metadata": {},
     "output_type": "execute_result"
    },
    {
     "data": {
      "text/plain": [
       "<pymongo.results.InsertOneResult at 0x10b5de5c8>"
      ]
     },
     "execution_count": 235,
     "metadata": {},
     "output_type": "execute_result"
    },
    {
     "data": {
      "text/plain": [
       "<pymongo.results.InsertOneResult at 0x10b5ebb08>"
      ]
     },
     "execution_count": 235,
     "metadata": {},
     "output_type": "execute_result"
    },
    {
     "data": {
      "text/plain": [
       "<pymongo.results.InsertOneResult at 0x1093d1988>"
      ]
     },
     "execution_count": 235,
     "metadata": {},
     "output_type": "execute_result"
    },
    {
     "data": {
      "text/plain": [
       "<pymongo.results.InsertOneResult at 0x10b2e26c8>"
      ]
     },
     "execution_count": 235,
     "metadata": {},
     "output_type": "execute_result"
    },
    {
     "data": {
      "text/plain": [
       "<pymongo.results.InsertOneResult at 0x10b5ebcc8>"
      ]
     },
     "execution_count": 235,
     "metadata": {},
     "output_type": "execute_result"
    },
    {
     "data": {
      "text/plain": [
       "<pymongo.results.InsertOneResult at 0x10b5ba348>"
      ]
     },
     "execution_count": 235,
     "metadata": {},
     "output_type": "execute_result"
    },
    {
     "data": {
      "text/plain": [
       "<pymongo.results.InsertOneResult at 0x10b5b2a88>"
      ]
     },
     "execution_count": 235,
     "metadata": {},
     "output_type": "execute_result"
    },
    {
     "data": {
      "text/plain": [
       "<pymongo.results.InsertOneResult at 0x10b5f1348>"
      ]
     },
     "execution_count": 235,
     "metadata": {},
     "output_type": "execute_result"
    },
    {
     "data": {
      "text/plain": [
       "<pymongo.results.InsertOneResult at 0x10b633488>"
      ]
     },
     "execution_count": 235,
     "metadata": {},
     "output_type": "execute_result"
    },
    {
     "data": {
      "text/plain": [
       "<pymongo.results.InsertOneResult at 0x10b5b2688>"
      ]
     },
     "execution_count": 235,
     "metadata": {},
     "output_type": "execute_result"
    },
    {
     "data": {
      "text/plain": [
       "<pymongo.results.InsertOneResult at 0x10b5da088>"
      ]
     },
     "execution_count": 235,
     "metadata": {},
     "output_type": "execute_result"
    },
    {
     "data": {
      "text/plain": [
       "<pymongo.results.InsertOneResult at 0x10b2e36c8>"
      ]
     },
     "execution_count": 235,
     "metadata": {},
     "output_type": "execute_result"
    },
    {
     "data": {
      "text/plain": [
       "<pymongo.results.InsertOneResult at 0x10b62dbc8>"
      ]
     },
     "execution_count": 235,
     "metadata": {},
     "output_type": "execute_result"
    },
    {
     "data": {
      "text/plain": [
       "<pymongo.results.InsertOneResult at 0x10b2e1cc8>"
      ]
     },
     "execution_count": 235,
     "metadata": {},
     "output_type": "execute_result"
    },
    {
     "data": {
      "text/plain": [
       "<pymongo.results.InsertOneResult at 0x10b5b4e48>"
      ]
     },
     "execution_count": 235,
     "metadata": {},
     "output_type": "execute_result"
    },
    {
     "data": {
      "text/plain": [
       "<pymongo.results.InsertOneResult at 0x10b5f1488>"
      ]
     },
     "execution_count": 235,
     "metadata": {},
     "output_type": "execute_result"
    },
    {
     "data": {
      "text/plain": [
       "<pymongo.results.InsertOneResult at 0x10b2c8588>"
      ]
     },
     "execution_count": 235,
     "metadata": {},
     "output_type": "execute_result"
    },
    {
     "data": {
      "text/plain": [
       "<pymongo.results.InsertOneResult at 0x10b2e36c8>"
      ]
     },
     "execution_count": 235,
     "metadata": {},
     "output_type": "execute_result"
    },
    {
     "data": {
      "text/plain": [
       "<pymongo.results.InsertOneResult at 0x10b2ebe88>"
      ]
     },
     "execution_count": 235,
     "metadata": {},
     "output_type": "execute_result"
    },
    {
     "data": {
      "text/plain": [
       "<pymongo.results.InsertOneResult at 0x10b5f1408>"
      ]
     },
     "execution_count": 235,
     "metadata": {},
     "output_type": "execute_result"
    },
    {
     "data": {
      "text/plain": [
       "<pymongo.results.InsertOneResult at 0x10b2a3ec8>"
      ]
     },
     "execution_count": 235,
     "metadata": {},
     "output_type": "execute_result"
    },
    {
     "data": {
      "text/plain": [
       "<pymongo.results.InsertOneResult at 0x10b2f2d48>"
      ]
     },
     "execution_count": 235,
     "metadata": {},
     "output_type": "execute_result"
    },
    {
     "data": {
      "text/plain": [
       "<pymongo.results.InsertOneResult at 0x10b5f39c8>"
      ]
     },
     "execution_count": 235,
     "metadata": {},
     "output_type": "execute_result"
    },
    {
     "data": {
      "text/plain": [
       "<pymongo.results.InsertOneResult at 0x10b62d988>"
      ]
     },
     "execution_count": 235,
     "metadata": {},
     "output_type": "execute_result"
    },
    {
     "data": {
      "text/plain": [
       "<pymongo.results.InsertOneResult at 0x10b299108>"
      ]
     },
     "execution_count": 235,
     "metadata": {},
     "output_type": "execute_result"
    },
    {
     "data": {
      "text/plain": [
       "<pymongo.results.InsertOneResult at 0x10b633b88>"
      ]
     },
     "execution_count": 235,
     "metadata": {},
     "output_type": "execute_result"
    },
    {
     "data": {
      "text/plain": [
       "<pymongo.results.InsertOneResult at 0x10aff6808>"
      ]
     },
     "execution_count": 235,
     "metadata": {},
     "output_type": "execute_result"
    },
    {
     "data": {
      "text/plain": [
       "<pymongo.results.InsertOneResult at 0x10b5c2c48>"
      ]
     },
     "execution_count": 235,
     "metadata": {},
     "output_type": "execute_result"
    },
    {
     "data": {
      "text/plain": [
       "<pymongo.results.InsertOneResult at 0x10b62db48>"
      ]
     },
     "execution_count": 235,
     "metadata": {},
     "output_type": "execute_result"
    },
    {
     "data": {
      "text/plain": [
       "<pymongo.results.InsertOneResult at 0x10b2c8a48>"
      ]
     },
     "execution_count": 235,
     "metadata": {},
     "output_type": "execute_result"
    },
    {
     "data": {
      "text/plain": [
       "<pymongo.results.InsertOneResult at 0x10b5b8f88>"
      ]
     },
     "execution_count": 235,
     "metadata": {},
     "output_type": "execute_result"
    },
    {
     "data": {
      "text/plain": [
       "<pymongo.results.InsertOneResult at 0x10b5bdf08>"
      ]
     },
     "execution_count": 235,
     "metadata": {},
     "output_type": "execute_result"
    },
    {
     "data": {
      "text/plain": [
       "<pymongo.results.InsertOneResult at 0x10b2c5e48>"
      ]
     },
     "execution_count": 235,
     "metadata": {},
     "output_type": "execute_result"
    },
    {
     "data": {
      "text/plain": [
       "<pymongo.results.InsertOneResult at 0x10b5b2a08>"
      ]
     },
     "execution_count": 235,
     "metadata": {},
     "output_type": "execute_result"
    },
    {
     "data": {
      "text/plain": [
       "<pymongo.results.InsertOneResult at 0x10b5cf948>"
      ]
     },
     "execution_count": 235,
     "metadata": {},
     "output_type": "execute_result"
    },
    {
     "data": {
      "text/plain": [
       "<pymongo.results.InsertOneResult at 0x10b2a0408>"
      ]
     },
     "execution_count": 235,
     "metadata": {},
     "output_type": "execute_result"
    },
    {
     "data": {
      "text/plain": [
       "<pymongo.results.InsertOneResult at 0x10b5bd388>"
      ]
     },
     "execution_count": 235,
     "metadata": {},
     "output_type": "execute_result"
    },
    {
     "data": {
      "text/plain": [
       "<pymongo.results.InsertOneResult at 0x10b633488>"
      ]
     },
     "execution_count": 235,
     "metadata": {},
     "output_type": "execute_result"
    },
    {
     "data": {
      "text/plain": [
       "<pymongo.results.InsertOneResult at 0x10b633348>"
      ]
     },
     "execution_count": 235,
     "metadata": {},
     "output_type": "execute_result"
    },
    {
     "data": {
      "text/plain": [
       "<pymongo.results.InsertOneResult at 0x10b2a8148>"
      ]
     },
     "execution_count": 235,
     "metadata": {},
     "output_type": "execute_result"
    },
    {
     "data": {
      "text/plain": [
       "<pymongo.results.InsertOneResult at 0x10b5eb948>"
      ]
     },
     "execution_count": 235,
     "metadata": {},
     "output_type": "execute_result"
    },
    {
     "data": {
      "text/plain": [
       "<pymongo.results.InsertOneResult at 0x10b2c8588>"
      ]
     },
     "execution_count": 235,
     "metadata": {},
     "output_type": "execute_result"
    },
    {
     "data": {
      "text/plain": [
       "<pymongo.results.InsertOneResult at 0x10b5f3c08>"
      ]
     },
     "execution_count": 235,
     "metadata": {},
     "output_type": "execute_result"
    },
    {
     "data": {
      "text/plain": [
       "<pymongo.results.InsertOneResult at 0x10b5e0d08>"
      ]
     },
     "execution_count": 235,
     "metadata": {},
     "output_type": "execute_result"
    },
    {
     "data": {
      "text/plain": [
       "<pymongo.results.InsertOneResult at 0x10b2c9f48>"
      ]
     },
     "execution_count": 235,
     "metadata": {},
     "output_type": "execute_result"
    },
    {
     "data": {
      "text/plain": [
       "<pymongo.results.InsertOneResult at 0x10b63f888>"
      ]
     },
     "execution_count": 235,
     "metadata": {},
     "output_type": "execute_result"
    },
    {
     "data": {
      "text/plain": [
       "<pymongo.results.InsertOneResult at 0x10b2ddd48>"
      ]
     },
     "execution_count": 235,
     "metadata": {},
     "output_type": "execute_result"
    },
    {
     "data": {
      "text/plain": [
       "<pymongo.results.InsertOneResult at 0x10b5c4c48>"
      ]
     },
     "execution_count": 235,
     "metadata": {},
     "output_type": "execute_result"
    },
    {
     "data": {
      "text/plain": [
       "<pymongo.results.InsertOneResult at 0x10b2ebe88>"
      ]
     },
     "execution_count": 235,
     "metadata": {},
     "output_type": "execute_result"
    },
    {
     "data": {
      "text/plain": [
       "<pymongo.results.InsertOneResult at 0x10b5db848>"
      ]
     },
     "execution_count": 235,
     "metadata": {},
     "output_type": "execute_result"
    },
    {
     "data": {
      "text/plain": [
       "<pymongo.results.InsertOneResult at 0x10b5de1c8>"
      ]
     },
     "execution_count": 235,
     "metadata": {},
     "output_type": "execute_result"
    },
    {
     "data": {
      "text/plain": [
       "<pymongo.results.InsertOneResult at 0x10b5f3dc8>"
      ]
     },
     "execution_count": 235,
     "metadata": {},
     "output_type": "execute_result"
    },
    {
     "data": {
      "text/plain": [
       "<pymongo.results.InsertOneResult at 0x10b2c10c8>"
      ]
     },
     "execution_count": 235,
     "metadata": {},
     "output_type": "execute_result"
    },
    {
     "data": {
      "text/plain": [
       "<pymongo.results.InsertOneResult at 0x10b5da188>"
      ]
     },
     "execution_count": 235,
     "metadata": {},
     "output_type": "execute_result"
    },
    {
     "data": {
      "text/plain": [
       "<pymongo.results.InsertOneResult at 0x10b2b30c8>"
      ]
     },
     "execution_count": 235,
     "metadata": {},
     "output_type": "execute_result"
    },
    {
     "data": {
      "text/plain": [
       "<pymongo.results.InsertOneResult at 0x10b2dd088>"
      ]
     },
     "execution_count": 235,
     "metadata": {},
     "output_type": "execute_result"
    },
    {
     "data": {
      "text/plain": [
       "<pymongo.results.InsertOneResult at 0x1094c0908>"
      ]
     },
     "execution_count": 235,
     "metadata": {},
     "output_type": "execute_result"
    },
    {
     "data": {
      "text/plain": [
       "<pymongo.results.InsertOneResult at 0x10b2a0548>"
      ]
     },
     "execution_count": 235,
     "metadata": {},
     "output_type": "execute_result"
    },
    {
     "data": {
      "text/plain": [
       "<pymongo.results.InsertOneResult at 0x10b5d9448>"
      ]
     },
     "execution_count": 235,
     "metadata": {},
     "output_type": "execute_result"
    },
    {
     "data": {
      "text/plain": [
       "<pymongo.results.InsertOneResult at 0x10b2e36c8>"
      ]
     },
     "execution_count": 235,
     "metadata": {},
     "output_type": "execute_result"
    },
    {
     "data": {
      "text/plain": [
       "<pymongo.results.InsertOneResult at 0x10b2a9108>"
      ]
     },
     "execution_count": 235,
     "metadata": {},
     "output_type": "execute_result"
    },
    {
     "data": {
      "text/plain": [
       "<pymongo.results.InsertOneResult at 0x10b5abbc8>"
      ]
     },
     "execution_count": 235,
     "metadata": {},
     "output_type": "execute_result"
    },
    {
     "data": {
      "text/plain": [
       "<pymongo.results.InsertOneResult at 0x10b2eb848>"
      ]
     },
     "execution_count": 235,
     "metadata": {},
     "output_type": "execute_result"
    },
    {
     "data": {
      "text/plain": [
       "<pymongo.results.InsertOneResult at 0x10b5b2f08>"
      ]
     },
     "execution_count": 235,
     "metadata": {},
     "output_type": "execute_result"
    },
    {
     "data": {
      "text/plain": [
       "<pymongo.results.InsertOneResult at 0x10b5c7a88>"
      ]
     },
     "execution_count": 235,
     "metadata": {},
     "output_type": "execute_result"
    },
    {
     "data": {
      "text/plain": [
       "<pymongo.results.InsertOneResult at 0x10b2e36c8>"
      ]
     },
     "execution_count": 235,
     "metadata": {},
     "output_type": "execute_result"
    },
    {
     "data": {
      "text/plain": [
       "<pymongo.results.InsertOneResult at 0x10b2f0088>"
      ]
     },
     "execution_count": 235,
     "metadata": {},
     "output_type": "execute_result"
    },
    {
     "data": {
      "text/plain": [
       "<pymongo.results.InsertOneResult at 0x10b5b8f88>"
      ]
     },
     "execution_count": 235,
     "metadata": {},
     "output_type": "execute_result"
    },
    {
     "data": {
      "text/plain": [
       "<pymongo.results.InsertOneResult at 0x10b5b2f08>"
      ]
     },
     "execution_count": 235,
     "metadata": {},
     "output_type": "execute_result"
    },
    {
     "data": {
      "text/plain": [
       "<pymongo.results.InsertOneResult at 0x10b2eb848>"
      ]
     },
     "execution_count": 235,
     "metadata": {},
     "output_type": "execute_result"
    },
    {
     "data": {
      "text/plain": [
       "<pymongo.results.InsertOneResult at 0x10b5baf88>"
      ]
     },
     "execution_count": 235,
     "metadata": {},
     "output_type": "execute_result"
    },
    {
     "data": {
      "text/plain": [
       "<pymongo.results.InsertOneResult at 0x10b2ede88>"
      ]
     },
     "execution_count": 235,
     "metadata": {},
     "output_type": "execute_result"
    },
    {
     "data": {
      "text/plain": [
       "<pymongo.results.InsertOneResult at 0x10b2df808>"
      ]
     },
     "execution_count": 235,
     "metadata": {},
     "output_type": "execute_result"
    },
    {
     "data": {
      "text/plain": [
       "<pymongo.results.InsertOneResult at 0x10b2c8048>"
      ]
     },
     "execution_count": 235,
     "metadata": {},
     "output_type": "execute_result"
    },
    {
     "data": {
      "text/plain": [
       "<pymongo.results.InsertOneResult at 0x10b2ec488>"
      ]
     },
     "execution_count": 235,
     "metadata": {},
     "output_type": "execute_result"
    },
    {
     "data": {
      "text/plain": [
       "<pymongo.results.InsertOneResult at 0x10b5dac48>"
      ]
     },
     "execution_count": 235,
     "metadata": {},
     "output_type": "execute_result"
    },
    {
     "data": {
      "text/plain": [
       "<pymongo.results.InsertOneResult at 0x10b5c3e48>"
      ]
     },
     "execution_count": 235,
     "metadata": {},
     "output_type": "execute_result"
    },
    {
     "data": {
      "text/plain": [
       "<pymongo.results.InsertOneResult at 0x10b5cfb08>"
      ]
     },
     "execution_count": 235,
     "metadata": {},
     "output_type": "execute_result"
    },
    {
     "data": {
      "text/plain": [
       "<pymongo.results.InsertOneResult at 0x10b5bd048>"
      ]
     },
     "execution_count": 235,
     "metadata": {},
     "output_type": "execute_result"
    },
    {
     "data": {
      "text/plain": [
       "<pymongo.results.InsertOneResult at 0x10b2c9748>"
      ]
     },
     "execution_count": 235,
     "metadata": {},
     "output_type": "execute_result"
    },
    {
     "data": {
      "text/plain": [
       "<pymongo.results.InsertOneResult at 0x10b5b0dc8>"
      ]
     },
     "execution_count": 235,
     "metadata": {},
     "output_type": "execute_result"
    },
    {
     "data": {
      "text/plain": [
       "<pymongo.results.InsertOneResult at 0x10b5ebb88>"
      ]
     },
     "execution_count": 235,
     "metadata": {},
     "output_type": "execute_result"
    },
    {
     "data": {
      "text/plain": [
       "<pymongo.results.InsertOneResult at 0x10b5f3488>"
      ]
     },
     "execution_count": 235,
     "metadata": {},
     "output_type": "execute_result"
    },
    {
     "data": {
      "text/plain": [
       "<pymongo.results.InsertOneResult at 0x10b2b1a08>"
      ]
     },
     "execution_count": 235,
     "metadata": {},
     "output_type": "execute_result"
    },
    {
     "data": {
      "text/plain": [
       "<pymongo.results.InsertOneResult at 0x10b2f2988>"
      ]
     },
     "execution_count": 235,
     "metadata": {},
     "output_type": "execute_result"
    },
    {
     "data": {
      "text/plain": [
       "<pymongo.results.InsertOneResult at 0x10b5ba548>"
      ]
     },
     "execution_count": 235,
     "metadata": {},
     "output_type": "execute_result"
    },
    {
     "data": {
      "text/plain": [
       "<pymongo.results.InsertOneResult at 0x10b5d8f08>"
      ]
     },
     "execution_count": 235,
     "metadata": {},
     "output_type": "execute_result"
    },
    {
     "data": {
      "text/plain": [
       "<pymongo.results.InsertOneResult at 0x10b2bfe08>"
      ]
     },
     "execution_count": 235,
     "metadata": {},
     "output_type": "execute_result"
    },
    {
     "data": {
      "text/plain": [
       "<pymongo.results.InsertOneResult at 0x10b2ec608>"
      ]
     },
     "execution_count": 235,
     "metadata": {},
     "output_type": "execute_result"
    },
    {
     "data": {
      "text/plain": [
       "<pymongo.results.InsertOneResult at 0x10b5c6648>"
      ]
     },
     "execution_count": 235,
     "metadata": {},
     "output_type": "execute_result"
    },
    {
     "data": {
      "text/plain": [
       "<pymongo.results.InsertOneResult at 0x10b2a34c8>"
      ]
     },
     "execution_count": 235,
     "metadata": {},
     "output_type": "execute_result"
    },
    {
     "data": {
      "text/plain": [
       "<pymongo.results.InsertOneResult at 0x10932b908>"
      ]
     },
     "execution_count": 235,
     "metadata": {},
     "output_type": "execute_result"
    },
    {
     "data": {
      "text/plain": [
       "<pymongo.results.InsertOneResult at 0x10b2c8588>"
      ]
     },
     "execution_count": 235,
     "metadata": {},
     "output_type": "execute_result"
    },
    {
     "data": {
      "text/plain": [
       "<pymongo.results.InsertOneResult at 0x10b2ec608>"
      ]
     },
     "execution_count": 235,
     "metadata": {},
     "output_type": "execute_result"
    },
    {
     "data": {
      "text/plain": [
       "<pymongo.results.InsertOneResult at 0x10b2dd088>"
      ]
     },
     "execution_count": 235,
     "metadata": {},
     "output_type": "execute_result"
    },
    {
     "data": {
      "text/plain": [
       "<pymongo.results.InsertOneResult at 0x10b5b6c08>"
      ]
     },
     "execution_count": 235,
     "metadata": {},
     "output_type": "execute_result"
    },
    {
     "data": {
      "text/plain": [
       "<pymongo.results.InsertOneResult at 0x10b5b8a48>"
      ]
     },
     "execution_count": 235,
     "metadata": {},
     "output_type": "execute_result"
    },
    {
     "data": {
      "text/plain": [
       "<pymongo.results.InsertOneResult at 0x10b5b0dc8>"
      ]
     },
     "execution_count": 235,
     "metadata": {},
     "output_type": "execute_result"
    },
    {
     "data": {
      "text/plain": [
       "<pymongo.results.InsertOneResult at 0x10b2f2d48>"
      ]
     },
     "execution_count": 235,
     "metadata": {},
     "output_type": "execute_result"
    },
    {
     "data": {
      "text/plain": [
       "<pymongo.results.InsertOneResult at 0x10b2a8148>"
      ]
     },
     "execution_count": 235,
     "metadata": {},
     "output_type": "execute_result"
    },
    {
     "data": {
      "text/plain": [
       "<pymongo.results.InsertOneResult at 0x10b2a23c8>"
      ]
     },
     "execution_count": 235,
     "metadata": {},
     "output_type": "execute_result"
    },
    {
     "data": {
      "text/plain": [
       "<pymongo.results.InsertOneResult at 0x10b5ebd48>"
      ]
     },
     "execution_count": 235,
     "metadata": {},
     "output_type": "execute_result"
    },
    {
     "data": {
      "text/plain": [
       "<pymongo.results.InsertOneResult at 0x10b2b30c8>"
      ]
     },
     "execution_count": 235,
     "metadata": {},
     "output_type": "execute_result"
    },
    {
     "data": {
      "text/plain": [
       "<pymongo.results.InsertOneResult at 0x10b5c28c8>"
      ]
     },
     "execution_count": 235,
     "metadata": {},
     "output_type": "execute_result"
    },
    {
     "data": {
      "text/plain": [
       "<pymongo.results.InsertOneResult at 0x10b5f44c8>"
      ]
     },
     "execution_count": 235,
     "metadata": {},
     "output_type": "execute_result"
    },
    {
     "data": {
      "text/plain": [
       "<pymongo.results.InsertOneResult at 0x10b2edb88>"
      ]
     },
     "execution_count": 235,
     "metadata": {},
     "output_type": "execute_result"
    },
    {
     "data": {
      "text/plain": [
       "<pymongo.results.InsertOneResult at 0x10b2f0288>"
      ]
     },
     "execution_count": 235,
     "metadata": {},
     "output_type": "execute_result"
    },
    {
     "data": {
      "text/plain": [
       "<pymongo.results.InsertOneResult at 0x10b2dd088>"
      ]
     },
     "execution_count": 235,
     "metadata": {},
     "output_type": "execute_result"
    },
    {
     "data": {
      "text/plain": [
       "<pymongo.results.InsertOneResult at 0x1093d1748>"
      ]
     },
     "execution_count": 235,
     "metadata": {},
     "output_type": "execute_result"
    },
    {
     "data": {
      "text/plain": [
       "<pymongo.results.InsertOneResult at 0x10b2f2988>"
      ]
     },
     "execution_count": 235,
     "metadata": {},
     "output_type": "execute_result"
    },
    {
     "data": {
      "text/plain": [
       "<pymongo.results.InsertOneResult at 0x10b5d9dc8>"
      ]
     },
     "execution_count": 235,
     "metadata": {},
     "output_type": "execute_result"
    },
    {
     "data": {
      "text/plain": [
       "<pymongo.results.InsertOneResult at 0x10b61fc48>"
      ]
     },
     "execution_count": 235,
     "metadata": {},
     "output_type": "execute_result"
    },
    {
     "data": {
      "text/plain": [
       "<pymongo.results.InsertOneResult at 0x10b2990c8>"
      ]
     },
     "execution_count": 235,
     "metadata": {},
     "output_type": "execute_result"
    },
    {
     "data": {
      "text/plain": [
       "<pymongo.results.InsertOneResult at 0x10b5c48c8>"
      ]
     },
     "execution_count": 235,
     "metadata": {},
     "output_type": "execute_result"
    },
    {
     "data": {
      "text/plain": [
       "<pymongo.results.InsertOneResult at 0x10b5f1288>"
      ]
     },
     "execution_count": 235,
     "metadata": {},
     "output_type": "execute_result"
    },
    {
     "data": {
      "text/plain": [
       "<pymongo.results.InsertOneResult at 0x10b2b01c8>"
      ]
     },
     "execution_count": 235,
     "metadata": {},
     "output_type": "execute_result"
    },
    {
     "data": {
      "text/plain": [
       "<pymongo.results.InsertOneResult at 0x10b2bfe08>"
      ]
     },
     "execution_count": 235,
     "metadata": {},
     "output_type": "execute_result"
    },
    {
     "data": {
      "text/plain": [
       "<pymongo.results.InsertOneResult at 0x10b2df808>"
      ]
     },
     "execution_count": 235,
     "metadata": {},
     "output_type": "execute_result"
    },
    {
     "data": {
      "text/plain": [
       "<pymongo.results.InsertOneResult at 0x10b2f2c08>"
      ]
     },
     "execution_count": 235,
     "metadata": {},
     "output_type": "execute_result"
    },
    {
     "data": {
      "text/plain": [
       "<pymongo.results.InsertOneResult at 0x10b2f00c8>"
      ]
     },
     "execution_count": 235,
     "metadata": {},
     "output_type": "execute_result"
    },
    {
     "data": {
      "text/plain": [
       "<pymongo.results.InsertOneResult at 0x10b5d9c08>"
      ]
     },
     "execution_count": 235,
     "metadata": {},
     "output_type": "execute_result"
    },
    {
     "data": {
      "text/plain": [
       "<pymongo.results.InsertOneResult at 0x1093d1748>"
      ]
     },
     "execution_count": 235,
     "metadata": {},
     "output_type": "execute_result"
    },
    {
     "data": {
      "text/plain": [
       "<pymongo.results.InsertOneResult at 0x10b2a8848>"
      ]
     },
     "execution_count": 235,
     "metadata": {},
     "output_type": "execute_result"
    },
    {
     "data": {
      "text/plain": [
       "<pymongo.results.InsertOneResult at 0x10b29fb48>"
      ]
     },
     "execution_count": 235,
     "metadata": {},
     "output_type": "execute_result"
    },
    {
     "data": {
      "text/plain": [
       "<pymongo.results.InsertOneResult at 0x10b2b01c8>"
      ]
     },
     "execution_count": 235,
     "metadata": {},
     "output_type": "execute_result"
    },
    {
     "data": {
      "text/plain": [
       "<pymongo.results.InsertOneResult at 0x10b5aa748>"
      ]
     },
     "execution_count": 235,
     "metadata": {},
     "output_type": "execute_result"
    },
    {
     "data": {
      "text/plain": [
       "<pymongo.results.InsertOneResult at 0x10b2d3e88>"
      ]
     },
     "execution_count": 235,
     "metadata": {},
     "output_type": "execute_result"
    },
    {
     "data": {
      "text/plain": [
       "<pymongo.results.InsertOneResult at 0x10aff6808>"
      ]
     },
     "execution_count": 235,
     "metadata": {},
     "output_type": "execute_result"
    },
    {
     "data": {
      "text/plain": [
       "<pymongo.results.InsertOneResult at 0x10b5de1c8>"
      ]
     },
     "execution_count": 235,
     "metadata": {},
     "output_type": "execute_result"
    },
    {
     "data": {
      "text/plain": [
       "<pymongo.results.InsertOneResult at 0x10b2c8048>"
      ]
     },
     "execution_count": 235,
     "metadata": {},
     "output_type": "execute_result"
    },
    {
     "data": {
      "text/plain": [
       "<pymongo.results.InsertOneResult at 0x10b5c26c8>"
      ]
     },
     "execution_count": 235,
     "metadata": {},
     "output_type": "execute_result"
    },
    {
     "data": {
      "text/plain": [
       "<pymongo.results.InsertOneResult at 0x10b5c2348>"
      ]
     },
     "execution_count": 235,
     "metadata": {},
     "output_type": "execute_result"
    },
    {
     "data": {
      "text/plain": [
       "<pymongo.results.InsertOneResult at 0x10b5f3408>"
      ]
     },
     "execution_count": 235,
     "metadata": {},
     "output_type": "execute_result"
    },
    {
     "data": {
      "text/plain": [
       "<pymongo.results.InsertOneResult at 0x10b2c9748>"
      ]
     },
     "execution_count": 235,
     "metadata": {},
     "output_type": "execute_result"
    },
    {
     "data": {
      "text/plain": [
       "<pymongo.results.InsertOneResult at 0x10b2a3ec8>"
      ]
     },
     "execution_count": 235,
     "metadata": {},
     "output_type": "execute_result"
    },
    {
     "data": {
      "text/plain": [
       "<pymongo.results.InsertOneResult at 0x10b5fb488>"
      ]
     },
     "execution_count": 235,
     "metadata": {},
     "output_type": "execute_result"
    },
    {
     "data": {
      "text/plain": [
       "<pymongo.results.InsertOneResult at 0x10b5b84c8>"
      ]
     },
     "execution_count": 235,
     "metadata": {},
     "output_type": "execute_result"
    },
    {
     "data": {
      "text/plain": [
       "<pymongo.results.InsertOneResult at 0x10b5b6908>"
      ]
     },
     "execution_count": 235,
     "metadata": {},
     "output_type": "execute_result"
    },
    {
     "data": {
      "text/plain": [
       "<pymongo.results.InsertOneResult at 0x10b2c9308>"
      ]
     },
     "execution_count": 235,
     "metadata": {},
     "output_type": "execute_result"
    },
    {
     "data": {
      "text/plain": [
       "<pymongo.results.InsertOneResult at 0x10b5b0dc8>"
      ]
     },
     "execution_count": 235,
     "metadata": {},
     "output_type": "execute_result"
    },
    {
     "data": {
      "text/plain": [
       "<pymongo.results.InsertOneResult at 0x10b5c9608>"
      ]
     },
     "execution_count": 235,
     "metadata": {},
     "output_type": "execute_result"
    },
    {
     "data": {
      "text/plain": [
       "<pymongo.results.InsertOneResult at 0x10b5c6a48>"
      ]
     },
     "execution_count": 235,
     "metadata": {},
     "output_type": "execute_result"
    },
    {
     "data": {
      "text/plain": [
       "<pymongo.results.InsertOneResult at 0x10b626f48>"
      ]
     },
     "execution_count": 235,
     "metadata": {},
     "output_type": "execute_result"
    },
    {
     "data": {
      "text/plain": [
       "<pymongo.results.InsertOneResult at 0x10b2bfe08>"
      ]
     },
     "execution_count": 235,
     "metadata": {},
     "output_type": "execute_result"
    },
    {
     "data": {
      "text/plain": [
       "<pymongo.results.InsertOneResult at 0x10b5c4908>"
      ]
     },
     "execution_count": 235,
     "metadata": {},
     "output_type": "execute_result"
    },
    {
     "data": {
      "text/plain": [
       "<pymongo.results.InsertOneResult at 0x10b5ad948>"
      ]
     },
     "execution_count": 235,
     "metadata": {},
     "output_type": "execute_result"
    },
    {
     "data": {
      "text/plain": [
       "<pymongo.results.InsertOneResult at 0x10b6465c8>"
      ]
     },
     "execution_count": 235,
     "metadata": {},
     "output_type": "execute_result"
    },
    {
     "data": {
      "text/plain": [
       "<pymongo.results.InsertOneResult at 0x10aff6808>"
      ]
     },
     "execution_count": 235,
     "metadata": {},
     "output_type": "execute_result"
    },
    {
     "data": {
      "text/plain": [
       "<pymongo.results.InsertOneResult at 0x10b5c9408>"
      ]
     },
     "execution_count": 235,
     "metadata": {},
     "output_type": "execute_result"
    },
    {
     "data": {
      "text/plain": [
       "<pymongo.results.InsertOneResult at 0x10b5c7888>"
      ]
     },
     "execution_count": 235,
     "metadata": {},
     "output_type": "execute_result"
    },
    {
     "data": {
      "text/plain": [
       "<pymongo.results.InsertOneResult at 0x10b29fb48>"
      ]
     },
     "execution_count": 235,
     "metadata": {},
     "output_type": "execute_result"
    },
    {
     "data": {
      "text/plain": [
       "<pymongo.results.InsertOneResult at 0x10b2a23c8>"
      ]
     },
     "execution_count": 235,
     "metadata": {},
     "output_type": "execute_result"
    },
    {
     "data": {
      "text/plain": [
       "<pymongo.results.InsertOneResult at 0x10b2a34c8>"
      ]
     },
     "execution_count": 235,
     "metadata": {},
     "output_type": "execute_result"
    },
    {
     "data": {
      "text/plain": [
       "<pymongo.results.InsertOneResult at 0x10b5b6e88>"
      ]
     },
     "execution_count": 235,
     "metadata": {},
     "output_type": "execute_result"
    },
    {
     "data": {
      "text/plain": [
       "<pymongo.results.InsertOneResult at 0x10b621b08>"
      ]
     },
     "execution_count": 235,
     "metadata": {},
     "output_type": "execute_result"
    },
    {
     "data": {
      "text/plain": [
       "<pymongo.results.InsertOneResult at 0x10b5eb948>"
      ]
     },
     "execution_count": 235,
     "metadata": {},
     "output_type": "execute_result"
    },
    {
     "data": {
      "text/plain": [
       "<pymongo.results.InsertOneResult at 0x10b2a20c8>"
      ]
     },
     "execution_count": 235,
     "metadata": {},
     "output_type": "execute_result"
    },
    {
     "data": {
      "text/plain": [
       "<pymongo.results.InsertOneResult at 0x10b2ec048>"
      ]
     },
     "execution_count": 235,
     "metadata": {},
     "output_type": "execute_result"
    },
    {
     "data": {
      "text/plain": [
       "<pymongo.results.InsertOneResult at 0x10b2cec08>"
      ]
     },
     "execution_count": 235,
     "metadata": {},
     "output_type": "execute_result"
    },
    {
     "data": {
      "text/plain": [
       "<pymongo.results.InsertOneResult at 0x10b0f4648>"
      ]
     },
     "execution_count": 235,
     "metadata": {},
     "output_type": "execute_result"
    },
    {
     "data": {
      "text/plain": [
       "<pymongo.results.InsertOneResult at 0x10b2f01c8>"
      ]
     },
     "execution_count": 235,
     "metadata": {},
     "output_type": "execute_result"
    },
    {
     "data": {
      "text/plain": [
       "<pymongo.results.InsertOneResult at 0x10b2df808>"
      ]
     },
     "execution_count": 235,
     "metadata": {},
     "output_type": "execute_result"
    },
    {
     "data": {
      "text/plain": [
       "<pymongo.results.InsertOneResult at 0x10b2a20c8>"
      ]
     },
     "execution_count": 235,
     "metadata": {},
     "output_type": "execute_result"
    },
    {
     "data": {
      "text/plain": [
       "<pymongo.results.InsertOneResult at 0x10b2c8048>"
      ]
     },
     "execution_count": 235,
     "metadata": {},
     "output_type": "execute_result"
    },
    {
     "data": {
      "text/plain": [
       "<pymongo.results.InsertOneResult at 0x10b5a7688>"
      ]
     },
     "execution_count": 235,
     "metadata": {},
     "output_type": "execute_result"
    },
    {
     "data": {
      "text/plain": [
       "<pymongo.results.InsertOneResult at 0x10b5ba6c8>"
      ]
     },
     "execution_count": 235,
     "metadata": {},
     "output_type": "execute_result"
    },
    {
     "data": {
      "text/plain": [
       "<pymongo.results.InsertOneResult at 0x10b5e0bc8>"
      ]
     },
     "execution_count": 235,
     "metadata": {},
     "output_type": "execute_result"
    },
    {
     "data": {
      "text/plain": [
       "<pymongo.results.InsertOneResult at 0x10b2a9108>"
      ]
     },
     "execution_count": 235,
     "metadata": {},
     "output_type": "execute_result"
    },
    {
     "data": {
      "text/plain": [
       "<pymongo.results.InsertOneResult at 0x10b5eb948>"
      ]
     },
     "execution_count": 235,
     "metadata": {},
     "output_type": "execute_result"
    },
    {
     "data": {
      "text/plain": [
       "<pymongo.results.InsertOneResult at 0x10b5c4f88>"
      ]
     },
     "execution_count": 235,
     "metadata": {},
     "output_type": "execute_result"
    },
    {
     "data": {
      "text/plain": [
       "<pymongo.results.InsertOneResult at 0x10b2c5908>"
      ]
     },
     "execution_count": 235,
     "metadata": {},
     "output_type": "execute_result"
    },
    {
     "data": {
      "text/plain": [
       "<pymongo.results.InsertOneResult at 0x10932b908>"
      ]
     },
     "execution_count": 235,
     "metadata": {},
     "output_type": "execute_result"
    },
    {
     "data": {
      "text/plain": [
       "<pymongo.results.InsertOneResult at 0x10b633908>"
      ]
     },
     "execution_count": 235,
     "metadata": {},
     "output_type": "execute_result"
    },
    {
     "data": {
      "text/plain": [
       "<pymongo.results.InsertOneResult at 0x10b5b0dc8>"
      ]
     },
     "execution_count": 235,
     "metadata": {},
     "output_type": "execute_result"
    },
    {
     "data": {
      "text/plain": [
       "<pymongo.results.InsertOneResult at 0x10b5cfa88>"
      ]
     },
     "execution_count": 235,
     "metadata": {},
     "output_type": "execute_result"
    },
    {
     "data": {
      "text/plain": [
       "<pymongo.results.InsertOneResult at 0x10b5b6e88>"
      ]
     },
     "execution_count": 235,
     "metadata": {},
     "output_type": "execute_result"
    },
    {
     "data": {
      "text/plain": [
       "<pymongo.results.InsertOneResult at 0x10b5f44c8>"
      ]
     },
     "execution_count": 235,
     "metadata": {},
     "output_type": "execute_result"
    },
    {
     "data": {
      "text/plain": [
       "<pymongo.results.InsertOneResult at 0x10b2a9108>"
      ]
     },
     "execution_count": 235,
     "metadata": {},
     "output_type": "execute_result"
    },
    {
     "data": {
      "text/plain": [
       "<pymongo.results.InsertOneResult at 0x10b2c9308>"
      ]
     },
     "execution_count": 235,
     "metadata": {},
     "output_type": "execute_result"
    },
    {
     "data": {
      "text/plain": [
       "<pymongo.results.InsertOneResult at 0x10b5ebd88>"
      ]
     },
     "execution_count": 235,
     "metadata": {},
     "output_type": "execute_result"
    },
    {
     "data": {
      "text/plain": [
       "<pymongo.results.InsertOneResult at 0x10b2f2988>"
      ]
     },
     "execution_count": 235,
     "metadata": {},
     "output_type": "execute_result"
    },
    {
     "data": {
      "text/plain": [
       "<pymongo.results.InsertOneResult at 0x10b5bd4c8>"
      ]
     },
     "execution_count": 235,
     "metadata": {},
     "output_type": "execute_result"
    },
    {
     "data": {
      "text/plain": [
       "<pymongo.results.InsertOneResult at 0x10b646b88>"
      ]
     },
     "execution_count": 235,
     "metadata": {},
     "output_type": "execute_result"
    },
    {
     "data": {
      "text/plain": [
       "<pymongo.results.InsertOneResult at 0x1094c0908>"
      ]
     },
     "execution_count": 235,
     "metadata": {},
     "output_type": "execute_result"
    },
    {
     "data": {
      "text/plain": [
       "<pymongo.results.InsertOneResult at 0x10b2a0548>"
      ]
     },
     "execution_count": 235,
     "metadata": {},
     "output_type": "execute_result"
    },
    {
     "data": {
      "text/plain": [
       "<pymongo.results.InsertOneResult at 0x10b2edb48>"
      ]
     },
     "execution_count": 235,
     "metadata": {},
     "output_type": "execute_result"
    },
    {
     "data": {
      "text/plain": [
       "<pymongo.results.InsertOneResult at 0x10b2e1cc8>"
      ]
     },
     "execution_count": 235,
     "metadata": {},
     "output_type": "execute_result"
    },
    {
     "data": {
      "text/plain": [
       "<pymongo.results.InsertOneResult at 0x10b5b2388>"
      ]
     },
     "execution_count": 235,
     "metadata": {},
     "output_type": "execute_result"
    },
    {
     "data": {
      "text/plain": [
       "<pymongo.results.InsertOneResult at 0x10b63dec8>"
      ]
     },
     "execution_count": 235,
     "metadata": {},
     "output_type": "execute_result"
    },
    {
     "data": {
      "text/plain": [
       "<pymongo.results.InsertOneResult at 0x10b5f3dc8>"
      ]
     },
     "execution_count": 235,
     "metadata": {},
     "output_type": "execute_result"
    },
    {
     "data": {
      "text/plain": [
       "<pymongo.results.InsertOneResult at 0x10b5bd408>"
      ]
     },
     "execution_count": 235,
     "metadata": {},
     "output_type": "execute_result"
    },
    {
     "data": {
      "text/plain": [
       "<pymongo.results.InsertOneResult at 0x10b633648>"
      ]
     },
     "execution_count": 235,
     "metadata": {},
     "output_type": "execute_result"
    },
    {
     "data": {
      "text/plain": [
       "<pymongo.results.InsertOneResult at 0x10b5f1548>"
      ]
     },
     "execution_count": 235,
     "metadata": {},
     "output_type": "execute_result"
    },
    {
     "data": {
      "text/plain": [
       "<pymongo.results.InsertOneResult at 0x10b5ba7c8>"
      ]
     },
     "execution_count": 235,
     "metadata": {},
     "output_type": "execute_result"
    },
    {
     "data": {
      "text/plain": [
       "<pymongo.results.InsertOneResult at 0x10b645c48>"
      ]
     },
     "execution_count": 235,
     "metadata": {},
     "output_type": "execute_result"
    },
    {
     "data": {
      "text/plain": [
       "<pymongo.results.InsertOneResult at 0x10b5f3688>"
      ]
     },
     "execution_count": 235,
     "metadata": {},
     "output_type": "execute_result"
    },
    {
     "data": {
      "text/plain": [
       "<pymongo.results.InsertOneResult at 0x10b5b6b08>"
      ]
     },
     "execution_count": 235,
     "metadata": {},
     "output_type": "execute_result"
    },
    {
     "data": {
      "text/plain": [
       "<pymongo.results.InsertOneResult at 0x10b2a3ec8>"
      ]
     },
     "execution_count": 235,
     "metadata": {},
     "output_type": "execute_result"
    },
    {
     "data": {
      "text/plain": [
       "<pymongo.results.InsertOneResult at 0x10b5e0a48>"
      ]
     },
     "execution_count": 235,
     "metadata": {},
     "output_type": "execute_result"
    },
    {
     "data": {
      "text/plain": [
       "<pymongo.results.InsertOneResult at 0x10b5b6488>"
      ]
     },
     "execution_count": 235,
     "metadata": {},
     "output_type": "execute_result"
    },
    {
     "data": {
      "text/plain": [
       "<pymongo.results.InsertOneResult at 0x10b60ca48>"
      ]
     },
     "execution_count": 235,
     "metadata": {},
     "output_type": "execute_result"
    },
    {
     "data": {
      "text/plain": [
       "<pymongo.results.InsertOneResult at 0x10b5ad548>"
      ]
     },
     "execution_count": 235,
     "metadata": {},
     "output_type": "execute_result"
    },
    {
     "data": {
      "text/plain": [
       "<pymongo.results.InsertOneResult at 0x10b2ddd48>"
      ]
     },
     "execution_count": 235,
     "metadata": {},
     "output_type": "execute_result"
    },
    {
     "data": {
      "text/plain": [
       "<pymongo.results.InsertOneResult at 0x10b5ba348>"
      ]
     },
     "execution_count": 235,
     "metadata": {},
     "output_type": "execute_result"
    },
    {
     "data": {
      "text/plain": [
       "<pymongo.results.InsertOneResult at 0x10b5d9f48>"
      ]
     },
     "execution_count": 235,
     "metadata": {},
     "output_type": "execute_result"
    },
    {
     "data": {
      "text/plain": [
       "<pymongo.results.InsertOneResult at 0x10b5c9c88>"
      ]
     },
     "execution_count": 235,
     "metadata": {},
     "output_type": "execute_result"
    },
    {
     "data": {
      "text/plain": [
       "<pymongo.results.InsertOneResult at 0x10b5d3bc8>"
      ]
     },
     "execution_count": 235,
     "metadata": {},
     "output_type": "execute_result"
    },
    {
     "data": {
      "text/plain": [
       "<pymongo.results.InsertOneResult at 0x10b2ddd48>"
      ]
     },
     "execution_count": 235,
     "metadata": {},
     "output_type": "execute_result"
    },
    {
     "data": {
      "text/plain": [
       "<pymongo.results.InsertOneResult at 0x10b2dd408>"
      ]
     },
     "execution_count": 235,
     "metadata": {},
     "output_type": "execute_result"
    },
    {
     "data": {
      "text/plain": [
       "<pymongo.results.InsertOneResult at 0x10b2f2d88>"
      ]
     },
     "execution_count": 235,
     "metadata": {},
     "output_type": "execute_result"
    },
    {
     "data": {
      "text/plain": [
       "<pymongo.results.InsertOneResult at 0x10b2f2c08>"
      ]
     },
     "execution_count": 235,
     "metadata": {},
     "output_type": "execute_result"
    },
    {
     "data": {
      "text/plain": [
       "<pymongo.results.InsertOneResult at 0x10b2b1648>"
      ]
     },
     "execution_count": 235,
     "metadata": {},
     "output_type": "execute_result"
    },
    {
     "data": {
      "text/plain": [
       "<pymongo.results.InsertOneResult at 0x10b5ba7c8>"
      ]
     },
     "execution_count": 235,
     "metadata": {},
     "output_type": "execute_result"
    },
    {
     "data": {
      "text/plain": [
       "<pymongo.results.InsertOneResult at 0x10b63f148>"
      ]
     },
     "execution_count": 235,
     "metadata": {},
     "output_type": "execute_result"
    },
    {
     "data": {
      "text/plain": [
       "<pymongo.results.InsertOneResult at 0x10b5d99c8>"
      ]
     },
     "execution_count": 235,
     "metadata": {},
     "output_type": "execute_result"
    },
    {
     "data": {
      "text/plain": [
       "<pymongo.results.InsertOneResult at 0x10b621f88>"
      ]
     },
     "execution_count": 235,
     "metadata": {},
     "output_type": "execute_result"
    },
    {
     "data": {
      "text/plain": [
       "<pymongo.results.InsertOneResult at 0x10b63d648>"
      ]
     },
     "execution_count": 235,
     "metadata": {},
     "output_type": "execute_result"
    },
    {
     "data": {
      "text/plain": [
       "<pymongo.results.InsertOneResult at 0x10b2b1e88>"
      ]
     },
     "execution_count": 235,
     "metadata": {},
     "output_type": "execute_result"
    },
    {
     "data": {
      "text/plain": [
       "<pymongo.results.InsertOneResult at 0x10b5ab848>"
      ]
     },
     "execution_count": 235,
     "metadata": {},
     "output_type": "execute_result"
    },
    {
     "data": {
      "text/plain": [
       "<pymongo.results.InsertOneResult at 0x1094c0908>"
      ]
     },
     "execution_count": 235,
     "metadata": {},
     "output_type": "execute_result"
    },
    {
     "data": {
      "text/plain": [
       "<pymongo.results.InsertOneResult at 0x10b2e36c8>"
      ]
     },
     "execution_count": 235,
     "metadata": {},
     "output_type": "execute_result"
    },
    {
     "data": {
      "text/plain": [
       "<pymongo.results.InsertOneResult at 0x10b5c7bc8>"
      ]
     },
     "execution_count": 235,
     "metadata": {},
     "output_type": "execute_result"
    },
    {
     "data": {
      "text/plain": [
       "<pymongo.results.InsertOneResult at 0x10b5f13c8>"
      ]
     },
     "execution_count": 235,
     "metadata": {},
     "output_type": "execute_result"
    },
    {
     "data": {
      "text/plain": [
       "<pymongo.results.InsertOneResult at 0x10b2bfe08>"
      ]
     },
     "execution_count": 235,
     "metadata": {},
     "output_type": "execute_result"
    },
    {
     "data": {
      "text/plain": [
       "<pymongo.results.InsertOneResult at 0x10b5f4908>"
      ]
     },
     "execution_count": 235,
     "metadata": {},
     "output_type": "execute_result"
    },
    {
     "data": {
      "text/plain": [
       "<pymongo.results.InsertOneResult at 0x10b5eb948>"
      ]
     },
     "execution_count": 235,
     "metadata": {},
     "output_type": "execute_result"
    },
    {
     "data": {
      "text/plain": [
       "<pymongo.results.InsertOneResult at 0x10b5b4448>"
      ]
     },
     "execution_count": 235,
     "metadata": {},
     "output_type": "execute_result"
    },
    {
     "data": {
      "text/plain": [
       "<pymongo.results.InsertOneResult at 0x10b626488>"
      ]
     },
     "execution_count": 235,
     "metadata": {},
     "output_type": "execute_result"
    },
    {
     "data": {
      "text/plain": [
       "<pymongo.results.InsertOneResult at 0x10b5bd2c8>"
      ]
     },
     "execution_count": 235,
     "metadata": {},
     "output_type": "execute_result"
    },
    {
     "data": {
      "text/plain": [
       "<pymongo.results.InsertOneResult at 0x10b5c2a48>"
      ]
     },
     "execution_count": 235,
     "metadata": {},
     "output_type": "execute_result"
    },
    {
     "data": {
      "text/plain": [
       "<pymongo.results.InsertOneResult at 0x10b2b30c8>"
      ]
     },
     "execution_count": 235,
     "metadata": {},
     "output_type": "execute_result"
    },
    {
     "data": {
      "text/plain": [
       "<pymongo.results.InsertOneResult at 0x10b2e36c8>"
      ]
     },
     "execution_count": 235,
     "metadata": {},
     "output_type": "execute_result"
    },
    {
     "data": {
      "text/plain": [
       "<pymongo.results.InsertOneResult at 0x10b0f4648>"
      ]
     },
     "execution_count": 235,
     "metadata": {},
     "output_type": "execute_result"
    },
    {
     "data": {
      "text/plain": [
       "<pymongo.results.InsertOneResult at 0x10b5c23c8>"
      ]
     },
     "execution_count": 235,
     "metadata": {},
     "output_type": "execute_result"
    },
    {
     "data": {
      "text/plain": [
       "<pymongo.results.InsertOneResult at 0x10b5f4d48>"
      ]
     },
     "execution_count": 235,
     "metadata": {},
     "output_type": "execute_result"
    },
    {
     "data": {
      "text/plain": [
       "<pymongo.results.InsertOneResult at 0x10b2f2d88>"
      ]
     },
     "execution_count": 235,
     "metadata": {},
     "output_type": "execute_result"
    },
    {
     "data": {
      "text/plain": [
       "<pymongo.results.InsertOneResult at 0x10b5f38c8>"
      ]
     },
     "execution_count": 235,
     "metadata": {},
     "output_type": "execute_result"
    },
    {
     "data": {
      "text/plain": [
       "<pymongo.results.InsertOneResult at 0x10b5c2248>"
      ]
     },
     "execution_count": 235,
     "metadata": {},
     "output_type": "execute_result"
    },
    {
     "data": {
      "text/plain": [
       "<pymongo.results.InsertOneResult at 0x10932b908>"
      ]
     },
     "execution_count": 235,
     "metadata": {},
     "output_type": "execute_result"
    },
    {
     "data": {
      "text/plain": [
       "<pymongo.results.InsertOneResult at 0x10b2cec08>"
      ]
     },
     "execution_count": 235,
     "metadata": {},
     "output_type": "execute_result"
    },
    {
     "data": {
      "text/plain": [
       "<pymongo.results.InsertOneResult at 0x1094c0908>"
      ]
     },
     "execution_count": 235,
     "metadata": {},
     "output_type": "execute_result"
    },
    {
     "data": {
      "text/plain": [
       "<pymongo.results.InsertOneResult at 0x10b5f1408>"
      ]
     },
     "execution_count": 235,
     "metadata": {},
     "output_type": "execute_result"
    },
    {
     "data": {
      "text/plain": [
       "<pymongo.results.InsertOneResult at 0x10b5a7288>"
      ]
     },
     "execution_count": 235,
     "metadata": {},
     "output_type": "execute_result"
    },
    {
     "data": {
      "text/plain": [
       "<pymongo.results.InsertOneResult at 0x10b2d3e88>"
      ]
     },
     "execution_count": 235,
     "metadata": {},
     "output_type": "execute_result"
    },
    {
     "data": {
      "text/plain": [
       "<pymongo.results.InsertOneResult at 0x10b646748>"
      ]
     },
     "execution_count": 235,
     "metadata": {},
     "output_type": "execute_result"
    },
    {
     "name": "stdout",
     "output_type": "stream",
     "text": [
      "无效URL：http://ec.ef.com.cn/community/dailylesson/lessonhandler.ashx?operate=preloaddata&teachculturecode=en&lesson_id=777&transculturecode=zh-CN&ss=EE&v=35-1\n",
      "无效URL：http://ec.ef.com.cn/community/dailylesson/lessonhandler.ashx?operate=preloaddata&teachculturecode=en&lesson_id=778&transculturecode=zh-CN&ss=EE&v=35-1\n",
      "无效URL：http://ec.ef.com.cn/community/dailylesson/lessonhandler.ashx?operate=preloaddata&teachculturecode=en&lesson_id=779&transculturecode=zh-CN&ss=EE&v=35-1\n",
      "无效URL：http://ec.ef.com.cn/community/dailylesson/lessonhandler.ashx?operate=preloaddata&teachculturecode=en&lesson_id=780&transculturecode=zh-CN&ss=EE&v=35-1\n",
      "无效URL：http://ec.ef.com.cn/community/dailylesson/lessonhandler.ashx?operate=preloaddata&teachculturecode=en&lesson_id=781&transculturecode=zh-CN&ss=EE&v=35-1\n",
      "无效URL：http://ec.ef.com.cn/community/dailylesson/lessonhandler.ashx?operate=preloaddata&teachculturecode=en&lesson_id=782&transculturecode=zh-CN&ss=EE&v=35-1\n",
      "无效URL：http://ec.ef.com.cn/community/dailylesson/lessonhandler.ashx?operate=preloaddata&teachculturecode=en&lesson_id=783&transculturecode=zh-CN&ss=EE&v=35-1\n",
      "无效URL：http://ec.ef.com.cn/community/dailylesson/lessonhandler.ashx?operate=preloaddata&teachculturecode=en&lesson_id=784&transculturecode=zh-CN&ss=EE&v=35-1\n",
      "无效URL：http://ec.ef.com.cn/community/dailylesson/lessonhandler.ashx?operate=preloaddata&teachculturecode=en&lesson_id=785&transculturecode=zh-CN&ss=EE&v=35-1\n",
      "无效URL：http://ec.ef.com.cn/community/dailylesson/lessonhandler.ashx?operate=preloaddata&teachculturecode=en&lesson_id=786&transculturecode=zh-CN&ss=EE&v=35-1\n",
      "无效URL：http://ec.ef.com.cn/community/dailylesson/lessonhandler.ashx?operate=preloaddata&teachculturecode=en&lesson_id=787&transculturecode=zh-CN&ss=EE&v=35-1\n",
      "无效URL：http://ec.ef.com.cn/community/dailylesson/lessonhandler.ashx?operate=preloaddata&teachculturecode=en&lesson_id=788&transculturecode=zh-CN&ss=EE&v=35-1\n",
      "无效URL：http://ec.ef.com.cn/community/dailylesson/lessonhandler.ashx?operate=preloaddata&teachculturecode=en&lesson_id=789&transculturecode=zh-CN&ss=EE&v=35-1\n",
      "无效URL：http://ec.ef.com.cn/community/dailylesson/lessonhandler.ashx?operate=preloaddata&teachculturecode=en&lesson_id=790&transculturecode=zh-CN&ss=EE&v=35-1\n",
      "无效URL：http://ec.ef.com.cn/community/dailylesson/lessonhandler.ashx?operate=preloaddata&teachculturecode=en&lesson_id=791&transculturecode=zh-CN&ss=EE&v=35-1\n",
      "无效URL：http://ec.ef.com.cn/community/dailylesson/lessonhandler.ashx?operate=preloaddata&teachculturecode=en&lesson_id=792&transculturecode=zh-CN&ss=EE&v=35-1\n",
      "无效URL：http://ec.ef.com.cn/community/dailylesson/lessonhandler.ashx?operate=preloaddata&teachculturecode=en&lesson_id=793&transculturecode=zh-CN&ss=EE&v=35-1\n",
      "无效URL：http://ec.ef.com.cn/community/dailylesson/lessonhandler.ashx?operate=preloaddata&teachculturecode=en&lesson_id=794&transculturecode=zh-CN&ss=EE&v=35-1\n",
      "无效URL：http://ec.ef.com.cn/community/dailylesson/lessonhandler.ashx?operate=preloaddata&teachculturecode=en&lesson_id=795&transculturecode=zh-CN&ss=EE&v=35-1\n",
      "无效URL：http://ec.ef.com.cn/community/dailylesson/lessonhandler.ashx?operate=preloaddata&teachculturecode=en&lesson_id=796&transculturecode=zh-CN&ss=EE&v=35-1\n",
      "无效URL：http://ec.ef.com.cn/community/dailylesson/lessonhandler.ashx?operate=preloaddata&teachculturecode=en&lesson_id=797&transculturecode=zh-CN&ss=EE&v=35-1\n",
      "无效URL：http://ec.ef.com.cn/community/dailylesson/lessonhandler.ashx?operate=preloaddata&teachculturecode=en&lesson_id=798&transculturecode=zh-CN&ss=EE&v=35-1\n",
      "无效URL：http://ec.ef.com.cn/community/dailylesson/lessonhandler.ashx?operate=preloaddata&teachculturecode=en&lesson_id=799&transculturecode=zh-CN&ss=EE&v=35-1\n",
      "无效URL：http://ec.ef.com.cn/community/dailylesson/lessonhandler.ashx?operate=preloaddata&teachculturecode=en&lesson_id=800&transculturecode=zh-CN&ss=EE&v=35-1\n",
      "无效URL：http://ec.ef.com.cn/community/dailylesson/lessonhandler.ashx?operate=preloaddata&teachculturecode=en&lesson_id=801&transculturecode=zh-CN&ss=EE&v=35-1\n",
      "无效URL：http://ec.ef.com.cn/community/dailylesson/lessonhandler.ashx?operate=preloaddata&teachculturecode=en&lesson_id=802&transculturecode=zh-CN&ss=EE&v=35-1\n",
      "无效URL：http://ec.ef.com.cn/community/dailylesson/lessonhandler.ashx?operate=preloaddata&teachculturecode=en&lesson_id=803&transculturecode=zh-CN&ss=EE&v=35-1\n",
      "无效URL：http://ec.ef.com.cn/community/dailylesson/lessonhandler.ashx?operate=preloaddata&teachculturecode=en&lesson_id=804&transculturecode=zh-CN&ss=EE&v=35-1\n",
      "无效URL：http://ec.ef.com.cn/community/dailylesson/lessonhandler.ashx?operate=preloaddata&teachculturecode=en&lesson_id=805&transculturecode=zh-CN&ss=EE&v=35-1\n",
      "无效URL：http://ec.ef.com.cn/community/dailylesson/lessonhandler.ashx?operate=preloaddata&teachculturecode=en&lesson_id=806&transculturecode=zh-CN&ss=EE&v=35-1\n"
     ]
    },
    {
     "data": {
      "text/plain": [
       "<pymongo.results.InsertOneResult at 0x10b0f4648>"
      ]
     },
     "execution_count": 235,
     "metadata": {},
     "output_type": "execute_result"
    },
    {
     "data": {
      "text/plain": [
       "<pymongo.results.InsertOneResult at 0x10b5bd288>"
      ]
     },
     "execution_count": 235,
     "metadata": {},
     "output_type": "execute_result"
    },
    {
     "data": {
      "text/plain": [
       "<pymongo.results.InsertOneResult at 0x10b5baac8>"
      ]
     },
     "execution_count": 235,
     "metadata": {},
     "output_type": "execute_result"
    },
    {
     "data": {
      "text/plain": [
       "<pymongo.results.InsertOneResult at 0x10b2c5e48>"
      ]
     },
     "execution_count": 235,
     "metadata": {},
     "output_type": "execute_result"
    },
    {
     "data": {
      "text/plain": [
       "<pymongo.results.InsertOneResult at 0x10b5b4fc8>"
      ]
     },
     "execution_count": 235,
     "metadata": {},
     "output_type": "execute_result"
    },
    {
     "data": {
      "text/plain": [
       "<pymongo.results.InsertOneResult at 0x10b2a8848>"
      ]
     },
     "execution_count": 235,
     "metadata": {},
     "output_type": "execute_result"
    },
    {
     "data": {
      "text/plain": [
       "<pymongo.results.InsertOneResult at 0x10b299588>"
      ]
     },
     "execution_count": 235,
     "metadata": {},
     "output_type": "execute_result"
    },
    {
     "data": {
      "text/plain": [
       "<pymongo.results.InsertOneResult at 0x10b2ede88>"
      ]
     },
     "execution_count": 235,
     "metadata": {},
     "output_type": "execute_result"
    },
    {
     "data": {
      "text/plain": [
       "<pymongo.results.InsertOneResult at 0x10b2e2708>"
      ]
     },
     "execution_count": 235,
     "metadata": {},
     "output_type": "execute_result"
    },
    {
     "data": {
      "text/plain": [
       "<pymongo.results.InsertOneResult at 0x10b2b01c8>"
      ]
     },
     "execution_count": 235,
     "metadata": {},
     "output_type": "execute_result"
    },
    {
     "data": {
      "text/plain": [
       "<pymongo.results.InsertOneResult at 0x10932b908>"
      ]
     },
     "execution_count": 235,
     "metadata": {},
     "output_type": "execute_result"
    },
    {
     "data": {
      "text/plain": [
       "<pymongo.results.InsertOneResult at 0x10b5b8948>"
      ]
     },
     "execution_count": 235,
     "metadata": {},
     "output_type": "execute_result"
    },
    {
     "data": {
      "text/plain": [
       "<pymongo.results.InsertOneResult at 0x10b5c4748>"
      ]
     },
     "execution_count": 235,
     "metadata": {},
     "output_type": "execute_result"
    },
    {
     "data": {
      "text/plain": [
       "<pymongo.results.InsertOneResult at 0x10b5bd288>"
      ]
     },
     "execution_count": 235,
     "metadata": {},
     "output_type": "execute_result"
    },
    {
     "data": {
      "text/plain": [
       "<pymongo.results.InsertOneResult at 0x10b5f3888>"
      ]
     },
     "execution_count": 235,
     "metadata": {},
     "output_type": "execute_result"
    },
    {
     "data": {
      "text/plain": [
       "<pymongo.results.InsertOneResult at 0x10b5b4fc8>"
      ]
     },
     "execution_count": 235,
     "metadata": {},
     "output_type": "execute_result"
    },
    {
     "data": {
      "text/plain": [
       "<pymongo.results.InsertOneResult at 0x10b5c3e48>"
      ]
     },
     "execution_count": 235,
     "metadata": {},
     "output_type": "execute_result"
    },
    {
     "data": {
      "text/plain": [
       "<pymongo.results.InsertOneResult at 0x10b5c6cc8>"
      ]
     },
     "execution_count": 235,
     "metadata": {},
     "output_type": "execute_result"
    },
    {
     "data": {
      "text/plain": [
       "<pymongo.results.InsertOneResult at 0x10b0f4648>"
      ]
     },
     "execution_count": 235,
     "metadata": {},
     "output_type": "execute_result"
    },
    {
     "data": {
      "text/plain": [
       "<pymongo.results.InsertOneResult at 0x10b2f00c8>"
      ]
     },
     "execution_count": 235,
     "metadata": {},
     "output_type": "execute_result"
    },
    {
     "data": {
      "text/plain": [
       "<pymongo.results.InsertOneResult at 0x10b5d8c88>"
      ]
     },
     "execution_count": 235,
     "metadata": {},
     "output_type": "execute_result"
    },
    {
     "data": {
      "text/plain": [
       "<pymongo.results.InsertOneResult at 0x10b5c4e48>"
      ]
     },
     "execution_count": 235,
     "metadata": {},
     "output_type": "execute_result"
    },
    {
     "data": {
      "text/plain": [
       "<pymongo.results.InsertOneResult at 0x10b5da2c8>"
      ]
     },
     "execution_count": 235,
     "metadata": {},
     "output_type": "execute_result"
    },
    {
     "data": {
      "text/plain": [
       "<pymongo.results.InsertOneResult at 0x10b5ad548>"
      ]
     },
     "execution_count": 235,
     "metadata": {},
     "output_type": "execute_result"
    },
    {
     "data": {
      "text/plain": [
       "<pymongo.results.InsertOneResult at 0x10b2e2708>"
      ]
     },
     "execution_count": 235,
     "metadata": {},
     "output_type": "execute_result"
    },
    {
     "data": {
      "text/plain": [
       "<pymongo.results.InsertOneResult at 0x10b5ab948>"
      ]
     },
     "execution_count": 235,
     "metadata": {},
     "output_type": "execute_result"
    },
    {
     "data": {
      "text/plain": [
       "<pymongo.results.InsertOneResult at 0x10b2f01c8>"
      ]
     },
     "execution_count": 235,
     "metadata": {},
     "output_type": "execute_result"
    },
    {
     "data": {
      "text/plain": [
       "<pymongo.results.InsertOneResult at 0x10b2b1c08>"
      ]
     },
     "execution_count": 235,
     "metadata": {},
     "output_type": "execute_result"
    },
    {
     "data": {
      "text/plain": [
       "<pymongo.results.InsertOneResult at 0x10b2f0188>"
      ]
     },
     "execution_count": 235,
     "metadata": {},
     "output_type": "execute_result"
    },
    {
     "data": {
      "text/plain": [
       "<pymongo.results.InsertOneResult at 0x10b5ebec8>"
      ]
     },
     "execution_count": 235,
     "metadata": {},
     "output_type": "execute_result"
    },
    {
     "data": {
      "text/plain": [
       "<pymongo.results.InsertOneResult at 0x10b2ebe88>"
      ]
     },
     "execution_count": 235,
     "metadata": {},
     "output_type": "execute_result"
    },
    {
     "data": {
      "text/plain": [
       "<pymongo.results.InsertOneResult at 0x10b5e0b08>"
      ]
     },
     "execution_count": 235,
     "metadata": {},
     "output_type": "execute_result"
    },
    {
     "data": {
      "text/plain": [
       "<pymongo.results.InsertOneResult at 0x10932b908>"
      ]
     },
     "execution_count": 235,
     "metadata": {},
     "output_type": "execute_result"
    },
    {
     "data": {
      "text/plain": [
       "<pymongo.results.InsertOneResult at 0x10b2c8588>"
      ]
     },
     "execution_count": 235,
     "metadata": {},
     "output_type": "execute_result"
    },
    {
     "data": {
      "text/plain": [
       "<pymongo.results.InsertOneResult at 0x10b2c8e48>"
      ]
     },
     "execution_count": 235,
     "metadata": {},
     "output_type": "execute_result"
    },
    {
     "data": {
      "text/plain": [
       "<pymongo.results.InsertOneResult at 0x10b2c9f48>"
      ]
     },
     "execution_count": 235,
     "metadata": {},
     "output_type": "execute_result"
    },
    {
     "data": {
      "text/plain": [
       "<pymongo.results.InsertOneResult at 0x10b5b0348>"
      ]
     },
     "execution_count": 235,
     "metadata": {},
     "output_type": "execute_result"
    },
    {
     "data": {
      "text/plain": [
       "<pymongo.results.InsertOneResult at 0x10b626048>"
      ]
     },
     "execution_count": 235,
     "metadata": {},
     "output_type": "execute_result"
    },
    {
     "data": {
      "text/plain": [
       "<pymongo.results.InsertOneResult at 0x10b5b0ac8>"
      ]
     },
     "execution_count": 235,
     "metadata": {},
     "output_type": "execute_result"
    },
    {
     "data": {
      "text/plain": [
       "<pymongo.results.InsertOneResult at 0x10932b908>"
      ]
     },
     "execution_count": 235,
     "metadata": {},
     "output_type": "execute_result"
    },
    {
     "data": {
      "text/plain": [
       "<pymongo.results.InsertOneResult at 0x10b2eb848>"
      ]
     },
     "execution_count": 235,
     "metadata": {},
     "output_type": "execute_result"
    },
    {
     "data": {
      "text/plain": [
       "<pymongo.results.InsertOneResult at 0x10b2c9c08>"
      ]
     },
     "execution_count": 235,
     "metadata": {},
     "output_type": "execute_result"
    },
    {
     "data": {
      "text/plain": [
       "<pymongo.results.InsertOneResult at 0x10b5c7d08>"
      ]
     },
     "execution_count": 235,
     "metadata": {},
     "output_type": "execute_result"
    },
    {
     "data": {
      "text/plain": [
       "<pymongo.results.InsertOneResult at 0x10b5c9408>"
      ]
     },
     "execution_count": 235,
     "metadata": {},
     "output_type": "execute_result"
    },
    {
     "data": {
      "text/plain": [
       "<pymongo.results.InsertOneResult at 0x10b2a34c8>"
      ]
     },
     "execution_count": 235,
     "metadata": {},
     "output_type": "execute_result"
    },
    {
     "data": {
      "text/plain": [
       "<pymongo.results.InsertOneResult at 0x10b5c9608>"
      ]
     },
     "execution_count": 235,
     "metadata": {},
     "output_type": "execute_result"
    },
    {
     "data": {
      "text/plain": [
       "<pymongo.results.InsertOneResult at 0x10b2c9748>"
      ]
     },
     "execution_count": 235,
     "metadata": {},
     "output_type": "execute_result"
    },
    {
     "data": {
      "text/plain": [
       "<pymongo.results.InsertOneResult at 0x10b5e0e08>"
      ]
     },
     "execution_count": 235,
     "metadata": {},
     "output_type": "execute_result"
    },
    {
     "data": {
      "text/plain": [
       "<pymongo.results.InsertOneResult at 0x10b5c6cc8>"
      ]
     },
     "execution_count": 235,
     "metadata": {},
     "output_type": "execute_result"
    },
    {
     "data": {
      "text/plain": [
       "<pymongo.results.InsertOneResult at 0x10b5c6bc8>"
      ]
     },
     "execution_count": 235,
     "metadata": {},
     "output_type": "execute_result"
    },
    {
     "data": {
      "text/plain": [
       "<pymongo.results.InsertOneResult at 0x10b5f14c8>"
      ]
     },
     "execution_count": 235,
     "metadata": {},
     "output_type": "execute_result"
    },
    {
     "data": {
      "text/plain": [
       "<pymongo.results.InsertOneResult at 0x10b5a7308>"
      ]
     },
     "execution_count": 235,
     "metadata": {},
     "output_type": "execute_result"
    },
    {
     "data": {
      "text/plain": [
       "<pymongo.results.InsertOneResult at 0x10b5d9788>"
      ]
     },
     "execution_count": 235,
     "metadata": {},
     "output_type": "execute_result"
    },
    {
     "data": {
      "text/plain": [
       "<pymongo.results.InsertOneResult at 0x10b2f2c08>"
      ]
     },
     "execution_count": 235,
     "metadata": {},
     "output_type": "execute_result"
    },
    {
     "data": {
      "text/plain": [
       "<pymongo.results.InsertOneResult at 0x10b2c9748>"
      ]
     },
     "execution_count": 235,
     "metadata": {},
     "output_type": "execute_result"
    },
    {
     "data": {
      "text/plain": [
       "<pymongo.results.InsertOneResult at 0x10b5f1288>"
      ]
     },
     "execution_count": 235,
     "metadata": {},
     "output_type": "execute_result"
    },
    {
     "data": {
      "text/plain": [
       "<pymongo.results.InsertOneResult at 0x10b5c3808>"
      ]
     },
     "execution_count": 235,
     "metadata": {},
     "output_type": "execute_result"
    },
    {
     "data": {
      "text/plain": [
       "<pymongo.results.InsertOneResult at 0x10b5b2808>"
      ]
     },
     "execution_count": 235,
     "metadata": {},
     "output_type": "execute_result"
    },
    {
     "data": {
      "text/plain": [
       "<pymongo.results.InsertOneResult at 0x10b2edb48>"
      ]
     },
     "execution_count": 235,
     "metadata": {},
     "output_type": "execute_result"
    },
    {
     "data": {
      "text/plain": [
       "<pymongo.results.InsertOneResult at 0x10b5ad548>"
      ]
     },
     "execution_count": 235,
     "metadata": {},
     "output_type": "execute_result"
    },
    {
     "data": {
      "text/plain": [
       "<pymongo.results.InsertOneResult at 0x10b5d3748>"
      ]
     },
     "execution_count": 235,
     "metadata": {},
     "output_type": "execute_result"
    },
    {
     "data": {
      "text/plain": [
       "<pymongo.results.InsertOneResult at 0x10b5da548>"
      ]
     },
     "execution_count": 235,
     "metadata": {},
     "output_type": "execute_result"
    },
    {
     "data": {
      "text/plain": [
       "<pymongo.results.InsertOneResult at 0x10b2e26c8>"
      ]
     },
     "execution_count": 235,
     "metadata": {},
     "output_type": "execute_result"
    },
    {
     "data": {
      "text/plain": [
       "<pymongo.results.InsertOneResult at 0x10b61f308>"
      ]
     },
     "execution_count": 235,
     "metadata": {},
     "output_type": "execute_result"
    },
    {
     "data": {
      "text/plain": [
       "<pymongo.results.InsertOneResult at 0x10b2ec608>"
      ]
     },
     "execution_count": 235,
     "metadata": {},
     "output_type": "execute_result"
    },
    {
     "data": {
      "text/plain": [
       "<pymongo.results.InsertOneResult at 0x10b2f0088>"
      ]
     },
     "execution_count": 235,
     "metadata": {},
     "output_type": "execute_result"
    },
    {
     "data": {
      "text/plain": [
       "<pymongo.results.InsertOneResult at 0x10b2a34c8>"
      ]
     },
     "execution_count": 235,
     "metadata": {},
     "output_type": "execute_result"
    },
    {
     "data": {
      "text/plain": [
       "<pymongo.results.InsertOneResult at 0x10b2df508>"
      ]
     },
     "execution_count": 235,
     "metadata": {},
     "output_type": "execute_result"
    },
    {
     "data": {
      "text/plain": [
       "<pymongo.results.InsertOneResult at 0x10b4e5848>"
      ]
     },
     "execution_count": 235,
     "metadata": {},
     "output_type": "execute_result"
    },
    {
     "data": {
      "text/plain": [
       "<pymongo.results.InsertOneResult at 0x10b2e2708>"
      ]
     },
     "execution_count": 235,
     "metadata": {},
     "output_type": "execute_result"
    },
    {
     "data": {
      "text/plain": [
       "<pymongo.results.InsertOneResult at 0x10b2a9108>"
      ]
     },
     "execution_count": 235,
     "metadata": {},
     "output_type": "execute_result"
    },
    {
     "data": {
      "text/plain": [
       "<pymongo.results.InsertOneResult at 0x10b5b4e48>"
      ]
     },
     "execution_count": 235,
     "metadata": {},
     "output_type": "execute_result"
    },
    {
     "data": {
      "text/plain": [
       "<pymongo.results.InsertOneResult at 0x10b5a7308>"
      ]
     },
     "execution_count": 235,
     "metadata": {},
     "output_type": "execute_result"
    },
    {
     "data": {
      "text/plain": [
       "<pymongo.results.InsertOneResult at 0x10b5c2e48>"
      ]
     },
     "execution_count": 235,
     "metadata": {},
     "output_type": "execute_result"
    },
    {
     "data": {
      "text/plain": [
       "<pymongo.results.InsertOneResult at 0x10b2b1248>"
      ]
     },
     "execution_count": 235,
     "metadata": {},
     "output_type": "execute_result"
    },
    {
     "data": {
      "text/plain": [
       "<pymongo.results.InsertOneResult at 0x10b2990c8>"
      ]
     },
     "execution_count": 235,
     "metadata": {},
     "output_type": "execute_result"
    },
    {
     "data": {
      "text/plain": [
       "<pymongo.results.InsertOneResult at 0x10b5cf9c8>"
      ]
     },
     "execution_count": 235,
     "metadata": {},
     "output_type": "execute_result"
    },
    {
     "data": {
      "text/plain": [
       "<pymongo.results.InsertOneResult at 0x10b2a34c8>"
      ]
     },
     "execution_count": 235,
     "metadata": {},
     "output_type": "execute_result"
    },
    {
     "data": {
      "text/plain": [
       "<pymongo.results.InsertOneResult at 0x10b2a8848>"
      ]
     },
     "execution_count": 235,
     "metadata": {},
     "output_type": "execute_result"
    },
    {
     "data": {
      "text/plain": [
       "<pymongo.results.InsertOneResult at 0x10b2b1688>"
      ]
     },
     "execution_count": 235,
     "metadata": {},
     "output_type": "execute_result"
    },
    {
     "data": {
      "text/plain": [
       "<pymongo.results.InsertOneResult at 0x10b2994c8>"
      ]
     },
     "execution_count": 235,
     "metadata": {},
     "output_type": "execute_result"
    },
    {
     "data": {
      "text/plain": [
       "<pymongo.results.InsertOneResult at 0x10b5f4a08>"
      ]
     },
     "execution_count": 235,
     "metadata": {},
     "output_type": "execute_result"
    },
    {
     "data": {
      "text/plain": [
       "<pymongo.results.InsertOneResult at 0x10b2b30c8>"
      ]
     },
     "execution_count": 235,
     "metadata": {},
     "output_type": "execute_result"
    },
    {
     "data": {
      "text/plain": [
       "<pymongo.results.InsertOneResult at 0x10b2a3ec8>"
      ]
     },
     "execution_count": 235,
     "metadata": {},
     "output_type": "execute_result"
    },
    {
     "data": {
      "text/plain": [
       "<pymongo.results.InsertOneResult at 0x10b2ebe88>"
      ]
     },
     "execution_count": 235,
     "metadata": {},
     "output_type": "execute_result"
    },
    {
     "data": {
      "text/plain": [
       "<pymongo.results.InsertOneResult at 0x10b5a7308>"
      ]
     },
     "execution_count": 235,
     "metadata": {},
     "output_type": "execute_result"
    },
    {
     "data": {
      "text/plain": [
       "<pymongo.results.InsertOneResult at 0x10b60cc48>"
      ]
     },
     "execution_count": 235,
     "metadata": {},
     "output_type": "execute_result"
    },
    {
     "data": {
      "text/plain": [
       "<pymongo.results.InsertOneResult at 0x10b60cf08>"
      ]
     },
     "execution_count": 235,
     "metadata": {},
     "output_type": "execute_result"
    },
    {
     "data": {
      "text/plain": [
       "<pymongo.results.InsertOneResult at 0x10b2a34c8>"
      ]
     },
     "execution_count": 235,
     "metadata": {},
     "output_type": "execute_result"
    },
    {
     "data": {
      "text/plain": [
       "<pymongo.results.InsertOneResult at 0x10b5c9408>"
      ]
     },
     "execution_count": 235,
     "metadata": {},
     "output_type": "execute_result"
    },
    {
     "data": {
      "text/plain": [
       "<pymongo.results.InsertOneResult at 0x10b5d8a08>"
      ]
     },
     "execution_count": 235,
     "metadata": {},
     "output_type": "execute_result"
    },
    {
     "data": {
      "text/plain": [
       "<pymongo.results.InsertOneResult at 0x10b5baf48>"
      ]
     },
     "execution_count": 235,
     "metadata": {},
     "output_type": "execute_result"
    },
    {
     "data": {
      "text/plain": [
       "<pymongo.results.InsertOneResult at 0x10b5aa648>"
      ]
     },
     "execution_count": 235,
     "metadata": {},
     "output_type": "execute_result"
    },
    {
     "data": {
      "text/plain": [
       "<pymongo.results.InsertOneResult at 0x10b5c6c88>"
      ]
     },
     "execution_count": 235,
     "metadata": {},
     "output_type": "execute_result"
    },
    {
     "data": {
      "text/plain": [
       "<pymongo.results.InsertOneResult at 0x10b5b87c8>"
      ]
     },
     "execution_count": 235,
     "metadata": {},
     "output_type": "execute_result"
    },
    {
     "data": {
      "text/plain": [
       "<pymongo.results.InsertOneResult at 0x10b5f3408>"
      ]
     },
     "execution_count": 235,
     "metadata": {},
     "output_type": "execute_result"
    },
    {
     "data": {
      "text/plain": [
       "<pymongo.results.InsertOneResult at 0x10b5b0948>"
      ]
     },
     "execution_count": 235,
     "metadata": {},
     "output_type": "execute_result"
    },
    {
     "data": {
      "text/plain": [
       "<pymongo.results.InsertOneResult at 0x10b2c10c8>"
      ]
     },
     "execution_count": 235,
     "metadata": {},
     "output_type": "execute_result"
    },
    {
     "data": {
      "text/plain": [
       "<pymongo.results.InsertOneResult at 0x10b2f0088>"
      ]
     },
     "execution_count": 235,
     "metadata": {},
     "output_type": "execute_result"
    },
    {
     "data": {
      "text/plain": [
       "<pymongo.results.InsertOneResult at 0x10b2f02c8>"
      ]
     },
     "execution_count": 235,
     "metadata": {},
     "output_type": "execute_result"
    },
    {
     "data": {
      "text/plain": [
       "<pymongo.results.InsertOneResult at 0x10b2b01c8>"
      ]
     },
     "execution_count": 235,
     "metadata": {},
     "output_type": "execute_result"
    },
    {
     "data": {
      "text/plain": [
       "<pymongo.results.InsertOneResult at 0x10b2bfe08>"
      ]
     },
     "execution_count": 235,
     "metadata": {},
     "output_type": "execute_result"
    },
    {
     "data": {
      "text/plain": [
       "<pymongo.results.InsertOneResult at 0x10b2a0548>"
      ]
     },
     "execution_count": 235,
     "metadata": {},
     "output_type": "execute_result"
    },
    {
     "data": {
      "text/plain": [
       "<pymongo.results.InsertOneResult at 0x10b2cec08>"
      ]
     },
     "execution_count": 235,
     "metadata": {},
     "output_type": "execute_result"
    },
    {
     "data": {
      "text/plain": [
       "<pymongo.results.InsertOneResult at 0x10b2c8e48>"
      ]
     },
     "execution_count": 235,
     "metadata": {},
     "output_type": "execute_result"
    },
    {
     "data": {
      "text/plain": [
       "<pymongo.results.InsertOneResult at 0x10b2c8a48>"
      ]
     },
     "execution_count": 235,
     "metadata": {},
     "output_type": "execute_result"
    },
    {
     "data": {
      "text/plain": [
       "<pymongo.results.InsertOneResult at 0x10b2a39c8>"
      ]
     },
     "execution_count": 235,
     "metadata": {},
     "output_type": "execute_result"
    },
    {
     "data": {
      "text/plain": [
       "<pymongo.results.InsertOneResult at 0x10b2e2708>"
      ]
     },
     "execution_count": 235,
     "metadata": {},
     "output_type": "execute_result"
    },
    {
     "data": {
      "text/plain": [
       "<pymongo.results.InsertOneResult at 0x10b2a0548>"
      ]
     },
     "execution_count": 235,
     "metadata": {},
     "output_type": "execute_result"
    },
    {
     "data": {
      "text/plain": [
       "<pymongo.results.InsertOneResult at 0x10b2a9108>"
      ]
     },
     "execution_count": 235,
     "metadata": {},
     "output_type": "execute_result"
    },
    {
     "data": {
      "text/plain": [
       "<pymongo.results.InsertOneResult at 0x10b2c97c8>"
      ]
     },
     "execution_count": 235,
     "metadata": {},
     "output_type": "execute_result"
    },
    {
     "data": {
      "text/plain": [
       "<pymongo.results.InsertOneResult at 0x10b5e0ac8>"
      ]
     },
     "execution_count": 235,
     "metadata": {},
     "output_type": "execute_result"
    },
    {
     "data": {
      "text/plain": [
       "<pymongo.results.InsertOneResult at 0x10b5e0b88>"
      ]
     },
     "execution_count": 235,
     "metadata": {},
     "output_type": "execute_result"
    },
    {
     "data": {
      "text/plain": [
       "<pymongo.results.InsertOneResult at 0x10b646d48>"
      ]
     },
     "execution_count": 235,
     "metadata": {},
     "output_type": "execute_result"
    },
    {
     "data": {
      "text/plain": [
       "<pymongo.results.InsertOneResult at 0x10b0f4648>"
      ]
     },
     "execution_count": 235,
     "metadata": {},
     "output_type": "execute_result"
    },
    {
     "data": {
      "text/plain": [
       "<pymongo.results.InsertOneResult at 0x10b5c2448>"
      ]
     },
     "execution_count": 235,
     "metadata": {},
     "output_type": "execute_result"
    },
    {
     "data": {
      "text/plain": [
       "<pymongo.results.InsertOneResult at 0x10b2a9108>"
      ]
     },
     "execution_count": 235,
     "metadata": {},
     "output_type": "execute_result"
    },
    {
     "data": {
      "text/plain": [
       "<pymongo.results.InsertOneResult at 0x10b299588>"
      ]
     },
     "execution_count": 235,
     "metadata": {},
     "output_type": "execute_result"
    },
    {
     "data": {
      "text/plain": [
       "<pymongo.results.InsertOneResult at 0x10b5c28c8>"
      ]
     },
     "execution_count": 235,
     "metadata": {},
     "output_type": "execute_result"
    },
    {
     "data": {
      "text/plain": [
       "<pymongo.results.InsertOneResult at 0x10b2ec608>"
      ]
     },
     "execution_count": 235,
     "metadata": {},
     "output_type": "execute_result"
    },
    {
     "data": {
      "text/plain": [
       "<pymongo.results.InsertOneResult at 0x10b5d9e88>"
      ]
     },
     "execution_count": 235,
     "metadata": {},
     "output_type": "execute_result"
    },
    {
     "data": {
      "text/plain": [
       "<pymongo.results.InsertOneResult at 0x10b646d48>"
      ]
     },
     "execution_count": 235,
     "metadata": {},
     "output_type": "execute_result"
    },
    {
     "data": {
      "text/plain": [
       "<pymongo.results.InsertOneResult at 0x10b2edc48>"
      ]
     },
     "execution_count": 235,
     "metadata": {},
     "output_type": "execute_result"
    },
    {
     "data": {
      "text/plain": [
       "<pymongo.results.InsertOneResult at 0x10b2c5e48>"
      ]
     },
     "execution_count": 235,
     "metadata": {},
     "output_type": "execute_result"
    },
    {
     "data": {
      "text/plain": [
       "<pymongo.results.InsertOneResult at 0x10b5d8a48>"
      ]
     },
     "execution_count": 235,
     "metadata": {},
     "output_type": "execute_result"
    },
    {
     "data": {
      "text/plain": [
       "<pymongo.results.InsertOneResult at 0x10b5e0b88>"
      ]
     },
     "execution_count": 235,
     "metadata": {},
     "output_type": "execute_result"
    },
    {
     "data": {
      "text/plain": [
       "<pymongo.results.InsertOneResult at 0x10b633208>"
      ]
     },
     "execution_count": 235,
     "metadata": {},
     "output_type": "execute_result"
    },
    {
     "data": {
      "text/plain": [
       "<pymongo.results.InsertOneResult at 0x10b5c4e48>"
      ]
     },
     "execution_count": 235,
     "metadata": {},
     "output_type": "execute_result"
    },
    {
     "data": {
      "text/plain": [
       "<pymongo.results.InsertOneResult at 0x10b5f1488>"
      ]
     },
     "execution_count": 235,
     "metadata": {},
     "output_type": "execute_result"
    },
    {
     "data": {
      "text/plain": [
       "<pymongo.results.InsertOneResult at 0x10b2cec08>"
      ]
     },
     "execution_count": 235,
     "metadata": {},
     "output_type": "execute_result"
    },
    {
     "data": {
      "text/plain": [
       "<pymongo.results.InsertOneResult at 0x10b5a7b88>"
      ]
     },
     "execution_count": 235,
     "metadata": {},
     "output_type": "execute_result"
    },
    {
     "data": {
      "text/plain": [
       "<pymongo.results.InsertOneResult at 0x10b2edb88>"
      ]
     },
     "execution_count": 235,
     "metadata": {},
     "output_type": "execute_result"
    },
    {
     "data": {
      "text/plain": [
       "<pymongo.results.InsertOneResult at 0x10b5abb48>"
      ]
     },
     "execution_count": 235,
     "metadata": {},
     "output_type": "execute_result"
    },
    {
     "data": {
      "text/plain": [
       "<pymongo.results.InsertOneResult at 0x10b2f0048>"
      ]
     },
     "execution_count": 235,
     "metadata": {},
     "output_type": "execute_result"
    },
    {
     "data": {
      "text/plain": [
       "<pymongo.results.InsertOneResult at 0x10b5fb488>"
      ]
     },
     "execution_count": 235,
     "metadata": {},
     "output_type": "execute_result"
    },
    {
     "data": {
      "text/plain": [
       "<pymongo.results.InsertOneResult at 0x1093d1988>"
      ]
     },
     "execution_count": 235,
     "metadata": {},
     "output_type": "execute_result"
    },
    {
     "data": {
      "text/plain": [
       "<pymongo.results.InsertOneResult at 0x10b2ddd48>"
      ]
     },
     "execution_count": 235,
     "metadata": {},
     "output_type": "execute_result"
    },
    {
     "data": {
      "text/plain": [
       "<pymongo.results.InsertOneResult at 0x10b2e2708>"
      ]
     },
     "execution_count": 235,
     "metadata": {},
     "output_type": "execute_result"
    },
    {
     "data": {
      "text/plain": [
       "<pymongo.results.InsertOneResult at 0x10b2f2988>"
      ]
     },
     "execution_count": 235,
     "metadata": {},
     "output_type": "execute_result"
    },
    {
     "data": {
      "text/plain": [
       "<pymongo.results.InsertOneResult at 0x10932b908>"
      ]
     },
     "execution_count": 235,
     "metadata": {},
     "output_type": "execute_result"
    },
    {
     "data": {
      "text/plain": [
       "<pymongo.results.InsertOneResult at 0x10b5b0348>"
      ]
     },
     "execution_count": 235,
     "metadata": {},
     "output_type": "execute_result"
    },
    {
     "data": {
      "text/plain": [
       "<pymongo.results.InsertOneResult at 0x1094c0908>"
      ]
     },
     "execution_count": 235,
     "metadata": {},
     "output_type": "execute_result"
    },
    {
     "data": {
      "text/plain": [
       "<pymongo.results.InsertOneResult at 0x10b5b0ac8>"
      ]
     },
     "execution_count": 235,
     "metadata": {},
     "output_type": "execute_result"
    },
    {
     "data": {
      "text/plain": [
       "<pymongo.results.InsertOneResult at 0x10b2e24c8>"
      ]
     },
     "execution_count": 235,
     "metadata": {},
     "output_type": "execute_result"
    },
    {
     "data": {
      "text/plain": [
       "<pymongo.results.InsertOneResult at 0x10b2a23c8>"
      ]
     },
     "execution_count": 235,
     "metadata": {},
     "output_type": "execute_result"
    },
    {
     "data": {
      "text/plain": [
       "<pymongo.results.InsertOneResult at 0x10b5eb948>"
      ]
     },
     "execution_count": 235,
     "metadata": {},
     "output_type": "execute_result"
    },
    {
     "data": {
      "text/plain": [
       "<pymongo.results.InsertOneResult at 0x10b5ebd48>"
      ]
     },
     "execution_count": 235,
     "metadata": {},
     "output_type": "execute_result"
    },
    {
     "data": {
      "text/plain": [
       "<pymongo.results.InsertOneResult at 0x10b2f0288>"
      ]
     },
     "execution_count": 235,
     "metadata": {},
     "output_type": "execute_result"
    },
    {
     "data": {
      "text/plain": [
       "<pymongo.results.InsertOneResult at 0x10b5ad1c8>"
      ]
     },
     "execution_count": 235,
     "metadata": {},
     "output_type": "execute_result"
    },
    {
     "data": {
      "text/plain": [
       "<pymongo.results.InsertOneResult at 0x10b2a0408>"
      ]
     },
     "execution_count": 235,
     "metadata": {},
     "output_type": "execute_result"
    },
    {
     "data": {
      "text/plain": [
       "<pymongo.results.InsertOneResult at 0x10b5cf6c8>"
      ]
     },
     "execution_count": 235,
     "metadata": {},
     "output_type": "execute_result"
    },
    {
     "data": {
      "text/plain": [
       "<pymongo.results.InsertOneResult at 0x10b299fc8>"
      ]
     },
     "execution_count": 235,
     "metadata": {},
     "output_type": "execute_result"
    },
    {
     "data": {
      "text/plain": [
       "<pymongo.results.InsertOneResult at 0x10b2f0088>"
      ]
     },
     "execution_count": 235,
     "metadata": {},
     "output_type": "execute_result"
    },
    {
     "data": {
      "text/plain": [
       "<pymongo.results.InsertOneResult at 0x10b5f34c8>"
      ]
     },
     "execution_count": 235,
     "metadata": {},
     "output_type": "execute_result"
    },
    {
     "data": {
      "text/plain": [
       "<pymongo.results.InsertOneResult at 0x10b5d3f88>"
      ]
     },
     "execution_count": 235,
     "metadata": {},
     "output_type": "execute_result"
    },
    {
     "data": {
      "text/plain": [
       "<pymongo.results.InsertOneResult at 0x10b5aac48>"
      ]
     },
     "execution_count": 235,
     "metadata": {},
     "output_type": "execute_result"
    },
    {
     "data": {
      "text/plain": [
       "<pymongo.results.InsertOneResult at 0x10b2c8fc8>"
      ]
     },
     "execution_count": 235,
     "metadata": {},
     "output_type": "execute_result"
    },
    {
     "data": {
      "text/plain": [
       "<pymongo.results.InsertOneResult at 0x10b2e24c8>"
      ]
     },
     "execution_count": 235,
     "metadata": {},
     "output_type": "execute_result"
    },
    {
     "data": {
      "text/plain": [
       "<pymongo.results.InsertOneResult at 0x10b299f48>"
      ]
     },
     "execution_count": 235,
     "metadata": {},
     "output_type": "execute_result"
    },
    {
     "data": {
      "text/plain": [
       "<pymongo.results.InsertOneResult at 0x10b5d3f88>"
      ]
     },
     "execution_count": 235,
     "metadata": {},
     "output_type": "execute_result"
    },
    {
     "data": {
      "text/plain": [
       "<pymongo.results.InsertOneResult at 0x10b5c94c8>"
      ]
     },
     "execution_count": 235,
     "metadata": {},
     "output_type": "execute_result"
    },
    {
     "data": {
      "text/plain": [
       "<pymongo.results.InsertOneResult at 0x10b2b01c8>"
      ]
     },
     "execution_count": 235,
     "metadata": {},
     "output_type": "execute_result"
    },
    {
     "data": {
      "text/plain": [
       "<pymongo.results.InsertOneResult at 0x10b5b2808>"
      ]
     },
     "execution_count": 235,
     "metadata": {},
     "output_type": "execute_result"
    },
    {
     "data": {
      "text/plain": [
       "<pymongo.results.InsertOneResult at 0x10b5b2688>"
      ]
     },
     "execution_count": 235,
     "metadata": {},
     "output_type": "execute_result"
    },
    {
     "data": {
      "text/plain": [
       "<pymongo.results.InsertOneResult at 0x10b2f0088>"
      ]
     },
     "execution_count": 235,
     "metadata": {},
     "output_type": "execute_result"
    },
    {
     "data": {
      "text/plain": [
       "<pymongo.results.InsertOneResult at 0x10b5ab948>"
      ]
     },
     "execution_count": 235,
     "metadata": {},
     "output_type": "execute_result"
    },
    {
     "data": {
      "text/plain": [
       "<pymongo.results.InsertOneResult at 0x10b2edc88>"
      ]
     },
     "execution_count": 235,
     "metadata": {},
     "output_type": "execute_result"
    },
    {
     "data": {
      "text/plain": [
       "<pymongo.results.InsertOneResult at 0x10b2edb88>"
      ]
     },
     "execution_count": 235,
     "metadata": {},
     "output_type": "execute_result"
    },
    {
     "data": {
      "text/plain": [
       "<pymongo.results.InsertOneResult at 0x10b5ab408>"
      ]
     },
     "execution_count": 235,
     "metadata": {},
     "output_type": "execute_result"
    },
    {
     "data": {
      "text/plain": [
       "<pymongo.results.InsertOneResult at 0x10b60c808>"
      ]
     },
     "execution_count": 235,
     "metadata": {},
     "output_type": "execute_result"
    },
    {
     "data": {
      "text/plain": [
       "<pymongo.results.InsertOneResult at 0x10b5b6488>"
      ]
     },
     "execution_count": 235,
     "metadata": {},
     "output_type": "execute_result"
    },
    {
     "data": {
      "text/plain": [
       "<pymongo.results.InsertOneResult at 0x10b2e24c8>"
      ]
     },
     "execution_count": 235,
     "metadata": {},
     "output_type": "execute_result"
    },
    {
     "data": {
      "text/plain": [
       "<pymongo.results.InsertOneResult at 0x10b2b01c8>"
      ]
     },
     "execution_count": 235,
     "metadata": {},
     "output_type": "execute_result"
    },
    {
     "data": {
      "text/plain": [
       "<pymongo.results.InsertOneResult at 0x10b2e36c8>"
      ]
     },
     "execution_count": 235,
     "metadata": {},
     "output_type": "execute_result"
    },
    {
     "data": {
      "text/plain": [
       "<pymongo.results.InsertOneResult at 0x10b5c9c88>"
      ]
     },
     "execution_count": 235,
     "metadata": {},
     "output_type": "execute_result"
    },
    {
     "data": {
      "text/plain": [
       "<pymongo.results.InsertOneResult at 0x10b2c10c8>"
      ]
     },
     "execution_count": 235,
     "metadata": {},
     "output_type": "execute_result"
    },
    {
     "data": {
      "text/plain": [
       "<pymongo.results.InsertOneResult at 0x10b2edb08>"
      ]
     },
     "execution_count": 235,
     "metadata": {},
     "output_type": "execute_result"
    },
    {
     "data": {
      "text/plain": [
       "<pymongo.results.InsertOneResult at 0x10b60cf48>"
      ]
     },
     "execution_count": 235,
     "metadata": {},
     "output_type": "execute_result"
    },
    {
     "data": {
      "text/plain": [
       "<pymongo.results.InsertOneResult at 0x10b2c9308>"
      ]
     },
     "execution_count": 235,
     "metadata": {},
     "output_type": "execute_result"
    },
    {
     "data": {
      "text/plain": [
       "<pymongo.results.InsertOneResult at 0x10b5b6c08>"
      ]
     },
     "execution_count": 235,
     "metadata": {},
     "output_type": "execute_result"
    },
    {
     "data": {
      "text/plain": [
       "<pymongo.results.InsertOneResult at 0x10b2df508>"
      ]
     },
     "execution_count": 235,
     "metadata": {},
     "output_type": "execute_result"
    },
    {
     "data": {
      "text/plain": [
       "<pymongo.results.InsertOneResult at 0x10b5aaf48>"
      ]
     },
     "execution_count": 235,
     "metadata": {},
     "output_type": "execute_result"
    },
    {
     "data": {
      "text/plain": [
       "<pymongo.results.InsertOneResult at 0x10b4e5848>"
      ]
     },
     "execution_count": 235,
     "metadata": {},
     "output_type": "execute_result"
    },
    {
     "data": {
      "text/plain": [
       "<pymongo.results.InsertOneResult at 0x10b2dd408>"
      ]
     },
     "execution_count": 235,
     "metadata": {},
     "output_type": "execute_result"
    },
    {
     "data": {
      "text/plain": [
       "<pymongo.results.InsertOneResult at 0x10aff6808>"
      ]
     },
     "execution_count": 235,
     "metadata": {},
     "output_type": "execute_result"
    },
    {
     "data": {
      "text/plain": [
       "<pymongo.results.InsertOneResult at 0x10b2bfe08>"
      ]
     },
     "execution_count": 235,
     "metadata": {},
     "output_type": "execute_result"
    },
    {
     "data": {
      "text/plain": [
       "<pymongo.results.InsertOneResult at 0x10b5aac48>"
      ]
     },
     "execution_count": 235,
     "metadata": {},
     "output_type": "execute_result"
    },
    {
     "data": {
      "text/plain": [
       "<pymongo.results.InsertOneResult at 0x10b63db08>"
      ]
     },
     "execution_count": 235,
     "metadata": {},
     "output_type": "execute_result"
    },
    {
     "data": {
      "text/plain": [
       "<pymongo.results.InsertOneResult at 0x10b29cf48>"
      ]
     },
     "execution_count": 235,
     "metadata": {},
     "output_type": "execute_result"
    },
    {
     "data": {
      "text/plain": [
       "<pymongo.results.InsertOneResult at 0x10b5b87c8>"
      ]
     },
     "execution_count": 235,
     "metadata": {},
     "output_type": "execute_result"
    },
    {
     "data": {
      "text/plain": [
       "<pymongo.results.InsertOneResult at 0x10aff6808>"
      ]
     },
     "execution_count": 235,
     "metadata": {},
     "output_type": "execute_result"
    },
    {
     "data": {
      "text/plain": [
       "<pymongo.results.InsertOneResult at 0x10b2c9308>"
      ]
     },
     "execution_count": 235,
     "metadata": {},
     "output_type": "execute_result"
    },
    {
     "data": {
      "text/plain": [
       "<pymongo.results.InsertOneResult at 0x10b2b1fc8>"
      ]
     },
     "execution_count": 235,
     "metadata": {},
     "output_type": "execute_result"
    }
   ],
   "source": [
    "import requests\n",
    "\n",
    "DAILY_LESSON_URL = 'http://ec.ef.com.cn/community/dailylesson/lessonhandler.ashx?operate=preloaddata&teachculturecode=en&lesson_id={lesson_id}&transculturecode=zh-CN&ss=EE&v=35-1'\n",
    "for num in range(1000):\n",
    "    try:\n",
    "        lesson_json = requests.get(DAILY_LESSON_URL.format(lesson_id=num)).json()\n",
    "        db.daily_lesson.insert_one(lesson_json)\n",
    "    except:\n",
    "        print(\"无效URL：%s\" % DAILY_LESSON_URL.format(lesson_id=num))\n",
    "        continue"
   ]
  },
  {
   "cell_type": "code",
   "execution_count": 17,
   "metadata": {},
   "outputs": [
    {
     "data": {
      "text/plain": [
       "<pymongo.results.InsertOneResult at 0x10bb22708>"
      ]
     },
     "execution_count": 17,
     "metadata": {},
     "output_type": "execute_result"
    },
    {
     "name": "stdout",
     "output_type": "stream",
     "text": [
      "无效URL：http://ec.ef.com.cn/community/dailylesson/lessonhandler.ashx?operate=getlessonbyid&lesson_id=1&transculturecode=zh-CN&v=35-1\n",
      "无效URL：http://ec.ef.com.cn/community/dailylesson/lessonhandler.ashx?operate=getlessonbyid&lesson_id=2&transculturecode=zh-CN&v=35-1\n",
      "无效URL：http://ec.ef.com.cn/community/dailylesson/lessonhandler.ashx?operate=getlessonbyid&lesson_id=3&transculturecode=zh-CN&v=35-1\n",
      "无效URL：http://ec.ef.com.cn/community/dailylesson/lessonhandler.ashx?operate=getlessonbyid&lesson_id=4&transculturecode=zh-CN&v=35-1\n",
      "无效URL：http://ec.ef.com.cn/community/dailylesson/lessonhandler.ashx?operate=getlessonbyid&lesson_id=5&transculturecode=zh-CN&v=35-1\n",
      "无效URL：http://ec.ef.com.cn/community/dailylesson/lessonhandler.ashx?operate=getlessonbyid&lesson_id=6&transculturecode=zh-CN&v=35-1\n",
      "无效URL：http://ec.ef.com.cn/community/dailylesson/lessonhandler.ashx?operate=getlessonbyid&lesson_id=7&transculturecode=zh-CN&v=35-1\n",
      "无效URL：http://ec.ef.com.cn/community/dailylesson/lessonhandler.ashx?operate=getlessonbyid&lesson_id=8&transculturecode=zh-CN&v=35-1\n",
      "无效URL：http://ec.ef.com.cn/community/dailylesson/lessonhandler.ashx?operate=getlessonbyid&lesson_id=9&transculturecode=zh-CN&v=35-1\n",
      "无效URL：http://ec.ef.com.cn/community/dailylesson/lessonhandler.ashx?operate=getlessonbyid&lesson_id=10&transculturecode=zh-CN&v=35-1\n",
      "无效URL：http://ec.ef.com.cn/community/dailylesson/lessonhandler.ashx?operate=getlessonbyid&lesson_id=11&transculturecode=zh-CN&v=35-1\n",
      "无效URL：http://ec.ef.com.cn/community/dailylesson/lessonhandler.ashx?operate=getlessonbyid&lesson_id=12&transculturecode=zh-CN&v=35-1\n",
      "无效URL：http://ec.ef.com.cn/community/dailylesson/lessonhandler.ashx?operate=getlessonbyid&lesson_id=13&transculturecode=zh-CN&v=35-1\n",
      "无效URL：http://ec.ef.com.cn/community/dailylesson/lessonhandler.ashx?operate=getlessonbyid&lesson_id=14&transculturecode=zh-CN&v=35-1\n",
      "无效URL：http://ec.ef.com.cn/community/dailylesson/lessonhandler.ashx?operate=getlessonbyid&lesson_id=15&transculturecode=zh-CN&v=35-1\n",
      "无效URL：http://ec.ef.com.cn/community/dailylesson/lessonhandler.ashx?operate=getlessonbyid&lesson_id=16&transculturecode=zh-CN&v=35-1\n",
      "无效URL：http://ec.ef.com.cn/community/dailylesson/lessonhandler.ashx?operate=getlessonbyid&lesson_id=17&transculturecode=zh-CN&v=35-1\n",
      "无效URL：http://ec.ef.com.cn/community/dailylesson/lessonhandler.ashx?operate=getlessonbyid&lesson_id=18&transculturecode=zh-CN&v=35-1\n",
      "无效URL：http://ec.ef.com.cn/community/dailylesson/lessonhandler.ashx?operate=getlessonbyid&lesson_id=19&transculturecode=zh-CN&v=35-1\n",
      "无效URL：http://ec.ef.com.cn/community/dailylesson/lessonhandler.ashx?operate=getlessonbyid&lesson_id=20&transculturecode=zh-CN&v=35-1\n",
      "无效URL：http://ec.ef.com.cn/community/dailylesson/lessonhandler.ashx?operate=getlessonbyid&lesson_id=21&transculturecode=zh-CN&v=35-1\n",
      "无效URL：http://ec.ef.com.cn/community/dailylesson/lessonhandler.ashx?operate=getlessonbyid&lesson_id=22&transculturecode=zh-CN&v=35-1\n",
      "无效URL：http://ec.ef.com.cn/community/dailylesson/lessonhandler.ashx?operate=getlessonbyid&lesson_id=23&transculturecode=zh-CN&v=35-1\n",
      "无效URL：http://ec.ef.com.cn/community/dailylesson/lessonhandler.ashx?operate=getlessonbyid&lesson_id=24&transculturecode=zh-CN&v=35-1\n",
      "无效URL：http://ec.ef.com.cn/community/dailylesson/lessonhandler.ashx?operate=getlessonbyid&lesson_id=25&transculturecode=zh-CN&v=35-1\n",
      "无效URL：http://ec.ef.com.cn/community/dailylesson/lessonhandler.ashx?operate=getlessonbyid&lesson_id=26&transculturecode=zh-CN&v=35-1\n",
      "无效URL：http://ec.ef.com.cn/community/dailylesson/lessonhandler.ashx?operate=getlessonbyid&lesson_id=27&transculturecode=zh-CN&v=35-1\n",
      "无效URL：http://ec.ef.com.cn/community/dailylesson/lessonhandler.ashx?operate=getlessonbyid&lesson_id=28&transculturecode=zh-CN&v=35-1\n",
      "无效URL：http://ec.ef.com.cn/community/dailylesson/lessonhandler.ashx?operate=getlessonbyid&lesson_id=29&transculturecode=zh-CN&v=35-1\n",
      "无效URL：http://ec.ef.com.cn/community/dailylesson/lessonhandler.ashx?operate=getlessonbyid&lesson_id=30&transculturecode=zh-CN&v=35-1\n",
      "无效URL：http://ec.ef.com.cn/community/dailylesson/lessonhandler.ashx?operate=getlessonbyid&lesson_id=31&transculturecode=zh-CN&v=35-1\n",
      "无效URL：http://ec.ef.com.cn/community/dailylesson/lessonhandler.ashx?operate=getlessonbyid&lesson_id=32&transculturecode=zh-CN&v=35-1\n",
      "无效URL：http://ec.ef.com.cn/community/dailylesson/lessonhandler.ashx?operate=getlessonbyid&lesson_id=33&transculturecode=zh-CN&v=35-1\n",
      "无效URL：http://ec.ef.com.cn/community/dailylesson/lessonhandler.ashx?operate=getlessonbyid&lesson_id=34&transculturecode=zh-CN&v=35-1\n",
      "无效URL：http://ec.ef.com.cn/community/dailylesson/lessonhandler.ashx?operate=getlessonbyid&lesson_id=35&transculturecode=zh-CN&v=35-1\n",
      "无效URL：http://ec.ef.com.cn/community/dailylesson/lessonhandler.ashx?operate=getlessonbyid&lesson_id=36&transculturecode=zh-CN&v=35-1\n",
      "无效URL：http://ec.ef.com.cn/community/dailylesson/lessonhandler.ashx?operate=getlessonbyid&lesson_id=37&transculturecode=zh-CN&v=35-1\n",
      "无效URL：http://ec.ef.com.cn/community/dailylesson/lessonhandler.ashx?operate=getlessonbyid&lesson_id=38&transculturecode=zh-CN&v=35-1\n",
      "无效URL：http://ec.ef.com.cn/community/dailylesson/lessonhandler.ashx?operate=getlessonbyid&lesson_id=39&transculturecode=zh-CN&v=35-1\n",
      "无效URL：http://ec.ef.com.cn/community/dailylesson/lessonhandler.ashx?operate=getlessonbyid&lesson_id=40&transculturecode=zh-CN&v=35-1\n",
      "无效URL：http://ec.ef.com.cn/community/dailylesson/lessonhandler.ashx?operate=getlessonbyid&lesson_id=41&transculturecode=zh-CN&v=35-1\n",
      "无效URL：http://ec.ef.com.cn/community/dailylesson/lessonhandler.ashx?operate=getlessonbyid&lesson_id=42&transculturecode=zh-CN&v=35-1\n",
      "无效URL：http://ec.ef.com.cn/community/dailylesson/lessonhandler.ashx?operate=getlessonbyid&lesson_id=43&transculturecode=zh-CN&v=35-1\n",
      "无效URL：http://ec.ef.com.cn/community/dailylesson/lessonhandler.ashx?operate=getlessonbyid&lesson_id=44&transculturecode=zh-CN&v=35-1\n",
      "无效URL：http://ec.ef.com.cn/community/dailylesson/lessonhandler.ashx?operate=getlessonbyid&lesson_id=45&transculturecode=zh-CN&v=35-1\n",
      "无效URL：http://ec.ef.com.cn/community/dailylesson/lessonhandler.ashx?operate=getlessonbyid&lesson_id=46&transculturecode=zh-CN&v=35-1\n",
      "无效URL：http://ec.ef.com.cn/community/dailylesson/lessonhandler.ashx?operate=getlessonbyid&lesson_id=47&transculturecode=zh-CN&v=35-1\n",
      "无效URL：http://ec.ef.com.cn/community/dailylesson/lessonhandler.ashx?operate=getlessonbyid&lesson_id=48&transculturecode=zh-CN&v=35-1\n",
      "无效URL：http://ec.ef.com.cn/community/dailylesson/lessonhandler.ashx?operate=getlessonbyid&lesson_id=49&transculturecode=zh-CN&v=35-1\n",
      "无效URL：http://ec.ef.com.cn/community/dailylesson/lessonhandler.ashx?operate=getlessonbyid&lesson_id=50&transculturecode=zh-CN&v=35-1\n",
      "无效URL：http://ec.ef.com.cn/community/dailylesson/lessonhandler.ashx?operate=getlessonbyid&lesson_id=51&transculturecode=zh-CN&v=35-1\n",
      "无效URL：http://ec.ef.com.cn/community/dailylesson/lessonhandler.ashx?operate=getlessonbyid&lesson_id=52&transculturecode=zh-CN&v=35-1\n",
      "无效URL：http://ec.ef.com.cn/community/dailylesson/lessonhandler.ashx?operate=getlessonbyid&lesson_id=53&transculturecode=zh-CN&v=35-1\n",
      "无效URL：http://ec.ef.com.cn/community/dailylesson/lessonhandler.ashx?operate=getlessonbyid&lesson_id=54&transculturecode=zh-CN&v=35-1\n",
      "无效URL：http://ec.ef.com.cn/community/dailylesson/lessonhandler.ashx?operate=getlessonbyid&lesson_id=55&transculturecode=zh-CN&v=35-1\n",
      "无效URL：http://ec.ef.com.cn/community/dailylesson/lessonhandler.ashx?operate=getlessonbyid&lesson_id=56&transculturecode=zh-CN&v=35-1\n",
      "无效URL：http://ec.ef.com.cn/community/dailylesson/lessonhandler.ashx?operate=getlessonbyid&lesson_id=57&transculturecode=zh-CN&v=35-1\n",
      "无效URL：http://ec.ef.com.cn/community/dailylesson/lessonhandler.ashx?operate=getlessonbyid&lesson_id=58&transculturecode=zh-CN&v=35-1\n",
      "无效URL：http://ec.ef.com.cn/community/dailylesson/lessonhandler.ashx?operate=getlessonbyid&lesson_id=59&transculturecode=zh-CN&v=35-1\n",
      "无效URL：http://ec.ef.com.cn/community/dailylesson/lessonhandler.ashx?operate=getlessonbyid&lesson_id=60&transculturecode=zh-CN&v=35-1\n",
      "无效URL：http://ec.ef.com.cn/community/dailylesson/lessonhandler.ashx?operate=getlessonbyid&lesson_id=61&transculturecode=zh-CN&v=35-1\n",
      "无效URL：http://ec.ef.com.cn/community/dailylesson/lessonhandler.ashx?operate=getlessonbyid&lesson_id=62&transculturecode=zh-CN&v=35-1\n",
      "无效URL：http://ec.ef.com.cn/community/dailylesson/lessonhandler.ashx?operate=getlessonbyid&lesson_id=63&transculturecode=zh-CN&v=35-1\n"
     ]
    },
    {
     "name": "stdout",
     "output_type": "stream",
     "text": [
      "无效URL：http://ec.ef.com.cn/community/dailylesson/lessonhandler.ashx?operate=getlessonbyid&lesson_id=64&transculturecode=zh-CN&v=35-1\n",
      "无效URL：http://ec.ef.com.cn/community/dailylesson/lessonhandler.ashx?operate=getlessonbyid&lesson_id=65&transculturecode=zh-CN&v=35-1\n",
      "无效URL：http://ec.ef.com.cn/community/dailylesson/lessonhandler.ashx?operate=getlessonbyid&lesson_id=66&transculturecode=zh-CN&v=35-1\n",
      "无效URL：http://ec.ef.com.cn/community/dailylesson/lessonhandler.ashx?operate=getlessonbyid&lesson_id=67&transculturecode=zh-CN&v=35-1\n",
      "无效URL：http://ec.ef.com.cn/community/dailylesson/lessonhandler.ashx?operate=getlessonbyid&lesson_id=68&transculturecode=zh-CN&v=35-1\n",
      "无效URL：http://ec.ef.com.cn/community/dailylesson/lessonhandler.ashx?operate=getlessonbyid&lesson_id=69&transculturecode=zh-CN&v=35-1\n",
      "无效URL：http://ec.ef.com.cn/community/dailylesson/lessonhandler.ashx?operate=getlessonbyid&lesson_id=70&transculturecode=zh-CN&v=35-1\n",
      "无效URL：http://ec.ef.com.cn/community/dailylesson/lessonhandler.ashx?operate=getlessonbyid&lesson_id=71&transculturecode=zh-CN&v=35-1\n",
      "无效URL：http://ec.ef.com.cn/community/dailylesson/lessonhandler.ashx?operate=getlessonbyid&lesson_id=72&transculturecode=zh-CN&v=35-1\n",
      "无效URL：http://ec.ef.com.cn/community/dailylesson/lessonhandler.ashx?operate=getlessonbyid&lesson_id=73&transculturecode=zh-CN&v=35-1\n",
      "无效URL：http://ec.ef.com.cn/community/dailylesson/lessonhandler.ashx?operate=getlessonbyid&lesson_id=74&transculturecode=zh-CN&v=35-1\n",
      "无效URL：http://ec.ef.com.cn/community/dailylesson/lessonhandler.ashx?operate=getlessonbyid&lesson_id=75&transculturecode=zh-CN&v=35-1\n",
      "无效URL：http://ec.ef.com.cn/community/dailylesson/lessonhandler.ashx?operate=getlessonbyid&lesson_id=76&transculturecode=zh-CN&v=35-1\n",
      "无效URL：http://ec.ef.com.cn/community/dailylesson/lessonhandler.ashx?operate=getlessonbyid&lesson_id=77&transculturecode=zh-CN&v=35-1\n",
      "无效URL：http://ec.ef.com.cn/community/dailylesson/lessonhandler.ashx?operate=getlessonbyid&lesson_id=78&transculturecode=zh-CN&v=35-1\n",
      "无效URL：http://ec.ef.com.cn/community/dailylesson/lessonhandler.ashx?operate=getlessonbyid&lesson_id=79&transculturecode=zh-CN&v=35-1\n",
      "无效URL：http://ec.ef.com.cn/community/dailylesson/lessonhandler.ashx?operate=getlessonbyid&lesson_id=80&transculturecode=zh-CN&v=35-1\n",
      "无效URL：http://ec.ef.com.cn/community/dailylesson/lessonhandler.ashx?operate=getlessonbyid&lesson_id=81&transculturecode=zh-CN&v=35-1\n",
      "无效URL：http://ec.ef.com.cn/community/dailylesson/lessonhandler.ashx?operate=getlessonbyid&lesson_id=82&transculturecode=zh-CN&v=35-1\n",
      "无效URL：http://ec.ef.com.cn/community/dailylesson/lessonhandler.ashx?operate=getlessonbyid&lesson_id=83&transculturecode=zh-CN&v=35-1\n",
      "无效URL：http://ec.ef.com.cn/community/dailylesson/lessonhandler.ashx?operate=getlessonbyid&lesson_id=84&transculturecode=zh-CN&v=35-1\n",
      "无效URL：http://ec.ef.com.cn/community/dailylesson/lessonhandler.ashx?operate=getlessonbyid&lesson_id=85&transculturecode=zh-CN&v=35-1\n",
      "无效URL：http://ec.ef.com.cn/community/dailylesson/lessonhandler.ashx?operate=getlessonbyid&lesson_id=86&transculturecode=zh-CN&v=35-1\n",
      "无效URL：http://ec.ef.com.cn/community/dailylesson/lessonhandler.ashx?operate=getlessonbyid&lesson_id=87&transculturecode=zh-CN&v=35-1\n",
      "无效URL：http://ec.ef.com.cn/community/dailylesson/lessonhandler.ashx?operate=getlessonbyid&lesson_id=88&transculturecode=zh-CN&v=35-1\n",
      "无效URL：http://ec.ef.com.cn/community/dailylesson/lessonhandler.ashx?operate=getlessonbyid&lesson_id=89&transculturecode=zh-CN&v=35-1\n",
      "无效URL：http://ec.ef.com.cn/community/dailylesson/lessonhandler.ashx?operate=getlessonbyid&lesson_id=90&transculturecode=zh-CN&v=35-1\n",
      "无效URL：http://ec.ef.com.cn/community/dailylesson/lessonhandler.ashx?operate=getlessonbyid&lesson_id=91&transculturecode=zh-CN&v=35-1\n",
      "无效URL：http://ec.ef.com.cn/community/dailylesson/lessonhandler.ashx?operate=getlessonbyid&lesson_id=92&transculturecode=zh-CN&v=35-1\n",
      "无效URL：http://ec.ef.com.cn/community/dailylesson/lessonhandler.ashx?operate=getlessonbyid&lesson_id=93&transculturecode=zh-CN&v=35-1\n",
      "无效URL：http://ec.ef.com.cn/community/dailylesson/lessonhandler.ashx?operate=getlessonbyid&lesson_id=94&transculturecode=zh-CN&v=35-1\n",
      "无效URL：http://ec.ef.com.cn/community/dailylesson/lessonhandler.ashx?operate=getlessonbyid&lesson_id=95&transculturecode=zh-CN&v=35-1\n",
      "无效URL：http://ec.ef.com.cn/community/dailylesson/lessonhandler.ashx?operate=getlessonbyid&lesson_id=96&transculturecode=zh-CN&v=35-1\n",
      "无效URL：http://ec.ef.com.cn/community/dailylesson/lessonhandler.ashx?operate=getlessonbyid&lesson_id=97&transculturecode=zh-CN&v=35-1\n",
      "无效URL：http://ec.ef.com.cn/community/dailylesson/lessonhandler.ashx?operate=getlessonbyid&lesson_id=98&transculturecode=zh-CN&v=35-1\n",
      "无效URL：http://ec.ef.com.cn/community/dailylesson/lessonhandler.ashx?operate=getlessonbyid&lesson_id=99&transculturecode=zh-CN&v=35-1\n",
      "无效URL：http://ec.ef.com.cn/community/dailylesson/lessonhandler.ashx?operate=getlessonbyid&lesson_id=100&transculturecode=zh-CN&v=35-1\n",
      "无效URL：http://ec.ef.com.cn/community/dailylesson/lessonhandler.ashx?operate=getlessonbyid&lesson_id=101&transculturecode=zh-CN&v=35-1\n",
      "无效URL：http://ec.ef.com.cn/community/dailylesson/lessonhandler.ashx?operate=getlessonbyid&lesson_id=102&transculturecode=zh-CN&v=35-1\n",
      "无效URL：http://ec.ef.com.cn/community/dailylesson/lessonhandler.ashx?operate=getlessonbyid&lesson_id=103&transculturecode=zh-CN&v=35-1\n",
      "无效URL：http://ec.ef.com.cn/community/dailylesson/lessonhandler.ashx?operate=getlessonbyid&lesson_id=104&transculturecode=zh-CN&v=35-1\n",
      "无效URL：http://ec.ef.com.cn/community/dailylesson/lessonhandler.ashx?operate=getlessonbyid&lesson_id=105&transculturecode=zh-CN&v=35-1\n",
      "无效URL：http://ec.ef.com.cn/community/dailylesson/lessonhandler.ashx?operate=getlessonbyid&lesson_id=106&transculturecode=zh-CN&v=35-1\n",
      "无效URL：http://ec.ef.com.cn/community/dailylesson/lessonhandler.ashx?operate=getlessonbyid&lesson_id=107&transculturecode=zh-CN&v=35-1\n",
      "无效URL：http://ec.ef.com.cn/community/dailylesson/lessonhandler.ashx?operate=getlessonbyid&lesson_id=108&transculturecode=zh-CN&v=35-1\n",
      "无效URL：http://ec.ef.com.cn/community/dailylesson/lessonhandler.ashx?operate=getlessonbyid&lesson_id=109&transculturecode=zh-CN&v=35-1\n",
      "无效URL：http://ec.ef.com.cn/community/dailylesson/lessonhandler.ashx?operate=getlessonbyid&lesson_id=110&transculturecode=zh-CN&v=35-1\n",
      "无效URL：http://ec.ef.com.cn/community/dailylesson/lessonhandler.ashx?operate=getlessonbyid&lesson_id=111&transculturecode=zh-CN&v=35-1\n",
      "无效URL：http://ec.ef.com.cn/community/dailylesson/lessonhandler.ashx?operate=getlessonbyid&lesson_id=112&transculturecode=zh-CN&v=35-1\n",
      "无效URL：http://ec.ef.com.cn/community/dailylesson/lessonhandler.ashx?operate=getlessonbyid&lesson_id=113&transculturecode=zh-CN&v=35-1\n",
      "无效URL：http://ec.ef.com.cn/community/dailylesson/lessonhandler.ashx?operate=getlessonbyid&lesson_id=114&transculturecode=zh-CN&v=35-1\n",
      "无效URL：http://ec.ef.com.cn/community/dailylesson/lessonhandler.ashx?operate=getlessonbyid&lesson_id=115&transculturecode=zh-CN&v=35-1\n",
      "无效URL：http://ec.ef.com.cn/community/dailylesson/lessonhandler.ashx?operate=getlessonbyid&lesson_id=116&transculturecode=zh-CN&v=35-1\n",
      "无效URL：http://ec.ef.com.cn/community/dailylesson/lessonhandler.ashx?operate=getlessonbyid&lesson_id=117&transculturecode=zh-CN&v=35-1\n",
      "无效URL：http://ec.ef.com.cn/community/dailylesson/lessonhandler.ashx?operate=getlessonbyid&lesson_id=118&transculturecode=zh-CN&v=35-1\n",
      "无效URL：http://ec.ef.com.cn/community/dailylesson/lessonhandler.ashx?operate=getlessonbyid&lesson_id=119&transculturecode=zh-CN&v=35-1\n",
      "无效URL：http://ec.ef.com.cn/community/dailylesson/lessonhandler.ashx?operate=getlessonbyid&lesson_id=120&transculturecode=zh-CN&v=35-1\n",
      "无效URL：http://ec.ef.com.cn/community/dailylesson/lessonhandler.ashx?operate=getlessonbyid&lesson_id=121&transculturecode=zh-CN&v=35-1\n",
      "无效URL：http://ec.ef.com.cn/community/dailylesson/lessonhandler.ashx?operate=getlessonbyid&lesson_id=122&transculturecode=zh-CN&v=35-1\n",
      "无效URL：http://ec.ef.com.cn/community/dailylesson/lessonhandler.ashx?operate=getlessonbyid&lesson_id=123&transculturecode=zh-CN&v=35-1\n",
      "无效URL：http://ec.ef.com.cn/community/dailylesson/lessonhandler.ashx?operate=getlessonbyid&lesson_id=124&transculturecode=zh-CN&v=35-1\n",
      "无效URL：http://ec.ef.com.cn/community/dailylesson/lessonhandler.ashx?operate=getlessonbyid&lesson_id=125&transculturecode=zh-CN&v=35-1\n"
     ]
    },
    {
     "name": "stdout",
     "output_type": "stream",
     "text": [
      "无效URL：http://ec.ef.com.cn/community/dailylesson/lessonhandler.ashx?operate=getlessonbyid&lesson_id=126&transculturecode=zh-CN&v=35-1\n",
      "无效URL：http://ec.ef.com.cn/community/dailylesson/lessonhandler.ashx?operate=getlessonbyid&lesson_id=127&transculturecode=zh-CN&v=35-1\n",
      "无效URL：http://ec.ef.com.cn/community/dailylesson/lessonhandler.ashx?operate=getlessonbyid&lesson_id=128&transculturecode=zh-CN&v=35-1\n",
      "无效URL：http://ec.ef.com.cn/community/dailylesson/lessonhandler.ashx?operate=getlessonbyid&lesson_id=129&transculturecode=zh-CN&v=35-1\n",
      "无效URL：http://ec.ef.com.cn/community/dailylesson/lessonhandler.ashx?operate=getlessonbyid&lesson_id=130&transculturecode=zh-CN&v=35-1\n",
      "无效URL：http://ec.ef.com.cn/community/dailylesson/lessonhandler.ashx?operate=getlessonbyid&lesson_id=131&transculturecode=zh-CN&v=35-1\n",
      "无效URL：http://ec.ef.com.cn/community/dailylesson/lessonhandler.ashx?operate=getlessonbyid&lesson_id=132&transculturecode=zh-CN&v=35-1\n",
      "无效URL：http://ec.ef.com.cn/community/dailylesson/lessonhandler.ashx?operate=getlessonbyid&lesson_id=133&transculturecode=zh-CN&v=35-1\n",
      "无效URL：http://ec.ef.com.cn/community/dailylesson/lessonhandler.ashx?operate=getlessonbyid&lesson_id=134&transculturecode=zh-CN&v=35-1\n",
      "无效URL：http://ec.ef.com.cn/community/dailylesson/lessonhandler.ashx?operate=getlessonbyid&lesson_id=135&transculturecode=zh-CN&v=35-1\n",
      "无效URL：http://ec.ef.com.cn/community/dailylesson/lessonhandler.ashx?operate=getlessonbyid&lesson_id=136&transculturecode=zh-CN&v=35-1\n",
      "无效URL：http://ec.ef.com.cn/community/dailylesson/lessonhandler.ashx?operate=getlessonbyid&lesson_id=137&transculturecode=zh-CN&v=35-1\n",
      "无效URL：http://ec.ef.com.cn/community/dailylesson/lessonhandler.ashx?operate=getlessonbyid&lesson_id=138&transculturecode=zh-CN&v=35-1\n",
      "无效URL：http://ec.ef.com.cn/community/dailylesson/lessonhandler.ashx?operate=getlessonbyid&lesson_id=139&transculturecode=zh-CN&v=35-1\n",
      "无效URL：http://ec.ef.com.cn/community/dailylesson/lessonhandler.ashx?operate=getlessonbyid&lesson_id=140&transculturecode=zh-CN&v=35-1\n",
      "无效URL：http://ec.ef.com.cn/community/dailylesson/lessonhandler.ashx?operate=getlessonbyid&lesson_id=141&transculturecode=zh-CN&v=35-1\n",
      "无效URL：http://ec.ef.com.cn/community/dailylesson/lessonhandler.ashx?operate=getlessonbyid&lesson_id=142&transculturecode=zh-CN&v=35-1\n",
      "无效URL：http://ec.ef.com.cn/community/dailylesson/lessonhandler.ashx?operate=getlessonbyid&lesson_id=143&transculturecode=zh-CN&v=35-1\n",
      "无效URL：http://ec.ef.com.cn/community/dailylesson/lessonhandler.ashx?operate=getlessonbyid&lesson_id=144&transculturecode=zh-CN&v=35-1\n",
      "无效URL：http://ec.ef.com.cn/community/dailylesson/lessonhandler.ashx?operate=getlessonbyid&lesson_id=145&transculturecode=zh-CN&v=35-1\n",
      "无效URL：http://ec.ef.com.cn/community/dailylesson/lessonhandler.ashx?operate=getlessonbyid&lesson_id=146&transculturecode=zh-CN&v=35-1\n",
      "无效URL：http://ec.ef.com.cn/community/dailylesson/lessonhandler.ashx?operate=getlessonbyid&lesson_id=147&transculturecode=zh-CN&v=35-1\n",
      "无效URL：http://ec.ef.com.cn/community/dailylesson/lessonhandler.ashx?operate=getlessonbyid&lesson_id=148&transculturecode=zh-CN&v=35-1\n",
      "无效URL：http://ec.ef.com.cn/community/dailylesson/lessonhandler.ashx?operate=getlessonbyid&lesson_id=149&transculturecode=zh-CN&v=35-1\n",
      "无效URL：http://ec.ef.com.cn/community/dailylesson/lessonhandler.ashx?operate=getlessonbyid&lesson_id=150&transculturecode=zh-CN&v=35-1\n",
      "无效URL：http://ec.ef.com.cn/community/dailylesson/lessonhandler.ashx?operate=getlessonbyid&lesson_id=151&transculturecode=zh-CN&v=35-1\n",
      "无效URL：http://ec.ef.com.cn/community/dailylesson/lessonhandler.ashx?operate=getlessonbyid&lesson_id=152&transculturecode=zh-CN&v=35-1\n",
      "无效URL：http://ec.ef.com.cn/community/dailylesson/lessonhandler.ashx?operate=getlessonbyid&lesson_id=153&transculturecode=zh-CN&v=35-1\n",
      "无效URL：http://ec.ef.com.cn/community/dailylesson/lessonhandler.ashx?operate=getlessonbyid&lesson_id=154&transculturecode=zh-CN&v=35-1\n",
      "无效URL：http://ec.ef.com.cn/community/dailylesson/lessonhandler.ashx?operate=getlessonbyid&lesson_id=155&transculturecode=zh-CN&v=35-1\n"
     ]
    },
    {
     "data": {
      "text/plain": [
       "<pymongo.results.InsertOneResult at 0x10bbc74c8>"
      ]
     },
     "execution_count": 17,
     "metadata": {},
     "output_type": "execute_result"
    },
    {
     "name": "stdout",
     "output_type": "stream",
     "text": [
      "无效URL：http://ec.ef.com.cn/community/dailylesson/lessonhandler.ashx?operate=getlessonbyid&lesson_id=157&transculturecode=zh-CN&v=35-1\n"
     ]
    },
    {
     "data": {
      "text/plain": [
       "<pymongo.results.InsertOneResult at 0x10bb97948>"
      ]
     },
     "execution_count": 17,
     "metadata": {},
     "output_type": "execute_result"
    },
    {
     "name": "stdout",
     "output_type": "stream",
     "text": [
      "无效URL：http://ec.ef.com.cn/community/dailylesson/lessonhandler.ashx?operate=getlessonbyid&lesson_id=159&transculturecode=zh-CN&v=35-1\n",
      "无效URL：http://ec.ef.com.cn/community/dailylesson/lessonhandler.ashx?operate=getlessonbyid&lesson_id=160&transculturecode=zh-CN&v=35-1\n",
      "无效URL：http://ec.ef.com.cn/community/dailylesson/lessonhandler.ashx?operate=getlessonbyid&lesson_id=161&transculturecode=zh-CN&v=35-1\n",
      "无效URL：http://ec.ef.com.cn/community/dailylesson/lessonhandler.ashx?operate=getlessonbyid&lesson_id=162&transculturecode=zh-CN&v=35-1\n",
      "无效URL：http://ec.ef.com.cn/community/dailylesson/lessonhandler.ashx?operate=getlessonbyid&lesson_id=163&transculturecode=zh-CN&v=35-1\n",
      "无效URL：http://ec.ef.com.cn/community/dailylesson/lessonhandler.ashx?operate=getlessonbyid&lesson_id=164&transculturecode=zh-CN&v=35-1\n",
      "无效URL：http://ec.ef.com.cn/community/dailylesson/lessonhandler.ashx?operate=getlessonbyid&lesson_id=165&transculturecode=zh-CN&v=35-1\n",
      "无效URL：http://ec.ef.com.cn/community/dailylesson/lessonhandler.ashx?operate=getlessonbyid&lesson_id=166&transculturecode=zh-CN&v=35-1\n",
      "无效URL：http://ec.ef.com.cn/community/dailylesson/lessonhandler.ashx?operate=getlessonbyid&lesson_id=167&transculturecode=zh-CN&v=35-1\n",
      "无效URL：http://ec.ef.com.cn/community/dailylesson/lessonhandler.ashx?operate=getlessonbyid&lesson_id=168&transculturecode=zh-CN&v=35-1\n",
      "无效URL：http://ec.ef.com.cn/community/dailylesson/lessonhandler.ashx?operate=getlessonbyid&lesson_id=169&transculturecode=zh-CN&v=35-1\n",
      "无效URL：http://ec.ef.com.cn/community/dailylesson/lessonhandler.ashx?operate=getlessonbyid&lesson_id=170&transculturecode=zh-CN&v=35-1\n",
      "无效URL：http://ec.ef.com.cn/community/dailylesson/lessonhandler.ashx?operate=getlessonbyid&lesson_id=171&transculturecode=zh-CN&v=35-1\n",
      "无效URL：http://ec.ef.com.cn/community/dailylesson/lessonhandler.ashx?operate=getlessonbyid&lesson_id=172&transculturecode=zh-CN&v=35-1\n",
      "无效URL：http://ec.ef.com.cn/community/dailylesson/lessonhandler.ashx?operate=getlessonbyid&lesson_id=173&transculturecode=zh-CN&v=35-1\n",
      "无效URL：http://ec.ef.com.cn/community/dailylesson/lessonhandler.ashx?operate=getlessonbyid&lesson_id=174&transculturecode=zh-CN&v=35-1\n",
      "无效URL：http://ec.ef.com.cn/community/dailylesson/lessonhandler.ashx?operate=getlessonbyid&lesson_id=175&transculturecode=zh-CN&v=35-1\n",
      "无效URL：http://ec.ef.com.cn/community/dailylesson/lessonhandler.ashx?operate=getlessonbyid&lesson_id=176&transculturecode=zh-CN&v=35-1\n",
      "无效URL：http://ec.ef.com.cn/community/dailylesson/lessonhandler.ashx?operate=getlessonbyid&lesson_id=177&transculturecode=zh-CN&v=35-1\n",
      "无效URL：http://ec.ef.com.cn/community/dailylesson/lessonhandler.ashx?operate=getlessonbyid&lesson_id=178&transculturecode=zh-CN&v=35-1\n",
      "无效URL：http://ec.ef.com.cn/community/dailylesson/lessonhandler.ashx?operate=getlessonbyid&lesson_id=179&transculturecode=zh-CN&v=35-1\n",
      "无效URL：http://ec.ef.com.cn/community/dailylesson/lessonhandler.ashx?operate=getlessonbyid&lesson_id=180&transculturecode=zh-CN&v=35-1\n",
      "无效URL：http://ec.ef.com.cn/community/dailylesson/lessonhandler.ashx?operate=getlessonbyid&lesson_id=181&transculturecode=zh-CN&v=35-1\n",
      "无效URL：http://ec.ef.com.cn/community/dailylesson/lessonhandler.ashx?operate=getlessonbyid&lesson_id=182&transculturecode=zh-CN&v=35-1\n",
      "无效URL：http://ec.ef.com.cn/community/dailylesson/lessonhandler.ashx?operate=getlessonbyid&lesson_id=183&transculturecode=zh-CN&v=35-1\n",
      "无效URL：http://ec.ef.com.cn/community/dailylesson/lessonhandler.ashx?operate=getlessonbyid&lesson_id=184&transculturecode=zh-CN&v=35-1\n",
      "无效URL：http://ec.ef.com.cn/community/dailylesson/lessonhandler.ashx?operate=getlessonbyid&lesson_id=185&transculturecode=zh-CN&v=35-1\n",
      "无效URL：http://ec.ef.com.cn/community/dailylesson/lessonhandler.ashx?operate=getlessonbyid&lesson_id=186&transculturecode=zh-CN&v=35-1\n",
      "无效URL：http://ec.ef.com.cn/community/dailylesson/lessonhandler.ashx?operate=getlessonbyid&lesson_id=187&transculturecode=zh-CN&v=35-1\n",
      "无效URL：http://ec.ef.com.cn/community/dailylesson/lessonhandler.ashx?operate=getlessonbyid&lesson_id=188&transculturecode=zh-CN&v=35-1\n",
      "无效URL：http://ec.ef.com.cn/community/dailylesson/lessonhandler.ashx?operate=getlessonbyid&lesson_id=189&transculturecode=zh-CN&v=35-1\n",
      "无效URL：http://ec.ef.com.cn/community/dailylesson/lessonhandler.ashx?operate=getlessonbyid&lesson_id=190&transculturecode=zh-CN&v=35-1\n",
      "无效URL：http://ec.ef.com.cn/community/dailylesson/lessonhandler.ashx?operate=getlessonbyid&lesson_id=191&transculturecode=zh-CN&v=35-1\n",
      "无效URL：http://ec.ef.com.cn/community/dailylesson/lessonhandler.ashx?operate=getlessonbyid&lesson_id=192&transculturecode=zh-CN&v=35-1\n",
      "无效URL：http://ec.ef.com.cn/community/dailylesson/lessonhandler.ashx?operate=getlessonbyid&lesson_id=193&transculturecode=zh-CN&v=35-1\n",
      "无效URL：http://ec.ef.com.cn/community/dailylesson/lessonhandler.ashx?operate=getlessonbyid&lesson_id=194&transculturecode=zh-CN&v=35-1\n",
      "无效URL：http://ec.ef.com.cn/community/dailylesson/lessonhandler.ashx?operate=getlessonbyid&lesson_id=195&transculturecode=zh-CN&v=35-1\n",
      "无效URL：http://ec.ef.com.cn/community/dailylesson/lessonhandler.ashx?operate=getlessonbyid&lesson_id=196&transculturecode=zh-CN&v=35-1\n",
      "无效URL：http://ec.ef.com.cn/community/dailylesson/lessonhandler.ashx?operate=getlessonbyid&lesson_id=197&transculturecode=zh-CN&v=35-1\n",
      "无效URL：http://ec.ef.com.cn/community/dailylesson/lessonhandler.ashx?operate=getlessonbyid&lesson_id=198&transculturecode=zh-CN&v=35-1\n",
      "无效URL：http://ec.ef.com.cn/community/dailylesson/lessonhandler.ashx?operate=getlessonbyid&lesson_id=199&transculturecode=zh-CN&v=35-1\n",
      "无效URL：http://ec.ef.com.cn/community/dailylesson/lessonhandler.ashx?operate=getlessonbyid&lesson_id=200&transculturecode=zh-CN&v=35-1\n",
      "无效URL：http://ec.ef.com.cn/community/dailylesson/lessonhandler.ashx?operate=getlessonbyid&lesson_id=201&transculturecode=zh-CN&v=35-1\n",
      "无效URL：http://ec.ef.com.cn/community/dailylesson/lessonhandler.ashx?operate=getlessonbyid&lesson_id=202&transculturecode=zh-CN&v=35-1\n",
      "无效URL：http://ec.ef.com.cn/community/dailylesson/lessonhandler.ashx?operate=getlessonbyid&lesson_id=203&transculturecode=zh-CN&v=35-1\n",
      "无效URL：http://ec.ef.com.cn/community/dailylesson/lessonhandler.ashx?operate=getlessonbyid&lesson_id=204&transculturecode=zh-CN&v=35-1\n",
      "无效URL：http://ec.ef.com.cn/community/dailylesson/lessonhandler.ashx?operate=getlessonbyid&lesson_id=205&transculturecode=zh-CN&v=35-1\n",
      "无效URL：http://ec.ef.com.cn/community/dailylesson/lessonhandler.ashx?operate=getlessonbyid&lesson_id=206&transculturecode=zh-CN&v=35-1\n",
      "无效URL：http://ec.ef.com.cn/community/dailylesson/lessonhandler.ashx?operate=getlessonbyid&lesson_id=207&transculturecode=zh-CN&v=35-1\n",
      "无效URL：http://ec.ef.com.cn/community/dailylesson/lessonhandler.ashx?operate=getlessonbyid&lesson_id=208&transculturecode=zh-CN&v=35-1\n",
      "无效URL：http://ec.ef.com.cn/community/dailylesson/lessonhandler.ashx?operate=getlessonbyid&lesson_id=209&transculturecode=zh-CN&v=35-1\n",
      "无效URL：http://ec.ef.com.cn/community/dailylesson/lessonhandler.ashx?operate=getlessonbyid&lesson_id=210&transculturecode=zh-CN&v=35-1\n",
      "无效URL：http://ec.ef.com.cn/community/dailylesson/lessonhandler.ashx?operate=getlessonbyid&lesson_id=211&transculturecode=zh-CN&v=35-1\n",
      "无效URL：http://ec.ef.com.cn/community/dailylesson/lessonhandler.ashx?operate=getlessonbyid&lesson_id=212&transculturecode=zh-CN&v=35-1\n",
      "无效URL：http://ec.ef.com.cn/community/dailylesson/lessonhandler.ashx?operate=getlessonbyid&lesson_id=213&transculturecode=zh-CN&v=35-1\n",
      "无效URL：http://ec.ef.com.cn/community/dailylesson/lessonhandler.ashx?operate=getlessonbyid&lesson_id=214&transculturecode=zh-CN&v=35-1\n",
      "无效URL：http://ec.ef.com.cn/community/dailylesson/lessonhandler.ashx?operate=getlessonbyid&lesson_id=215&transculturecode=zh-CN&v=35-1\n",
      "无效URL：http://ec.ef.com.cn/community/dailylesson/lessonhandler.ashx?operate=getlessonbyid&lesson_id=216&transculturecode=zh-CN&v=35-1\n",
      "无效URL：http://ec.ef.com.cn/community/dailylesson/lessonhandler.ashx?operate=getlessonbyid&lesson_id=217&transculturecode=zh-CN&v=35-1\n",
      "无效URL：http://ec.ef.com.cn/community/dailylesson/lessonhandler.ashx?operate=getlessonbyid&lesson_id=218&transculturecode=zh-CN&v=35-1\n",
      "无效URL：http://ec.ef.com.cn/community/dailylesson/lessonhandler.ashx?operate=getlessonbyid&lesson_id=219&transculturecode=zh-CN&v=35-1\n",
      "无效URL：http://ec.ef.com.cn/community/dailylesson/lessonhandler.ashx?operate=getlessonbyid&lesson_id=220&transculturecode=zh-CN&v=35-1\n"
     ]
    },
    {
     "name": "stdout",
     "output_type": "stream",
     "text": [
      "无效URL：http://ec.ef.com.cn/community/dailylesson/lessonhandler.ashx?operate=getlessonbyid&lesson_id=221&transculturecode=zh-CN&v=35-1\n",
      "无效URL：http://ec.ef.com.cn/community/dailylesson/lessonhandler.ashx?operate=getlessonbyid&lesson_id=222&transculturecode=zh-CN&v=35-1\n",
      "无效URL：http://ec.ef.com.cn/community/dailylesson/lessonhandler.ashx?operate=getlessonbyid&lesson_id=223&transculturecode=zh-CN&v=35-1\n",
      "无效URL：http://ec.ef.com.cn/community/dailylesson/lessonhandler.ashx?operate=getlessonbyid&lesson_id=224&transculturecode=zh-CN&v=35-1\n",
      "无效URL：http://ec.ef.com.cn/community/dailylesson/lessonhandler.ashx?operate=getlessonbyid&lesson_id=225&transculturecode=zh-CN&v=35-1\n",
      "无效URL：http://ec.ef.com.cn/community/dailylesson/lessonhandler.ashx?operate=getlessonbyid&lesson_id=226&transculturecode=zh-CN&v=35-1\n",
      "无效URL：http://ec.ef.com.cn/community/dailylesson/lessonhandler.ashx?operate=getlessonbyid&lesson_id=227&transculturecode=zh-CN&v=35-1\n",
      "无效URL：http://ec.ef.com.cn/community/dailylesson/lessonhandler.ashx?operate=getlessonbyid&lesson_id=228&transculturecode=zh-CN&v=35-1\n",
      "无效URL：http://ec.ef.com.cn/community/dailylesson/lessonhandler.ashx?operate=getlessonbyid&lesson_id=229&transculturecode=zh-CN&v=35-1\n",
      "无效URL：http://ec.ef.com.cn/community/dailylesson/lessonhandler.ashx?operate=getlessonbyid&lesson_id=230&transculturecode=zh-CN&v=35-1\n",
      "无效URL：http://ec.ef.com.cn/community/dailylesson/lessonhandler.ashx?operate=getlessonbyid&lesson_id=231&transculturecode=zh-CN&v=35-1\n",
      "无效URL：http://ec.ef.com.cn/community/dailylesson/lessonhandler.ashx?operate=getlessonbyid&lesson_id=232&transculturecode=zh-CN&v=35-1\n",
      "无效URL：http://ec.ef.com.cn/community/dailylesson/lessonhandler.ashx?operate=getlessonbyid&lesson_id=233&transculturecode=zh-CN&v=35-1\n",
      "无效URL：http://ec.ef.com.cn/community/dailylesson/lessonhandler.ashx?operate=getlessonbyid&lesson_id=234&transculturecode=zh-CN&v=35-1\n",
      "无效URL：http://ec.ef.com.cn/community/dailylesson/lessonhandler.ashx?operate=getlessonbyid&lesson_id=235&transculturecode=zh-CN&v=35-1\n",
      "无效URL：http://ec.ef.com.cn/community/dailylesson/lessonhandler.ashx?operate=getlessonbyid&lesson_id=236&transculturecode=zh-CN&v=35-1\n",
      "无效URL：http://ec.ef.com.cn/community/dailylesson/lessonhandler.ashx?operate=getlessonbyid&lesson_id=237&transculturecode=zh-CN&v=35-1\n",
      "无效URL：http://ec.ef.com.cn/community/dailylesson/lessonhandler.ashx?operate=getlessonbyid&lesson_id=238&transculturecode=zh-CN&v=35-1\n",
      "无效URL：http://ec.ef.com.cn/community/dailylesson/lessonhandler.ashx?operate=getlessonbyid&lesson_id=239&transculturecode=zh-CN&v=35-1\n",
      "无效URL：http://ec.ef.com.cn/community/dailylesson/lessonhandler.ashx?operate=getlessonbyid&lesson_id=240&transculturecode=zh-CN&v=35-1\n",
      "无效URL：http://ec.ef.com.cn/community/dailylesson/lessonhandler.ashx?operate=getlessonbyid&lesson_id=241&transculturecode=zh-CN&v=35-1\n",
      "无效URL：http://ec.ef.com.cn/community/dailylesson/lessonhandler.ashx?operate=getlessonbyid&lesson_id=242&transculturecode=zh-CN&v=35-1\n",
      "无效URL：http://ec.ef.com.cn/community/dailylesson/lessonhandler.ashx?operate=getlessonbyid&lesson_id=243&transculturecode=zh-CN&v=35-1\n",
      "无效URL：http://ec.ef.com.cn/community/dailylesson/lessonhandler.ashx?operate=getlessonbyid&lesson_id=244&transculturecode=zh-CN&v=35-1\n",
      "无效URL：http://ec.ef.com.cn/community/dailylesson/lessonhandler.ashx?operate=getlessonbyid&lesson_id=245&transculturecode=zh-CN&v=35-1\n",
      "无效URL：http://ec.ef.com.cn/community/dailylesson/lessonhandler.ashx?operate=getlessonbyid&lesson_id=246&transculturecode=zh-CN&v=35-1\n",
      "无效URL：http://ec.ef.com.cn/community/dailylesson/lessonhandler.ashx?operate=getlessonbyid&lesson_id=247&transculturecode=zh-CN&v=35-1\n",
      "无效URL：http://ec.ef.com.cn/community/dailylesson/lessonhandler.ashx?operate=getlessonbyid&lesson_id=248&transculturecode=zh-CN&v=35-1\n",
      "无效URL：http://ec.ef.com.cn/community/dailylesson/lessonhandler.ashx?operate=getlessonbyid&lesson_id=249&transculturecode=zh-CN&v=35-1\n",
      "无效URL：http://ec.ef.com.cn/community/dailylesson/lessonhandler.ashx?operate=getlessonbyid&lesson_id=250&transculturecode=zh-CN&v=35-1\n",
      "无效URL：http://ec.ef.com.cn/community/dailylesson/lessonhandler.ashx?operate=getlessonbyid&lesson_id=251&transculturecode=zh-CN&v=35-1\n",
      "无效URL：http://ec.ef.com.cn/community/dailylesson/lessonhandler.ashx?operate=getlessonbyid&lesson_id=252&transculturecode=zh-CN&v=35-1\n",
      "无效URL：http://ec.ef.com.cn/community/dailylesson/lessonhandler.ashx?operate=getlessonbyid&lesson_id=253&transculturecode=zh-CN&v=35-1\n",
      "无效URL：http://ec.ef.com.cn/community/dailylesson/lessonhandler.ashx?operate=getlessonbyid&lesson_id=254&transculturecode=zh-CN&v=35-1\n",
      "无效URL：http://ec.ef.com.cn/community/dailylesson/lessonhandler.ashx?operate=getlessonbyid&lesson_id=255&transculturecode=zh-CN&v=35-1\n",
      "无效URL：http://ec.ef.com.cn/community/dailylesson/lessonhandler.ashx?operate=getlessonbyid&lesson_id=256&transculturecode=zh-CN&v=35-1\n",
      "无效URL：http://ec.ef.com.cn/community/dailylesson/lessonhandler.ashx?operate=getlessonbyid&lesson_id=257&transculturecode=zh-CN&v=35-1\n",
      "无效URL：http://ec.ef.com.cn/community/dailylesson/lessonhandler.ashx?operate=getlessonbyid&lesson_id=258&transculturecode=zh-CN&v=35-1\n",
      "无效URL：http://ec.ef.com.cn/community/dailylesson/lessonhandler.ashx?operate=getlessonbyid&lesson_id=259&transculturecode=zh-CN&v=35-1\n",
      "无效URL：http://ec.ef.com.cn/community/dailylesson/lessonhandler.ashx?operate=getlessonbyid&lesson_id=260&transculturecode=zh-CN&v=35-1\n",
      "无效URL：http://ec.ef.com.cn/community/dailylesson/lessonhandler.ashx?operate=getlessonbyid&lesson_id=261&transculturecode=zh-CN&v=35-1\n",
      "无效URL：http://ec.ef.com.cn/community/dailylesson/lessonhandler.ashx?operate=getlessonbyid&lesson_id=262&transculturecode=zh-CN&v=35-1\n",
      "无效URL：http://ec.ef.com.cn/community/dailylesson/lessonhandler.ashx?operate=getlessonbyid&lesson_id=263&transculturecode=zh-CN&v=35-1\n",
      "无效URL：http://ec.ef.com.cn/community/dailylesson/lessonhandler.ashx?operate=getlessonbyid&lesson_id=264&transculturecode=zh-CN&v=35-1\n"
     ]
    },
    {
     "data": {
      "text/plain": [
       "<pymongo.results.InsertOneResult at 0x10b9d5b88>"
      ]
     },
     "execution_count": 17,
     "metadata": {},
     "output_type": "execute_result"
    },
    {
     "data": {
      "text/plain": [
       "<pymongo.results.InsertOneResult at 0x10bb22708>"
      ]
     },
     "execution_count": 17,
     "metadata": {},
     "output_type": "execute_result"
    },
    {
     "data": {
      "text/plain": [
       "<pymongo.results.InsertOneResult at 0x10bb79048>"
      ]
     },
     "execution_count": 17,
     "metadata": {},
     "output_type": "execute_result"
    },
    {
     "data": {
      "text/plain": [
       "<pymongo.results.InsertOneResult at 0x10bbb6908>"
      ]
     },
     "execution_count": 17,
     "metadata": {},
     "output_type": "execute_result"
    },
    {
     "data": {
      "text/plain": [
       "<pymongo.results.InsertOneResult at 0x10b9d5b88>"
      ]
     },
     "execution_count": 17,
     "metadata": {},
     "output_type": "execute_result"
    },
    {
     "data": {
      "text/plain": [
       "<pymongo.results.InsertOneResult at 0x10bb22708>"
      ]
     },
     "execution_count": 17,
     "metadata": {},
     "output_type": "execute_result"
    },
    {
     "data": {
      "text/plain": [
       "<pymongo.results.InsertOneResult at 0x10bb79048>"
      ]
     },
     "execution_count": 17,
     "metadata": {},
     "output_type": "execute_result"
    },
    {
     "data": {
      "text/plain": [
       "<pymongo.results.InsertOneResult at 0x10b9da4c8>"
      ]
     },
     "execution_count": 17,
     "metadata": {},
     "output_type": "execute_result"
    },
    {
     "data": {
      "text/plain": [
       "<pymongo.results.InsertOneResult at 0x10bb83e88>"
      ]
     },
     "execution_count": 17,
     "metadata": {},
     "output_type": "execute_result"
    },
    {
     "data": {
      "text/plain": [
       "<pymongo.results.InsertOneResult at 0x10b9da048>"
      ]
     },
     "execution_count": 17,
     "metadata": {},
     "output_type": "execute_result"
    },
    {
     "data": {
      "text/plain": [
       "<pymongo.results.InsertOneResult at 0x10b9d5b88>"
      ]
     },
     "execution_count": 17,
     "metadata": {},
     "output_type": "execute_result"
    },
    {
     "data": {
      "text/plain": [
       "<pymongo.results.InsertOneResult at 0x10bb22708>"
      ]
     },
     "execution_count": 17,
     "metadata": {},
     "output_type": "execute_result"
    },
    {
     "data": {
      "text/plain": [
       "<pymongo.results.InsertOneResult at 0x10bbb6248>"
      ]
     },
     "execution_count": 17,
     "metadata": {},
     "output_type": "execute_result"
    },
    {
     "data": {
      "text/plain": [
       "<pymongo.results.InsertOneResult at 0x10bbb6148>"
      ]
     },
     "execution_count": 17,
     "metadata": {},
     "output_type": "execute_result"
    },
    {
     "data": {
      "text/plain": [
       "<pymongo.results.InsertOneResult at 0x10bbafcc8>"
      ]
     },
     "execution_count": 17,
     "metadata": {},
     "output_type": "execute_result"
    },
    {
     "data": {
      "text/plain": [
       "<pymongo.results.InsertOneResult at 0x10b9da048>"
      ]
     },
     "execution_count": 17,
     "metadata": {},
     "output_type": "execute_result"
    },
    {
     "data": {
      "text/plain": [
       "<pymongo.results.InsertOneResult at 0x10bbb1fc8>"
      ]
     },
     "execution_count": 17,
     "metadata": {},
     "output_type": "execute_result"
    },
    {
     "data": {
      "text/plain": [
       "<pymongo.results.InsertOneResult at 0x10bb2aa08>"
      ]
     },
     "execution_count": 17,
     "metadata": {},
     "output_type": "execute_result"
    },
    {
     "data": {
      "text/plain": [
       "<pymongo.results.InsertOneResult at 0x10b9da4c8>"
      ]
     },
     "execution_count": 17,
     "metadata": {},
     "output_type": "execute_result"
    },
    {
     "data": {
      "text/plain": [
       "<pymongo.results.InsertOneResult at 0x10bbb1608>"
      ]
     },
     "execution_count": 17,
     "metadata": {},
     "output_type": "execute_result"
    },
    {
     "data": {
      "text/plain": [
       "<pymongo.results.InsertOneResult at 0x10bbafcc8>"
      ]
     },
     "execution_count": 17,
     "metadata": {},
     "output_type": "execute_result"
    },
    {
     "data": {
      "text/plain": [
       "<pymongo.results.InsertOneResult at 0x10bbb6248>"
      ]
     },
     "execution_count": 17,
     "metadata": {},
     "output_type": "execute_result"
    },
    {
     "data": {
      "text/plain": [
       "<pymongo.results.InsertOneResult at 0x10bba9e88>"
      ]
     },
     "execution_count": 17,
     "metadata": {},
     "output_type": "execute_result"
    },
    {
     "data": {
      "text/plain": [
       "<pymongo.results.InsertOneResult at 0x10bbafec8>"
      ]
     },
     "execution_count": 17,
     "metadata": {},
     "output_type": "execute_result"
    },
    {
     "data": {
      "text/plain": [
       "<pymongo.results.InsertOneResult at 0x10bbb3c48>"
      ]
     },
     "execution_count": 17,
     "metadata": {},
     "output_type": "execute_result"
    },
    {
     "data": {
      "text/plain": [
       "<pymongo.results.InsertOneResult at 0x10bbb8608>"
      ]
     },
     "execution_count": 17,
     "metadata": {},
     "output_type": "execute_result"
    },
    {
     "data": {
      "text/plain": [
       "<pymongo.results.InsertOneResult at 0x10bbdcbc8>"
      ]
     },
     "execution_count": 17,
     "metadata": {},
     "output_type": "execute_result"
    },
    {
     "data": {
      "text/plain": [
       "<pymongo.results.InsertOneResult at 0x10bba3e88>"
      ]
     },
     "execution_count": 17,
     "metadata": {},
     "output_type": "execute_result"
    },
    {
     "data": {
      "text/plain": [
       "<pymongo.results.InsertOneResult at 0x10bb2aa08>"
      ]
     },
     "execution_count": 17,
     "metadata": {},
     "output_type": "execute_result"
    },
    {
     "data": {
      "text/plain": [
       "<pymongo.results.InsertOneResult at 0x10bb19148>"
      ]
     },
     "execution_count": 17,
     "metadata": {},
     "output_type": "execute_result"
    },
    {
     "data": {
      "text/plain": [
       "<pymongo.results.InsertOneResult at 0x10bba39c8>"
      ]
     },
     "execution_count": 17,
     "metadata": {},
     "output_type": "execute_result"
    },
    {
     "data": {
      "text/plain": [
       "<pymongo.results.InsertOneResult at 0x10bbd3888>"
      ]
     },
     "execution_count": 17,
     "metadata": {},
     "output_type": "execute_result"
    },
    {
     "data": {
      "text/plain": [
       "<pymongo.results.InsertOneResult at 0x10b9e9888>"
      ]
     },
     "execution_count": 17,
     "metadata": {},
     "output_type": "execute_result"
    },
    {
     "data": {
      "text/plain": [
       "<pymongo.results.InsertOneResult at 0x10bb19148>"
      ]
     },
     "execution_count": 17,
     "metadata": {},
     "output_type": "execute_result"
    },
    {
     "data": {
      "text/plain": [
       "<pymongo.results.InsertOneResult at 0x10bb2aa08>"
      ]
     },
     "execution_count": 17,
     "metadata": {},
     "output_type": "execute_result"
    },
    {
     "data": {
      "text/plain": [
       "<pymongo.results.InsertOneResult at 0x10b9e9c48>"
      ]
     },
     "execution_count": 17,
     "metadata": {},
     "output_type": "execute_result"
    },
    {
     "data": {
      "text/plain": [
       "<pymongo.results.InsertOneResult at 0x10b9e9988>"
      ]
     },
     "execution_count": 17,
     "metadata": {},
     "output_type": "execute_result"
    },
    {
     "data": {
      "text/plain": [
       "<pymongo.results.InsertOneResult at 0x10bb79048>"
      ]
     },
     "execution_count": 17,
     "metadata": {},
     "output_type": "execute_result"
    },
    {
     "data": {
      "text/plain": [
       "<pymongo.results.InsertOneResult at 0x10bad6548>"
      ]
     },
     "execution_count": 17,
     "metadata": {},
     "output_type": "execute_result"
    },
    {
     "data": {
      "text/plain": [
       "<pymongo.results.InsertOneResult at 0x10bb22708>"
      ]
     },
     "execution_count": 17,
     "metadata": {},
     "output_type": "execute_result"
    },
    {
     "data": {
      "text/plain": [
       "<pymongo.results.InsertOneResult at 0x10bbac9c8>"
      ]
     },
     "execution_count": 17,
     "metadata": {},
     "output_type": "execute_result"
    },
    {
     "data": {
      "text/plain": [
       "<pymongo.results.InsertOneResult at 0x10bb2aa08>"
      ]
     },
     "execution_count": 17,
     "metadata": {},
     "output_type": "execute_result"
    },
    {
     "data": {
      "text/plain": [
       "<pymongo.results.InsertOneResult at 0x10bba3688>"
      ]
     },
     "execution_count": 17,
     "metadata": {},
     "output_type": "execute_result"
    },
    {
     "data": {
      "text/plain": [
       "<pymongo.results.InsertOneResult at 0x10bb79048>"
      ]
     },
     "execution_count": 17,
     "metadata": {},
     "output_type": "execute_result"
    },
    {
     "data": {
      "text/plain": [
       "<pymongo.results.InsertOneResult at 0x10bba6f48>"
      ]
     },
     "execution_count": 17,
     "metadata": {},
     "output_type": "execute_result"
    },
    {
     "data": {
      "text/plain": [
       "<pymongo.results.InsertOneResult at 0x10bba3908>"
      ]
     },
     "execution_count": 17,
     "metadata": {},
     "output_type": "execute_result"
    },
    {
     "data": {
      "text/plain": [
       "<pymongo.results.InsertOneResult at 0x10bb22708>"
      ]
     },
     "execution_count": 17,
     "metadata": {},
     "output_type": "execute_result"
    },
    {
     "data": {
      "text/plain": [
       "<pymongo.results.InsertOneResult at 0x10b9e9c48>"
      ]
     },
     "execution_count": 17,
     "metadata": {},
     "output_type": "execute_result"
    },
    {
     "data": {
      "text/plain": [
       "<pymongo.results.InsertOneResult at 0x10b9da4c8>"
      ]
     },
     "execution_count": 17,
     "metadata": {},
     "output_type": "execute_result"
    },
    {
     "data": {
      "text/plain": [
       "<pymongo.results.InsertOneResult at 0x10bb79048>"
      ]
     },
     "execution_count": 17,
     "metadata": {},
     "output_type": "execute_result"
    },
    {
     "data": {
      "text/plain": [
       "<pymongo.results.InsertOneResult at 0x10bad6748>"
      ]
     },
     "execution_count": 17,
     "metadata": {},
     "output_type": "execute_result"
    },
    {
     "data": {
      "text/plain": [
       "<pymongo.results.InsertOneResult at 0x10bba3908>"
      ]
     },
     "execution_count": 17,
     "metadata": {},
     "output_type": "execute_result"
    },
    {
     "data": {
      "text/plain": [
       "<pymongo.results.InsertOneResult at 0x10bba9588>"
      ]
     },
     "execution_count": 17,
     "metadata": {},
     "output_type": "execute_result"
    },
    {
     "data": {
      "text/plain": [
       "<pymongo.results.InsertOneResult at 0x10bb22708>"
      ]
     },
     "execution_count": 17,
     "metadata": {},
     "output_type": "execute_result"
    },
    {
     "data": {
      "text/plain": [
       "<pymongo.results.InsertOneResult at 0x10bba6f48>"
      ]
     },
     "execution_count": 17,
     "metadata": {},
     "output_type": "execute_result"
    },
    {
     "data": {
      "text/plain": [
       "<pymongo.results.InsertOneResult at 0x10bbac9c8>"
      ]
     },
     "execution_count": 17,
     "metadata": {},
     "output_type": "execute_result"
    },
    {
     "data": {
      "text/plain": [
       "<pymongo.results.InsertOneResult at 0x10bbdbf08>"
      ]
     },
     "execution_count": 17,
     "metadata": {},
     "output_type": "execute_result"
    },
    {
     "data": {
      "text/plain": [
       "<pymongo.results.InsertOneResult at 0x10bbaff48>"
      ]
     },
     "execution_count": 17,
     "metadata": {},
     "output_type": "execute_result"
    },
    {
     "data": {
      "text/plain": [
       "<pymongo.results.InsertOneResult at 0x10bbd3d08>"
      ]
     },
     "execution_count": 17,
     "metadata": {},
     "output_type": "execute_result"
    },
    {
     "data": {
      "text/plain": [
       "<pymongo.results.InsertOneResult at 0x10b9e9c48>"
      ]
     },
     "execution_count": 17,
     "metadata": {},
     "output_type": "execute_result"
    },
    {
     "data": {
      "text/plain": [
       "<pymongo.results.InsertOneResult at 0x10bb79048>"
      ]
     },
     "execution_count": 17,
     "metadata": {},
     "output_type": "execute_result"
    },
    {
     "data": {
      "text/plain": [
       "<pymongo.results.InsertOneResult at 0x10bb2aa08>"
      ]
     },
     "execution_count": 17,
     "metadata": {},
     "output_type": "execute_result"
    },
    {
     "data": {
      "text/plain": [
       "<pymongo.results.InsertOneResult at 0x10bad6748>"
      ]
     },
     "execution_count": 17,
     "metadata": {},
     "output_type": "execute_result"
    },
    {
     "data": {
      "text/plain": [
       "<pymongo.results.InsertOneResult at 0x10bbb3ac8>"
      ]
     },
     "execution_count": 17,
     "metadata": {},
     "output_type": "execute_result"
    },
    {
     "data": {
      "text/plain": [
       "<pymongo.results.InsertOneResult at 0x10bba3908>"
      ]
     },
     "execution_count": 17,
     "metadata": {},
     "output_type": "execute_result"
    },
    {
     "data": {
      "text/plain": [
       "<pymongo.results.InsertOneResult at 0x10bbd3088>"
      ]
     },
     "execution_count": 17,
     "metadata": {},
     "output_type": "execute_result"
    },
    {
     "data": {
      "text/plain": [
       "<pymongo.results.InsertOneResult at 0x10bbac9c8>"
      ]
     },
     "execution_count": 17,
     "metadata": {},
     "output_type": "execute_result"
    },
    {
     "data": {
      "text/plain": [
       "<pymongo.results.InsertOneResult at 0x10bb01188>"
      ]
     },
     "execution_count": 17,
     "metadata": {},
     "output_type": "execute_result"
    },
    {
     "data": {
      "text/plain": [
       "<pymongo.results.InsertOneResult at 0x10bbd2788>"
      ]
     },
     "execution_count": 17,
     "metadata": {},
     "output_type": "execute_result"
    },
    {
     "data": {
      "text/plain": [
       "<pymongo.results.InsertOneResult at 0x10bb79048>"
      ]
     },
     "execution_count": 17,
     "metadata": {},
     "output_type": "execute_result"
    },
    {
     "data": {
      "text/plain": [
       "<pymongo.results.InsertOneResult at 0x10bb19148>"
      ]
     },
     "execution_count": 17,
     "metadata": {},
     "output_type": "execute_result"
    },
    {
     "data": {
      "text/plain": [
       "<pymongo.results.InsertOneResult at 0x10bb2aa08>"
      ]
     },
     "execution_count": 17,
     "metadata": {},
     "output_type": "execute_result"
    },
    {
     "data": {
      "text/plain": [
       "<pymongo.results.InsertOneResult at 0x10bbc7e08>"
      ]
     },
     "execution_count": 17,
     "metadata": {},
     "output_type": "execute_result"
    },
    {
     "data": {
      "text/plain": [
       "<pymongo.results.InsertOneResult at 0x10bb22708>"
      ]
     },
     "execution_count": 17,
     "metadata": {},
     "output_type": "execute_result"
    },
    {
     "data": {
      "text/plain": [
       "<pymongo.results.InsertOneResult at 0x10bb19148>"
      ]
     },
     "execution_count": 17,
     "metadata": {},
     "output_type": "execute_result"
    },
    {
     "data": {
      "text/plain": [
       "<pymongo.results.InsertOneResult at 0x10bb01188>"
      ]
     },
     "execution_count": 17,
     "metadata": {},
     "output_type": "execute_result"
    },
    {
     "data": {
      "text/plain": [
       "<pymongo.results.InsertOneResult at 0x10bbc7ac8>"
      ]
     },
     "execution_count": 17,
     "metadata": {},
     "output_type": "execute_result"
    },
    {
     "data": {
      "text/plain": [
       "<pymongo.results.InsertOneResult at 0x10bb2aa08>"
      ]
     },
     "execution_count": 17,
     "metadata": {},
     "output_type": "execute_result"
    },
    {
     "data": {
      "text/plain": [
       "<pymongo.results.InsertOneResult at 0x10bbc7e08>"
      ]
     },
     "execution_count": 17,
     "metadata": {},
     "output_type": "execute_result"
    },
    {
     "data": {
      "text/plain": [
       "<pymongo.results.InsertOneResult at 0x10bb22708>"
      ]
     },
     "execution_count": 17,
     "metadata": {},
     "output_type": "execute_result"
    },
    {
     "data": {
      "text/plain": [
       "<pymongo.results.InsertOneResult at 0x10bb79048>"
      ]
     },
     "execution_count": 17,
     "metadata": {},
     "output_type": "execute_result"
    },
    {
     "data": {
      "text/plain": [
       "<pymongo.results.InsertOneResult at 0x10bbc7288>"
      ]
     },
     "execution_count": 17,
     "metadata": {},
     "output_type": "execute_result"
    },
    {
     "data": {
      "text/plain": [
       "<pymongo.results.InsertOneResult at 0x10bbd24c8>"
      ]
     },
     "execution_count": 17,
     "metadata": {},
     "output_type": "execute_result"
    },
    {
     "data": {
      "text/plain": [
       "<pymongo.results.InsertOneResult at 0x10bbdc908>"
      ]
     },
     "execution_count": 17,
     "metadata": {},
     "output_type": "execute_result"
    },
    {
     "data": {
      "text/plain": [
       "<pymongo.results.InsertOneResult at 0x10bbdc948>"
      ]
     },
     "execution_count": 17,
     "metadata": {},
     "output_type": "execute_result"
    },
    {
     "data": {
      "text/plain": [
       "<pymongo.results.InsertOneResult at 0x10bb19148>"
      ]
     },
     "execution_count": 17,
     "metadata": {},
     "output_type": "execute_result"
    },
    {
     "data": {
      "text/plain": [
       "<pymongo.results.InsertOneResult at 0x10bb01188>"
      ]
     },
     "execution_count": 17,
     "metadata": {},
     "output_type": "execute_result"
    },
    {
     "data": {
      "text/plain": [
       "<pymongo.results.InsertOneResult at 0x10bbc76c8>"
      ]
     },
     "execution_count": 17,
     "metadata": {},
     "output_type": "execute_result"
    },
    {
     "data": {
      "text/plain": [
       "<pymongo.results.InsertOneResult at 0x10bbdcb48>"
      ]
     },
     "execution_count": 17,
     "metadata": {},
     "output_type": "execute_result"
    },
    {
     "data": {
      "text/plain": [
       "<pymongo.results.InsertOneResult at 0x10bbc70c8>"
      ]
     },
     "execution_count": 17,
     "metadata": {},
     "output_type": "execute_result"
    },
    {
     "data": {
      "text/plain": [
       "<pymongo.results.InsertOneResult at 0x10bbc7e08>"
      ]
     },
     "execution_count": 17,
     "metadata": {},
     "output_type": "execute_result"
    },
    {
     "data": {
      "text/plain": [
       "<pymongo.results.InsertOneResult at 0x10bb22708>"
      ]
     },
     "execution_count": 17,
     "metadata": {},
     "output_type": "execute_result"
    },
    {
     "data": {
      "text/plain": [
       "<pymongo.results.InsertOneResult at 0x10bba2dc8>"
      ]
     },
     "execution_count": 17,
     "metadata": {},
     "output_type": "execute_result"
    },
    {
     "data": {
      "text/plain": [
       "<pymongo.results.InsertOneResult at 0x10bb79048>"
      ]
     },
     "execution_count": 17,
     "metadata": {},
     "output_type": "execute_result"
    },
    {
     "data": {
      "text/plain": [
       "<pymongo.results.InsertOneResult at 0x10bb97988>"
      ]
     },
     "execution_count": 17,
     "metadata": {},
     "output_type": "execute_result"
    },
    {
     "data": {
      "text/plain": [
       "<pymongo.results.InsertOneResult at 0x10bb2aa08>"
      ]
     },
     "execution_count": 17,
     "metadata": {},
     "output_type": "execute_result"
    },
    {
     "data": {
      "text/plain": [
       "<pymongo.results.InsertOneResult at 0x10bba9f08>"
      ]
     },
     "execution_count": 17,
     "metadata": {},
     "output_type": "execute_result"
    },
    {
     "data": {
      "text/plain": [
       "<pymongo.results.InsertOneResult at 0x10bbc70c8>"
      ]
     },
     "execution_count": 17,
     "metadata": {},
     "output_type": "execute_result"
    },
    {
     "data": {
      "text/plain": [
       "<pymongo.results.InsertOneResult at 0x10b9d5b88>"
      ]
     },
     "execution_count": 17,
     "metadata": {},
     "output_type": "execute_result"
    },
    {
     "data": {
      "text/plain": [
       "<pymongo.results.InsertOneResult at 0x10b9e9c48>"
      ]
     },
     "execution_count": 17,
     "metadata": {},
     "output_type": "execute_result"
    },
    {
     "data": {
      "text/plain": [
       "<pymongo.results.InsertOneResult at 0x10bbb1548>"
      ]
     },
     "execution_count": 17,
     "metadata": {},
     "output_type": "execute_result"
    },
    {
     "data": {
      "text/plain": [
       "<pymongo.results.InsertOneResult at 0x10bbbcf48>"
      ]
     },
     "execution_count": 17,
     "metadata": {},
     "output_type": "execute_result"
    },
    {
     "data": {
      "text/plain": [
       "<pymongo.results.InsertOneResult at 0x10bb01188>"
      ]
     },
     "execution_count": 17,
     "metadata": {},
     "output_type": "execute_result"
    },
    {
     "data": {
      "text/plain": [
       "<pymongo.results.InsertOneResult at 0x10bb79048>"
      ]
     },
     "execution_count": 17,
     "metadata": {},
     "output_type": "execute_result"
    },
    {
     "data": {
      "text/plain": [
       "<pymongo.results.InsertOneResult at 0x10b9e9988>"
      ]
     },
     "execution_count": 17,
     "metadata": {},
     "output_type": "execute_result"
    },
    {
     "data": {
      "text/plain": [
       "<pymongo.results.InsertOneResult at 0x10bbafe48>"
      ]
     },
     "execution_count": 17,
     "metadata": {},
     "output_type": "execute_result"
    },
    {
     "data": {
      "text/plain": [
       "<pymongo.results.InsertOneResult at 0x10bb83e88>"
      ]
     },
     "execution_count": 17,
     "metadata": {},
     "output_type": "execute_result"
    },
    {
     "data": {
      "text/plain": [
       "<pymongo.results.InsertOneResult at 0x10bad6448>"
      ]
     },
     "execution_count": 17,
     "metadata": {},
     "output_type": "execute_result"
    },
    {
     "data": {
      "text/plain": [
       "<pymongo.results.InsertOneResult at 0x10b9da4c8>"
      ]
     },
     "execution_count": 17,
     "metadata": {},
     "output_type": "execute_result"
    },
    {
     "data": {
      "text/plain": [
       "<pymongo.results.InsertOneResult at 0x10bad69c8>"
      ]
     },
     "execution_count": 17,
     "metadata": {},
     "output_type": "execute_result"
    },
    {
     "data": {
      "text/plain": [
       "<pymongo.results.InsertOneResult at 0x10b9d5b88>"
      ]
     },
     "execution_count": 17,
     "metadata": {},
     "output_type": "execute_result"
    },
    {
     "data": {
      "text/plain": [
       "<pymongo.results.InsertOneResult at 0x10bad6708>"
      ]
     },
     "execution_count": 17,
     "metadata": {},
     "output_type": "execute_result"
    },
    {
     "data": {
      "text/plain": [
       "<pymongo.results.InsertOneResult at 0x10bad6b48>"
      ]
     },
     "execution_count": 17,
     "metadata": {},
     "output_type": "execute_result"
    },
    {
     "data": {
      "text/plain": [
       "<pymongo.results.InsertOneResult at 0x10bb01188>"
      ]
     },
     "execution_count": 17,
     "metadata": {},
     "output_type": "execute_result"
    },
    {
     "data": {
      "text/plain": [
       "<pymongo.results.InsertOneResult at 0x10bba3f48>"
      ]
     },
     "execution_count": 17,
     "metadata": {},
     "output_type": "execute_result"
    },
    {
     "data": {
      "text/plain": [
       "<pymongo.results.InsertOneResult at 0x10bba3688>"
      ]
     },
     "execution_count": 17,
     "metadata": {},
     "output_type": "execute_result"
    },
    {
     "data": {
      "text/plain": [
       "<pymongo.results.InsertOneResult at 0x10bbafd88>"
      ]
     },
     "execution_count": 17,
     "metadata": {},
     "output_type": "execute_result"
    },
    {
     "data": {
      "text/plain": [
       "<pymongo.results.InsertOneResult at 0x10bbaff08>"
      ]
     },
     "execution_count": 17,
     "metadata": {},
     "output_type": "execute_result"
    },
    {
     "data": {
      "text/plain": [
       "<pymongo.results.InsertOneResult at 0x10bbafcc8>"
      ]
     },
     "execution_count": 17,
     "metadata": {},
     "output_type": "execute_result"
    },
    {
     "data": {
      "text/plain": [
       "<pymongo.results.InsertOneResult at 0x10bbb31c8>"
      ]
     },
     "execution_count": 17,
     "metadata": {},
     "output_type": "execute_result"
    },
    {
     "data": {
      "text/plain": [
       "<pymongo.results.InsertOneResult at 0x10bbaff88>"
      ]
     },
     "execution_count": 17,
     "metadata": {},
     "output_type": "execute_result"
    },
    {
     "data": {
      "text/plain": [
       "<pymongo.results.InsertOneResult at 0x10b9da4c8>"
      ]
     },
     "execution_count": 17,
     "metadata": {},
     "output_type": "execute_result"
    },
    {
     "data": {
      "text/plain": [
       "<pymongo.results.InsertOneResult at 0x10bb83e88>"
      ]
     },
     "execution_count": 17,
     "metadata": {},
     "output_type": "execute_result"
    },
    {
     "data": {
      "text/plain": [
       "<pymongo.results.InsertOneResult at 0x10b9e9988>"
      ]
     },
     "execution_count": 17,
     "metadata": {},
     "output_type": "execute_result"
    },
    {
     "data": {
      "text/plain": [
       "<pymongo.results.InsertOneResult at 0x10b9e9c48>"
      ]
     },
     "execution_count": 17,
     "metadata": {},
     "output_type": "execute_result"
    },
    {
     "data": {
      "text/plain": [
       "<pymongo.results.InsertOneResult at 0x10bb74b08>"
      ]
     },
     "execution_count": 17,
     "metadata": {},
     "output_type": "execute_result"
    },
    {
     "data": {
      "text/plain": [
       "<pymongo.results.InsertOneResult at 0x10bbb8808>"
      ]
     },
     "execution_count": 17,
     "metadata": {},
     "output_type": "execute_result"
    },
    {
     "data": {
      "text/plain": [
       "<pymongo.results.InsertOneResult at 0x10bbbc608>"
      ]
     },
     "execution_count": 17,
     "metadata": {},
     "output_type": "execute_result"
    },
    {
     "data": {
      "text/plain": [
       "<pymongo.results.InsertOneResult at 0x10bbd2208>"
      ]
     },
     "execution_count": 17,
     "metadata": {},
     "output_type": "execute_result"
    },
    {
     "data": {
      "text/plain": [
       "<pymongo.results.InsertOneResult at 0x10bbafe88>"
      ]
     },
     "execution_count": 17,
     "metadata": {},
     "output_type": "execute_result"
    },
    {
     "data": {
      "text/plain": [
       "<pymongo.results.InsertOneResult at 0x10bbb30c8>"
      ]
     },
     "execution_count": 17,
     "metadata": {},
     "output_type": "execute_result"
    },
    {
     "data": {
      "text/plain": [
       "<pymongo.results.InsertOneResult at 0x10bbb1e48>"
      ]
     },
     "execution_count": 17,
     "metadata": {},
     "output_type": "execute_result"
    },
    {
     "data": {
      "text/plain": [
       "<pymongo.results.InsertOneResult at 0x10bbaff08>"
      ]
     },
     "execution_count": 17,
     "metadata": {},
     "output_type": "execute_result"
    },
    {
     "data": {
      "text/plain": [
       "<pymongo.results.InsertOneResult at 0x10bad6708>"
      ]
     },
     "execution_count": 17,
     "metadata": {},
     "output_type": "execute_result"
    },
    {
     "data": {
      "text/plain": [
       "<pymongo.results.InsertOneResult at 0x10bbbc608>"
      ]
     },
     "execution_count": 17,
     "metadata": {},
     "output_type": "execute_result"
    },
    {
     "data": {
      "text/plain": [
       "<pymongo.results.InsertOneResult at 0x10bba3f48>"
      ]
     },
     "execution_count": 17,
     "metadata": {},
     "output_type": "execute_result"
    },
    {
     "data": {
      "text/plain": [
       "<pymongo.results.InsertOneResult at 0x10bbacd08>"
      ]
     },
     "execution_count": 17,
     "metadata": {},
     "output_type": "execute_result"
    },
    {
     "data": {
      "text/plain": [
       "<pymongo.results.InsertOneResult at 0x10bbac9c8>"
      ]
     },
     "execution_count": 17,
     "metadata": {},
     "output_type": "execute_result"
    },
    {
     "data": {
      "text/plain": [
       "<pymongo.results.InsertOneResult at 0x10bb01188>"
      ]
     },
     "execution_count": 17,
     "metadata": {},
     "output_type": "execute_result"
    },
    {
     "data": {
      "text/plain": [
       "<pymongo.results.InsertOneResult at 0x10bb83e88>"
      ]
     },
     "execution_count": 17,
     "metadata": {},
     "output_type": "execute_result"
    },
    {
     "data": {
      "text/plain": [
       "<pymongo.results.InsertOneResult at 0x10bb74b08>"
      ]
     },
     "execution_count": 17,
     "metadata": {},
     "output_type": "execute_result"
    },
    {
     "data": {
      "text/plain": [
       "<pymongo.results.InsertOneResult at 0x10b9e9888>"
      ]
     },
     "execution_count": 17,
     "metadata": {},
     "output_type": "execute_result"
    },
    {
     "data": {
      "text/plain": [
       "<pymongo.results.InsertOneResult at 0x10b9e9c48>"
      ]
     },
     "execution_count": 17,
     "metadata": {},
     "output_type": "execute_result"
    },
    {
     "data": {
      "text/plain": [
       "<pymongo.results.InsertOneResult at 0x10b9d5b88>"
      ]
     },
     "execution_count": 17,
     "metadata": {},
     "output_type": "execute_result"
    },
    {
     "data": {
      "text/plain": [
       "<pymongo.results.InsertOneResult at 0x10bb01188>"
      ]
     },
     "execution_count": 17,
     "metadata": {},
     "output_type": "execute_result"
    },
    {
     "data": {
      "text/plain": [
       "<pymongo.results.InsertOneResult at 0x10bbac5c8>"
      ]
     },
     "execution_count": 17,
     "metadata": {},
     "output_type": "execute_result"
    },
    {
     "data": {
      "text/plain": [
       "<pymongo.results.InsertOneResult at 0x10b9da048>"
      ]
     },
     "execution_count": 17,
     "metadata": {},
     "output_type": "execute_result"
    },
    {
     "data": {
      "text/plain": [
       "<pymongo.results.InsertOneResult at 0x10b9e9c48>"
      ]
     },
     "execution_count": 17,
     "metadata": {},
     "output_type": "execute_result"
    },
    {
     "data": {
      "text/plain": [
       "<pymongo.results.InsertOneResult at 0x10bb19148>"
      ]
     },
     "execution_count": 17,
     "metadata": {},
     "output_type": "execute_result"
    },
    {
     "data": {
      "text/plain": [
       "<pymongo.results.InsertOneResult at 0x10bba6508>"
      ]
     },
     "execution_count": 17,
     "metadata": {},
     "output_type": "execute_result"
    },
    {
     "data": {
      "text/plain": [
       "<pymongo.results.InsertOneResult at 0x10bb83e88>"
      ]
     },
     "execution_count": 17,
     "metadata": {},
     "output_type": "execute_result"
    },
    {
     "data": {
      "text/plain": [
       "<pymongo.results.InsertOneResult at 0x10bbaca08>"
      ]
     },
     "execution_count": 17,
     "metadata": {},
     "output_type": "execute_result"
    },
    {
     "data": {
      "text/plain": [
       "<pymongo.results.InsertOneResult at 0x10b9e9888>"
      ]
     },
     "execution_count": 17,
     "metadata": {},
     "output_type": "execute_result"
    },
    {
     "data": {
      "text/plain": [
       "<pymongo.results.InsertOneResult at 0x10bbb4288>"
      ]
     },
     "execution_count": 17,
     "metadata": {},
     "output_type": "execute_result"
    },
    {
     "data": {
      "text/plain": [
       "<pymongo.results.InsertOneResult at 0x10b9d5b88>"
      ]
     },
     "execution_count": 17,
     "metadata": {},
     "output_type": "execute_result"
    },
    {
     "data": {
      "text/plain": [
       "<pymongo.results.InsertOneResult at 0x10bb22e08>"
      ]
     },
     "execution_count": 17,
     "metadata": {},
     "output_type": "execute_result"
    },
    {
     "data": {
      "text/plain": [
       "<pymongo.results.InsertOneResult at 0x10bb74b08>"
      ]
     },
     "execution_count": 17,
     "metadata": {},
     "output_type": "execute_result"
    },
    {
     "data": {
      "text/plain": [
       "<pymongo.results.InsertOneResult at 0x10b9da4c8>"
      ]
     },
     "execution_count": 17,
     "metadata": {},
     "output_type": "execute_result"
    },
    {
     "data": {
      "text/plain": [
       "<pymongo.results.InsertOneResult at 0x10bbc7f88>"
      ]
     },
     "execution_count": 17,
     "metadata": {},
     "output_type": "execute_result"
    },
    {
     "data": {
      "text/plain": [
       "<pymongo.results.InsertOneResult at 0x10bb19148>"
      ]
     },
     "execution_count": 17,
     "metadata": {},
     "output_type": "execute_result"
    },
    {
     "data": {
      "text/plain": [
       "<pymongo.results.InsertOneResult at 0x10bba6c88>"
      ]
     },
     "execution_count": 17,
     "metadata": {},
     "output_type": "execute_result"
    },
    {
     "data": {
      "text/plain": [
       "<pymongo.results.InsertOneResult at 0x10bb2aa08>"
      ]
     },
     "execution_count": 17,
     "metadata": {},
     "output_type": "execute_result"
    },
    {
     "data": {
      "text/plain": [
       "<pymongo.results.InsertOneResult at 0x10bbb1e88>"
      ]
     },
     "execution_count": 17,
     "metadata": {},
     "output_type": "execute_result"
    },
    {
     "data": {
      "text/plain": [
       "<pymongo.results.InsertOneResult at 0x10bad6548>"
      ]
     },
     "execution_count": 17,
     "metadata": {},
     "output_type": "execute_result"
    },
    {
     "data": {
      "text/plain": [
       "<pymongo.results.InsertOneResult at 0x10bb22e08>"
      ]
     },
     "execution_count": 17,
     "metadata": {},
     "output_type": "execute_result"
    },
    {
     "data": {
      "text/plain": [
       "<pymongo.results.InsertOneResult at 0x10b9d5b88>"
      ]
     },
     "execution_count": 17,
     "metadata": {},
     "output_type": "execute_result"
    },
    {
     "data": {
      "text/plain": [
       "<pymongo.results.InsertOneResult at 0x10bb79048>"
      ]
     },
     "execution_count": 17,
     "metadata": {},
     "output_type": "execute_result"
    },
    {
     "data": {
      "text/plain": [
       "<pymongo.results.InsertOneResult at 0x10bbb1188>"
      ]
     },
     "execution_count": 17,
     "metadata": {},
     "output_type": "execute_result"
    },
    {
     "data": {
      "text/plain": [
       "<pymongo.results.InsertOneResult at 0x10bba2c48>"
      ]
     },
     "execution_count": 17,
     "metadata": {},
     "output_type": "execute_result"
    },
    {
     "data": {
      "text/plain": [
       "<pymongo.results.InsertOneResult at 0x10bbce488>"
      ]
     },
     "execution_count": 17,
     "metadata": {},
     "output_type": "execute_result"
    },
    {
     "data": {
      "text/plain": [
       "<pymongo.results.InsertOneResult at 0x10bb19148>"
      ]
     },
     "execution_count": 17,
     "metadata": {},
     "output_type": "execute_result"
    },
    {
     "data": {
      "text/plain": [
       "<pymongo.results.InsertOneResult at 0x10bb79048>"
      ]
     },
     "execution_count": 17,
     "metadata": {},
     "output_type": "execute_result"
    },
    {
     "data": {
      "text/plain": [
       "<pymongo.results.InsertOneResult at 0x10bb22e08>"
      ]
     },
     "execution_count": 17,
     "metadata": {},
     "output_type": "execute_result"
    },
    {
     "data": {
      "text/plain": [
       "<pymongo.results.InsertOneResult at 0x10bb2aa08>"
      ]
     },
     "execution_count": 17,
     "metadata": {},
     "output_type": "execute_result"
    },
    {
     "data": {
      "text/plain": [
       "<pymongo.results.InsertOneResult at 0x10bba9a08>"
      ]
     },
     "execution_count": 17,
     "metadata": {},
     "output_type": "execute_result"
    },
    {
     "data": {
      "text/plain": [
       "<pymongo.results.InsertOneResult at 0x10bbafcc8>"
      ]
     },
     "execution_count": 17,
     "metadata": {},
     "output_type": "execute_result"
    },
    {
     "data": {
      "text/plain": [
       "<pymongo.results.InsertOneResult at 0x10bb19148>"
      ]
     },
     "execution_count": 17,
     "metadata": {},
     "output_type": "execute_result"
    },
    {
     "data": {
      "text/plain": [
       "<pymongo.results.InsertOneResult at 0x10bb74b08>"
      ]
     },
     "execution_count": 17,
     "metadata": {},
     "output_type": "execute_result"
    },
    {
     "data": {
      "text/plain": [
       "<pymongo.results.InsertOneResult at 0x10b9d5b88>"
      ]
     },
     "execution_count": 17,
     "metadata": {},
     "output_type": "execute_result"
    },
    {
     "data": {
      "text/plain": [
       "<pymongo.results.InsertOneResult at 0x10bb2aa08>"
      ]
     },
     "execution_count": 17,
     "metadata": {},
     "output_type": "execute_result"
    },
    {
     "data": {
      "text/plain": [
       "<pymongo.results.InsertOneResult at 0x10bbafec8>"
      ]
     },
     "execution_count": 17,
     "metadata": {},
     "output_type": "execute_result"
    },
    {
     "data": {
      "text/plain": [
       "<pymongo.results.InsertOneResult at 0x10bba9a08>"
      ]
     },
     "execution_count": 17,
     "metadata": {},
     "output_type": "execute_result"
    },
    {
     "data": {
      "text/plain": [
       "<pymongo.results.InsertOneResult at 0x10bb79048>"
      ]
     },
     "execution_count": 17,
     "metadata": {},
     "output_type": "execute_result"
    },
    {
     "data": {
      "text/plain": [
       "<pymongo.results.InsertOneResult at 0x10bb74b08>"
      ]
     },
     "execution_count": 17,
     "metadata": {},
     "output_type": "execute_result"
    },
    {
     "data": {
      "text/plain": [
       "<pymongo.results.InsertOneResult at 0x10b9e9888>"
      ]
     },
     "execution_count": 17,
     "metadata": {},
     "output_type": "execute_result"
    },
    {
     "data": {
      "text/plain": [
       "<pymongo.results.InsertOneResult at 0x10bb2aa08>"
      ]
     },
     "execution_count": 17,
     "metadata": {},
     "output_type": "execute_result"
    },
    {
     "data": {
      "text/plain": [
       "<pymongo.results.InsertOneResult at 0x10b9d5b88>"
      ]
     },
     "execution_count": 17,
     "metadata": {},
     "output_type": "execute_result"
    },
    {
     "data": {
      "text/plain": [
       "<pymongo.results.InsertOneResult at 0x10bb83e88>"
      ]
     },
     "execution_count": 17,
     "metadata": {},
     "output_type": "execute_result"
    },
    {
     "data": {
      "text/plain": [
       "<pymongo.results.InsertOneResult at 0x10b9da048>"
      ]
     },
     "execution_count": 17,
     "metadata": {},
     "output_type": "execute_result"
    },
    {
     "data": {
      "text/plain": [
       "<pymongo.results.InsertOneResult at 0x10bbcf788>"
      ]
     },
     "execution_count": 17,
     "metadata": {},
     "output_type": "execute_result"
    },
    {
     "data": {
      "text/plain": [
       "<pymongo.results.InsertOneResult at 0x10bb01188>"
      ]
     },
     "execution_count": 17,
     "metadata": {},
     "output_type": "execute_result"
    },
    {
     "data": {
      "text/plain": [
       "<pymongo.results.InsertOneResult at 0x10bb22e08>"
      ]
     },
     "execution_count": 17,
     "metadata": {},
     "output_type": "execute_result"
    },
    {
     "data": {
      "text/plain": [
       "<pymongo.results.InsertOneResult at 0x10b9e9988>"
      ]
     },
     "execution_count": 17,
     "metadata": {},
     "output_type": "execute_result"
    },
    {
     "data": {
      "text/plain": [
       "<pymongo.results.InsertOneResult at 0x10bba3f08>"
      ]
     },
     "execution_count": 17,
     "metadata": {},
     "output_type": "execute_result"
    },
    {
     "data": {
      "text/plain": [
       "<pymongo.results.InsertOneResult at 0x10bb74b08>"
      ]
     },
     "execution_count": 17,
     "metadata": {},
     "output_type": "execute_result"
    },
    {
     "data": {
      "text/plain": [
       "<pymongo.results.InsertOneResult at 0x10b9e9888>"
      ]
     },
     "execution_count": 17,
     "metadata": {},
     "output_type": "execute_result"
    },
    {
     "data": {
      "text/plain": [
       "<pymongo.results.InsertOneResult at 0x10bbafe48>"
      ]
     },
     "execution_count": 17,
     "metadata": {},
     "output_type": "execute_result"
    },
    {
     "data": {
      "text/plain": [
       "<pymongo.results.InsertOneResult at 0x10bb79048>"
      ]
     },
     "execution_count": 17,
     "metadata": {},
     "output_type": "execute_result"
    },
    {
     "data": {
      "text/plain": [
       "<pymongo.results.InsertOneResult at 0x10bb83e88>"
      ]
     },
     "execution_count": 17,
     "metadata": {},
     "output_type": "execute_result"
    },
    {
     "data": {
      "text/plain": [
       "<pymongo.results.InsertOneResult at 0x10bbb6e48>"
      ]
     },
     "execution_count": 17,
     "metadata": {},
     "output_type": "execute_result"
    },
    {
     "data": {
      "text/plain": [
       "<pymongo.results.InsertOneResult at 0x10bb74b08>"
      ]
     },
     "execution_count": 17,
     "metadata": {},
     "output_type": "execute_result"
    },
    {
     "data": {
      "text/plain": [
       "<pymongo.results.InsertOneResult at 0x10bb01188>"
      ]
     },
     "execution_count": 17,
     "metadata": {},
     "output_type": "execute_result"
    },
    {
     "data": {
      "text/plain": [
       "<pymongo.results.InsertOneResult at 0x10bb97808>"
      ]
     },
     "execution_count": 17,
     "metadata": {},
     "output_type": "execute_result"
    },
    {
     "data": {
      "text/plain": [
       "<pymongo.results.InsertOneResult at 0x10b9e9988>"
      ]
     },
     "execution_count": 17,
     "metadata": {},
     "output_type": "execute_result"
    },
    {
     "data": {
      "text/plain": [
       "<pymongo.results.InsertOneResult at 0x10bb22e08>"
      ]
     },
     "execution_count": 17,
     "metadata": {},
     "output_type": "execute_result"
    },
    {
     "data": {
      "text/plain": [
       "<pymongo.results.InsertOneResult at 0x10bb97f88>"
      ]
     },
     "execution_count": 17,
     "metadata": {},
     "output_type": "execute_result"
    },
    {
     "data": {
      "text/plain": [
       "<pymongo.results.InsertOneResult at 0x10bb19148>"
      ]
     },
     "execution_count": 17,
     "metadata": {},
     "output_type": "execute_result"
    },
    {
     "data": {
      "text/plain": [
       "<pymongo.results.InsertOneResult at 0x10bb01188>"
      ]
     },
     "execution_count": 17,
     "metadata": {},
     "output_type": "execute_result"
    },
    {
     "data": {
      "text/plain": [
       "<pymongo.results.InsertOneResult at 0x10bb83e88>"
      ]
     },
     "execution_count": 17,
     "metadata": {},
     "output_type": "execute_result"
    },
    {
     "data": {
      "text/plain": [
       "<pymongo.results.InsertOneResult at 0x10bad6748>"
      ]
     },
     "execution_count": 17,
     "metadata": {},
     "output_type": "execute_result"
    },
    {
     "data": {
      "text/plain": [
       "<pymongo.results.InsertOneResult at 0x10bad6448>"
      ]
     },
     "execution_count": 17,
     "metadata": {},
     "output_type": "execute_result"
    },
    {
     "data": {
      "text/plain": [
       "<pymongo.results.InsertOneResult at 0x10bb74b08>"
      ]
     },
     "execution_count": 17,
     "metadata": {},
     "output_type": "execute_result"
    },
    {
     "data": {
      "text/plain": [
       "<pymongo.results.InsertOneResult at 0x10b9e9888>"
      ]
     },
     "execution_count": 17,
     "metadata": {},
     "output_type": "execute_result"
    },
    {
     "data": {
      "text/plain": [
       "<pymongo.results.InsertOneResult at 0x10bb01188>"
      ]
     },
     "execution_count": 17,
     "metadata": {},
     "output_type": "execute_result"
    },
    {
     "data": {
      "text/plain": [
       "<pymongo.results.InsertOneResult at 0x10bb2aa08>"
      ]
     },
     "execution_count": 17,
     "metadata": {},
     "output_type": "execute_result"
    },
    {
     "data": {
      "text/plain": [
       "<pymongo.results.InsertOneResult at 0x10bb79048>"
      ]
     },
     "execution_count": 17,
     "metadata": {},
     "output_type": "execute_result"
    },
    {
     "data": {
      "text/plain": [
       "<pymongo.results.InsertOneResult at 0x10bad69c8>"
      ]
     },
     "execution_count": 17,
     "metadata": {},
     "output_type": "execute_result"
    },
    {
     "data": {
      "text/plain": [
       "<pymongo.results.InsertOneResult at 0x10b9da048>"
      ]
     },
     "execution_count": 17,
     "metadata": {},
     "output_type": "execute_result"
    },
    {
     "data": {
      "text/plain": [
       "<pymongo.results.InsertOneResult at 0x10bb19148>"
      ]
     },
     "execution_count": 17,
     "metadata": {},
     "output_type": "execute_result"
    },
    {
     "data": {
      "text/plain": [
       "<pymongo.results.InsertOneResult at 0x10bb83e88>"
      ]
     },
     "execution_count": 17,
     "metadata": {},
     "output_type": "execute_result"
    },
    {
     "data": {
      "text/plain": [
       "<pymongo.results.InsertOneResult at 0x10bba6f88>"
      ]
     },
     "execution_count": 17,
     "metadata": {},
     "output_type": "execute_result"
    },
    {
     "data": {
      "text/plain": [
       "<pymongo.results.InsertOneResult at 0x10bad6748>"
      ]
     },
     "execution_count": 17,
     "metadata": {},
     "output_type": "execute_result"
    },
    {
     "data": {
      "text/plain": [
       "<pymongo.results.InsertOneResult at 0x10bb22e08>"
      ]
     },
     "execution_count": 17,
     "metadata": {},
     "output_type": "execute_result"
    },
    {
     "data": {
      "text/plain": [
       "<pymongo.results.InsertOneResult at 0x10bb74b08>"
      ]
     },
     "execution_count": 17,
     "metadata": {},
     "output_type": "execute_result"
    },
    {
     "data": {
      "text/plain": [
       "<pymongo.results.InsertOneResult at 0x10bbdc8c8>"
      ]
     },
     "execution_count": 17,
     "metadata": {},
     "output_type": "execute_result"
    },
    {
     "data": {
      "text/plain": [
       "<pymongo.results.InsertOneResult at 0x10bb2aa08>"
      ]
     },
     "execution_count": 17,
     "metadata": {},
     "output_type": "execute_result"
    },
    {
     "data": {
      "text/plain": [
       "<pymongo.results.InsertOneResult at 0x10bbdc488>"
      ]
     },
     "execution_count": 17,
     "metadata": {},
     "output_type": "execute_result"
    },
    {
     "data": {
      "text/plain": [
       "<pymongo.results.InsertOneResult at 0x10bb22e08>"
      ]
     },
     "execution_count": 17,
     "metadata": {},
     "output_type": "execute_result"
    },
    {
     "data": {
      "text/plain": [
       "<pymongo.results.InsertOneResult at 0x10b9d5b88>"
      ]
     },
     "execution_count": 17,
     "metadata": {},
     "output_type": "execute_result"
    },
    {
     "data": {
      "text/plain": [
       "<pymongo.results.InsertOneResult at 0x10bb19148>"
      ]
     },
     "execution_count": 17,
     "metadata": {},
     "output_type": "execute_result"
    },
    {
     "data": {
      "text/plain": [
       "<pymongo.results.InsertOneResult at 0x10bbe0488>"
      ]
     },
     "execution_count": 17,
     "metadata": {},
     "output_type": "execute_result"
    },
    {
     "data": {
      "text/plain": [
       "<pymongo.results.InsertOneResult at 0x10bb01188>"
      ]
     },
     "execution_count": 17,
     "metadata": {},
     "output_type": "execute_result"
    },
    {
     "data": {
      "text/plain": [
       "<pymongo.results.InsertOneResult at 0x10bad69c8>"
      ]
     },
     "execution_count": 17,
     "metadata": {},
     "output_type": "execute_result"
    },
    {
     "data": {
      "text/plain": [
       "<pymongo.results.InsertOneResult at 0x10bb22e08>"
      ]
     },
     "execution_count": 17,
     "metadata": {},
     "output_type": "execute_result"
    },
    {
     "data": {
      "text/plain": [
       "<pymongo.results.InsertOneResult at 0x10bb977c8>"
      ]
     },
     "execution_count": 17,
     "metadata": {},
     "output_type": "execute_result"
    },
    {
     "data": {
      "text/plain": [
       "<pymongo.results.InsertOneResult at 0x10bba3588>"
      ]
     },
     "execution_count": 17,
     "metadata": {},
     "output_type": "execute_result"
    },
    {
     "data": {
      "text/plain": [
       "<pymongo.results.InsertOneResult at 0x10bba38c8>"
      ]
     },
     "execution_count": 17,
     "metadata": {},
     "output_type": "execute_result"
    },
    {
     "data": {
      "text/plain": [
       "<pymongo.results.InsertOneResult at 0x10bba2648>"
      ]
     },
     "execution_count": 17,
     "metadata": {},
     "output_type": "execute_result"
    },
    {
     "data": {
      "text/plain": [
       "<pymongo.results.InsertOneResult at 0x10bb22e08>"
      ]
     },
     "execution_count": 17,
     "metadata": {},
     "output_type": "execute_result"
    },
    {
     "data": {
      "text/plain": [
       "<pymongo.results.InsertOneResult at 0x10bb01188>"
      ]
     },
     "execution_count": 17,
     "metadata": {},
     "output_type": "execute_result"
    },
    {
     "data": {
      "text/plain": [
       "<pymongo.results.InsertOneResult at 0x10b9d5b88>"
      ]
     },
     "execution_count": 17,
     "metadata": {},
     "output_type": "execute_result"
    },
    {
     "data": {
      "text/plain": [
       "<pymongo.results.InsertOneResult at 0x10bb19148>"
      ]
     },
     "execution_count": 17,
     "metadata": {},
     "output_type": "execute_result"
    },
    {
     "data": {
      "text/plain": [
       "<pymongo.results.InsertOneResult at 0x10bb2aa08>"
      ]
     },
     "execution_count": 17,
     "metadata": {},
     "output_type": "execute_result"
    },
    {
     "data": {
      "text/plain": [
       "<pymongo.results.InsertOneResult at 0x10bba91c8>"
      ]
     },
     "execution_count": 17,
     "metadata": {},
     "output_type": "execute_result"
    },
    {
     "data": {
      "text/plain": [
       "<pymongo.results.InsertOneResult at 0x10bb22708>"
      ]
     },
     "execution_count": 17,
     "metadata": {},
     "output_type": "execute_result"
    },
    {
     "data": {
      "text/plain": [
       "<pymongo.results.InsertOneResult at 0x10bb01188>"
      ]
     },
     "execution_count": 17,
     "metadata": {},
     "output_type": "execute_result"
    },
    {
     "data": {
      "text/plain": [
       "<pymongo.results.InsertOneResult at 0x10bb79048>"
      ]
     },
     "execution_count": 17,
     "metadata": {},
     "output_type": "execute_result"
    },
    {
     "data": {
      "text/plain": [
       "<pymongo.results.InsertOneResult at 0x10b9e9888>"
      ]
     },
     "execution_count": 17,
     "metadata": {},
     "output_type": "execute_result"
    },
    {
     "data": {
      "text/plain": [
       "<pymongo.results.InsertOneResult at 0x10b9d5b88>"
      ]
     },
     "execution_count": 17,
     "metadata": {},
     "output_type": "execute_result"
    },
    {
     "data": {
      "text/plain": [
       "<pymongo.results.InsertOneResult at 0x10bb19148>"
      ]
     },
     "execution_count": 17,
     "metadata": {},
     "output_type": "execute_result"
    },
    {
     "data": {
      "text/plain": [
       "<pymongo.results.InsertOneResult at 0x10bb22e08>"
      ]
     },
     "execution_count": 17,
     "metadata": {},
     "output_type": "execute_result"
    },
    {
     "data": {
      "text/plain": [
       "<pymongo.results.InsertOneResult at 0x10b9da4c8>"
      ]
     },
     "execution_count": 17,
     "metadata": {},
     "output_type": "execute_result"
    },
    {
     "data": {
      "text/plain": [
       "<pymongo.results.InsertOneResult at 0x10bbdbdc8>"
      ]
     },
     "execution_count": 17,
     "metadata": {},
     "output_type": "execute_result"
    },
    {
     "data": {
      "text/plain": [
       "<pymongo.results.InsertOneResult at 0x10bb2aa08>"
      ]
     },
     "execution_count": 17,
     "metadata": {},
     "output_type": "execute_result"
    },
    {
     "data": {
      "text/plain": [
       "<pymongo.results.InsertOneResult at 0x10b9da048>"
      ]
     },
     "execution_count": 17,
     "metadata": {},
     "output_type": "execute_result"
    },
    {
     "data": {
      "text/plain": [
       "<pymongo.results.InsertOneResult at 0x10bba3f88>"
      ]
     },
     "execution_count": 17,
     "metadata": {},
     "output_type": "execute_result"
    },
    {
     "data": {
      "text/plain": [
       "<pymongo.results.InsertOneResult at 0x10bba3a48>"
      ]
     },
     "execution_count": 17,
     "metadata": {},
     "output_type": "execute_result"
    },
    {
     "data": {
      "text/plain": [
       "<pymongo.results.InsertOneResult at 0x10bbb3788>"
      ]
     },
     "execution_count": 17,
     "metadata": {},
     "output_type": "execute_result"
    },
    {
     "data": {
      "text/plain": [
       "<pymongo.results.InsertOneResult at 0x10bbb3d08>"
      ]
     },
     "execution_count": 17,
     "metadata": {},
     "output_type": "execute_result"
    },
    {
     "data": {
      "text/plain": [
       "<pymongo.results.InsertOneResult at 0x10bbb3b48>"
      ]
     },
     "execution_count": 17,
     "metadata": {},
     "output_type": "execute_result"
    },
    {
     "data": {
      "text/plain": [
       "<pymongo.results.InsertOneResult at 0x10bbb3708>"
      ]
     },
     "execution_count": 17,
     "metadata": {},
     "output_type": "execute_result"
    },
    {
     "data": {
      "text/plain": [
       "<pymongo.results.InsertOneResult at 0x10bba6048>"
      ]
     },
     "execution_count": 17,
     "metadata": {},
     "output_type": "execute_result"
    },
    {
     "data": {
      "text/plain": [
       "<pymongo.results.InsertOneResult at 0x10b9e9988>"
      ]
     },
     "execution_count": 17,
     "metadata": {},
     "output_type": "execute_result"
    },
    {
     "data": {
      "text/plain": [
       "<pymongo.results.InsertOneResult at 0x10bba2e08>"
      ]
     },
     "execution_count": 17,
     "metadata": {},
     "output_type": "execute_result"
    },
    {
     "data": {
      "text/plain": [
       "<pymongo.results.InsertOneResult at 0x10bbdbdc8>"
      ]
     },
     "execution_count": 17,
     "metadata": {},
     "output_type": "execute_result"
    },
    {
     "data": {
      "text/plain": [
       "<pymongo.results.InsertOneResult at 0x10bbb1548>"
      ]
     },
     "execution_count": 17,
     "metadata": {},
     "output_type": "execute_result"
    },
    {
     "data": {
      "text/plain": [
       "<pymongo.results.InsertOneResult at 0x10bbce488>"
      ]
     },
     "execution_count": 17,
     "metadata": {},
     "output_type": "execute_result"
    },
    {
     "data": {
      "text/plain": [
       "<pymongo.results.InsertOneResult at 0x10bba6688>"
      ]
     },
     "execution_count": 17,
     "metadata": {},
     "output_type": "execute_result"
    },
    {
     "data": {
      "text/plain": [
       "<pymongo.results.InsertOneResult at 0x10bbaff88>"
      ]
     },
     "execution_count": 17,
     "metadata": {},
     "output_type": "execute_result"
    },
    {
     "data": {
      "text/plain": [
       "<pymongo.results.InsertOneResult at 0x10bad6708>"
      ]
     },
     "execution_count": 17,
     "metadata": {},
     "output_type": "execute_result"
    },
    {
     "data": {
      "text/plain": [
       "<pymongo.results.InsertOneResult at 0x10bbb3708>"
      ]
     },
     "execution_count": 17,
     "metadata": {},
     "output_type": "execute_result"
    },
    {
     "data": {
      "text/plain": [
       "<pymongo.results.InsertOneResult at 0x10bad6748>"
      ]
     },
     "execution_count": 17,
     "metadata": {},
     "output_type": "execute_result"
    },
    {
     "data": {
      "text/plain": [
       "<pymongo.results.InsertOneResult at 0x10bba6d08>"
      ]
     },
     "execution_count": 17,
     "metadata": {},
     "output_type": "execute_result"
    },
    {
     "data": {
      "text/plain": [
       "<pymongo.results.InsertOneResult at 0x10bbd4cc8>"
      ]
     },
     "execution_count": 17,
     "metadata": {},
     "output_type": "execute_result"
    },
    {
     "data": {
      "text/plain": [
       "<pymongo.results.InsertOneResult at 0x10bbd44c8>"
      ]
     },
     "execution_count": 17,
     "metadata": {},
     "output_type": "execute_result"
    },
    {
     "data": {
      "text/plain": [
       "<pymongo.results.InsertOneResult at 0x10b9da048>"
      ]
     },
     "execution_count": 17,
     "metadata": {},
     "output_type": "execute_result"
    },
    {
     "data": {
      "text/plain": [
       "<pymongo.results.InsertOneResult at 0x10bb79048>"
      ]
     },
     "execution_count": 17,
     "metadata": {},
     "output_type": "execute_result"
    },
    {
     "data": {
      "text/plain": [
       "<pymongo.results.InsertOneResult at 0x10bb22708>"
      ]
     },
     "execution_count": 17,
     "metadata": {},
     "output_type": "execute_result"
    },
    {
     "data": {
      "text/plain": [
       "<pymongo.results.InsertOneResult at 0x10bb19148>"
      ]
     },
     "execution_count": 17,
     "metadata": {},
     "output_type": "execute_result"
    },
    {
     "data": {
      "text/plain": [
       "<pymongo.results.InsertOneResult at 0x10bbacec8>"
      ]
     },
     "execution_count": 17,
     "metadata": {},
     "output_type": "execute_result"
    },
    {
     "data": {
      "text/plain": [
       "<pymongo.results.InsertOneResult at 0x10bad6708>"
      ]
     },
     "execution_count": 17,
     "metadata": {},
     "output_type": "execute_result"
    },
    {
     "data": {
      "text/plain": [
       "<pymongo.results.InsertOneResult at 0x10b9da4c8>"
      ]
     },
     "execution_count": 17,
     "metadata": {},
     "output_type": "execute_result"
    },
    {
     "data": {
      "text/plain": [
       "<pymongo.results.InsertOneResult at 0x10b9e9988>"
      ]
     },
     "execution_count": 17,
     "metadata": {},
     "output_type": "execute_result"
    },
    {
     "data": {
      "text/plain": [
       "<pymongo.results.InsertOneResult at 0x10bbe0b88>"
      ]
     },
     "execution_count": 17,
     "metadata": {},
     "output_type": "execute_result"
    },
    {
     "data": {
      "text/plain": [
       "<pymongo.results.InsertOneResult at 0x10bb79048>"
      ]
     },
     "execution_count": 17,
     "metadata": {},
     "output_type": "execute_result"
    },
    {
     "data": {
      "text/plain": [
       "<pymongo.results.InsertOneResult at 0x10bb74b08>"
      ]
     },
     "execution_count": 17,
     "metadata": {},
     "output_type": "execute_result"
    },
    {
     "data": {
      "text/plain": [
       "<pymongo.results.InsertOneResult at 0x10bbafc88>"
      ]
     },
     "execution_count": 17,
     "metadata": {},
     "output_type": "execute_result"
    },
    {
     "data": {
      "text/plain": [
       "<pymongo.results.InsertOneResult at 0x10bb22708>"
      ]
     },
     "execution_count": 17,
     "metadata": {},
     "output_type": "execute_result"
    },
    {
     "data": {
      "text/plain": [
       "<pymongo.results.InsertOneResult at 0x10bad6708>"
      ]
     },
     "execution_count": 17,
     "metadata": {},
     "output_type": "execute_result"
    },
    {
     "data": {
      "text/plain": [
       "<pymongo.results.InsertOneResult at 0x10bb83e88>"
      ]
     },
     "execution_count": 17,
     "metadata": {},
     "output_type": "execute_result"
    },
    {
     "data": {
      "text/plain": [
       "<pymongo.results.InsertOneResult at 0x10bbaff08>"
      ]
     },
     "execution_count": 17,
     "metadata": {},
     "output_type": "execute_result"
    },
    {
     "data": {
      "text/plain": [
       "<pymongo.results.InsertOneResult at 0x10bbafc88>"
      ]
     },
     "execution_count": 17,
     "metadata": {},
     "output_type": "execute_result"
    },
    {
     "data": {
      "text/plain": [
       "<pymongo.results.InsertOneResult at 0x10b9da4c8>"
      ]
     },
     "execution_count": 17,
     "metadata": {},
     "output_type": "execute_result"
    },
    {
     "data": {
      "text/plain": [
       "<pymongo.results.InsertOneResult at 0x10bbd2b08>"
      ]
     },
     "execution_count": 17,
     "metadata": {},
     "output_type": "execute_result"
    },
    {
     "data": {
      "text/plain": [
       "<pymongo.results.InsertOneResult at 0x10b9e9988>"
      ]
     },
     "execution_count": 17,
     "metadata": {},
     "output_type": "execute_result"
    },
    {
     "data": {
      "text/plain": [
       "<pymongo.results.InsertOneResult at 0x10bbb1308>"
      ]
     },
     "execution_count": 17,
     "metadata": {},
     "output_type": "execute_result"
    },
    {
     "data": {
      "text/plain": [
       "<pymongo.results.InsertOneResult at 0x10bbafec8>"
      ]
     },
     "execution_count": 17,
     "metadata": {},
     "output_type": "execute_result"
    },
    {
     "data": {
      "text/plain": [
       "<pymongo.results.InsertOneResult at 0x10bbacf48>"
      ]
     },
     "execution_count": 17,
     "metadata": {},
     "output_type": "execute_result"
    },
    {
     "data": {
      "text/plain": [
       "<pymongo.results.InsertOneResult at 0x10bb22708>"
      ]
     },
     "execution_count": 17,
     "metadata": {},
     "output_type": "execute_result"
    },
    {
     "data": {
      "text/plain": [
       "<pymongo.results.InsertOneResult at 0x10bbacd08>"
      ]
     },
     "execution_count": 17,
     "metadata": {},
     "output_type": "execute_result"
    },
    {
     "data": {
      "text/plain": [
       "<pymongo.results.InsertOneResult at 0x10bbac148>"
      ]
     },
     "execution_count": 17,
     "metadata": {},
     "output_type": "execute_result"
    },
    {
     "data": {
      "text/plain": [
       "<pymongo.results.InsertOneResult at 0x10b9da4c8>"
      ]
     },
     "execution_count": 17,
     "metadata": {},
     "output_type": "execute_result"
    },
    {
     "data": {
      "text/plain": [
       "<pymongo.results.InsertOneResult at 0x10bbd29c8>"
      ]
     },
     "execution_count": 17,
     "metadata": {},
     "output_type": "execute_result"
    },
    {
     "data": {
      "text/plain": [
       "<pymongo.results.InsertOneResult at 0x10bbb4148>"
      ]
     },
     "execution_count": 17,
     "metadata": {},
     "output_type": "execute_result"
    },
    {
     "data": {
      "text/plain": [
       "<pymongo.results.InsertOneResult at 0x10bba37c8>"
      ]
     },
     "execution_count": 17,
     "metadata": {},
     "output_type": "execute_result"
    },
    {
     "data": {
      "text/plain": [
       "<pymongo.results.InsertOneResult at 0x10b9e9988>"
      ]
     },
     "execution_count": 17,
     "metadata": {},
     "output_type": "execute_result"
    },
    {
     "data": {
      "text/plain": [
       "<pymongo.results.InsertOneResult at 0x10bba6f48>"
      ]
     },
     "execution_count": 17,
     "metadata": {},
     "output_type": "execute_result"
    },
    {
     "data": {
      "text/plain": [
       "<pymongo.results.InsertOneResult at 0x10bbe0848>"
      ]
     },
     "execution_count": 17,
     "metadata": {},
     "output_type": "execute_result"
    },
    {
     "data": {
      "text/plain": [
       "<pymongo.results.InsertOneResult at 0x10bb83e88>"
      ]
     },
     "execution_count": 17,
     "metadata": {},
     "output_type": "execute_result"
    },
    {
     "data": {
      "text/plain": [
       "<pymongo.results.InsertOneResult at 0x10bb79048>"
      ]
     },
     "execution_count": 17,
     "metadata": {},
     "output_type": "execute_result"
    },
    {
     "data": {
      "text/plain": [
       "<pymongo.results.InsertOneResult at 0x10bbdc048>"
      ]
     },
     "execution_count": 17,
     "metadata": {},
     "output_type": "execute_result"
    },
    {
     "data": {
      "text/plain": [
       "<pymongo.results.InsertOneResult at 0x10bbb6d48>"
      ]
     },
     "execution_count": 17,
     "metadata": {},
     "output_type": "execute_result"
    },
    {
     "data": {
      "text/plain": [
       "<pymongo.results.InsertOneResult at 0x10bb83e88>"
      ]
     },
     "execution_count": 17,
     "metadata": {},
     "output_type": "execute_result"
    },
    {
     "data": {
      "text/plain": [
       "<pymongo.results.InsertOneResult at 0x10bb74b08>"
      ]
     },
     "execution_count": 17,
     "metadata": {},
     "output_type": "execute_result"
    },
    {
     "data": {
      "text/plain": [
       "<pymongo.results.InsertOneResult at 0x10bbb68c8>"
      ]
     },
     "execution_count": 17,
     "metadata": {},
     "output_type": "execute_result"
    },
    {
     "data": {
      "text/plain": [
       "<pymongo.results.InsertOneResult at 0x10bb79048>"
      ]
     },
     "execution_count": 17,
     "metadata": {},
     "output_type": "execute_result"
    },
    {
     "data": {
      "text/plain": [
       "<pymongo.results.InsertOneResult at 0x10bb22708>"
      ]
     },
     "execution_count": 17,
     "metadata": {},
     "output_type": "execute_result"
    },
    {
     "data": {
      "text/plain": [
       "<pymongo.results.InsertOneResult at 0x10bb74b08>"
      ]
     },
     "execution_count": 17,
     "metadata": {},
     "output_type": "execute_result"
    },
    {
     "data": {
      "text/plain": [
       "<pymongo.results.InsertOneResult at 0x10bb83e88>"
      ]
     },
     "execution_count": 17,
     "metadata": {},
     "output_type": "execute_result"
    },
    {
     "data": {
      "text/plain": [
       "<pymongo.results.InsertOneResult at 0x10bb79048>"
      ]
     },
     "execution_count": 17,
     "metadata": {},
     "output_type": "execute_result"
    },
    {
     "data": {
      "text/plain": [
       "<pymongo.results.InsertOneResult at 0x10bbb8648>"
      ]
     },
     "execution_count": 17,
     "metadata": {},
     "output_type": "execute_result"
    },
    {
     "data": {
      "text/plain": [
       "<pymongo.results.InsertOneResult at 0x10bbb6408>"
      ]
     },
     "execution_count": 17,
     "metadata": {},
     "output_type": "execute_result"
    },
    {
     "data": {
      "text/plain": [
       "<pymongo.results.InsertOneResult at 0x10bb19148>"
      ]
     },
     "execution_count": 17,
     "metadata": {},
     "output_type": "execute_result"
    },
    {
     "data": {
      "text/plain": [
       "<pymongo.results.InsertOneResult at 0x10bb74b08>"
      ]
     },
     "execution_count": 17,
     "metadata": {},
     "output_type": "execute_result"
    },
    {
     "data": {
      "text/plain": [
       "<pymongo.results.InsertOneResult at 0x10bbb8588>"
      ]
     },
     "execution_count": 17,
     "metadata": {},
     "output_type": "execute_result"
    },
    {
     "data": {
      "text/plain": [
       "<pymongo.results.InsertOneResult at 0x10bbb8108>"
      ]
     },
     "execution_count": 17,
     "metadata": {},
     "output_type": "execute_result"
    },
    {
     "data": {
      "text/plain": [
       "<pymongo.results.InsertOneResult at 0x10bba9648>"
      ]
     },
     "execution_count": 17,
     "metadata": {},
     "output_type": "execute_result"
    },
    {
     "data": {
      "text/plain": [
       "<pymongo.results.InsertOneResult at 0x10b9da048>"
      ]
     },
     "execution_count": 17,
     "metadata": {},
     "output_type": "execute_result"
    },
    {
     "data": {
      "text/plain": [
       "<pymongo.results.InsertOneResult at 0x10bb22e08>"
      ]
     },
     "execution_count": 17,
     "metadata": {},
     "output_type": "execute_result"
    },
    {
     "data": {
      "text/plain": [
       "<pymongo.results.InsertOneResult at 0x10bb79048>"
      ]
     },
     "execution_count": 17,
     "metadata": {},
     "output_type": "execute_result"
    },
    {
     "data": {
      "text/plain": [
       "<pymongo.results.InsertOneResult at 0x10b9e9c48>"
      ]
     },
     "execution_count": 17,
     "metadata": {},
     "output_type": "execute_result"
    },
    {
     "data": {
      "text/plain": [
       "<pymongo.results.InsertOneResult at 0x10bbb88c8>"
      ]
     },
     "execution_count": 17,
     "metadata": {},
     "output_type": "execute_result"
    },
    {
     "data": {
      "text/plain": [
       "<pymongo.results.InsertOneResult at 0x10bb83e88>"
      ]
     },
     "execution_count": 17,
     "metadata": {},
     "output_type": "execute_result"
    },
    {
     "data": {
      "text/plain": [
       "<pymongo.results.InsertOneResult at 0x10bb19148>"
      ]
     },
     "execution_count": 17,
     "metadata": {},
     "output_type": "execute_result"
    },
    {
     "data": {
      "text/plain": [
       "<pymongo.results.InsertOneResult at 0x10bbce2c8>"
      ]
     },
     "execution_count": 17,
     "metadata": {},
     "output_type": "execute_result"
    },
    {
     "data": {
      "text/plain": [
       "<pymongo.results.InsertOneResult at 0x10bbdba88>"
      ]
     },
     "execution_count": 17,
     "metadata": {},
     "output_type": "execute_result"
    },
    {
     "data": {
      "text/plain": [
       "<pymongo.results.InsertOneResult at 0x10bbcf488>"
      ]
     },
     "execution_count": 17,
     "metadata": {},
     "output_type": "execute_result"
    },
    {
     "data": {
      "text/plain": [
       "<pymongo.results.InsertOneResult at 0x10bb22708>"
      ]
     },
     "execution_count": 17,
     "metadata": {},
     "output_type": "execute_result"
    },
    {
     "data": {
      "text/plain": [
       "<pymongo.results.InsertOneResult at 0x10bb2aa08>"
      ]
     },
     "execution_count": 17,
     "metadata": {},
     "output_type": "execute_result"
    },
    {
     "data": {
      "text/plain": [
       "<pymongo.results.InsertOneResult at 0x10bb22e08>"
      ]
     },
     "execution_count": 17,
     "metadata": {},
     "output_type": "execute_result"
    },
    {
     "data": {
      "text/plain": [
       "<pymongo.results.InsertOneResult at 0x10bb79048>"
      ]
     },
     "execution_count": 17,
     "metadata": {},
     "output_type": "execute_result"
    },
    {
     "data": {
      "text/plain": [
       "<pymongo.results.InsertOneResult at 0x10b9e9988>"
      ]
     },
     "execution_count": 17,
     "metadata": {},
     "output_type": "execute_result"
    },
    {
     "data": {
      "text/plain": [
       "<pymongo.results.InsertOneResult at 0x10bbb3b48>"
      ]
     },
     "execution_count": 17,
     "metadata": {},
     "output_type": "execute_result"
    },
    {
     "data": {
      "text/plain": [
       "<pymongo.results.InsertOneResult at 0x10b9da4c8>"
      ]
     },
     "execution_count": 17,
     "metadata": {},
     "output_type": "execute_result"
    },
    {
     "data": {
      "text/plain": [
       "<pymongo.results.InsertOneResult at 0x10bad6748>"
      ]
     },
     "execution_count": 17,
     "metadata": {},
     "output_type": "execute_result"
    },
    {
     "data": {
      "text/plain": [
       "<pymongo.results.InsertOneResult at 0x10b9da048>"
      ]
     },
     "execution_count": 17,
     "metadata": {},
     "output_type": "execute_result"
    },
    {
     "data": {
      "text/plain": [
       "<pymongo.results.InsertOneResult at 0x10bb2aa08>"
      ]
     },
     "execution_count": 17,
     "metadata": {},
     "output_type": "execute_result"
    },
    {
     "data": {
      "text/plain": [
       "<pymongo.results.InsertOneResult at 0x10bb22e08>"
      ]
     },
     "execution_count": 17,
     "metadata": {},
     "output_type": "execute_result"
    },
    {
     "data": {
      "text/plain": [
       "<pymongo.results.InsertOneResult at 0x10bad6448>"
      ]
     },
     "execution_count": 17,
     "metadata": {},
     "output_type": "execute_result"
    },
    {
     "data": {
      "text/plain": [
       "<pymongo.results.InsertOneResult at 0x10bba6408>"
      ]
     },
     "execution_count": 17,
     "metadata": {},
     "output_type": "execute_result"
    },
    {
     "data": {
      "text/plain": [
       "<pymongo.results.InsertOneResult at 0x10bb19148>"
      ]
     },
     "execution_count": 17,
     "metadata": {},
     "output_type": "execute_result"
    },
    {
     "data": {
      "text/plain": [
       "<pymongo.results.InsertOneResult at 0x10bb79048>"
      ]
     },
     "execution_count": 17,
     "metadata": {},
     "output_type": "execute_result"
    },
    {
     "data": {
      "text/plain": [
       "<pymongo.results.InsertOneResult at 0x10b9e9988>"
      ]
     },
     "execution_count": 17,
     "metadata": {},
     "output_type": "execute_result"
    },
    {
     "data": {
      "text/plain": [
       "<pymongo.results.InsertOneResult at 0x10bb74b08>"
      ]
     },
     "execution_count": 17,
     "metadata": {},
     "output_type": "execute_result"
    },
    {
     "data": {
      "text/plain": [
       "<pymongo.results.InsertOneResult at 0x10b9e9c48>"
      ]
     },
     "execution_count": 17,
     "metadata": {},
     "output_type": "execute_result"
    },
    {
     "data": {
      "text/plain": [
       "<pymongo.results.InsertOneResult at 0x10bbb4208>"
      ]
     },
     "execution_count": 17,
     "metadata": {},
     "output_type": "execute_result"
    },
    {
     "data": {
      "text/plain": [
       "<pymongo.results.InsertOneResult at 0x10bb83e88>"
      ]
     },
     "execution_count": 17,
     "metadata": {},
     "output_type": "execute_result"
    },
    {
     "data": {
      "text/plain": [
       "<pymongo.results.InsertOneResult at 0x10bb2aa08>"
      ]
     },
     "execution_count": 17,
     "metadata": {},
     "output_type": "execute_result"
    },
    {
     "data": {
      "text/plain": [
       "<pymongo.results.InsertOneResult at 0x10bbaff48>"
      ]
     },
     "execution_count": 17,
     "metadata": {},
     "output_type": "execute_result"
    },
    {
     "data": {
      "text/plain": [
       "<pymongo.results.InsertOneResult at 0x10bbafec8>"
      ]
     },
     "execution_count": 17,
     "metadata": {},
     "output_type": "execute_result"
    },
    {
     "data": {
      "text/plain": [
       "<pymongo.results.InsertOneResult at 0x10b9da4c8>"
      ]
     },
     "execution_count": 17,
     "metadata": {},
     "output_type": "execute_result"
    },
    {
     "data": {
      "text/plain": [
       "<pymongo.results.InsertOneResult at 0x10b9d5b88>"
      ]
     },
     "execution_count": 17,
     "metadata": {},
     "output_type": "execute_result"
    },
    {
     "data": {
      "text/plain": [
       "<pymongo.results.InsertOneResult at 0x10bad69c8>"
      ]
     },
     "execution_count": 17,
     "metadata": {},
     "output_type": "execute_result"
    },
    {
     "data": {
      "text/plain": [
       "<pymongo.results.InsertOneResult at 0x10bb79048>"
      ]
     },
     "execution_count": 17,
     "metadata": {},
     "output_type": "execute_result"
    },
    {
     "data": {
      "text/plain": [
       "<pymongo.results.InsertOneResult at 0x10bb74b08>"
      ]
     },
     "execution_count": 17,
     "metadata": {},
     "output_type": "execute_result"
    },
    {
     "data": {
      "text/plain": [
       "<pymongo.results.InsertOneResult at 0x10b9e9c48>"
      ]
     },
     "execution_count": 17,
     "metadata": {},
     "output_type": "execute_result"
    },
    {
     "data": {
      "text/plain": [
       "<pymongo.results.InsertOneResult at 0x10bbe06c8>"
      ]
     },
     "execution_count": 17,
     "metadata": {},
     "output_type": "execute_result"
    },
    {
     "data": {
      "text/plain": [
       "<pymongo.results.InsertOneResult at 0x10bba3488>"
      ]
     },
     "execution_count": 17,
     "metadata": {},
     "output_type": "execute_result"
    },
    {
     "data": {
      "text/plain": [
       "<pymongo.results.InsertOneResult at 0x10bb2aa08>"
      ]
     },
     "execution_count": 17,
     "metadata": {},
     "output_type": "execute_result"
    },
    {
     "data": {
      "text/plain": [
       "<pymongo.results.InsertOneResult at 0x10bbc7088>"
      ]
     },
     "execution_count": 17,
     "metadata": {},
     "output_type": "execute_result"
    },
    {
     "data": {
      "text/plain": [
       "<pymongo.results.InsertOneResult at 0x10bb83e88>"
      ]
     },
     "execution_count": 17,
     "metadata": {},
     "output_type": "execute_result"
    },
    {
     "data": {
      "text/plain": [
       "<pymongo.results.InsertOneResult at 0x10b9da048>"
      ]
     },
     "execution_count": 17,
     "metadata": {},
     "output_type": "execute_result"
    },
    {
     "data": {
      "text/plain": [
       "<pymongo.results.InsertOneResult at 0x10bb79048>"
      ]
     },
     "execution_count": 17,
     "metadata": {},
     "output_type": "execute_result"
    },
    {
     "data": {
      "text/plain": [
       "<pymongo.results.InsertOneResult at 0x10bad69c8>"
      ]
     },
     "execution_count": 17,
     "metadata": {},
     "output_type": "execute_result"
    },
    {
     "data": {
      "text/plain": [
       "<pymongo.results.InsertOneResult at 0x10bba91c8>"
      ]
     },
     "execution_count": 17,
     "metadata": {},
     "output_type": "execute_result"
    },
    {
     "data": {
      "text/plain": [
       "<pymongo.results.InsertOneResult at 0x10bbc7088>"
      ]
     },
     "execution_count": 17,
     "metadata": {},
     "output_type": "execute_result"
    },
    {
     "data": {
      "text/plain": [
       "<pymongo.results.InsertOneResult at 0x10b9da4c8>"
      ]
     },
     "execution_count": 17,
     "metadata": {},
     "output_type": "execute_result"
    },
    {
     "data": {
      "text/plain": [
       "<pymongo.results.InsertOneResult at 0x10bb74b08>"
      ]
     },
     "execution_count": 17,
     "metadata": {},
     "output_type": "execute_result"
    },
    {
     "data": {
      "text/plain": [
       "<pymongo.results.InsertOneResult at 0x10b9d5b88>"
      ]
     },
     "execution_count": 17,
     "metadata": {},
     "output_type": "execute_result"
    },
    {
     "data": {
      "text/plain": [
       "<pymongo.results.InsertOneResult at 0x10bb83e88>"
      ]
     },
     "execution_count": 17,
     "metadata": {},
     "output_type": "execute_result"
    },
    {
     "data": {
      "text/plain": [
       "<pymongo.results.InsertOneResult at 0x10b9da048>"
      ]
     },
     "execution_count": 17,
     "metadata": {},
     "output_type": "execute_result"
    },
    {
     "data": {
      "text/plain": [
       "<pymongo.results.InsertOneResult at 0x10bb19148>"
      ]
     },
     "execution_count": 17,
     "metadata": {},
     "output_type": "execute_result"
    },
    {
     "data": {
      "text/plain": [
       "<pymongo.results.InsertOneResult at 0x10bba9588>"
      ]
     },
     "execution_count": 17,
     "metadata": {},
     "output_type": "execute_result"
    },
    {
     "data": {
      "text/plain": [
       "<pymongo.results.InsertOneResult at 0x10bb74b08>"
      ]
     },
     "execution_count": 17,
     "metadata": {},
     "output_type": "execute_result"
    },
    {
     "data": {
      "text/plain": [
       "<pymongo.results.InsertOneResult at 0x10bba91c8>"
      ]
     },
     "execution_count": 17,
     "metadata": {},
     "output_type": "execute_result"
    },
    {
     "data": {
      "text/plain": [
       "<pymongo.results.InsertOneResult at 0x10bb83e88>"
      ]
     },
     "execution_count": 17,
     "metadata": {},
     "output_type": "execute_result"
    },
    {
     "data": {
      "text/plain": [
       "<pymongo.results.InsertOneResult at 0x10b9da4c8>"
      ]
     },
     "execution_count": 17,
     "metadata": {},
     "output_type": "execute_result"
    },
    {
     "data": {
      "text/plain": [
       "<pymongo.results.InsertOneResult at 0x10bb975c8>"
      ]
     },
     "execution_count": 17,
     "metadata": {},
     "output_type": "execute_result"
    },
    {
     "data": {
      "text/plain": [
       "<pymongo.results.InsertOneResult at 0x10bb19148>"
      ]
     },
     "execution_count": 17,
     "metadata": {},
     "output_type": "execute_result"
    },
    {
     "data": {
      "text/plain": [
       "<pymongo.results.InsertOneResult at 0x10b9d5b88>"
      ]
     },
     "execution_count": 17,
     "metadata": {},
     "output_type": "execute_result"
    },
    {
     "data": {
      "text/plain": [
       "<pymongo.results.InsertOneResult at 0x10bb22e08>"
      ]
     },
     "execution_count": 17,
     "metadata": {},
     "output_type": "execute_result"
    },
    {
     "data": {
      "text/plain": [
       "<pymongo.results.InsertOneResult at 0x10b9da048>"
      ]
     },
     "execution_count": 17,
     "metadata": {},
     "output_type": "execute_result"
    },
    {
     "data": {
      "text/plain": [
       "<pymongo.results.InsertOneResult at 0x10bbcfdc8>"
      ]
     },
     "execution_count": 17,
     "metadata": {},
     "output_type": "execute_result"
    },
    {
     "data": {
      "text/plain": [
       "<pymongo.results.InsertOneResult at 0x10bb79048>"
      ]
     },
     "execution_count": 17,
     "metadata": {},
     "output_type": "execute_result"
    },
    {
     "data": {
      "text/plain": [
       "<pymongo.results.InsertOneResult at 0x10bb74b08>"
      ]
     },
     "execution_count": 17,
     "metadata": {},
     "output_type": "execute_result"
    },
    {
     "data": {
      "text/plain": [
       "<pymongo.results.InsertOneResult at 0x10b9d5b88>"
      ]
     },
     "execution_count": 17,
     "metadata": {},
     "output_type": "execute_result"
    },
    {
     "data": {
      "text/plain": [
       "<pymongo.results.InsertOneResult at 0x10b9da4c8>"
      ]
     },
     "execution_count": 17,
     "metadata": {},
     "output_type": "execute_result"
    },
    {
     "data": {
      "text/plain": [
       "<pymongo.results.InsertOneResult at 0x10bbb39c8>"
      ]
     },
     "execution_count": 17,
     "metadata": {},
     "output_type": "execute_result"
    },
    {
     "data": {
      "text/plain": [
       "<pymongo.results.InsertOneResult at 0x10bad69c8>"
      ]
     },
     "execution_count": 17,
     "metadata": {},
     "output_type": "execute_result"
    },
    {
     "data": {
      "text/plain": [
       "<pymongo.results.InsertOneResult at 0x10bb01188>"
      ]
     },
     "execution_count": 17,
     "metadata": {},
     "output_type": "execute_result"
    },
    {
     "data": {
      "text/plain": [
       "<pymongo.results.InsertOneResult at 0x10bba2088>"
      ]
     },
     "execution_count": 17,
     "metadata": {},
     "output_type": "execute_result"
    },
    {
     "data": {
      "text/plain": [
       "<pymongo.results.InsertOneResult at 0x10bbb8c88>"
      ]
     },
     "execution_count": 17,
     "metadata": {},
     "output_type": "execute_result"
    },
    {
     "data": {
      "text/plain": [
       "<pymongo.results.InsertOneResult at 0x10b9e9988>"
      ]
     },
     "execution_count": 17,
     "metadata": {},
     "output_type": "execute_result"
    },
    {
     "data": {
      "text/plain": [
       "<pymongo.results.InsertOneResult at 0x10bad69c8>"
      ]
     },
     "execution_count": 17,
     "metadata": {},
     "output_type": "execute_result"
    },
    {
     "data": {
      "text/plain": [
       "<pymongo.results.InsertOneResult at 0x10bad6448>"
      ]
     },
     "execution_count": 17,
     "metadata": {},
     "output_type": "execute_result"
    },
    {
     "data": {
      "text/plain": [
       "<pymongo.results.InsertOneResult at 0x10b9da048>"
      ]
     },
     "execution_count": 17,
     "metadata": {},
     "output_type": "execute_result"
    },
    {
     "data": {
      "text/plain": [
       "<pymongo.results.InsertOneResult at 0x10bbcf788>"
      ]
     },
     "execution_count": 17,
     "metadata": {},
     "output_type": "execute_result"
    },
    {
     "data": {
      "text/plain": [
       "<pymongo.results.InsertOneResult at 0x10bbce988>"
      ]
     },
     "execution_count": 17,
     "metadata": {},
     "output_type": "execute_result"
    },
    {
     "data": {
      "text/plain": [
       "<pymongo.results.InsertOneResult at 0x10bad6548>"
      ]
     },
     "execution_count": 17,
     "metadata": {},
     "output_type": "execute_result"
    },
    {
     "data": {
      "text/plain": [
       "<pymongo.results.InsertOneResult at 0x10bbdbac8>"
      ]
     },
     "execution_count": 17,
     "metadata": {},
     "output_type": "execute_result"
    },
    {
     "data": {
      "text/plain": [
       "<pymongo.results.InsertOneResult at 0x10bb97d48>"
      ]
     },
     "execution_count": 17,
     "metadata": {},
     "output_type": "execute_result"
    },
    {
     "data": {
      "text/plain": [
       "<pymongo.results.InsertOneResult at 0x10b9e9988>"
      ]
     },
     "execution_count": 17,
     "metadata": {},
     "output_type": "execute_result"
    },
    {
     "data": {
      "text/plain": [
       "<pymongo.results.InsertOneResult at 0x10bb01188>"
      ]
     },
     "execution_count": 17,
     "metadata": {},
     "output_type": "execute_result"
    },
    {
     "data": {
      "text/plain": [
       "<pymongo.results.InsertOneResult at 0x10bb74b08>"
      ]
     },
     "execution_count": 17,
     "metadata": {},
     "output_type": "execute_result"
    },
    {
     "data": {
      "text/plain": [
       "<pymongo.results.InsertOneResult at 0x10bb2aa08>"
      ]
     },
     "execution_count": 17,
     "metadata": {},
     "output_type": "execute_result"
    },
    {
     "data": {
      "text/plain": [
       "<pymongo.results.InsertOneResult at 0x10b9e9c48>"
      ]
     },
     "execution_count": 17,
     "metadata": {},
     "output_type": "execute_result"
    },
    {
     "data": {
      "text/plain": [
       "<pymongo.results.InsertOneResult at 0x10bb79048>"
      ]
     },
     "execution_count": 17,
     "metadata": {},
     "output_type": "execute_result"
    },
    {
     "data": {
      "text/plain": [
       "<pymongo.results.InsertOneResult at 0x10b9da048>"
      ]
     },
     "execution_count": 17,
     "metadata": {},
     "output_type": "execute_result"
    },
    {
     "data": {
      "text/plain": [
       "<pymongo.results.InsertOneResult at 0x10bb01188>"
      ]
     },
     "execution_count": 17,
     "metadata": {},
     "output_type": "execute_result"
    },
    {
     "data": {
      "text/plain": [
       "<pymongo.results.InsertOneResult at 0x10b9e9988>"
      ]
     },
     "execution_count": 17,
     "metadata": {},
     "output_type": "execute_result"
    },
    {
     "data": {
      "text/plain": [
       "<pymongo.results.InsertOneResult at 0x10bbdcf08>"
      ]
     },
     "execution_count": 17,
     "metadata": {},
     "output_type": "execute_result"
    },
    {
     "data": {
      "text/plain": [
       "<pymongo.results.InsertOneResult at 0x10bb74b08>"
      ]
     },
     "execution_count": 17,
     "metadata": {},
     "output_type": "execute_result"
    },
    {
     "data": {
      "text/plain": [
       "<pymongo.results.InsertOneResult at 0x10bb19148>"
      ]
     },
     "execution_count": 17,
     "metadata": {},
     "output_type": "execute_result"
    },
    {
     "data": {
      "text/plain": [
       "<pymongo.results.InsertOneResult at 0x10b9da048>"
      ]
     },
     "execution_count": 17,
     "metadata": {},
     "output_type": "execute_result"
    },
    {
     "data": {
      "text/plain": [
       "<pymongo.results.InsertOneResult at 0x10b9e9888>"
      ]
     },
     "execution_count": 17,
     "metadata": {},
     "output_type": "execute_result"
    },
    {
     "data": {
      "text/plain": [
       "<pymongo.results.InsertOneResult at 0x10bbacdc8>"
      ]
     },
     "execution_count": 17,
     "metadata": {},
     "output_type": "execute_result"
    },
    {
     "data": {
      "text/plain": [
       "<pymongo.results.InsertOneResult at 0x10bbac5c8>"
      ]
     },
     "execution_count": 17,
     "metadata": {},
     "output_type": "execute_result"
    },
    {
     "data": {
      "text/plain": [
       "<pymongo.results.InsertOneResult at 0x10bb79048>"
      ]
     },
     "execution_count": 17,
     "metadata": {},
     "output_type": "execute_result"
    },
    {
     "data": {
      "text/plain": [
       "<pymongo.results.InsertOneResult at 0x10bad69c8>"
      ]
     },
     "execution_count": 17,
     "metadata": {},
     "output_type": "execute_result"
    },
    {
     "data": {
      "text/plain": [
       "<pymongo.results.InsertOneResult at 0x10bb22708>"
      ]
     },
     "execution_count": 17,
     "metadata": {},
     "output_type": "execute_result"
    },
    {
     "data": {
      "text/plain": [
       "<pymongo.results.InsertOneResult at 0x10b9d5b88>"
      ]
     },
     "execution_count": 17,
     "metadata": {},
     "output_type": "execute_result"
    },
    {
     "data": {
      "text/plain": [
       "<pymongo.results.InsertOneResult at 0x10bbaff48>"
      ]
     },
     "execution_count": 17,
     "metadata": {},
     "output_type": "execute_result"
    },
    {
     "data": {
      "text/plain": [
       "<pymongo.results.InsertOneResult at 0x10bbb60c8>"
      ]
     },
     "execution_count": 17,
     "metadata": {},
     "output_type": "execute_result"
    },
    {
     "data": {
      "text/plain": [
       "<pymongo.results.InsertOneResult at 0x10bbd4288>"
      ]
     },
     "execution_count": 17,
     "metadata": {},
     "output_type": "execute_result"
    },
    {
     "data": {
      "text/plain": [
       "<pymongo.results.InsertOneResult at 0x10bbdc748>"
      ]
     },
     "execution_count": 17,
     "metadata": {},
     "output_type": "execute_result"
    },
    {
     "data": {
      "text/plain": [
       "<pymongo.results.InsertOneResult at 0x10bbb6108>"
      ]
     },
     "execution_count": 17,
     "metadata": {},
     "output_type": "execute_result"
    },
    {
     "data": {
      "text/plain": [
       "<pymongo.results.InsertOneResult at 0x10bad69c8>"
      ]
     },
     "execution_count": 17,
     "metadata": {},
     "output_type": "execute_result"
    },
    {
     "data": {
      "text/plain": [
       "<pymongo.results.InsertOneResult at 0x10bb74b08>"
      ]
     },
     "execution_count": 17,
     "metadata": {},
     "output_type": "execute_result"
    },
    {
     "data": {
      "text/plain": [
       "<pymongo.results.InsertOneResult at 0x10bbacdc8>"
      ]
     },
     "execution_count": 17,
     "metadata": {},
     "output_type": "execute_result"
    },
    {
     "data": {
      "text/plain": [
       "<pymongo.results.InsertOneResult at 0x10bbb4488>"
      ]
     },
     "execution_count": 17,
     "metadata": {},
     "output_type": "execute_result"
    },
    {
     "data": {
      "text/plain": [
       "<pymongo.results.InsertOneResult at 0x10bba3f88>"
      ]
     },
     "execution_count": 17,
     "metadata": {},
     "output_type": "execute_result"
    },
    {
     "data": {
      "text/plain": [
       "<pymongo.results.InsertOneResult at 0x10bb22708>"
      ]
     },
     "execution_count": 17,
     "metadata": {},
     "output_type": "execute_result"
    },
    {
     "data": {
      "text/plain": [
       "<pymongo.results.InsertOneResult at 0x10bbc74c8>"
      ]
     },
     "execution_count": 17,
     "metadata": {},
     "output_type": "execute_result"
    },
    {
     "data": {
      "text/plain": [
       "<pymongo.results.InsertOneResult at 0x10bbd2408>"
      ]
     },
     "execution_count": 17,
     "metadata": {},
     "output_type": "execute_result"
    },
    {
     "data": {
      "text/plain": [
       "<pymongo.results.InsertOneResult at 0x10bbb6908>"
      ]
     },
     "execution_count": 17,
     "metadata": {},
     "output_type": "execute_result"
    },
    {
     "data": {
      "text/plain": [
       "<pymongo.results.InsertOneResult at 0x10bbb6108>"
      ]
     },
     "execution_count": 17,
     "metadata": {},
     "output_type": "execute_result"
    },
    {
     "data": {
      "text/plain": [
       "<pymongo.results.InsertOneResult at 0x10bb74b08>"
      ]
     },
     "execution_count": 17,
     "metadata": {},
     "output_type": "execute_result"
    },
    {
     "data": {
      "text/plain": [
       "<pymongo.results.InsertOneResult at 0x10bb19148>"
      ]
     },
     "execution_count": 17,
     "metadata": {},
     "output_type": "execute_result"
    },
    {
     "data": {
      "text/plain": [
       "<pymongo.results.InsertOneResult at 0x10bbcf088>"
      ]
     },
     "execution_count": 17,
     "metadata": {},
     "output_type": "execute_result"
    },
    {
     "data": {
      "text/plain": [
       "<pymongo.results.InsertOneResult at 0x10bb79048>"
      ]
     },
     "execution_count": 17,
     "metadata": {},
     "output_type": "execute_result"
    },
    {
     "data": {
      "text/plain": [
       "<pymongo.results.InsertOneResult at 0x10b9d5b88>"
      ]
     },
     "execution_count": 17,
     "metadata": {},
     "output_type": "execute_result"
    },
    {
     "data": {
      "text/plain": [
       "<pymongo.results.InsertOneResult at 0x10bb19148>"
      ]
     },
     "execution_count": 17,
     "metadata": {},
     "output_type": "execute_result"
    },
    {
     "data": {
      "text/plain": [
       "<pymongo.results.InsertOneResult at 0x10bb74b08>"
      ]
     },
     "execution_count": 17,
     "metadata": {},
     "output_type": "execute_result"
    },
    {
     "data": {
      "text/plain": [
       "<pymongo.results.InsertOneResult at 0x10bb79048>"
      ]
     },
     "execution_count": 17,
     "metadata": {},
     "output_type": "execute_result"
    },
    {
     "data": {
      "text/plain": [
       "<pymongo.results.InsertOneResult at 0x10bb97e08>"
      ]
     },
     "execution_count": 17,
     "metadata": {},
     "output_type": "execute_result"
    },
    {
     "data": {
      "text/plain": [
       "<pymongo.results.InsertOneResult at 0x10b9e9888>"
      ]
     },
     "execution_count": 17,
     "metadata": {},
     "output_type": "execute_result"
    },
    {
     "data": {
      "text/plain": [
       "<pymongo.results.InsertOneResult at 0x10b9d5b88>"
      ]
     },
     "execution_count": 17,
     "metadata": {},
     "output_type": "execute_result"
    },
    {
     "data": {
      "text/plain": [
       "<pymongo.results.InsertOneResult at 0x10b9e9c48>"
      ]
     },
     "execution_count": 17,
     "metadata": {},
     "output_type": "execute_result"
    },
    {
     "data": {
      "text/plain": [
       "<pymongo.results.InsertOneResult at 0x10bb97348>"
      ]
     },
     "execution_count": 17,
     "metadata": {},
     "output_type": "execute_result"
    },
    {
     "data": {
      "text/plain": [
       "<pymongo.results.InsertOneResult at 0x10bb22e08>"
      ]
     },
     "execution_count": 17,
     "metadata": {},
     "output_type": "execute_result"
    },
    {
     "data": {
      "text/plain": [
       "<pymongo.results.InsertOneResult at 0x10bb74b08>"
      ]
     },
     "execution_count": 17,
     "metadata": {},
     "output_type": "execute_result"
    },
    {
     "data": {
      "text/plain": [
       "<pymongo.results.InsertOneResult at 0x10bb79048>"
      ]
     },
     "execution_count": 17,
     "metadata": {},
     "output_type": "execute_result"
    },
    {
     "data": {
      "text/plain": [
       "<pymongo.results.InsertOneResult at 0x10bb01188>"
      ]
     },
     "execution_count": 17,
     "metadata": {},
     "output_type": "execute_result"
    },
    {
     "data": {
      "text/plain": [
       "<pymongo.results.InsertOneResult at 0x10bba91c8>"
      ]
     },
     "execution_count": 17,
     "metadata": {},
     "output_type": "execute_result"
    },
    {
     "data": {
      "text/plain": [
       "<pymongo.results.InsertOneResult at 0x10b9d5b88>"
      ]
     },
     "execution_count": 17,
     "metadata": {},
     "output_type": "execute_result"
    },
    {
     "data": {
      "text/plain": [
       "<pymongo.results.InsertOneResult at 0x10bba6ec8>"
      ]
     },
     "execution_count": 17,
     "metadata": {},
     "output_type": "execute_result"
    },
    {
     "data": {
      "text/plain": [
       "<pymongo.results.InsertOneResult at 0x10bbdb888>"
      ]
     },
     "execution_count": 17,
     "metadata": {},
     "output_type": "execute_result"
    },
    {
     "data": {
      "text/plain": [
       "<pymongo.results.InsertOneResult at 0x10bbb3488>"
      ]
     },
     "execution_count": 17,
     "metadata": {},
     "output_type": "execute_result"
    },
    {
     "data": {
      "text/plain": [
       "<pymongo.results.InsertOneResult at 0x10bba3f08>"
      ]
     },
     "execution_count": 17,
     "metadata": {},
     "output_type": "execute_result"
    },
    {
     "data": {
      "text/plain": [
       "<pymongo.results.InsertOneResult at 0x10b9da4c8>"
      ]
     },
     "execution_count": 17,
     "metadata": {},
     "output_type": "execute_result"
    },
    {
     "data": {
      "text/plain": [
       "<pymongo.results.InsertOneResult at 0x10bb22708>"
      ]
     },
     "execution_count": 17,
     "metadata": {},
     "output_type": "execute_result"
    },
    {
     "data": {
      "text/plain": [
       "<pymongo.results.InsertOneResult at 0x10bb22e08>"
      ]
     },
     "execution_count": 17,
     "metadata": {},
     "output_type": "execute_result"
    },
    {
     "data": {
      "text/plain": [
       "<pymongo.results.InsertOneResult at 0x10bba9588>"
      ]
     },
     "execution_count": 17,
     "metadata": {},
     "output_type": "execute_result"
    },
    {
     "data": {
      "text/plain": [
       "<pymongo.results.InsertOneResult at 0x10bb2aa08>"
      ]
     },
     "execution_count": 17,
     "metadata": {},
     "output_type": "execute_result"
    },
    {
     "data": {
      "text/plain": [
       "<pymongo.results.InsertOneResult at 0x10bbce788>"
      ]
     },
     "execution_count": 17,
     "metadata": {},
     "output_type": "execute_result"
    },
    {
     "data": {
      "text/plain": [
       "<pymongo.results.InsertOneResult at 0x10bba3a08>"
      ]
     },
     "execution_count": 17,
     "metadata": {},
     "output_type": "execute_result"
    },
    {
     "data": {
      "text/plain": [
       "<pymongo.results.InsertOneResult at 0x10bbb34c8>"
      ]
     },
     "execution_count": 17,
     "metadata": {},
     "output_type": "execute_result"
    },
    {
     "data": {
      "text/plain": [
       "<pymongo.results.InsertOneResult at 0x10b9d5b88>"
      ]
     },
     "execution_count": 17,
     "metadata": {},
     "output_type": "execute_result"
    },
    {
     "data": {
      "text/plain": [
       "<pymongo.results.InsertOneResult at 0x10bbcff08>"
      ]
     },
     "execution_count": 17,
     "metadata": {},
     "output_type": "execute_result"
    },
    {
     "data": {
      "text/plain": [
       "<pymongo.results.InsertOneResult at 0x10bbace88>"
      ]
     },
     "execution_count": 17,
     "metadata": {},
     "output_type": "execute_result"
    },
    {
     "data": {
      "text/plain": [
       "<pymongo.results.InsertOneResult at 0x10bb01188>"
      ]
     },
     "execution_count": 17,
     "metadata": {},
     "output_type": "execute_result"
    },
    {
     "data": {
      "text/plain": [
       "<pymongo.results.InsertOneResult at 0x10b9e9888>"
      ]
     },
     "execution_count": 17,
     "metadata": {},
     "output_type": "execute_result"
    },
    {
     "data": {
      "text/plain": [
       "<pymongo.results.InsertOneResult at 0x10bad6548>"
      ]
     },
     "execution_count": 17,
     "metadata": {},
     "output_type": "execute_result"
    },
    {
     "data": {
      "text/plain": [
       "<pymongo.results.InsertOneResult at 0x10bbafcc8>"
      ]
     },
     "execution_count": 17,
     "metadata": {},
     "output_type": "execute_result"
    },
    {
     "data": {
      "text/plain": [
       "<pymongo.results.InsertOneResult at 0x10bbb1988>"
      ]
     },
     "execution_count": 17,
     "metadata": {},
     "output_type": "execute_result"
    },
    {
     "data": {
      "text/plain": [
       "<pymongo.results.InsertOneResult at 0x10bbafec8>"
      ]
     },
     "execution_count": 17,
     "metadata": {},
     "output_type": "execute_result"
    },
    {
     "data": {
      "text/plain": [
       "<pymongo.results.InsertOneResult at 0x10bb74b08>"
      ]
     },
     "execution_count": 17,
     "metadata": {},
     "output_type": "execute_result"
    },
    {
     "data": {
      "text/plain": [
       "<pymongo.results.InsertOneResult at 0x10b9da048>"
      ]
     },
     "execution_count": 17,
     "metadata": {},
     "output_type": "execute_result"
    },
    {
     "data": {
      "text/plain": [
       "<pymongo.results.InsertOneResult at 0x10b9e9888>"
      ]
     },
     "execution_count": 17,
     "metadata": {},
     "output_type": "execute_result"
    },
    {
     "data": {
      "text/plain": [
       "<pymongo.results.InsertOneResult at 0x10b9e9c48>"
      ]
     },
     "execution_count": 17,
     "metadata": {},
     "output_type": "execute_result"
    },
    {
     "data": {
      "text/plain": [
       "<pymongo.results.InsertOneResult at 0x10bb2aa08>"
      ]
     },
     "execution_count": 17,
     "metadata": {},
     "output_type": "execute_result"
    },
    {
     "data": {
      "text/plain": [
       "<pymongo.results.InsertOneResult at 0x10bbaff08>"
      ]
     },
     "execution_count": 17,
     "metadata": {},
     "output_type": "execute_result"
    },
    {
     "data": {
      "text/plain": [
       "<pymongo.results.InsertOneResult at 0x10bbafcc8>"
      ]
     },
     "execution_count": 17,
     "metadata": {},
     "output_type": "execute_result"
    },
    {
     "data": {
      "text/plain": [
       "<pymongo.results.InsertOneResult at 0x10bba3a88>"
      ]
     },
     "execution_count": 17,
     "metadata": {},
     "output_type": "execute_result"
    },
    {
     "data": {
      "text/plain": [
       "<pymongo.results.InsertOneResult at 0x10bad6448>"
      ]
     },
     "execution_count": 17,
     "metadata": {},
     "output_type": "execute_result"
    },
    {
     "data": {
      "text/plain": [
       "<pymongo.results.InsertOneResult at 0x10bad6748>"
      ]
     },
     "execution_count": 17,
     "metadata": {},
     "output_type": "execute_result"
    },
    {
     "data": {
      "text/plain": [
       "<pymongo.results.InsertOneResult at 0x10bb2aa08>"
      ]
     },
     "execution_count": 17,
     "metadata": {},
     "output_type": "execute_result"
    },
    {
     "data": {
      "text/plain": [
       "<pymongo.results.InsertOneResult at 0x10b9d5b88>"
      ]
     },
     "execution_count": 17,
     "metadata": {},
     "output_type": "execute_result"
    },
    {
     "data": {
      "text/plain": [
       "<pymongo.results.InsertOneResult at 0x10b9da048>"
      ]
     },
     "execution_count": 17,
     "metadata": {},
     "output_type": "execute_result"
    },
    {
     "data": {
      "text/plain": [
       "<pymongo.results.InsertOneResult at 0x10bba91c8>"
      ]
     },
     "execution_count": 17,
     "metadata": {},
     "output_type": "execute_result"
    },
    {
     "data": {
      "text/plain": [
       "<pymongo.results.InsertOneResult at 0x10bba2088>"
      ]
     },
     "execution_count": 17,
     "metadata": {},
     "output_type": "execute_result"
    },
    {
     "data": {
      "text/plain": [
       "<pymongo.results.InsertOneResult at 0x10bba9f08>"
      ]
     },
     "execution_count": 17,
     "metadata": {},
     "output_type": "execute_result"
    },
    {
     "data": {
      "text/plain": [
       "<pymongo.results.InsertOneResult at 0x10bbafec8>"
      ]
     },
     "execution_count": 17,
     "metadata": {},
     "output_type": "execute_result"
    },
    {
     "data": {
      "text/plain": [
       "<pymongo.results.InsertOneResult at 0x10bba2448>"
      ]
     },
     "execution_count": 17,
     "metadata": {},
     "output_type": "execute_result"
    },
    {
     "data": {
      "text/plain": [
       "<pymongo.results.InsertOneResult at 0x10bb83e88>"
      ]
     },
     "execution_count": 17,
     "metadata": {},
     "output_type": "execute_result"
    },
    {
     "data": {
      "text/plain": [
       "<pymongo.results.InsertOneResult at 0x10bbaff08>"
      ]
     },
     "execution_count": 17,
     "metadata": {},
     "output_type": "execute_result"
    },
    {
     "data": {
      "text/plain": [
       "<pymongo.results.InsertOneResult at 0x10bbb1d88>"
      ]
     },
     "execution_count": 17,
     "metadata": {},
     "output_type": "execute_result"
    },
    {
     "data": {
      "text/plain": [
       "<pymongo.results.InsertOneResult at 0x10bb2aa08>"
      ]
     },
     "execution_count": 17,
     "metadata": {},
     "output_type": "execute_result"
    },
    {
     "data": {
      "text/plain": [
       "<pymongo.results.InsertOneResult at 0x10bba2888>"
      ]
     },
     "execution_count": 17,
     "metadata": {},
     "output_type": "execute_result"
    },
    {
     "data": {
      "text/plain": [
       "<pymongo.results.InsertOneResult at 0x10bbdb948>"
      ]
     },
     "execution_count": 17,
     "metadata": {},
     "output_type": "execute_result"
    },
    {
     "data": {
      "text/plain": [
       "<pymongo.results.InsertOneResult at 0x10bba3488>"
      ]
     },
     "execution_count": 17,
     "metadata": {},
     "output_type": "execute_result"
    },
    {
     "data": {
      "text/plain": [
       "<pymongo.results.InsertOneResult at 0x10bba2088>"
      ]
     },
     "execution_count": 17,
     "metadata": {},
     "output_type": "execute_result"
    },
    {
     "name": "stdout",
     "output_type": "stream",
     "text": [
      "无效URL：http://ec.ef.com.cn/community/dailylesson/lessonhandler.ashx?operate=getlessonbyid&lesson_id=777&transculturecode=zh-CN&v=35-1\n",
      "无效URL：http://ec.ef.com.cn/community/dailylesson/lessonhandler.ashx?operate=getlessonbyid&lesson_id=778&transculturecode=zh-CN&v=35-1\n",
      "无效URL：http://ec.ef.com.cn/community/dailylesson/lessonhandler.ashx?operate=getlessonbyid&lesson_id=779&transculturecode=zh-CN&v=35-1\n",
      "无效URL：http://ec.ef.com.cn/community/dailylesson/lessonhandler.ashx?operate=getlessonbyid&lesson_id=780&transculturecode=zh-CN&v=35-1\n",
      "无效URL：http://ec.ef.com.cn/community/dailylesson/lessonhandler.ashx?operate=getlessonbyid&lesson_id=781&transculturecode=zh-CN&v=35-1\n",
      "无效URL：http://ec.ef.com.cn/community/dailylesson/lessonhandler.ashx?operate=getlessonbyid&lesson_id=782&transculturecode=zh-CN&v=35-1\n",
      "无效URL：http://ec.ef.com.cn/community/dailylesson/lessonhandler.ashx?operate=getlessonbyid&lesson_id=783&transculturecode=zh-CN&v=35-1\n",
      "无效URL：http://ec.ef.com.cn/community/dailylesson/lessonhandler.ashx?operate=getlessonbyid&lesson_id=784&transculturecode=zh-CN&v=35-1\n",
      "无效URL：http://ec.ef.com.cn/community/dailylesson/lessonhandler.ashx?operate=getlessonbyid&lesson_id=785&transculturecode=zh-CN&v=35-1\n",
      "无效URL：http://ec.ef.com.cn/community/dailylesson/lessonhandler.ashx?operate=getlessonbyid&lesson_id=786&transculturecode=zh-CN&v=35-1\n",
      "无效URL：http://ec.ef.com.cn/community/dailylesson/lessonhandler.ashx?operate=getlessonbyid&lesson_id=787&transculturecode=zh-CN&v=35-1\n",
      "无效URL：http://ec.ef.com.cn/community/dailylesson/lessonhandler.ashx?operate=getlessonbyid&lesson_id=788&transculturecode=zh-CN&v=35-1\n",
      "无效URL：http://ec.ef.com.cn/community/dailylesson/lessonhandler.ashx?operate=getlessonbyid&lesson_id=789&transculturecode=zh-CN&v=35-1\n",
      "无效URL：http://ec.ef.com.cn/community/dailylesson/lessonhandler.ashx?operate=getlessonbyid&lesson_id=790&transculturecode=zh-CN&v=35-1\n",
      "无效URL：http://ec.ef.com.cn/community/dailylesson/lessonhandler.ashx?operate=getlessonbyid&lesson_id=791&transculturecode=zh-CN&v=35-1\n",
      "无效URL：http://ec.ef.com.cn/community/dailylesson/lessonhandler.ashx?operate=getlessonbyid&lesson_id=792&transculturecode=zh-CN&v=35-1\n",
      "无效URL：http://ec.ef.com.cn/community/dailylesson/lessonhandler.ashx?operate=getlessonbyid&lesson_id=793&transculturecode=zh-CN&v=35-1\n",
      "无效URL：http://ec.ef.com.cn/community/dailylesson/lessonhandler.ashx?operate=getlessonbyid&lesson_id=794&transculturecode=zh-CN&v=35-1\n",
      "无效URL：http://ec.ef.com.cn/community/dailylesson/lessonhandler.ashx?operate=getlessonbyid&lesson_id=795&transculturecode=zh-CN&v=35-1\n",
      "无效URL：http://ec.ef.com.cn/community/dailylesson/lessonhandler.ashx?operate=getlessonbyid&lesson_id=796&transculturecode=zh-CN&v=35-1\n",
      "无效URL：http://ec.ef.com.cn/community/dailylesson/lessonhandler.ashx?operate=getlessonbyid&lesson_id=797&transculturecode=zh-CN&v=35-1\n",
      "无效URL：http://ec.ef.com.cn/community/dailylesson/lessonhandler.ashx?operate=getlessonbyid&lesson_id=798&transculturecode=zh-CN&v=35-1\n",
      "无效URL：http://ec.ef.com.cn/community/dailylesson/lessonhandler.ashx?operate=getlessonbyid&lesson_id=799&transculturecode=zh-CN&v=35-1\n",
      "无效URL：http://ec.ef.com.cn/community/dailylesson/lessonhandler.ashx?operate=getlessonbyid&lesson_id=800&transculturecode=zh-CN&v=35-1\n",
      "无效URL：http://ec.ef.com.cn/community/dailylesson/lessonhandler.ashx?operate=getlessonbyid&lesson_id=801&transculturecode=zh-CN&v=35-1\n",
      "无效URL：http://ec.ef.com.cn/community/dailylesson/lessonhandler.ashx?operate=getlessonbyid&lesson_id=802&transculturecode=zh-CN&v=35-1\n",
      "无效URL：http://ec.ef.com.cn/community/dailylesson/lessonhandler.ashx?operate=getlessonbyid&lesson_id=803&transculturecode=zh-CN&v=35-1\n",
      "无效URL：http://ec.ef.com.cn/community/dailylesson/lessonhandler.ashx?operate=getlessonbyid&lesson_id=804&transculturecode=zh-CN&v=35-1\n",
      "无效URL：http://ec.ef.com.cn/community/dailylesson/lessonhandler.ashx?operate=getlessonbyid&lesson_id=805&transculturecode=zh-CN&v=35-1\n",
      "无效URL：http://ec.ef.com.cn/community/dailylesson/lessonhandler.ashx?operate=getlessonbyid&lesson_id=806&transculturecode=zh-CN&v=35-1\n",
      "无效URL：http://ec.ef.com.cn/community/dailylesson/lessonhandler.ashx?operate=getlessonbyid&lesson_id=807&transculturecode=zh-CN&v=35-1\n",
      "无效URL：http://ec.ef.com.cn/community/dailylesson/lessonhandler.ashx?operate=getlessonbyid&lesson_id=808&transculturecode=zh-CN&v=35-1\n",
      "无效URL：http://ec.ef.com.cn/community/dailylesson/lessonhandler.ashx?operate=getlessonbyid&lesson_id=809&transculturecode=zh-CN&v=35-1\n",
      "无效URL：http://ec.ef.com.cn/community/dailylesson/lessonhandler.ashx?operate=getlessonbyid&lesson_id=810&transculturecode=zh-CN&v=35-1\n",
      "无效URL：http://ec.ef.com.cn/community/dailylesson/lessonhandler.ashx?operate=getlessonbyid&lesson_id=811&transculturecode=zh-CN&v=35-1\n",
      "无效URL：http://ec.ef.com.cn/community/dailylesson/lessonhandler.ashx?operate=getlessonbyid&lesson_id=812&transculturecode=zh-CN&v=35-1\n",
      "无效URL：http://ec.ef.com.cn/community/dailylesson/lessonhandler.ashx?operate=getlessonbyid&lesson_id=813&transculturecode=zh-CN&v=35-1\n",
      "无效URL：http://ec.ef.com.cn/community/dailylesson/lessonhandler.ashx?operate=getlessonbyid&lesson_id=814&transculturecode=zh-CN&v=35-1\n",
      "无效URL：http://ec.ef.com.cn/community/dailylesson/lessonhandler.ashx?operate=getlessonbyid&lesson_id=815&transculturecode=zh-CN&v=35-1\n",
      "无效URL：http://ec.ef.com.cn/community/dailylesson/lessonhandler.ashx?operate=getlessonbyid&lesson_id=816&transculturecode=zh-CN&v=35-1\n"
     ]
    },
    {
     "data": {
      "text/plain": [
       "<pymongo.results.InsertOneResult at 0x10bb22e08>"
      ]
     },
     "execution_count": 17,
     "metadata": {},
     "output_type": "execute_result"
    },
    {
     "name": "stdout",
     "output_type": "stream",
     "text": [
      "无效URL：http://ec.ef.com.cn/community/dailylesson/lessonhandler.ashx?operate=getlessonbyid&lesson_id=818&transculturecode=zh-CN&v=35-1\n"
     ]
    },
    {
     "data": {
      "text/plain": [
       "<pymongo.results.InsertOneResult at 0x10bbd4308>"
      ]
     },
     "execution_count": 17,
     "metadata": {},
     "output_type": "execute_result"
    },
    {
     "data": {
      "text/plain": [
       "<pymongo.results.InsertOneResult at 0x10bb83e88>"
      ]
     },
     "execution_count": 17,
     "metadata": {},
     "output_type": "execute_result"
    },
    {
     "data": {
      "text/plain": [
       "<pymongo.results.InsertOneResult at 0x10bba9f08>"
      ]
     },
     "execution_count": 17,
     "metadata": {},
     "output_type": "execute_result"
    },
    {
     "data": {
      "text/plain": [
       "<pymongo.results.InsertOneResult at 0x10bbb4c88>"
      ]
     },
     "execution_count": 17,
     "metadata": {},
     "output_type": "execute_result"
    },
    {
     "data": {
      "text/plain": [
       "<pymongo.results.InsertOneResult at 0x10bbac908>"
      ]
     },
     "execution_count": 17,
     "metadata": {},
     "output_type": "execute_result"
    },
    {
     "data": {
      "text/plain": [
       "<pymongo.results.InsertOneResult at 0x10bad6b48>"
      ]
     },
     "execution_count": 17,
     "metadata": {},
     "output_type": "execute_result"
    },
    {
     "data": {
      "text/plain": [
       "<pymongo.results.InsertOneResult at 0x10bbc7dc8>"
      ]
     },
     "execution_count": 17,
     "metadata": {},
     "output_type": "execute_result"
    },
    {
     "data": {
      "text/plain": [
       "<pymongo.results.InsertOneResult at 0x10bbb4548>"
      ]
     },
     "execution_count": 17,
     "metadata": {},
     "output_type": "execute_result"
    },
    {
     "data": {
      "text/plain": [
       "<pymongo.results.InsertOneResult at 0x10bbacf48>"
      ]
     },
     "execution_count": 17,
     "metadata": {},
     "output_type": "execute_result"
    },
    {
     "data": {
      "text/plain": [
       "<pymongo.results.InsertOneResult at 0x10bb83e88>"
      ]
     },
     "execution_count": 17,
     "metadata": {},
     "output_type": "execute_result"
    },
    {
     "data": {
      "text/plain": [
       "<pymongo.results.InsertOneResult at 0x10bad6448>"
      ]
     },
     "execution_count": 17,
     "metadata": {},
     "output_type": "execute_result"
    },
    {
     "data": {
      "text/plain": [
       "<pymongo.results.InsertOneResult at 0x10bbd4ac8>"
      ]
     },
     "execution_count": 17,
     "metadata": {},
     "output_type": "execute_result"
    },
    {
     "data": {
      "text/plain": [
       "<pymongo.results.InsertOneResult at 0x10bbaff08>"
      ]
     },
     "execution_count": 17,
     "metadata": {},
     "output_type": "execute_result"
    },
    {
     "data": {
      "text/plain": [
       "<pymongo.results.InsertOneResult at 0x10bbd2888>"
      ]
     },
     "execution_count": 17,
     "metadata": {},
     "output_type": "execute_result"
    },
    {
     "name": "stdout",
     "output_type": "stream",
     "text": [
      "无效URL：http://ec.ef.com.cn/community/dailylesson/lessonhandler.ashx?operate=getlessonbyid&lesson_id=833&transculturecode=zh-CN&v=35-1\n"
     ]
    },
    {
     "data": {
      "text/plain": [
       "<pymongo.results.InsertOneResult at 0x10bba3f48>"
      ]
     },
     "execution_count": 17,
     "metadata": {},
     "output_type": "execute_result"
    },
    {
     "data": {
      "text/plain": [
       "<pymongo.results.InsertOneResult at 0x10bbb4c88>"
      ]
     },
     "execution_count": 17,
     "metadata": {},
     "output_type": "execute_result"
    },
    {
     "data": {
      "text/plain": [
       "<pymongo.results.InsertOneResult at 0x10bbac908>"
      ]
     },
     "execution_count": 17,
     "metadata": {},
     "output_type": "execute_result"
    },
    {
     "name": "stdout",
     "output_type": "stream",
     "text": [
      "无效URL：http://ec.ef.com.cn/community/dailylesson/lessonhandler.ashx?operate=getlessonbyid&lesson_id=837&transculturecode=zh-CN&v=35-1\n",
      "无效URL：http://ec.ef.com.cn/community/dailylesson/lessonhandler.ashx?operate=getlessonbyid&lesson_id=838&transculturecode=zh-CN&v=35-1\n"
     ]
    },
    {
     "data": {
      "text/plain": [
       "<pymongo.results.InsertOneResult at 0x10b9e9c48>"
      ]
     },
     "execution_count": 17,
     "metadata": {},
     "output_type": "execute_result"
    },
    {
     "data": {
      "text/plain": [
       "<pymongo.results.InsertOneResult at 0x10bb01188>"
      ]
     },
     "execution_count": 17,
     "metadata": {},
     "output_type": "execute_result"
    },
    {
     "data": {
      "text/plain": [
       "<pymongo.results.InsertOneResult at 0x10b9e9988>"
      ]
     },
     "execution_count": 17,
     "metadata": {},
     "output_type": "execute_result"
    },
    {
     "data": {
      "text/plain": [
       "<pymongo.results.InsertOneResult at 0x10bbafe48>"
      ]
     },
     "execution_count": 17,
     "metadata": {},
     "output_type": "execute_result"
    },
    {
     "data": {
      "text/plain": [
       "<pymongo.results.InsertOneResult at 0x10bb22e08>"
      ]
     },
     "execution_count": 17,
     "metadata": {},
     "output_type": "execute_result"
    },
    {
     "data": {
      "text/plain": [
       "<pymongo.results.InsertOneResult at 0x10bba9548>"
      ]
     },
     "execution_count": 17,
     "metadata": {},
     "output_type": "execute_result"
    },
    {
     "data": {
      "text/plain": [
       "<pymongo.results.InsertOneResult at 0x10bb22708>"
      ]
     },
     "execution_count": 17,
     "metadata": {},
     "output_type": "execute_result"
    },
    {
     "data": {
      "text/plain": [
       "<pymongo.results.InsertOneResult at 0x10b9e9888>"
      ]
     },
     "execution_count": 17,
     "metadata": {},
     "output_type": "execute_result"
    },
    {
     "data": {
      "text/plain": [
       "<pymongo.results.InsertOneResult at 0x10bad6448>"
      ]
     },
     "execution_count": 17,
     "metadata": {},
     "output_type": "execute_result"
    },
    {
     "data": {
      "text/plain": [
       "<pymongo.results.InsertOneResult at 0x10bb79048>"
      ]
     },
     "execution_count": 17,
     "metadata": {},
     "output_type": "execute_result"
    },
    {
     "data": {
      "text/plain": [
       "<pymongo.results.InsertOneResult at 0x10bb83e88>"
      ]
     },
     "execution_count": 17,
     "metadata": {},
     "output_type": "execute_result"
    },
    {
     "name": "stdout",
     "output_type": "stream",
     "text": [
      "无效URL：http://ec.ef.com.cn/community/dailylesson/lessonhandler.ashx?operate=getlessonbyid&lesson_id=850&transculturecode=zh-CN&v=35-1\n"
     ]
    },
    {
     "data": {
      "text/plain": [
       "<pymongo.results.InsertOneResult at 0x10b9e9988>"
      ]
     },
     "execution_count": 17,
     "metadata": {},
     "output_type": "execute_result"
    },
    {
     "data": {
      "text/plain": [
       "<pymongo.results.InsertOneResult at 0x10b9e9888>"
      ]
     },
     "execution_count": 17,
     "metadata": {},
     "output_type": "execute_result"
    },
    {
     "data": {
      "text/plain": [
       "<pymongo.results.InsertOneResult at 0x10bba9e48>"
      ]
     },
     "execution_count": 17,
     "metadata": {},
     "output_type": "execute_result"
    },
    {
     "data": {
      "text/plain": [
       "<pymongo.results.InsertOneResult at 0x10bb01188>"
      ]
     },
     "execution_count": 17,
     "metadata": {},
     "output_type": "execute_result"
    },
    {
     "data": {
      "text/plain": [
       "<pymongo.results.InsertOneResult at 0x10bb22e08>"
      ]
     },
     "execution_count": 17,
     "metadata": {},
     "output_type": "execute_result"
    },
    {
     "data": {
      "text/plain": [
       "<pymongo.results.InsertOneResult at 0x10bbaff88>"
      ]
     },
     "execution_count": 17,
     "metadata": {},
     "output_type": "execute_result"
    },
    {
     "data": {
      "text/plain": [
       "<pymongo.results.InsertOneResult at 0x10bbce308>"
      ]
     },
     "execution_count": 17,
     "metadata": {},
     "output_type": "execute_result"
    },
    {
     "data": {
      "text/plain": [
       "<pymongo.results.InsertOneResult at 0x10bbafcc8>"
      ]
     },
     "execution_count": 17,
     "metadata": {},
     "output_type": "execute_result"
    },
    {
     "data": {
      "text/plain": [
       "<pymongo.results.InsertOneResult at 0x10bba2248>"
      ]
     },
     "execution_count": 17,
     "metadata": {},
     "output_type": "execute_result"
    },
    {
     "name": "stdout",
     "output_type": "stream",
     "text": [
      "无效URL：http://ec.ef.com.cn/community/dailylesson/lessonhandler.ashx?operate=getlessonbyid&lesson_id=860&transculturecode=zh-CN&v=35-1\n"
     ]
    },
    {
     "data": {
      "text/plain": [
       "<pymongo.results.InsertOneResult at 0x10bad6448>"
      ]
     },
     "execution_count": 17,
     "metadata": {},
     "output_type": "execute_result"
    },
    {
     "data": {
      "text/plain": [
       "<pymongo.results.InsertOneResult at 0x10bba9e48>"
      ]
     },
     "execution_count": 17,
     "metadata": {},
     "output_type": "execute_result"
    },
    {
     "data": {
      "text/plain": [
       "<pymongo.results.InsertOneResult at 0x10bba2dc8>"
      ]
     },
     "execution_count": 17,
     "metadata": {},
     "output_type": "execute_result"
    },
    {
     "data": {
      "text/plain": [
       "<pymongo.results.InsertOneResult at 0x10bbafcc8>"
      ]
     },
     "execution_count": 17,
     "metadata": {},
     "output_type": "execute_result"
    },
    {
     "data": {
      "text/plain": [
       "<pymongo.results.InsertOneResult at 0x10bbb4088>"
      ]
     },
     "execution_count": 17,
     "metadata": {},
     "output_type": "execute_result"
    },
    {
     "data": {
      "text/plain": [
       "<pymongo.results.InsertOneResult at 0x10b9e9988>"
      ]
     },
     "execution_count": 17,
     "metadata": {},
     "output_type": "execute_result"
    },
    {
     "data": {
      "text/plain": [
       "<pymongo.results.InsertOneResult at 0x10bbb1608>"
      ]
     },
     "execution_count": 17,
     "metadata": {},
     "output_type": "execute_result"
    },
    {
     "data": {
      "text/plain": [
       "<pymongo.results.InsertOneResult at 0x10bba3e88>"
      ]
     },
     "execution_count": 17,
     "metadata": {},
     "output_type": "execute_result"
    },
    {
     "data": {
      "text/plain": [
       "<pymongo.results.InsertOneResult at 0x10b9d5b88>"
      ]
     },
     "execution_count": 17,
     "metadata": {},
     "output_type": "execute_result"
    },
    {
     "data": {
      "text/plain": [
       "<pymongo.results.InsertOneResult at 0x10bb22708>"
      ]
     },
     "execution_count": 17,
     "metadata": {},
     "output_type": "execute_result"
    },
    {
     "data": {
      "text/plain": [
       "<pymongo.results.InsertOneResult at 0x10bb22e08>"
      ]
     },
     "execution_count": 17,
     "metadata": {},
     "output_type": "execute_result"
    },
    {
     "data": {
      "text/plain": [
       "<pymongo.results.InsertOneResult at 0x10bb83e88>"
      ]
     },
     "execution_count": 17,
     "metadata": {},
     "output_type": "execute_result"
    },
    {
     "data": {
      "text/plain": [
       "<pymongo.results.InsertOneResult at 0x10bba3e08>"
      ]
     },
     "execution_count": 17,
     "metadata": {},
     "output_type": "execute_result"
    },
    {
     "data": {
      "text/plain": [
       "<pymongo.results.InsertOneResult at 0x10bb19148>"
      ]
     },
     "execution_count": 17,
     "metadata": {},
     "output_type": "execute_result"
    },
    {
     "name": "stdout",
     "output_type": "stream",
     "text": [
      "无效URL：http://ec.ef.com.cn/community/dailylesson/lessonhandler.ashx?operate=getlessonbyid&lesson_id=875&transculturecode=zh-CN&v=35-1\n",
      "无效URL：http://ec.ef.com.cn/community/dailylesson/lessonhandler.ashx?operate=getlessonbyid&lesson_id=876&transculturecode=zh-CN&v=35-1\n"
     ]
    },
    {
     "data": {
      "text/plain": [
       "<pymongo.results.InsertOneResult at 0x10bb2aa08>"
      ]
     },
     "execution_count": 17,
     "metadata": {},
     "output_type": "execute_result"
    },
    {
     "data": {
      "text/plain": [
       "<pymongo.results.InsertOneResult at 0x10bbac948>"
      ]
     },
     "execution_count": 17,
     "metadata": {},
     "output_type": "execute_result"
    },
    {
     "data": {
      "text/plain": [
       "<pymongo.results.InsertOneResult at 0x10bbac548>"
      ]
     },
     "execution_count": 17,
     "metadata": {},
     "output_type": "execute_result"
    },
    {
     "data": {
      "text/plain": [
       "<pymongo.results.InsertOneResult at 0x10b9d5b88>"
      ]
     },
     "execution_count": 17,
     "metadata": {},
     "output_type": "execute_result"
    },
    {
     "data": {
      "text/plain": [
       "<pymongo.results.InsertOneResult at 0x10bba9548>"
      ]
     },
     "execution_count": 17,
     "metadata": {},
     "output_type": "execute_result"
    },
    {
     "data": {
      "text/plain": [
       "<pymongo.results.InsertOneResult at 0x10bad6548>"
      ]
     },
     "execution_count": 17,
     "metadata": {},
     "output_type": "execute_result"
    },
    {
     "data": {
      "text/plain": [
       "<pymongo.results.InsertOneResult at 0x10bb22e08>"
      ]
     },
     "execution_count": 17,
     "metadata": {},
     "output_type": "execute_result"
    },
    {
     "name": "stdout",
     "output_type": "stream",
     "text": [
      "无效URL：http://ec.ef.com.cn/community/dailylesson/lessonhandler.ashx?operate=getlessonbyid&lesson_id=884&transculturecode=zh-CN&v=35-1\n"
     ]
    },
    {
     "data": {
      "text/plain": [
       "<pymongo.results.InsertOneResult at 0x10bb83e88>"
      ]
     },
     "execution_count": 17,
     "metadata": {},
     "output_type": "execute_result"
    },
    {
     "data": {
      "text/plain": [
       "<pymongo.results.InsertOneResult at 0x10bad6448>"
      ]
     },
     "execution_count": 17,
     "metadata": {},
     "output_type": "execute_result"
    },
    {
     "data": {
      "text/plain": [
       "<pymongo.results.InsertOneResult at 0x10bbaff08>"
      ]
     },
     "execution_count": 17,
     "metadata": {},
     "output_type": "execute_result"
    },
    {
     "data": {
      "text/plain": [
       "<pymongo.results.InsertOneResult at 0x10bba2a08>"
      ]
     },
     "execution_count": 17,
     "metadata": {},
     "output_type": "execute_result"
    },
    {
     "data": {
      "text/plain": [
       "<pymongo.results.InsertOneResult at 0x10bbb1a48>"
      ]
     },
     "execution_count": 17,
     "metadata": {},
     "output_type": "execute_result"
    },
    {
     "data": {
      "text/plain": [
       "<pymongo.results.InsertOneResult at 0x10bb2aa08>"
      ]
     },
     "execution_count": 17,
     "metadata": {},
     "output_type": "execute_result"
    },
    {
     "data": {
      "text/plain": [
       "<pymongo.results.InsertOneResult at 0x10bbb60c8>"
      ]
     },
     "execution_count": 17,
     "metadata": {},
     "output_type": "execute_result"
    },
    {
     "data": {
      "text/plain": [
       "<pymongo.results.InsertOneResult at 0x10bbac548>"
      ]
     },
     "execution_count": 17,
     "metadata": {},
     "output_type": "execute_result"
    },
    {
     "data": {
      "text/plain": [
       "<pymongo.results.InsertOneResult at 0x10b9da4c8>"
      ]
     },
     "execution_count": 17,
     "metadata": {},
     "output_type": "execute_result"
    },
    {
     "data": {
      "text/plain": [
       "<pymongo.results.InsertOneResult at 0x10bb79048>"
      ]
     },
     "execution_count": 17,
     "metadata": {},
     "output_type": "execute_result"
    },
    {
     "data": {
      "text/plain": [
       "<pymongo.results.InsertOneResult at 0x10bad6548>"
      ]
     },
     "execution_count": 17,
     "metadata": {},
     "output_type": "execute_result"
    },
    {
     "data": {
      "text/plain": [
       "<pymongo.results.InsertOneResult at 0x10bb19148>"
      ]
     },
     "execution_count": 17,
     "metadata": {},
     "output_type": "execute_result"
    },
    {
     "data": {
      "text/plain": [
       "<pymongo.results.InsertOneResult at 0x10bba6dc8>"
      ]
     },
     "execution_count": 17,
     "metadata": {},
     "output_type": "execute_result"
    },
    {
     "data": {
      "text/plain": [
       "<pymongo.results.InsertOneResult at 0x10bbafc88>"
      ]
     },
     "execution_count": 17,
     "metadata": {},
     "output_type": "execute_result"
    },
    {
     "data": {
      "text/plain": [
       "<pymongo.results.InsertOneResult at 0x10bbd4948>"
      ]
     },
     "execution_count": 17,
     "metadata": {},
     "output_type": "execute_result"
    },
    {
     "data": {
      "text/plain": [
       "<pymongo.results.InsertOneResult at 0x10bb79048>"
      ]
     },
     "execution_count": 17,
     "metadata": {},
     "output_type": "execute_result"
    },
    {
     "data": {
      "text/plain": [
       "<pymongo.results.InsertOneResult at 0x10bb19148>"
      ]
     },
     "execution_count": 17,
     "metadata": {},
     "output_type": "execute_result"
    },
    {
     "data": {
      "text/plain": [
       "<pymongo.results.InsertOneResult at 0x10bb22e08>"
      ]
     },
     "execution_count": 17,
     "metadata": {},
     "output_type": "execute_result"
    },
    {
     "data": {
      "text/plain": [
       "<pymongo.results.InsertOneResult at 0x10b9d5b88>"
      ]
     },
     "execution_count": 17,
     "metadata": {},
     "output_type": "execute_result"
    },
    {
     "data": {
      "text/plain": [
       "<pymongo.results.InsertOneResult at 0x10bb2aa08>"
      ]
     },
     "execution_count": 17,
     "metadata": {},
     "output_type": "execute_result"
    },
    {
     "name": "stdout",
     "output_type": "stream",
     "text": [
      "无效URL：http://ec.ef.com.cn/community/dailylesson/lessonhandler.ashx?operate=getlessonbyid&lesson_id=905&transculturecode=zh-CN&v=35-1\n"
     ]
    },
    {
     "data": {
      "text/plain": [
       "<pymongo.results.InsertOneResult at 0x10bb79048>"
      ]
     },
     "execution_count": 17,
     "metadata": {},
     "output_type": "execute_result"
    },
    {
     "data": {
      "text/plain": [
       "<pymongo.results.InsertOneResult at 0x10bb19148>"
      ]
     },
     "execution_count": 17,
     "metadata": {},
     "output_type": "execute_result"
    },
    {
     "data": {
      "text/plain": [
       "<pymongo.results.InsertOneResult at 0x10b9da4c8>"
      ]
     },
     "execution_count": 17,
     "metadata": {},
     "output_type": "execute_result"
    },
    {
     "name": "stdout",
     "output_type": "stream",
     "text": [
      "无效URL：http://ec.ef.com.cn/community/dailylesson/lessonhandler.ashx?operate=getlessonbyid&lesson_id=909&transculturecode=zh-CN&v=35-1\n"
     ]
    },
    {
     "data": {
      "text/plain": [
       "<pymongo.results.InsertOneResult at 0x10bb22e08>"
      ]
     },
     "execution_count": 17,
     "metadata": {},
     "output_type": "execute_result"
    },
    {
     "data": {
      "text/plain": [
       "<pymongo.results.InsertOneResult at 0x10bbd3e48>"
      ]
     },
     "execution_count": 17,
     "metadata": {},
     "output_type": "execute_result"
    },
    {
     "data": {
      "text/plain": [
       "<pymongo.results.InsertOneResult at 0x10b9d5b88>"
      ]
     },
     "execution_count": 17,
     "metadata": {},
     "output_type": "execute_result"
    },
    {
     "data": {
      "text/plain": [
       "<pymongo.results.InsertOneResult at 0x10bb79048>"
      ]
     },
     "execution_count": 17,
     "metadata": {},
     "output_type": "execute_result"
    },
    {
     "name": "stdout",
     "output_type": "stream",
     "text": [
      "无效URL：http://ec.ef.com.cn/community/dailylesson/lessonhandler.ashx?operate=getlessonbyid&lesson_id=914&transculturecode=zh-CN&v=35-1\n"
     ]
    },
    {
     "data": {
      "text/plain": [
       "<pymongo.results.InsertOneResult at 0x10bbcecc8>"
      ]
     },
     "execution_count": 17,
     "metadata": {},
     "output_type": "execute_result"
    },
    {
     "data": {
      "text/plain": [
       "<pymongo.results.InsertOneResult at 0x10bb01188>"
      ]
     },
     "execution_count": 17,
     "metadata": {},
     "output_type": "execute_result"
    },
    {
     "data": {
      "text/plain": [
       "<pymongo.results.InsertOneResult at 0x10b9da4c8>"
      ]
     },
     "execution_count": 17,
     "metadata": {},
     "output_type": "execute_result"
    },
    {
     "data": {
      "text/plain": [
       "<pymongo.results.InsertOneResult at 0x10bb2aa08>"
      ]
     },
     "execution_count": 17,
     "metadata": {},
     "output_type": "execute_result"
    },
    {
     "name": "stdout",
     "output_type": "stream",
     "text": [
      "无效URL：http://ec.ef.com.cn/community/dailylesson/lessonhandler.ashx?operate=getlessonbyid&lesson_id=919&transculturecode=zh-CN&v=35-1\n"
     ]
    },
    {
     "data": {
      "text/plain": [
       "<pymongo.results.InsertOneResult at 0x10bb19148>"
      ]
     },
     "execution_count": 17,
     "metadata": {},
     "output_type": "execute_result"
    },
    {
     "data": {
      "text/plain": [
       "<pymongo.results.InsertOneResult at 0x10bb97d48>"
      ]
     },
     "execution_count": 17,
     "metadata": {},
     "output_type": "execute_result"
    },
    {
     "data": {
      "text/plain": [
       "<pymongo.results.InsertOneResult at 0x10b9e9988>"
      ]
     },
     "execution_count": 17,
     "metadata": {},
     "output_type": "execute_result"
    },
    {
     "data": {
      "text/plain": [
       "<pymongo.results.InsertOneResult at 0x10bb79048>"
      ]
     },
     "execution_count": 17,
     "metadata": {},
     "output_type": "execute_result"
    },
    {
     "data": {
      "text/plain": [
       "<pymongo.results.InsertOneResult at 0x10bbdce48>"
      ]
     },
     "execution_count": 17,
     "metadata": {},
     "output_type": "execute_result"
    },
    {
     "data": {
      "text/plain": [
       "<pymongo.results.InsertOneResult at 0x10bba9e88>"
      ]
     },
     "execution_count": 17,
     "metadata": {},
     "output_type": "execute_result"
    },
    {
     "data": {
      "text/plain": [
       "<pymongo.results.InsertOneResult at 0x10b9d5b88>"
      ]
     },
     "execution_count": 17,
     "metadata": {},
     "output_type": "execute_result"
    },
    {
     "data": {
      "text/plain": [
       "<pymongo.results.InsertOneResult at 0x10b9da4c8>"
      ]
     },
     "execution_count": 17,
     "metadata": {},
     "output_type": "execute_result"
    },
    {
     "data": {
      "text/plain": [
       "<pymongo.results.InsertOneResult at 0x10bba3588>"
      ]
     },
     "execution_count": 17,
     "metadata": {},
     "output_type": "execute_result"
    },
    {
     "data": {
      "text/plain": [
       "<pymongo.results.InsertOneResult at 0x10bbd2f88>"
      ]
     },
     "execution_count": 17,
     "metadata": {},
     "output_type": "execute_result"
    },
    {
     "data": {
      "text/plain": [
       "<pymongo.results.InsertOneResult at 0x10bb2aa08>"
      ]
     },
     "execution_count": 17,
     "metadata": {},
     "output_type": "execute_result"
    },
    {
     "data": {
      "text/plain": [
       "<pymongo.results.InsertOneResult at 0x10bb19148>"
      ]
     },
     "execution_count": 17,
     "metadata": {},
     "output_type": "execute_result"
    },
    {
     "data": {
      "text/plain": [
       "<pymongo.results.InsertOneResult at 0x10bb22e08>"
      ]
     },
     "execution_count": 17,
     "metadata": {},
     "output_type": "execute_result"
    },
    {
     "name": "stdout",
     "output_type": "stream",
     "text": [
      "无效URL：http://ec.ef.com.cn/community/dailylesson/lessonhandler.ashx?operate=getlessonbyid&lesson_id=933&transculturecode=zh-CN&v=35-1\n",
      "无效URL：http://ec.ef.com.cn/community/dailylesson/lessonhandler.ashx?operate=getlessonbyid&lesson_id=934&transculturecode=zh-CN&v=35-1\n",
      "无效URL：http://ec.ef.com.cn/community/dailylesson/lessonhandler.ashx?operate=getlessonbyid&lesson_id=935&transculturecode=zh-CN&v=35-1\n",
      "无效URL：http://ec.ef.com.cn/community/dailylesson/lessonhandler.ashx?operate=getlessonbyid&lesson_id=936&transculturecode=zh-CN&v=35-1\n",
      "无效URL：http://ec.ef.com.cn/community/dailylesson/lessonhandler.ashx?operate=getlessonbyid&lesson_id=937&transculturecode=zh-CN&v=35-1\n",
      "无效URL：http://ec.ef.com.cn/community/dailylesson/lessonhandler.ashx?operate=getlessonbyid&lesson_id=938&transculturecode=zh-CN&v=35-1\n"
     ]
    },
    {
     "data": {
      "text/plain": [
       "<pymongo.results.InsertOneResult at 0x10bbb3ac8>"
      ]
     },
     "execution_count": 17,
     "metadata": {},
     "output_type": "execute_result"
    },
    {
     "data": {
      "text/plain": [
       "<pymongo.results.InsertOneResult at 0x10b9d5b88>"
      ]
     },
     "execution_count": 17,
     "metadata": {},
     "output_type": "execute_result"
    },
    {
     "data": {
      "text/plain": [
       "<pymongo.results.InsertOneResult at 0x10bba3e88>"
      ]
     },
     "execution_count": 17,
     "metadata": {},
     "output_type": "execute_result"
    },
    {
     "data": {
      "text/plain": [
       "<pymongo.results.InsertOneResult at 0x10bba6388>"
      ]
     },
     "execution_count": 17,
     "metadata": {},
     "output_type": "execute_result"
    },
    {
     "data": {
      "text/plain": [
       "<pymongo.results.InsertOneResult at 0x10bbd4788>"
      ]
     },
     "execution_count": 17,
     "metadata": {},
     "output_type": "execute_result"
    },
    {
     "data": {
      "text/plain": [
       "<pymongo.results.InsertOneResult at 0x10bb2aa08>"
      ]
     },
     "execution_count": 17,
     "metadata": {},
     "output_type": "execute_result"
    },
    {
     "data": {
      "text/plain": [
       "<pymongo.results.InsertOneResult at 0x10b9da4c8>"
      ]
     },
     "execution_count": 17,
     "metadata": {},
     "output_type": "execute_result"
    },
    {
     "name": "stdout",
     "output_type": "stream",
     "text": [
      "无效URL：http://ec.ef.com.cn/community/dailylesson/lessonhandler.ashx?operate=getlessonbyid&lesson_id=946&transculturecode=zh-CN&v=35-1\n",
      "无效URL：http://ec.ef.com.cn/community/dailylesson/lessonhandler.ashx?operate=getlessonbyid&lesson_id=947&transculturecode=zh-CN&v=35-1\n",
      "无效URL：http://ec.ef.com.cn/community/dailylesson/lessonhandler.ashx?operate=getlessonbyid&lesson_id=948&transculturecode=zh-CN&v=35-1\n",
      "无效URL：http://ec.ef.com.cn/community/dailylesson/lessonhandler.ashx?operate=getlessonbyid&lesson_id=949&transculturecode=zh-CN&v=35-1\n",
      "无效URL：http://ec.ef.com.cn/community/dailylesson/lessonhandler.ashx?operate=getlessonbyid&lesson_id=950&transculturecode=zh-CN&v=35-1\n",
      "无效URL：http://ec.ef.com.cn/community/dailylesson/lessonhandler.ashx?operate=getlessonbyid&lesson_id=951&transculturecode=zh-CN&v=35-1\n",
      "无效URL：http://ec.ef.com.cn/community/dailylesson/lessonhandler.ashx?operate=getlessonbyid&lesson_id=952&transculturecode=zh-CN&v=35-1\n",
      "无效URL：http://ec.ef.com.cn/community/dailylesson/lessonhandler.ashx?operate=getlessonbyid&lesson_id=953&transculturecode=zh-CN&v=35-1\n",
      "无效URL：http://ec.ef.com.cn/community/dailylesson/lessonhandler.ashx?operate=getlessonbyid&lesson_id=954&transculturecode=zh-CN&v=35-1\n",
      "无效URL：http://ec.ef.com.cn/community/dailylesson/lessonhandler.ashx?operate=getlessonbyid&lesson_id=955&transculturecode=zh-CN&v=35-1\n",
      "无效URL：http://ec.ef.com.cn/community/dailylesson/lessonhandler.ashx?operate=getlessonbyid&lesson_id=956&transculturecode=zh-CN&v=35-1\n",
      "无效URL：http://ec.ef.com.cn/community/dailylesson/lessonhandler.ashx?operate=getlessonbyid&lesson_id=957&transculturecode=zh-CN&v=35-1\n",
      "无效URL：http://ec.ef.com.cn/community/dailylesson/lessonhandler.ashx?operate=getlessonbyid&lesson_id=958&transculturecode=zh-CN&v=35-1\n",
      "无效URL：http://ec.ef.com.cn/community/dailylesson/lessonhandler.ashx?operate=getlessonbyid&lesson_id=959&transculturecode=zh-CN&v=35-1\n",
      "无效URL：http://ec.ef.com.cn/community/dailylesson/lessonhandler.ashx?operate=getlessonbyid&lesson_id=960&transculturecode=zh-CN&v=35-1\n",
      "无效URL：http://ec.ef.com.cn/community/dailylesson/lessonhandler.ashx?operate=getlessonbyid&lesson_id=961&transculturecode=zh-CN&v=35-1\n",
      "无效URL：http://ec.ef.com.cn/community/dailylesson/lessonhandler.ashx?operate=getlessonbyid&lesson_id=962&transculturecode=zh-CN&v=35-1\n",
      "无效URL：http://ec.ef.com.cn/community/dailylesson/lessonhandler.ashx?operate=getlessonbyid&lesson_id=963&transculturecode=zh-CN&v=35-1\n",
      "无效URL：http://ec.ef.com.cn/community/dailylesson/lessonhandler.ashx?operate=getlessonbyid&lesson_id=964&transculturecode=zh-CN&v=35-1\n",
      "无效URL：http://ec.ef.com.cn/community/dailylesson/lessonhandler.ashx?operate=getlessonbyid&lesson_id=965&transculturecode=zh-CN&v=35-1\n",
      "无效URL：http://ec.ef.com.cn/community/dailylesson/lessonhandler.ashx?operate=getlessonbyid&lesson_id=966&transculturecode=zh-CN&v=35-1\n",
      "无效URL：http://ec.ef.com.cn/community/dailylesson/lessonhandler.ashx?operate=getlessonbyid&lesson_id=967&transculturecode=zh-CN&v=35-1\n",
      "无效URL：http://ec.ef.com.cn/community/dailylesson/lessonhandler.ashx?operate=getlessonbyid&lesson_id=968&transculturecode=zh-CN&v=35-1\n",
      "无效URL：http://ec.ef.com.cn/community/dailylesson/lessonhandler.ashx?operate=getlessonbyid&lesson_id=969&transculturecode=zh-CN&v=35-1\n",
      "无效URL：http://ec.ef.com.cn/community/dailylesson/lessonhandler.ashx?operate=getlessonbyid&lesson_id=970&transculturecode=zh-CN&v=35-1\n",
      "无效URL：http://ec.ef.com.cn/community/dailylesson/lessonhandler.ashx?operate=getlessonbyid&lesson_id=971&transculturecode=zh-CN&v=35-1\n",
      "无效URL：http://ec.ef.com.cn/community/dailylesson/lessonhandler.ashx?operate=getlessonbyid&lesson_id=972&transculturecode=zh-CN&v=35-1\n",
      "无效URL：http://ec.ef.com.cn/community/dailylesson/lessonhandler.ashx?operate=getlessonbyid&lesson_id=973&transculturecode=zh-CN&v=35-1\n",
      "无效URL：http://ec.ef.com.cn/community/dailylesson/lessonhandler.ashx?operate=getlessonbyid&lesson_id=974&transculturecode=zh-CN&v=35-1\n",
      "无效URL：http://ec.ef.com.cn/community/dailylesson/lessonhandler.ashx?operate=getlessonbyid&lesson_id=975&transculturecode=zh-CN&v=35-1\n",
      "无效URL：http://ec.ef.com.cn/community/dailylesson/lessonhandler.ashx?operate=getlessonbyid&lesson_id=976&transculturecode=zh-CN&v=35-1\n"
     ]
    },
    {
     "data": {
      "text/plain": [
       "<pymongo.results.InsertOneResult at 0x10bbacf48>"
      ]
     },
     "execution_count": 17,
     "metadata": {},
     "output_type": "execute_result"
    },
    {
     "data": {
      "text/plain": [
       "<pymongo.results.InsertOneResult at 0x10bb97f88>"
      ]
     },
     "execution_count": 17,
     "metadata": {},
     "output_type": "execute_result"
    },
    {
     "data": {
      "text/plain": [
       "<pymongo.results.InsertOneResult at 0x10bbafd88>"
      ]
     },
     "execution_count": 17,
     "metadata": {},
     "output_type": "execute_result"
    },
    {
     "data": {
      "text/plain": [
       "<pymongo.results.InsertOneResult at 0x10bba9e88>"
      ]
     },
     "execution_count": 17,
     "metadata": {},
     "output_type": "execute_result"
    },
    {
     "data": {
      "text/plain": [
       "<pymongo.results.InsertOneResult at 0x10bba38c8>"
      ]
     },
     "execution_count": 17,
     "metadata": {},
     "output_type": "execute_result"
    },
    {
     "data": {
      "text/plain": [
       "<pymongo.results.InsertOneResult at 0x10bba3588>"
      ]
     },
     "execution_count": 17,
     "metadata": {},
     "output_type": "execute_result"
    },
    {
     "data": {
      "text/plain": [
       "<pymongo.results.InsertOneResult at 0x10bba3f88>"
      ]
     },
     "execution_count": 17,
     "metadata": {},
     "output_type": "execute_result"
    },
    {
     "data": {
      "text/plain": [
       "<pymongo.results.InsertOneResult at 0x10bbacf48>"
      ]
     },
     "execution_count": 17,
     "metadata": {},
     "output_type": "execute_result"
    },
    {
     "data": {
      "text/plain": [
       "<pymongo.results.InsertOneResult at 0x10b9da048>"
      ]
     },
     "execution_count": 17,
     "metadata": {},
     "output_type": "execute_result"
    },
    {
     "data": {
      "text/plain": [
       "<pymongo.results.InsertOneResult at 0x10b9e9c48>"
      ]
     },
     "execution_count": 17,
     "metadata": {},
     "output_type": "execute_result"
    },
    {
     "data": {
      "text/plain": [
       "<pymongo.results.InsertOneResult at 0x10bad69c8>"
      ]
     },
     "execution_count": 17,
     "metadata": {},
     "output_type": "execute_result"
    },
    {
     "data": {
      "text/plain": [
       "<pymongo.results.InsertOneResult at 0x10b9da4c8>"
      ]
     },
     "execution_count": 17,
     "metadata": {},
     "output_type": "execute_result"
    },
    {
     "data": {
      "text/plain": [
       "<pymongo.results.InsertOneResult at 0x10bbb1f88>"
      ]
     },
     "execution_count": 17,
     "metadata": {},
     "output_type": "execute_result"
    },
    {
     "data": {
      "text/plain": [
       "<pymongo.results.InsertOneResult at 0x10bbdb288>"
      ]
     },
     "execution_count": 17,
     "metadata": {},
     "output_type": "execute_result"
    },
    {
     "data": {
      "text/plain": [
       "<pymongo.results.InsertOneResult at 0x10bb79048>"
      ]
     },
     "execution_count": 17,
     "metadata": {},
     "output_type": "execute_result"
    },
    {
     "data": {
      "text/plain": [
       "<pymongo.results.InsertOneResult at 0x10bb97f08>"
      ]
     },
     "execution_count": 17,
     "metadata": {},
     "output_type": "execute_result"
    },
    {
     "data": {
      "text/plain": [
       "<pymongo.results.InsertOneResult at 0x10bbd2608>"
      ]
     },
     "execution_count": 17,
     "metadata": {},
     "output_type": "execute_result"
    },
    {
     "data": {
      "text/plain": [
       "<pymongo.results.InsertOneResult at 0x10bbd22c8>"
      ]
     },
     "execution_count": 17,
     "metadata": {},
     "output_type": "execute_result"
    },
    {
     "data": {
      "text/plain": [
       "<pymongo.results.InsertOneResult at 0x10bba2e48>"
      ]
     },
     "execution_count": 17,
     "metadata": {},
     "output_type": "execute_result"
    },
    {
     "data": {
      "text/plain": [
       "<pymongo.results.InsertOneResult at 0x10bb2aa08>"
      ]
     },
     "execution_count": 17,
     "metadata": {},
     "output_type": "execute_result"
    },
    {
     "data": {
      "text/plain": [
       "<pymongo.results.InsertOneResult at 0x10b9da048>"
      ]
     },
     "execution_count": 17,
     "metadata": {},
     "output_type": "execute_result"
    },
    {
     "data": {
      "text/plain": [
       "<pymongo.results.InsertOneResult at 0x10bb19148>"
      ]
     },
     "execution_count": 17,
     "metadata": {},
     "output_type": "execute_result"
    },
    {
     "data": {
      "text/plain": [
       "<pymongo.results.InsertOneResult at 0x10bb79048>"
      ]
     },
     "execution_count": 17,
     "metadata": {},
     "output_type": "execute_result"
    }
   ],
   "source": [
    "import requests\n",
    "\n",
    "DAILY_LESSON_TITLE_URL = 'http://ec.ef.com.cn/community/dailylesson/lessonhandler.ashx?operate=getlessonbyid&lesson_id={lesson_id}&transculturecode=zh-CN&v=35-1'\n",
    "\n",
    "for num in range(1000):\n",
    "    try:\n",
    "        lesson_json = requests.get(DAILY_LESSON_TITLE_URL.format(lesson_id=num)).json()\n",
    "        db.daily_lesson_title.insert_one(lesson_json)\n",
    "    except:\n",
    "        print(\"无效URL：%s\" % DAILY_LESSON_TITLE_URL.format(lesson_id=num))\n",
    "        continue"
   ]
  },
  {
   "cell_type": "code",
   "execution_count": null,
   "metadata": {
    "collapsed": true
   },
   "outputs": [],
   "source": [
    "mongodb_url = 'mongodb://127.0.0.1:27017'"
   ]
  },
  {
   "cell_type": "code",
   "execution_count": null,
   "metadata": {
    "collapsed": true
   },
   "outputs": [],
   "source": [
    "'http://ec.ef.com.cn/community/dailylesson/lessonhandler.ashx?operate=getlessonbyid&lesson_id=265&transculturecode=zh-CN&v=35-1'\n",
    "\n",
    "'http://ec.ef.com.cn/community/dailylesson/lessonhandler.ashx?operate=preloaddata&teachculturecode=en&lesson_id=265&transculturecode=zh-CN&ss=EE&v=35-1'\n",
    "\n",
    "'http://cnc1.ef-cdn.com/_imgs/community/dailylesson/lessons/lesson265.jpg'"
   ]
  },
  {
   "cell_type": "code",
   "execution_count": null,
   "metadata": {
    "collapsed": true
   },
   "outputs": [],
   "source": [
    "'http://cnc1.ef-cdn.com/juno/school/videos/0a.1 scene 1.mp4'"
   ]
  },
  {
   "cell_type": "code",
   "execution_count": null,
   "metadata": {
    "collapsed": true
   },
   "outputs": [],
   "source": [
    "'http://cnc1.ef-cdn.com/juno/school/videos/0a.1 scene 1/640x360_600.m3u8'"
   ]
  }
 ],
 "metadata": {
  "kernelspec": {
   "display_name": "Python 3",
   "language": "python",
   "name": "python3"
  },
  "language_info": {
   "codemirror_mode": {
    "name": "ipython",
    "version": 3
   },
   "file_extension": ".py",
   "mimetype": "text/x-python",
   "name": "python",
   "nbconvert_exporter": "python",
   "pygments_lexer": "ipython3",
   "version": "3.6.2"
  },
  "toc": {
   "colors": {
    "hover_highlight": "#DAA520",
    "navigate_num": "#000000",
    "navigate_text": "#333333",
    "running_highlight": "#FF0000",
    "selected_highlight": "#FFD700",
    "sidebar_border": "#EEEEEE",
    "wrapper_background": "#FFFFFF"
   },
   "moveMenuLeft": true,
   "nav_menu": {
    "height": "12px",
    "width": "252px"
   },
   "navigate_menu": true,
   "number_sections": true,
   "sideBar": true,
   "threshold": 4,
   "toc_cell": false,
   "toc_section_display": "block",
   "toc_window_display": false,
   "widenNotebook": false
  }
 },
 "nbformat": 4,
 "nbformat_minor": 2
}
