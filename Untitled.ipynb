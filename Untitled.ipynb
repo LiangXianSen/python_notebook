{
 "cells": [
  {
   "cell_type": "code",
   "execution_count": 1,
   "metadata": {
    "collapsed": true
   },
   "outputs": [],
   "source": [
    "from multiprocessing.dummy import Pool"
   ]
  },
  {
   "cell_type": "code",
   "execution_count": 4,
   "metadata": {},
   "outputs": [],
   "source": [
    "pool = Pool(1)"
   ]
  },
  {
   "cell_type": "code",
   "execution_count": 5,
   "metadata": {
    "scrolled": true
   },
   "outputs": [
    {
     "name": "stdout",
     "output_type": "stream",
     "text": [
      "Help on method apply_async in module multiprocessing.pool:\n",
      "\n",
      "apply_async(func, args=(), kwds={}, callback=None, error_callback=None) method of multiprocessing.pool.ThreadPool instance\n",
      "    Asynchronous version of `apply()` method.\n",
      "\n"
     ]
    }
   ],
   "source": [
    "help(pool.apply_async)"
   ]
  },
  {
   "cell_type": "code",
   "execution_count": 8,
   "metadata": {},
   "outputs": [],
   "source": [
    "import multiprocessing"
   ]
  },
  {
   "cell_type": "code",
   "execution_count": 9,
   "metadata": {},
   "outputs": [
    {
     "name": "stdout",
     "output_type": "stream",
     "text": [
      "Help on class ThreadPool in module multiprocessing.pool:\n",
      "\n",
      "class ThreadPool(Pool)\n",
      " |  Class which supports an async version of applying functions to arguments.\n",
      " |  \n",
      " |  Method resolution order:\n",
      " |      ThreadPool\n",
      " |      Pool\n",
      " |      builtins.object\n",
      " |  \n",
      " |  Methods defined here:\n",
      " |  \n",
      " |  __init__(self, processes=None, initializer=None, initargs=())\n",
      " |      Initialize self.  See help(type(self)) for accurate signature.\n",
      " |  \n",
      " |  ----------------------------------------------------------------------\n",
      " |  Static methods defined here:\n",
      " |  \n",
      " |  Process(*args, **kwds)\n",
      " |  \n",
      " |  ----------------------------------------------------------------------\n",
      " |  Methods inherited from Pool:\n",
      " |  \n",
      " |  __enter__(self)\n",
      " |  \n",
      " |  __exit__(self, exc_type, exc_val, exc_tb)\n",
      " |  \n",
      " |  __reduce__(self)\n",
      " |      helper for pickle\n",
      " |  \n",
      " |  apply(self, func, args=(), kwds={})\n",
      " |      Equivalent of `func(*args, **kwds)`.\n",
      " |  \n",
      " |  apply_async(self, func, args=(), kwds={}, callback=None, error_callback=None)\n",
      " |      Asynchronous version of `apply()` method.\n",
      " |  \n",
      " |  close(self)\n",
      " |  \n",
      " |  imap(self, func, iterable, chunksize=1)\n",
      " |      Equivalent of `map()` -- can be MUCH slower than `Pool.map()`.\n",
      " |  \n",
      " |  imap_unordered(self, func, iterable, chunksize=1)\n",
      " |      Like `imap()` method but ordering of results is arbitrary.\n",
      " |  \n",
      " |  join(self)\n",
      " |  \n",
      " |  map(self, func, iterable, chunksize=None)\n",
      " |      Apply `func` to each element in `iterable`, collecting the results\n",
      " |      in a list that is returned.\n",
      " |  \n",
      " |  map_async(self, func, iterable, chunksize=None, callback=None, error_callback=None)\n",
      " |      Asynchronous version of `map()` method.\n",
      " |  \n",
      " |  starmap(self, func, iterable, chunksize=None)\n",
      " |      Like `map()` method but the elements of the `iterable` are expected to\n",
      " |      be iterables as well and will be unpacked as arguments. Hence\n",
      " |      `func` and (a, b) becomes func(a, b).\n",
      " |  \n",
      " |  starmap_async(self, func, iterable, chunksize=None, callback=None, error_callback=None)\n",
      " |      Asynchronous version of `starmap()` method.\n",
      " |  \n",
      " |  terminate(self)\n",
      " |  \n",
      " |  ----------------------------------------------------------------------\n",
      " |  Data descriptors inherited from Pool:\n",
      " |  \n",
      " |  __dict__\n",
      " |      dictionary for instance variables (if defined)\n",
      " |  \n",
      " |  __weakref__\n",
      " |      list of weak references to the object (if defined)\n",
      "\n"
     ]
    }
   ],
   "source": [
    "help(multiprocessing.pool.ThreadPool)"
   ]
  },
  {
   "cell_type": "code",
   "execution_count": null,
   "metadata": {
    "collapsed": true
   },
   "outputs": [],
   "source": []
  }
 ],
 "metadata": {
  "kernelspec": {
   "display_name": "Python 3",
   "language": "python",
   "name": "python3"
  },
  "language_info": {
   "codemirror_mode": {
    "name": "ipython",
    "version": 3
   },
   "file_extension": ".py",
   "mimetype": "text/x-python",
   "name": "python",
   "nbconvert_exporter": "python",
   "pygments_lexer": "ipython3",
   "version": "3.5.1"
  },
  "toc": {
   "colors": {
    "hover_highlight": "#DAA520",
    "navigate_num": "#000000",
    "navigate_text": "#333333",
    "running_highlight": "#FF0000",
    "selected_highlight": "#FFD700",
    "sidebar_border": "#EEEEEE",
    "wrapper_background": "#FFFFFF"
   },
   "moveMenuLeft": true,
   "nav_menu": {
    "height": "12px",
    "width": "252px"
   },
   "navigate_menu": true,
   "number_sections": true,
   "sideBar": true,
   "threshold": 4,
   "toc_cell": false,
   "toc_section_display": "block",
   "toc_window_display": false,
   "widenNotebook": false
  }
 },
 "nbformat": 4,
 "nbformat_minor": 2
}
