{
 "cells": [
  {
   "cell_type": "markdown",
   "metadata": {
    "slideshow": {
     "slide_type": "skip"
    },
    "toc": "true"
   },
   "source": [
    "# Table of Contents\n",
    " <p><div class=\"lev1 toc-item\"><a href=\"#Python-面向对象基础\" data-toc-modified-id=\"Python-面向对象基础-1\"><span class=\"toc-item-num\">1&nbsp;&nbsp;</span>Python 面向对象基础</a></div><div class=\"lev2 toc-item\"><a href=\"#创建类和对象\" data-toc-modified-id=\"创建类和对象-11\"><span class=\"toc-item-num\">1.1&nbsp;&nbsp;</span>创建类和对象</a></div><div class=\"lev2 toc-item\"><a href=\"#面向对象三大特性\" data-toc-modified-id=\"面向对象三大特性-12\"><span class=\"toc-item-num\">1.2&nbsp;&nbsp;</span>面向对象三大特性</a></div><div class=\"lev2 toc-item\"><a href=\"#封装\" data-toc-modified-id=\"封装-13\"><span class=\"toc-item-num\">1.3&nbsp;&nbsp;</span>封装</a></div><div class=\"lev2 toc-item\"><a href=\"#继承\" data-toc-modified-id=\"继承-14\"><span class=\"toc-item-num\">1.4&nbsp;&nbsp;</span>继承</a></div><div class=\"lev2 toc-item\"><a href=\"#多态\" data-toc-modified-id=\"多态-15\"><span class=\"toc-item-num\">1.5&nbsp;&nbsp;</span>多态</a></div><div class=\"lev2 toc-item\"><a href=\"#总结\" data-toc-modified-id=\"总结-16\"><span class=\"toc-item-num\">1.6&nbsp;&nbsp;</span>总结</a></div><div class=\"lev2 toc-item\"><a href=\"#问答专区\" data-toc-modified-id=\"问答专区-17\"><span class=\"toc-item-num\">1.7&nbsp;&nbsp;</span>问答专区</a></div>"
   ]
  },
  {
   "cell_type": "markdown",
   "metadata": {
    "slideshow": {
     "slide_type": "slide"
    }
   },
   "source": [
    "# Python 面向对象基础\n",
    "\n",
    "面向对象，就是用类（class）对函数进行分类和封装，凡是使用这个类生成的对象，都自带各种 **“天赋”**， 这些天赋（属性、标签）都是继承类来的，每个对象都能使用 **“技能“**， 这些技能是类中包裹的函数（方法）。"
   ]
  },
  {
   "cell_type": "markdown",
   "metadata": {
    "slideshow": {
     "slide_type": "subslide"
    }
   },
   "source": [
    "面向过程编程最易被初学者接受，其往往用一长段代码来实现指定功能，开发过程中最常见的操作就是粘贴复制，即：将之前实现的代码块复制到现需功能处。"
   ]
  },
  {
   "cell_type": "code",
   "execution_count": null,
   "metadata": {
    "slideshow": {
     "slide_type": "fragment"
    }
   },
   "outputs": [],
   "source": [
    "while True：\n",
    "    if cpu利用率 > 90%:\n",
    "        #发送邮件提醒\n",
    "        连接邮箱服务器\n",
    "        发送邮件\n",
    "        关闭连接\n",
    "  \n",
    "    if 硬盘使用空间 > 90%:\n",
    "        #发送邮件提醒\n",
    "        连接邮箱服务器\n",
    "        发送邮件\n",
    "        关闭连接\n",
    "  \n",
    "    if 内存占用 > 80%:\n",
    "        #发送邮件提醒\n",
    "        连接邮箱服务器\n",
    "        发送邮件\n",
    "        关闭连接"
   ]
  },
  {
   "cell_type": "markdown",
   "metadata": {
    "slideshow": {
     "slide_type": "subslide"
    }
   },
   "source": [
    "随着时间的推移，开始使用了函数式编程，增强代码的重用性和可读性，就变成了这样："
   ]
  },
  {
   "cell_type": "code",
   "execution_count": null,
   "metadata": {
    "slideshow": {
     "slide_type": "fragment"
    }
   },
   "outputs": [],
   "source": [
    "def 发送邮件(内容)\n",
    "    #发送邮件提醒\n",
    "    连接邮箱服务器\n",
    "    发送邮件\n",
    "    关闭连接\n",
    "\n",
    "    \n",
    "while True：\n",
    "  \n",
    "    if cpu利用率 > 90%:\n",
    "        发送邮件('CPU报警')\n",
    "  \n",
    "    if 硬盘使用空间 > 90%:\n",
    "        发送邮件('硬盘报警')\n",
    "  \n",
    "    if 内存占用 > 80%:\n",
    "        发送邮件('内存报警')"
   ]
  },
  {
   "cell_type": "markdown",
   "metadata": {
    "slideshow": {
     "slide_type": "subslide"
    }
   },
   "source": [
    "今天我们来学习一种新的编程方式：面向对象编程（Object Oriented Programming，OOP，面向对象程序设计）\n",
    "\n",
    "> 注：Java和C#来说只支持面向对象编程，而python比较灵活即支持面向对象编程也支持函数式编程"
   ]
  },
  {
   "cell_type": "markdown",
   "metadata": {
    "slideshow": {
     "slide_type": "slide"
    }
   },
   "source": [
    "## 创建类和对象\n",
    "\n",
    "面向对象编程是一种编程方式，此编程方式的落地需要使用 **“类”** 和 **“对象”** 来实现，所以，面向对象编程其实就是对 “类” 和 “对象” 的使用。\n",
    "\n",
    "　　类就是一个模板，模板里可以包含多个函数(方法)，函数里实现一些功能\n",
    "\n",
    "　　对象则是根据模板创建的实例，通过实例对象可以执行类中的函数（方法）"
   ]
  },
  {
   "cell_type": "code",
   "execution_count": null,
   "metadata": {
    "slideshow": {
     "slide_type": "subslide"
    }
   },
   "outputs": [],
   "source": [
    "# 创建类\n",
    "class Person：  # class 是创建类的关键字， 后面紧接着是这个类的名字\n",
    "    \n",
    "    # 创建类中的函数\n",
    "    def speak(self):  # self 特殊参数，必填\n",
    "        # do something ...\n",
    "        \n",
    "# 根据类Person创建对象\n",
    "obj = Person()"
   ]
  },
  {
   "cell_type": "markdown",
   "metadata": {
    "slideshow": {
     "slide_type": "fragment"
    }
   },
   "source": [
    "- class是关键字，表示类\n",
    "- 创建对象，类名称后加括号即可\n",
    "\n",
    "ps：类中的函数第一个参数必须是self（详细见：类的三大特性之封装）\n",
    "　　 类中定义的函数叫做 “方法”"
   ]
  },
  {
   "cell_type": "code",
   "execution_count": null,
   "metadata": {
    "slideshow": {
     "slide_type": "subslide"
    }
   },
   "outputs": [],
   "source": [
    "类和对象\n",
    "    a.创建类\n",
    "        class 类名:\n",
    " \n",
    "            def 方法名(self,arges):\n",
    "                pass\n",
    "    b.创建对象\n",
    "        对象 = 类名()\n",
    " \n",
    "    c.通过对象执行方法\n",
    "        对象.方法名()"
   ]
  },
  {
   "cell_type": "code",
   "execution_count": 1,
   "metadata": {
    "slideshow": {
     "slide_type": "subslide"
    }
   },
   "outputs": [
    {
     "name": "stdout",
     "output_type": "stream",
     "text": [
      "doing ...\n",
      "I am Kevin\n"
     ]
    }
   ],
   "source": [
    "# 创建类\n",
    "class Person:\n",
    "     \n",
    "    def speak(self, name):\n",
    "        print('I am %s' % name)\n",
    "        \n",
    "    def do(self):\n",
    "        print('doing ...')\n",
    "\n",
    "\n",
    "# 根据类Person创建对象kevin\n",
    "obj = Person()\n",
    "obj.do()            # 执行do方法\n",
    "obj.speak('Kevin')  # 执行speak方法　"
   ]
  },
  {
   "cell_type": "markdown",
   "metadata": {
    "slideshow": {
     "slide_type": "subslide"
    }
   },
   "source": [
    "诶，你在这里是不是有疑问了？使用函数式编程和面向对象编程方式来执行一个“方法”时函数要比面向对象简便\n",
    "\n",
    "- 面向对象：【创建对象】【通过对象执行方法】\n",
    "- 函数编程：【执行函数】\n",
    "观察上述对比答案则是肯定的，然后并非绝对，场景的不同适合其的编程方式也不同。\n",
    "\n",
    "总结：函数式的应用场景 --> 各个函数之间是独立且无共用的数据"
   ]
  },
  {
   "cell_type": "markdown",
   "metadata": {
    "slideshow": {
     "slide_type": "fragment"
    }
   },
   "source": [
    "什么时候使用面向对象编程 ?\n",
    "\n",
    "当某一些函数具有相同参数时,可以使用面向对象的方法,将参数一次性封装到对象,以后去对象中取值"
   ]
  },
  {
   "cell_type": "markdown",
   "metadata": {
    "slideshow": {
     "slide_type": "slide"
    }
   },
   "source": [
    "## 面向对象三大特性\n",
    "面向对象的三大特性是指：封装、继承和多态。"
   ]
  },
  {
   "cell_type": "markdown",
   "metadata": {
    "slideshow": {
     "slide_type": "subslide"
    }
   },
   "source": [
    "## 封装\n",
    "\n",
    "封装，顾名思义就是将内容封装到某个地方，以后再去调用被封装在某处的内容。\n",
    "\n",
    "所以，在使用面向对象的封装特性时，需要：\n",
    "\n",
    "- 将内容封装到某处\n",
    "- 从某处调用被封装的内容"
   ]
  },
  {
   "cell_type": "markdown",
   "metadata": {
    "slideshow": {
     "slide_type": "subslide"
    }
   },
   "source": [
    "**第一步：将内容封装到某处：**"
   ]
  },
  {
   "cell_type": "code",
   "execution_count": 2,
   "metadata": {
    "slideshow": {
     "slide_type": "fragment"
    }
   },
   "outputs": [
    {
     "name": "stdout",
     "output_type": "stream",
     "text": [
      "Hello, I am Kevin\n",
      "I am a programmer\n"
     ]
    }
   ],
   "source": [
    "# 创建类\n",
    "class Person:\n",
    "    \n",
    "    def __init__(self, name, job):\n",
    "        self.name = name\n",
    "        self.job = job\n",
    "        \n",
    "    def speak(self):\n",
    "        print('Hello, I am %s' % self.name)\n",
    "        \n",
    "    def do(self):\n",
    "        print('I am a %s' % self.job)\n",
    "\n",
    "\n",
    "# 根据类Person创建对象 obj\n",
    "obj = Person('Kevin', 'programmer')  # 自动执行 Person 类的 __init__ 方法\n",
    "obj.speak()  # 执行speak方法　\n",
    "obj.do()     # 执行do方法"
   ]
  },
  {
   "cell_type": "markdown",
   "metadata": {
    "slideshow": {
     "slide_type": "subslide"
    }
   },
   "source": [
    "self 是什么鬼 ?\n",
    "\n",
    "self是一个python自动会传值的形式参数\n",
    "\n",
    "- 当执行 obj = Person('Kevin', 'programer') 时，self 等于 obj 对象自己"
   ]
  },
  {
   "cell_type": "markdown",
   "metadata": {
    "slideshow": {
     "slide_type": "fragment"
    }
   },
   "source": [
    "**第二步：从某处调用被封装的内容**\n",
    "\n",
    "调用被封装的内容时，有两种情况：\n",
    "\n",
    "- 通过对象直接调用\n",
    "- 通过self间接调用"
   ]
  },
  {
   "cell_type": "code",
   "execution_count": 3,
   "metadata": {
    "slideshow": {
     "slide_type": "subslide"
    }
   },
   "outputs": [
    {
     "name": "stdout",
     "output_type": "stream",
     "text": [
      "Kevin\n",
      "programmer\n"
     ]
    }
   ],
   "source": [
    "# 创建类\n",
    "class Person:\n",
    "    \n",
    "    def __init__(self, name, job):\n",
    "        self.name = name\n",
    "        self.job = job\n",
    "        \n",
    "    def speak(self):\n",
    "        print('Hello, I am %s' % self.name)  # 从self间接调用\n",
    "        \n",
    "    def do(self):\n",
    "        print('I am a %s' % self.job)  # 从self间接调用\n",
    "\n",
    "\n",
    "obj = Person('Kevin', 'programmer') \n",
    "\n",
    "print(obj.name) # 从对象调用\n",
    "print(obj.job)  # 从对象调用"
   ]
  },
  {
   "cell_type": "markdown",
   "metadata": {
    "slideshow": {
     "slide_type": "subslide"
    }
   },
   "source": [
    "综上所述，对于面向对象的封装来说，其实就是使用构造方法将内容封装到 **对象** 中，然后通过对象直接或者 **self** 间接获取被封装的内容。"
   ]
  },
  {
   "cell_type": "markdown",
   "metadata": {
    "slideshow": {
     "slide_type": "fragment"
    }
   },
   "source": [
    "练习一：在终端输出如下信息\n",
    "\n",
    "- 小明，10岁，男，上山去砍柴\n",
    "- 小明，10岁，男，开车去东北\n",
    "- 小明，10岁，男，最爱大保健\n",
    "\n",
    "\n",
    "- 老李，90岁，男，上山去砍柴\n",
    "- 老李，90岁，男，开车去东北\n",
    "- 老李，90岁，男，最爱大保健"
   ]
  },
  {
   "cell_type": "markdown",
   "metadata": {
    "slideshow": {
     "slide_type": "subslide"
    }
   },
   "source": [
    "**函数式编程：**"
   ]
  },
  {
   "cell_type": "code",
   "execution_count": 4,
   "metadata": {
    "scrolled": false,
    "slideshow": {
     "slide_type": "fragment"
    }
   },
   "outputs": [
    {
     "name": "stdout",
     "output_type": "stream",
     "text": [
      "小明,10岁,男,上山去砍柴\n",
      "小明,10岁,男,开车去东北\n",
      "小明,10岁,男,最爱大保健\n",
      "老李,90岁,男,上山去砍柴\n",
      "老李,90岁,男,开车去东北\n",
      "老李,90岁,男,最爱大保健\n"
     ]
    }
   ],
   "source": [
    "def kanchai(name, age, gender):\n",
    "    print(\"%s,%s岁,%s,上山去砍柴\" %(name, age, gender))\n",
    "\n",
    "\n",
    "def qudongbei(name, age, gender):\n",
    "    print(\"%s,%s岁,%s,开车去东北\" %(name, age, gender))\n",
    "\n",
    "\n",
    "def dabaojian(name, age, gender):\n",
    "    print(\"%s,%s岁,%s,最爱大保健\" %(name, age, gender))\n",
    "\n",
    "\n",
    "kanchai('小明', 10, '男')\n",
    "qudongbei('小明', 10, '男')\n",
    "dabaojian('小明', 10, '男')\n",
    "\n",
    "\n",
    "kanchai('老李', 90, '男')\n",
    "qudongbei('老李', 90, '男')\n",
    "dabaojian('老李', 90, '男')"
   ]
  },
  {
   "cell_type": "markdown",
   "metadata": {
    "slideshow": {
     "slide_type": "subslide"
    }
   },
   "source": [
    "**面向对象编程：**"
   ]
  },
  {
   "cell_type": "code",
   "execution_count": 5,
   "metadata": {
    "slideshow": {
     "slide_type": "fragment"
    }
   },
   "outputs": [
    {
     "name": "stdout",
     "output_type": "stream",
     "text": [
      "小明,10岁,男,上山去砍柴\n",
      "小明,10岁,男,开车去东北\n",
      "小明,10岁,男,最爱大保健\n",
      "老李,90岁,男,上山去砍柴\n",
      "老李,90岁,男,开车去东北\n",
      "老李,90岁,男,最爱大保健\n"
     ]
    }
   ],
   "source": [
    "class Person:\n",
    "\n",
    "    def __init__(self, name, age ,gender):\n",
    "        self.name = name\n",
    "        self.age = age\n",
    "        self.gender = gender\n",
    "\n",
    "    def kanchai(self):\n",
    "        print(\"%s,%s岁,%s,上山去砍柴\" %(self.name, self.age, self.gender))\n",
    "\n",
    "    def qudongbei(self):\n",
    "        print(\"%s,%s岁,%s,开车去东北\" %(self.name, self.age, self.gender))\n",
    "\n",
    "    def dabaojian(self):\n",
    "        print(\"%s,%s岁,%s,最爱大保健\" %(self.name, self.age, self.gender))\n",
    "\n",
    "\n",
    "xiaoming = Person('小明', 10, '男')\n",
    "xiaoming.kanchai()\n",
    "xiaoming.qudongbei()\n",
    "xiaoming.dabaojian()\n",
    "\n",
    "laoli = Person('老李', 90, '男')\n",
    "laoli.kanchai()\n",
    "laoli.qudongbei()\n",
    "laoli.dabaojian()"
   ]
  },
  {
   "cell_type": "markdown",
   "metadata": {
    "slideshow": {
     "slide_type": "subslide"
    }
   },
   "source": [
    "上述对比可以看出：\n",
    "\n",
    "- 如果使用函数式编程，需要在每次执行函数时传入相同的参数，如果参数多的话，又需要粘贴复制了...  ；\n",
    "\n",
    "- 而对于面向对象只需要在创建对象时，将所有需要的参数封装到当前对象中，之后再次使用时，通过self间接去当前对象中取值即可。"
   ]
  },
  {
   "cell_type": "markdown",
   "metadata": {
    "slideshow": {
     "slide_type": "subslide"
    }
   },
   "source": [
    "练习二：在终端输出如下信息\n",
    "\n",
    "1、创建三个游戏人物，分别是：\n",
    "\n",
    "- 阿木木，女，18，刺客\n",
    "- 东尼，男，20，战士\n",
    "- 哈米尔，女，19，法师\n",
    "\n",
    "2、游戏场景，分别：\n",
    "\n",
    "- 单人竞技，消耗10活力，200点经验\n",
    "- 组队副本，消耗30活力，600点经验\n",
    "- 通天塔修炼，消耗50活力，1000点经验"
   ]
  },
  {
   "cell_type": "code",
   "execution_count": 6,
   "metadata": {
    "slideshow": {
     "slide_type": "subslide"
    }
   },
   "outputs": [],
   "source": [
    "# #####################  定义实现功能的类  #####################\n",
    "\n",
    "class Person:\n",
    "    \n",
    "    def __init__(self, name, gender, age, job):\n",
    "        self.name = name\n",
    "        self.gender = gender\n",
    "        self.age = age\n",
    "        self.job = job\n",
    "        self.vigor = 100\n",
    "        self.experience = 0\n",
    "\n",
    "    def singlePK(self):\n",
    "        \"\"\"注释：单人竞技，增加200点经验\"\"\"\n",
    "\n",
    "        self.experience +=200\n",
    "\n",
    "    def practice(self):\n",
    "        \"\"\"注释：通天塔修炼，增加1000点经验\"\"\"\n",
    "\n",
    "        self.experience += 1000\n",
    "\n",
    "    def team_fight(self):\n",
    "        \"\"\"注释：组队副本，600点经验\"\"\"\n",
    "\n",
    "        self.experience += 600\n",
    "\n",
    "    def detail(self):\n",
    "        \"\"\"注释：当前对象的详细情况\"\"\"\n",
    "\n",
    "        detail = \"姓名:%s ; 性别:%s ; 年龄:%s ; 职业:%s ; 等级:%d\"  % (self.name, self.gender, self.age, self.job, self.experience // 1000)\n",
    "        print(detail)"
   ]
  },
  {
   "cell_type": "code",
   "execution_count": 7,
   "metadata": {
    "slideshow": {
     "slide_type": "subslide"
    }
   },
   "outputs": [
    {
     "name": "stdout",
     "output_type": "stream",
     "text": [
      "姓名:阿木木 ; 性别:女 ; 年龄:18 ; 职业:刺客 ; 等级:0\n",
      "姓名:东尼 ; 性别:男 ; 年龄:20 ; 职业:战士 ; 等级:1\n",
      "姓名:哈米尔 ; 性别:女 ; 年龄:19 ; 职业:法师 ; 等级:0\n",
      "\n",
      "姓名:阿木木 ; 性别:女 ; 年龄:18 ; 职业:刺客 ; 等级:0\n",
      "姓名:东尼 ; 性别:男 ; 年龄:20 ; 职业:战士 ; 等级:2\n",
      "姓名:哈米尔 ; 性别:女 ; 年龄:19 ; 职业:法师 ; 等级:1\n"
     ]
    }
   ],
   "source": [
    "# #####################  开始游戏  #####################\n",
    "\n",
    "mumu = Person('阿木木', '女', 18, '刺客')    # 创建阿木木角色\n",
    "doni = Person('东尼', '男', 20, '战士')  # 创建东尼角色\n",
    "hamir = Person('哈米尔', '女', 19, '法师')      # 创建哈米尔角色\n",
    "\n",
    "mumu.singlePK()    # 阿木木参加一次单人竞技\n",
    "doni.practice()  # 东尼参加一次通天塔修炼\n",
    "hamir.team_fight()   # 哈米尔参加一次组队副本\n",
    "\n",
    "\n",
    "#输出当前所有人的详细情况\n",
    "mumu.detail()\n",
    "doni.detail()\n",
    "hamir.detail()\n",
    "\n",
    "print()\n",
    "\n",
    "mumu.singlePK()      # 阿木木又参加一次单人竞技\n",
    "doni.practice()      # 东尼又参加一次通天塔修炼\n",
    "hamir.team_fight()   # 哈米尔又参加一次组队副本\n",
    "\n",
    "\n",
    "#输出当前所有人的详细情况\n",
    "mumu.detail()\n",
    "doni.detail()\n",
    "hamir.detail()"
   ]
  },
  {
   "cell_type": "markdown",
   "metadata": {
    "slideshow": {
     "slide_type": "subslide"
    }
   },
   "source": [
    "## 继承\n",
    "继承，面向对象中的继承和现实生活中的继承相同，即：子可以继承父的内容。"
   ]
  },
  {
   "cell_type": "markdown",
   "metadata": {
    "slideshow": {
     "slide_type": "fragment"
    }
   },
   "source": [
    "例如：\n",
    "\n",
    "　　猫可以：喵喵叫、吃、喝、拉、撒\n",
    "\n",
    "　　狗可以：汪汪叫、吃、喝、拉、撒\n",
    "  \n",
    "如果我们要分别为猫和狗创建一个类，那么就需要为 猫 和 狗 实现他们所有的功能，如下所示："
   ]
  },
  {
   "cell_type": "code",
   "execution_count": null,
   "metadata": {
    "slideshow": {
     "slide_type": "subslide"
    }
   },
   "outputs": [],
   "source": [
    "class 猫：\n",
    "\n",
    "    def 喵喵叫(self):\n",
    "        print('喵喵叫')\n",
    "\n",
    "    def 吃(self):\n",
    "        # do something\n",
    "\n",
    "    def 喝(self):\n",
    "        # do something\n",
    "\n",
    "    def 拉(self):\n",
    "        # do something\n",
    "\n",
    "    def 撒(self):\n",
    "        # do something\n",
    "\n",
    "        \n",
    "class 狗：\n",
    "\n",
    "    def 汪汪叫(self):\n",
    "        print('汪汪叫')\n",
    "\n",
    "    def 吃(self):\n",
    "        # do something\n",
    "\n",
    "    def 喝(self):\n",
    "        # do something\n",
    "\n",
    "    def 拉(self):\n",
    "        # do something\n",
    "\n",
    "    def 撒(self):\n",
    "        # do something"
   ]
  },
  {
   "cell_type": "markdown",
   "metadata": {
    "slideshow": {
     "slide_type": "subslide"
    }
   },
   "source": [
    "上述代码不难看出，吃、喝、拉、撒是猫和狗都具有的功能，而我们却分别的猫和狗的类中编写了两次。如果使用 继承 的思想，如下实现：\n",
    "\n",
    "动物：吃、喝、拉、撒\n",
    "\n",
    "- 猫：喵喵叫（猫继承动物的功能）\n",
    "\n",
    "- 狗：汪汪叫（狗继承动物的功能）"
   ]
  },
  {
   "cell_type": "code",
   "execution_count": null,
   "metadata": {
    "slideshow": {
     "slide_type": "subslide"
    }
   },
   "outputs": [],
   "source": [
    "class 动物:\n",
    "\n",
    "    def 吃(self):\n",
    "        # do something\n",
    "\n",
    "    def 喝(self):\n",
    "        # do something\n",
    "\n",
    "    def 拉(self):\n",
    "        # do something\n",
    "\n",
    "    def 撒(self):\n",
    "        # do something\n",
    "\n",
    "        \n",
    "# 在类名称后面添加括号，括号里面写另外一个类的类名，表示当前类继承另外一个类\n",
    "# 由于猫这个类继承动物这个类，所以对于猫这个类来说，动物类是猫类的父类，猫类是动物类的子类\n",
    "class 猫(动物)：\n",
    "\n",
    "    def 喵喵叫(self):\n",
    "        print('喵喵叫')\n",
    "        \n",
    "# 在类名称后面添加括号，括号里面写另外一个类的类名，表示当前类继承另外一个类\n",
    "# 由于狗这个类继承动物这个类，所以对于狗这个类来说，动物类是狗类的父类，狗类是动物类的子类\n",
    "class 狗(动物)：\n",
    "\n",
    "    def 汪汪叫(self):\n",
    "        print('汪汪叫')"
   ]
  },
  {
   "cell_type": "markdown",
   "metadata": {
    "slideshow": {
     "slide_type": "subslide"
    }
   },
   "source": [
    "所以，对于面向对象的继承来说，其实就是将多个类共有的方法提取到父类中，子类仅需继承父类而不必一一实现每个方法。 \n",
    "\n",
    "注：除了子类和父类的称谓，你可能看到过 派生类 和 基类 ，他们与子类和父类只是叫法不同而已。"
   ]
  },
  {
   "cell_type": "markdown",
   "metadata": {
    "slideshow": {
     "slide_type": "subslide"
    }
   },
   "source": [
    "![父类子类](class_father.png)"
   ]
  },
  {
   "cell_type": "markdown",
   "metadata": {
    "slideshow": {
     "slide_type": "subslide"
    }
   },
   "source": [
    "学习了继承的写法之后，我们用代码来是上述阿猫阿狗的功能："
   ]
  },
  {
   "cell_type": "code",
   "execution_count": 8,
   "metadata": {
    "slideshow": {
     "slide_type": "fragment"
    }
   },
   "outputs": [],
   "source": [
    "class Animal:\n",
    "\n",
    "    def eat(self):\n",
    "        print(\"%s 吃 \" % self.name)\n",
    "\n",
    "    def drink(self):\n",
    "        print(\"%s 喝 \" % self.name)\n",
    "\n",
    "    def shit(self):\n",
    "        print(\"%s 拉 \" % self.name)\n",
    "\n",
    "    def pee(self):\n",
    "        print(\"%s 撒 \" % self.name)\n",
    "\n",
    "\n",
    "class Cat(Animal):\n",
    "\n",
    "    def __init__(self, name):\n",
    "        self.name = name\n",
    "        self.breed = '猫'\n",
    "\n",
    "    def cry(self):\n",
    "        print('喵喵叫')\n",
    "\n",
    "\n",
    "class Dog(Animal):\n",
    "\n",
    "    def __init__(self, name):\n",
    "        self.name = name\n",
    "        self.breed = '狗'\n",
    "\n",
    "    def cry(self):\n",
    "        print('汪汪叫')"
   ]
  },
  {
   "cell_type": "code",
   "execution_count": 9,
   "metadata": {
    "slideshow": {
     "slide_type": "subslide"
    }
   },
   "outputs": [
    {
     "name": "stdout",
     "output_type": "stream",
     "text": [
      "小白家的小黑猫 吃 \n",
      "小黑的小白猫 喝 \n",
      "汪汪叫\n",
      "胖子家的小瘦狗 吃 \n"
     ]
    }
   ],
   "source": [
    "c1 = Cat('小白家的小黑猫')\n",
    "c1.eat()\n",
    "\n",
    "c2 = Cat('小黑的小白猫')\n",
    "c2.drink()\n",
    "\n",
    "d1 = Dog('胖子家的小瘦狗')\n",
    "d1.cry()\n",
    "d1.eat()"
   ]
  },
  {
   "cell_type": "markdown",
   "metadata": {
    "slideshow": {
     "slide_type": "subslide"
    }
   },
   "source": [
    "那么问题又来了，**多继承** 呢？\n",
    "\n",
    "- 是否可以继承多个类\n",
    "- 如果继承的多个类每个类中都定了相同的函数，那么哪一个会被使用呢？"
   ]
  },
  {
   "cell_type": "markdown",
   "metadata": {
    "slideshow": {
     "slide_type": "subslide"
    }
   },
   "source": [
    "![多继承](multiple_classes.png)"
   ]
  },
  {
   "cell_type": "markdown",
   "metadata": {
    "slideshow": {
     "slide_type": "subslide"
    }
   },
   "source": [
    "- a、多继承，遵循从左至右，一条路走到黑，然后再找第二个父类\n",
    "- b、如果继承多个父类，父类中有共同继承的类走下一个。\n",
    "\n",
    "注意：在上述查找过程中，一旦找到，则寻找过程立即中断，便不会再继续找了 "
   ]
  },
  {
   "cell_type": "markdown",
   "metadata": {
    "slideshow": {
     "slide_type": "subslide"
    }
   },
   "source": [
    "## 多态"
   ]
  },
  {
   "cell_type": "markdown",
   "metadata": {
    "slideshow": {
     "slide_type": "fragment"
    }
   },
   "source": [
    "Pyhon不支持多态并且也用不到多态，多态的概念是应用于Java和C#这一类强类型语言中，而Python崇尚“鸭子类型”。"
   ]
  },
  {
   "cell_type": "code",
   "execution_count": null,
   "metadata": {
    "slideshow": {
     "slide_type": "subslide"
    }
   },
   "outputs": [],
   "source": [
    "class F1:\n",
    "    pass\n",
    "\n",
    "\n",
    "class S1(F1):\n",
    "\n",
    "    def show(self):\n",
    "        print('S1.show')\n",
    "\n",
    "\n",
    "class S2(F1):\n",
    "\n",
    "    def show(self):\n",
    "        print('S2.show')\n",
    "\n",
    "\n",
    "# 由于在Java或C#中定义函数参数时，必须指定参数的类型\n",
    "# 为了让Func函数既可以执行S1对象的show方法，又可以执行S2对象的show方法，所以，定义了一个S1和S2类的父类\n",
    "# 而实际传入的参数是：S1对象和S2对象\n",
    "\n",
    "def Func(F1 obj):\n",
    "    \"\"\"Func函数需要接收一个F1类型或者F1子类的类型\"\"\"\n",
    "\n",
    "    print(obj.show())\n",
    "\n",
    "s1_obj = S1()\n",
    "Func(s1_obj) # 在Func函数中传入S1类的对象 s1_obj，执行 S1 的show方法，结果：S1.show\n",
    "\n",
    "s2_obj = S2()\n",
    "Func(s2_obj) # 在Func函数中传入Ss类的对象 ss_obj，执行 Ss 的show方法，结果：S2.show\n",
    "\n",
    "Python伪代码实现Java或C#的多态"
   ]
  },
  {
   "cell_type": "markdown",
   "metadata": {
    "slideshow": {
     "slide_type": "subslide"
    }
   },
   "source": [
    "**Python崇尚“鸭子类型”**"
   ]
  },
  {
   "cell_type": "code",
   "execution_count": 10,
   "metadata": {
    "slideshow": {
     "slide_type": "fragment"
    }
   },
   "outputs": [
    {
     "name": "stdout",
     "output_type": "stream",
     "text": [
      "S1.show\n",
      "S2.show\n"
     ]
    }
   ],
   "source": [
    "class F1:\n",
    "    pass\n",
    "\n",
    "\n",
    "class S1(F1):\n",
    "\n",
    "    def show(self):\n",
    "        print('S1.show')\n",
    "\n",
    "\n",
    "class S2(F1):\n",
    "\n",
    "    def show(self):\n",
    "        print('S2.show')\n",
    "\n",
    "\n",
    "def Func(obj):\n",
    "    obj.show()\n",
    "\n",
    "s1_obj = S1()\n",
    "Func(s1_obj)\n",
    "\n",
    "s2_obj = S2()\n",
    "Func(s2_obj)"
   ]
  },
  {
   "cell_type": "markdown",
   "metadata": {
    "slideshow": {
     "slide_type": "subslide"
    }
   },
   "source": [
    "## 总结\n",
    "\n",
    "以上就是本节对于面向对象初级知识的介绍，总结如下：\n",
    "\n",
    "- 面向对象是一种编程方式，此编程方式的实现是基于对 类 和 对象 的使用\n",
    "- 类 是一个模板，模板中包装了多个“函数”供使用\n",
    "- 对象，根据模板创建的实例（即：对象），实例用于调用被包装在类中的函数\n",
    "- 面向对象三大特性：封装、继承和多态"
   ]
  },
  {
   "cell_type": "markdown",
   "metadata": {
    "slideshow": {
     "slide_type": "slide"
    }
   },
   "source": [
    "## 问答专区"
   ]
  },
  {
   "cell_type": "markdown",
   "metadata": {
    "slideshow": {
     "slide_type": "subslide"
    }
   },
   "source": [
    "**问题一：什么样的代码才是面向对象？**\n",
    "\n",
    "答：从简单来说，如果程序中的所有功能都是用 类 和 对象 来实现，那么就是面向对象编程了。"
   ]
  },
  {
   "cell_type": "markdown",
   "metadata": {
    "slideshow": {
     "slide_type": "fragment"
    }
   },
   "source": [
    "**问题二：函数式编程 和 面向对象 如何选择？分别在什么情况下使用？**\n",
    "\n",
    "答：须知：对于 C# 和 Java 程序员来说不存在这个问题，因为该两门语言只支持面向对象编程（不支持函数式编程）。而对于 Python 和 PHP 等语言却同时支持两种编程方式，且函数式编程能完成的操作，面向对象都可以实现；而面向对象的能完成的操作，函数式编程不行（函数式编程无法实现面向对象的封装功能）。\n",
    "\n",
    "所以，一般在Python开发中，全部使用面向对象 或 面向对象和函数式混合使用"
   ]
  },
  {
   "cell_type": "markdown",
   "metadata": {
    "slideshow": {
     "slide_type": "subslide"
    }
   },
   "source": [
    "面向对象的应用场景:"
   ]
  },
  {
   "cell_type": "markdown",
   "metadata": {
    "slideshow": {
     "slide_type": "fragment"
    }
   },
   "source": [
    "1、 多函数需使用共同的值，如：数据库的增、删、改、查操作都需要连接数据库字符串、主机名、用户名和密码"
   ]
  },
  {
   "cell_type": "code",
   "execution_count": null,
   "metadata": {
    "slideshow": {
     "slide_type": "fragment"
    }
   },
   "outputs": [],
   "source": [
    "class SqlHelper:\n",
    "\n",
    "    def __init__(self, host, user, pwd):\n",
    "\n",
    "        self.host = host\n",
    "        self.user = user\n",
    "        self.pwd = pwd\n",
    "\n",
    "    def 增(self):\n",
    "        # 使用主机名、用户名、密码（self.host 、self.user 、self.pwd）打开数据库连接\n",
    "        # do something\n",
    "        # 关闭数据库连接\n",
    "\n",
    "    def 删(self):\n",
    "        # 使用主机名、用户名、密码（self.host 、self.user 、self.pwd）打开数据库连接\n",
    "        # do something\n",
    "        # 关闭数据库连接\n",
    "\n",
    "    def 改(self):\n",
    "        # 使用主机名、用户名、密码（self.host 、self.user 、self.pwd）打开数据库连接\n",
    "        # do something\n",
    "        # 关闭数据库连接\n",
    "\n",
    "    def 查(self):\n",
    "    # 使用主机名、用户名、密码（self.host 、self.user 、self.pwd）打开数据库连接\n",
    "        # do something\n",
    "        # 关闭数据库连接# do something"
   ]
  },
  {
   "cell_type": "markdown",
   "metadata": {
    "slideshow": {
     "slide_type": "subslide"
    }
   },
   "source": [
    "2、 需要创建多个事物，每个事物属性个数相同，但是值的需求\n",
    "如：张三、李四、杨五，他们都有姓名、年龄、血型，但其都是不相同。即：属性个数相同，但值不相同"
   ]
  },
  {
   "cell_type": "code",
   "execution_count": 11,
   "metadata": {
    "slideshow": {
     "slide_type": "fragment"
    }
   },
   "outputs": [],
   "source": [
    "class Person:\n",
    "\n",
    "    def __init__(self, name, age, blood_type):\n",
    "\n",
    "        self.name = name\n",
    "        self.age = age\n",
    "        self.blood_type = blood_type\n",
    "\n",
    "\n",
    "    def detail(self):\n",
    "        temp = \"i am %s, age %s , blood type %s \" % (self.name, self.age, self.blood_type)\n",
    "        print(temp)\n",
    "\n",
    "zhangsan = Person('张三', 18, 'A')\n",
    "lisi = Person('李四', 73, 'AB')\n",
    "wangwu = Person('王五', 84, 'A')"
   ]
  },
  {
   "cell_type": "markdown",
   "metadata": {
    "slideshow": {
     "slide_type": "subslide"
    }
   },
   "source": [
    "**问题三：类和对象在内存中是如何保存？**\n",
    "\n",
    "答：类以及类中的方法在内存中只有一份，而根据类创建的每一个对象都在内存中需要存一份。"
   ]
  },
  {
   "cell_type": "markdown",
   "metadata": {
    "slideshow": {
     "slide_type": "subslide"
    }
   },
   "source": [
    "![类和对象内存空间](类和对象内存空间.jpg)"
   ]
  },
  {
   "cell_type": "markdown",
   "metadata": {
    "slideshow": {
     "slide_type": "subslide"
    }
   },
   "source": [
    "如上图所示，根据类创建对象时，对象中除了封装 name 和 age 的值之外，还会保存一个类对象指针，该值指向当前对象的类。\n",
    "\n",
    "当通过 object1 执行 【方法一】 时，过程如下：\n",
    "\n",
    "- 根据当前对象中的 类对象指针 找到类中的方法\n",
    "- 将对象 object1 当作参数传给 方法的第一个参数 self "
   ]
  }
 ],
 "metadata": {
  "kernelspec": {
   "display_name": "Python 3",
   "language": "python",
   "name": "python3"
  },
  "language_info": {
   "codemirror_mode": {
    "name": "ipython",
    "version": 3
   },
   "file_extension": ".py",
   "mimetype": "text/x-python",
   "name": "python",
   "nbconvert_exporter": "python",
   "pygments_lexer": "ipython3",
   "version": "3.6.4"
  },
  "toc": {
   "colors": {
    "hover_highlight": "#DAA520",
    "navigate_num": "#000000",
    "navigate_text": "#333333",
    "running_highlight": "#FF0000",
    "selected_highlight": "#FFD700",
    "sidebar_border": "#EEEEEE",
    "wrapper_background": "#FFFFFF"
   },
   "moveMenuLeft": true,
   "nav_menu": {
    "height": "156px",
    "width": "252px"
   },
   "navigate_menu": true,
   "number_sections": false,
   "sideBar": true,
   "threshold": 4,
   "toc_cell": true,
   "toc_section_display": "block",
   "toc_window_display": true,
   "widenNotebook": false
  }
 },
 "nbformat": 4,
 "nbformat_minor": 2
}
